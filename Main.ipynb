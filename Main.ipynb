{
 "cells": [
  {
   "cell_type": "markdown",
   "metadata": {},
   "source": [
    "# Project Overview\n",
    "\n",
    "\n",
    "**Objective**\n",
    "\n",
    "* The AlzAware project aims to develop a predictive model for early identification of Alzheimer’s Disease (AD) and Alzheimer’s Disease-Related Dementias (AD/ADRD) based on social determinants of health. Utilizing data from the Mexican Health and Aging Study (MHAS), this project focuses on uncovering associations between social, economic, and environmental factors and cognitive decline risk. The ultimate goal is to enable early intervention and improved access to care, especially for underrepresented populations.\n",
    "Background:\n",
    "\n",
    "* Alzheimer’s Disease affects more than 6 million Americans, with numbers expected to increase as the population ages. Current diagnostic methods for AD and related dementias are often insufficient for detecting early stages, particularly among underserved communities. Social determinants of health, such as socioeconomic status, education, and healthcare access, play a significant role in health outcomes but are often overlooked in cognitive health assessments. This project seeks to leverage these factors to predict cognitive decline and provide earlier, more accessible insights into potential AD/ADRD development.\n",
    "Data Source:\n",
    "\n",
    "* The dataset used in this project is derived from the Mexican Health and Aging Study (MHAS), a longitudinal survey of adults over 50 in Mexico. The dataset includes comprehensive information on demographics, economic circumstances, health, and lifestyle behaviors, spanning multiple survey years. Using historical data from 2003 and 2012 as predictive factors, the model will forecast cognitive health scores for 2016 and 2021.\n",
    "Methodology:\n",
    "\n",
    "* This project follows the CRISP-DM methodology, ensuring a structured approach to data science:\n",
    "    - Business Understanding: Define objectives, goals, and success metrics.\n",
    "    - Data Understanding: Explore data sources, understand data structures, and identify relevant variables.\n",
    "    - Data Preparation: Process, clean, and structure data for modeling.\n",
    "    - Modeling: Build and optimize predictive models to estimate cognitive scores.\n",
    "    - Evaluation: Validate model performance, assessing metrics such as RMSE and bias across demographics.\n",
    "    - Deployment: Plan for model integration into clinical or public health systems, focusing on interpretability and usability.\n",
    "\n",
    "Key Goals and Outcomes:\n",
    "* Improved Early Detection: Identify individuals at risk of AD/ADRD based on non-clinical factors, enabling timely intervention.\n",
    "* Bias Mitigation: Ensure the model provides accurate predictions across diverse demographics, minimizing disparities.\n",
    "* Enhanced Accessibility: Develop a model that can be applied broadly, requiring only widely available social health data.\n",
    "* Potential for Generalization: Provide a framework that can be adapted for AD/ADRD prediction in other populations and regions."
   ]
  },
  {
   "cell_type": "markdown",
   "metadata": {},
   "source": [
    "## Business Understanding"
   ]
  },
  {
   "cell_type": "markdown",
   "metadata": {},
   "source": [
    "1. Project Objectives\n",
    "\n",
    "    **Goal**\n",
    "    * To develop an early prediction model for Alzheimer’s Disease (AD) and Alzheimer’s Disease-Related Dementias (AD/ADRD) using social determinants of health (SDOH) data, specifically from the Mexican Health and Aging Study (MHAS). The model aims to identify at-risk individuals for early intervention, enhancing timely diagnosis and care accessibility.\n",
    "\n",
    "    **Scope**\n",
    "    * Focus on predicting cognitive health outcomes in 2016 and 2021 using data from 2003 and 2012, capturing diverse social, economic, and health-related features for prediction.\n",
    "    \n",
    "    **Impact** \n",
    "    * By enabling earlier detection through widely accessible data, this model could support a shift in Alzheimer’s care towards preventive measures, improving outcomes for underrepresented populations at higher risk of delayed diagnoses.\n",
    "\n",
    "2. Stakeholders and their Objectives\n",
    "\n",
    "    **Primary Stakeholders**\n",
    "    * Healthcare Providers: Benefit from predictive insights to identify high-risk patients, enabling early intervention and preventive care.\n",
    "    * Public Health Organizations: Use data insights to drive policies, initiatives, and resource allocation for dementia prevention in at-risk populations.\n",
    "    * Researchers: Gain a framework to explore SDOH impacts on cognitive health, promoting further Alzheimer’s research in underrepresented groups.\n",
    "    * Patients and Families: Receive support for proactive health management, potentially slowing cognitive decline and improving quality of life.\n",
    "\n",
    "    **Secondary Stakeholders**\n",
    "    * Policy Makers: Data-driven insights can inform public health policy and funding for Alzheimer’s care, particularly in vulnerable populations.\n",
    "    * Insurance Providers: Early risk detection could support cost-effective, preventive healthcare solutions for high-risk individuals.\n",
    "\n",
    "3. Success Criteria and Key Metrics\n",
    "\n",
    "    **Success Criteria**\n",
    "    * Model Accuracy: A root mean squared error (RMSE) within an acceptable threshold on test data, indicating effective prediction of future cognitive scores.\n",
    "    * Bias Mitigation: Model performs equitably across demographic groups, particularly for traditionally underserved populations.\n",
    "    * Interpretability: Model outputs are understandable to non-technical stakeholders, allowing insights that can be effectively used in healthcare settings.\n",
    "    * Generalizability: The model demonstrates potential applicability beyond the study’s population, extending to similar datasets and populations.\n",
    "\n",
    "    **Key Metrics**\n",
    "    * Root Mean Squared Error (RMSE): Measures predictive accuracy; a lower RMSE indicates better performance.\n",
    "    * Bias Detection: Analyze performance across demographic segments (e.g., age, socioeconomic status) to ensure equitable predictions.\n",
    "    * Coverage: Percentage of predictions made with confidence intervals; evaluates reliability across different patient profiles.\n",
    "    * Explainability Scores: Evaluate interpretability tools such as SHAP or LIME to assess feature contributions to risk predictions.\n",
    "\n",
    "4. Constraints, Risks, and Assumptions\n",
    "\n",
    "    **Constraints**\n",
    "    * Data Limitations: Data covers only specific years (2003, 2012, 2016, 2021) and is sourced from a limited geographic region (Mexico), which may affect generalizability.\n",
    "    * No External Data: Per competition rules, no external data can be used, limiting additional context or feature expansion.\n",
    "\n",
    "    **Risks** \n",
    "    * Bias Risk: Potential for inherent biases in social determinants, as socioeconomic factors may skew predictions if not handled carefully.\n",
    "    * Model Interpretability: Complex models may reduce transparency, making it harder for stakeholders to trust or understand predictions.\n",
    "    * Overfitting: Using only MHAS data might lead to models that don’t generalize well to other populations.\n",
    "\n",
    "    **Assumptions**\n",
    "    * Data Quality: Assumes MHAS data is reliable, well-represented, and complete enough for accurate predictions.\n",
    "    * Feature Stability: Assumes SDOH features impacting cognitive health remain consistent over time and across populations, enabling predictive generalization.\n",
    "\n",
    "5. Outline Project Timeline and Resource Requirements\n",
    "\n",
    "    **Project Timeline**\n",
    "    * Phase 1: Data Understanding and Preparation \n",
    "    * Phase 2: Modeling and Hyperparameter Tuning \n",
    "    * Phase 3: Model Evaluation and Iteration \n",
    "    * Phase 4: Deployment Planning and Reporting \n",
    "\n",
    "    **Resource Requirements**\n",
    "    * Data Processing Tools: Python and relevant libraries (e.g., Pandas, scikit-learn), for efficient data preparation and analysis.\n",
    "    * Modeling Resources: Access to GPUs or cloud resources to handle extensive computations for model training and tuning.\n",
    "    * Domain Expertise: Collaboration with Alzheimer’s and public health experts to validate feature selection and model outputs.\n",
    "    * Interpretability Tools: Access to explainability libraries (e.g., SHAP, LIME) to ensure model transparency and stakeholder trust.\n",
    "\n",
    "6. Define Business and Organizational Impact\n",
    "    * Impact on Clinical Practices: Provides healthcare providers with a predictive tool to flag high-risk individuals earlier, supporting proactive cognitive health interventions.\n",
    "    * Public Health Applications: Enables public health organizations to allocate resources more effectively, focusing on preventive care for at-risk groups based on SDOH.\n",
    "    * Patient and Family Empowerment: Empowers patients and their families by providing early indicators of risk, promoting early lifestyle adjustments or interventions to delay progression.\n",
    "    * Research Advancement: The project creates a framework for further research on SDOH factors in cognitive decline, especially in underserved populations where AD/ADRD is prevalent.\n",
    "\n",
    "7. Establish Communication and Reporting Plan\n",
    "\n",
    "    **Communication with Stakeholders**\n",
    "    * Monthly progress reports and bi-weekly check-ins with healthcare, research, and public health representatives.\n",
    "    * Data insights presentations at key project milestones to ensure alignment with stakeholder objectives.\n",
    "\n",
    "    **Final Deliverables**\n",
    "    * Prediction Model: A ready-to-deploy model with RMSE scores and bias evaluation.\n",
    "    * Explainability Reports: Documentation of the model’s interpretability, detailing key SDOH features influencing predictions.\n",
    "    * Public Health Briefing: Executive summary for policy makers and public health organizations, highlighting actionable insights and recommendations.\n",
    "    * Patient-Centric Documentation: Information for healthcare providers on interpreting model predictions for patient engagement and education."
   ]
  },
  {
   "cell_type": "markdown",
   "metadata": {},
   "source": [
    "## Data Understanding"
   ]
  },
  {
   "cell_type": "markdown",
   "metadata": {},
   "source": [
    "### Importing Libraries"
   ]
  },
  {
   "cell_type": "code",
   "execution_count": 1,
   "metadata": {},
   "outputs": [],
   "source": [
    "# Data manipulation\n",
    "import pandas as pd\n",
    "import numpy as np\n",
    "\n",
    "# Suppress warnings\n",
    "import warnings\n",
    "warnings.filterwarnings('ignore')\n",
    "\n",
    "# Custom transformers and base classes\n",
    "from sklearn.base import BaseEstimator, TransformerMixin\n",
    "\n",
    "# Preprocessing and feature engineering\n",
    "from sklearn.preprocessing import StandardScaler, OneHotEncoder, OrdinalEncoder, FunctionTransformer\n",
    "from sklearn.pipeline import Pipeline\n",
    "from sklearn.compose import ColumnTransformer\n",
    "\n",
    "# Imputation\n",
    "from sklearn.experimental import enable_iterative_imputer  # Enable experimental features\n",
    "from sklearn.impute import IterativeImputer, SimpleImputer\n",
    "\n",
    "# Feature selection\n",
    "from sklearn.feature_selection import SelectKBest, f_regression\n",
    "\n",
    "# Model selection and evaluation\n",
    "from sklearn.model_selection import GroupKFold, train_test_split\n",
    "from sklearn.metrics import mean_squared_error, mean_absolute_error, r2_score\n",
    "\n",
    "# Machine learning models\n",
    "from sklearn.linear_model import LinearRegression\n",
    "from sklearn.ensemble import (\n",
    "    StackingRegressor,\n",
    "    RandomForestRegressor,\n",
    "    GradientBoostingRegressor,\n",
    "    ExtraTreesRegressor\n",
    ")\n",
    "from xgboost import XGBRegressor\n",
    "from catboost import CatBoostRegressor\n",
    "import lightgbm as lgb\n",
    "\n",
    "# Model interpretation\n",
    "import shap\n",
    "\n",
    "# Visualization \n",
    "import matplotlib.pyplot as plt\n",
    "import seaborn as sns"
   ]
  },
  {
   "cell_type": "markdown",
   "metadata": {},
   "source": [
    "### 1. Data Collection"
   ]
  },
  {
   "cell_type": "markdown",
   "metadata": {},
   "source": [
    "### 1.1 Loading Data "
   ]
  },
  {
   "cell_type": "code",
   "execution_count": 2,
   "metadata": {},
   "outputs": [],
   "source": [
    "#file paths\n",
    "submission_format = r\"C:\\Users\\Maureen\\Desktop\\Moringa\\Phase_5\\Capstone_Project\\Early-Detection-of-Alzheimer-s-Disease-and-Related-Dementias-Using-Social-Determinants-of-Health\\Original data\\submission_format.csv\"\n",
    "test_features = r\"C:\\Users\\Maureen\\Desktop\\Moringa\\Phase_5\\Capstone_Project\\Early-Detection-of-Alzheimer-s-Disease-and-Related-Dementias-Using-Social-Determinants-of-Health\\Original data\\test_features.csv\"\n",
    "train_features = r\"C:\\Users\\Maureen\\Desktop\\Moringa\\Phase_5\\Capstone_Project\\Early-Detection-of-Alzheimer-s-Disease-and-Related-Dementias-Using-Social-Determinants-of-Health\\Original data\\train_features.csv\"\n",
    "train_labels = r\"C:\\Users\\Maureen\\Desktop\\Moringa\\Phase_5\\Capstone_Project\\Early-Detection-of-Alzheimer-s-Disease-and-Related-Dementias-Using-Social-Determinants-of-Health\\Original data\\train_labels.csv\""
   ]
  },
  {
   "cell_type": "code",
   "execution_count": 3,
   "metadata": {},
   "outputs": [],
   "source": [
    "# Load the datasets\n",
    "submission_format_df = pd.read_csv(r'C:\\Users\\hp\\Documents\\Data Science Projects\\phase5_capstone\\Early-Detection-of-Alzheimer-s-Disease-and-Related-Dementias-Using-Social-Determinants-of-Health\\Original data\\submission_format.csv')\n",
    "test_features_df = pd.read_csv(r'C:\\Users\\hp\\Documents\\Data Science Projects\\phase5_capstone\\Early-Detection-of-Alzheimer-s-Disease-and-Related-Dementias-Using-Social-Determinants-of-Health\\Original data\\test_features.csv')\n",
    "train_features_df = pd.read_csv(r'C:\\Users\\hp\\Documents\\Data Science Projects\\phase5_capstone\\Early-Detection-of-Alzheimer-s-Disease-and-Related-Dementias-Using-Social-Determinants-of-Health\\Original data\\train_features.csv')\n",
    "train_labels_df = pd.read_csv(r'C:\\Users\\hp\\Documents\\Data Science Projects\\phase5_capstone\\Early-Detection-of-Alzheimer-s-Disease-and-Related-Dementias-Using-Social-Determinants-of-Health\\Original data\\train_labels.csv')\n",
    "\n"
   ]
  },
  {
   "cell_type": "markdown",
   "metadata": {},
   "source": [
    "### 2. Initial Data Exploration"
   ]
  },
  {
   "cell_type": "markdown",
   "metadata": {},
   "source": [
    "#### 2.1 Data Dimensions"
   ]
  },
  {
   "cell_type": "code",
   "execution_count": 4,
   "metadata": {},
   "outputs": [
    {
     "name": "stdout",
     "output_type": "stream",
     "text": [
      "Data loaded successfully:\n",
      "Submission Format Shape: (1105, 3)\n",
      "Test Features Shape: (819, 184)\n",
      "Train Features Shape: (3276, 184)\n",
      "Train Labels Shape: (4343, 3)\n"
     ]
    }
   ],
   "source": [
    "# Dimensions of Data\n",
    "print(\"Data loaded successfully:\")\n",
    "print(f\"Submission Format Shape: {submission_format_df.shape}\")\n",
    "print(f\"Test Features Shape: {test_features_df.shape}\")\n",
    "print(f\"Train Features Shape: {train_features_df.shape}\")\n",
    "print(f\"Train Labels Shape: {train_labels_df.shape}\")"
   ]
  },
  {
   "cell_type": "markdown",
   "metadata": {},
   "source": [
    "##### Observations"
   ]
  },
  {
   "cell_type": "markdown",
   "metadata": {},
   "source": [
    "* Submission Format: (1105, 3) – This file likely provides a template for the expected output format. It contains 1,105 rows and 3 columns, which may correspond to IDs and the format required for submitting predictions.\n",
    "\n",
    "* Test Features: (819, 184) – This dataset contains 819 records with 184 feature columns. It’s typically used for model testing or making predictions without the target variable.\n",
    "\n",
    "* Train Features: (3276, 184) – The training features dataset includes 3,276 records and 184 feature columns. This is used to train your model by providing it with the input data.\n",
    "\n",
    "* Train Labels: (4343, 3) – The labels dataset has 4,343 rows and 3 columns, including the target variable. The number of records here is larger than the training features, which suggests that there might be extra data points or additional labels not matched with features."
   ]
  },
  {
   "cell_type": "markdown",
   "metadata": {},
   "source": [
    "#### 2.2 Reviewing First 20 Rows"
   ]
  },
  {
   "cell_type": "code",
   "execution_count": 5,
   "metadata": {},
   "outputs": [
    {
     "name": "stdout",
     "output_type": "stream",
     "text": [
      "Submission Format Sample:\n",
      "      uid  year  composite_score\n",
      "0   abxu  2016                0\n",
      "1   aeol  2016                0\n",
      "2   aeol  2021                0\n",
      "3   afnb  2016                0\n",
      "4   afnb  2021                0\n",
      "5   ajfh  2016                0\n",
      "6   ajfh  2021                0\n",
      "7   ajvq  2021                0\n",
      "8   akbn  2016                0\n",
      "9   akcw  2021                0\n",
      "10  akmb  2021                0\n",
      "11  akow  2016                0\n",
      "12  akup  2021                0\n",
      "13  albo  2016                0\n",
      "14  albo  2021                0\n",
      "15  alfr  2016                0\n",
      "16  amdd  2016                0\n",
      "17  amdd  2021                0\n",
      "18  amux  2016                0\n",
      "19  amux  2021                0\n"
     ]
    }
   ],
   "source": [
    "# Display the first 20 rows of each DataFrame\n",
    "print(\"Submission Format Sample:\\n\", submission_format_df.head(20))\n",
    "\n"
   ]
  },
  {
   "cell_type": "code",
   "execution_count": 6,
   "metadata": {},
   "outputs": [
    {
     "name": "stdout",
     "output_type": "stream",
     "text": [
      "\n",
      "Test Features Sample:\n",
      "      uid    age_03     urban_03                    married_03  n_mar_03  \\\n",
      "0   abxu       NaN          NaN                           NaN       NaN   \n",
      "1   aeol       NaN          NaN                           NaN       NaN   \n",
      "2   afnb       NaN          NaN                           NaN       NaN   \n",
      "3   ajfh       NaN          NaN                           NaN       NaN   \n",
      "4   ajvq  2. 60–69  1. 100,000+  1. Married or in civil union       1.0   \n",
      "5   akbn       NaN          NaN                           NaN       NaN   \n",
      "6   akcw       NaN          NaN                           NaN       NaN   \n",
      "7   akmb  1. 50–59  1. 100,000+  1. Married or in civil union       1.0   \n",
      "8   akow  1. 50–59  1. 100,000+  1. Married or in civil union       1.0   \n",
      "9   akup  1. 50–59  1. 100,000+  1. Married or in civil union       2.0   \n",
      "10  albo  1. 50–59  0. <100,000  1. Married or in civil union       1.0   \n",
      "11  alfr  1. 50–59  1. 100,000+  1. Married or in civil union       1.0   \n",
      "12  amdd       NaN          NaN                           NaN       NaN   \n",
      "13  amux       NaN          NaN                           NaN       NaN   \n",
      "14  aody       NaN          NaN                           NaN       NaN   \n",
      "15  aoyf       NaN          NaN                           NaN       NaN   \n",
      "16  aqjp  1. 50–59  0. <100,000  1. Married or in civil union       1.0   \n",
      "17  aqwx       NaN          NaN                           NaN       NaN   \n",
      "18  arzd  1. 50–59  0. <100,000  1. Married or in civil union       1.0   \n",
      "19  awhp  1. 50–59  0. <100,000  1. Married or in civil union       2.0   \n",
      "\n",
      "         edu_gru_03 n_living_child_03  migration_03 glob_hlth_03  \\\n",
      "0               NaN               NaN           NaN          NaN   \n",
      "1               NaN               NaN           NaN          NaN   \n",
      "2               NaN               NaN           NaN          NaN   \n",
      "3               NaN               NaN           NaN          NaN   \n",
      "4      4. 10+ years         1. 1 or 2           0.0          NaN   \n",
      "5               NaN               NaN           NaN          NaN   \n",
      "6               NaN               NaN           NaN          NaN   \n",
      "7      3. 7–9 years         1. 1 or 2           0.0      4. Fair   \n",
      "8   0. No education             4. 7+           0.0      5. Poor   \n",
      "9   0. No education         2. 3 or 4           0.0      5. Poor   \n",
      "10     1. 1–5 years         2. 3 or 4           0.0      3. Good   \n",
      "11     1. 1–5 years         3. 5 or 6           0.0      4. Fair   \n",
      "12              NaN               NaN           NaN          NaN   \n",
      "13              NaN               NaN           NaN          NaN   \n",
      "14              NaN               NaN           NaN          NaN   \n",
      "15              NaN               NaN           NaN          NaN   \n",
      "16     4. 10+ years             4. 7+           0.0      3. Good   \n",
      "17              NaN               NaN           NaN          NaN   \n",
      "18       2. 6 years         3. 5 or 6           0.0      5. Poor   \n",
      "19  0. No education         2. 3 or 4           0.0      3. Good   \n",
      "\n",
      "    adl_dress_03  ...           rrelgimp_12              rrfcntx_m_12  \\\n",
      "0            NaN  ...                   NaN                       NaN   \n",
      "1            NaN  ...      1.very important                   9.Never   \n",
      "2            NaN  ...      1.very important                   9.Never   \n",
      "3            NaN  ...  2.somewhat important                   9.Never   \n",
      "4            NaN  ...  2.somewhat important        1.Almost every day   \n",
      "5            NaN  ...      1.very important            7.Once a month   \n",
      "6            NaN  ...      1.very important                   9.Never   \n",
      "7            0.0  ...      1.very important             4.Once a week   \n",
      "8            0.0  ...      1.very important                   9.Never   \n",
      "9            1.0  ...  2.somewhat important        1.Almost every day   \n",
      "10           0.0  ...      1.very important     3.2 or 3 times a week   \n",
      "11           0.0  ...  2.somewhat important  2.4 or more times a week   \n",
      "12           NaN  ...  2.somewhat important        1.Almost every day   \n",
      "13           NaN  ...      1.very important    6.2 or 3 times a month   \n",
      "14           NaN  ...      1.very important                   9.Never   \n",
      "15           NaN  ...  2.somewhat important        1.Almost every day   \n",
      "16           0.0  ...      1.very important        1.Almost every day   \n",
      "17           NaN  ...      1.very important             4.Once a week   \n",
      "18           0.0  ...      1.very important                   9.Never   \n",
      "19           0.0  ...      1.very important                   9.Never   \n",
      "\n",
      "                 rsocact_m_12  rrelgwk_12  a16a_12  a21_12  a22_12  a33b_12  \\\n",
      "0                         NaN         NaN      NaN     NaN     NaN      NaN   \n",
      "1                     9.Never       1.Yes      NaN     NaN     NaN      NaN   \n",
      "2       3.2 or 3 times a week       1.Yes      NaN     NaN     NaN      NaN   \n",
      "3   5.4 or more times a month        0.No      NaN     NaN     NaN      NaN   \n",
      "4               4.Once a week        0.No      NaN     NaN     NaN      NaN   \n",
      "5                     9.Never        0.No      NaN     NaN     NaN      NaN   \n",
      "6          1.Almost every day        0.No      NaN     NaN     NaN      NaN   \n",
      "7               4.Once a week        0.No      NaN     NaN     NaN      NaN   \n",
      "8          1.Almost every day       1.Yes      NaN     NaN     NaN      NaN   \n",
      "9       3.2 or 3 times a week        0.No      NaN     NaN     NaN      NaN   \n",
      "10                    9.Never       1.Yes      NaN     NaN     NaN      NaN   \n",
      "11                    9.Never        0.No      NaN     NaN     NaN      NaN   \n",
      "12         1.Almost every day        0.No      NaN     NaN     NaN      NaN   \n",
      "13     6.2 or 3 times a month       1.Yes      NaN     NaN     NaN      NaN   \n",
      "14                    9.Never       1.Yes      NaN     NaN     NaN      NaN   \n",
      "15         1.Almost every day        0.No      NaN     NaN     NaN      NaN   \n",
      "16   8.Almost Never, sporadic        0.No      NaN     NaN     NaN      NaN   \n",
      "17                    9.Never        0.No      NaN     NaN     NaN      NaN   \n",
      "18                    9.Never        0.No      NaN     NaN     NaN      NaN   \n",
      "19                    9.Never        0.No      NaN     NaN     NaN      NaN   \n",
      "\n",
      "    a34_12                             j11_12  \n",
      "0      NaN  Wood, mosaic, or other covering 1  \n",
      "1      NaN                         Concrete 2  \n",
      "2      NaN  Wood, mosaic, or other covering 1  \n",
      "3      NaN  Wood, mosaic, or other covering 1  \n",
      "4     No 2  Wood, mosaic, or other covering 1  \n",
      "5      NaN                         Concrete 2  \n",
      "6      NaN                         Concrete 2  \n",
      "7     No 2  Wood, mosaic, or other covering 1  \n",
      "8     No 2  Wood, mosaic, or other covering 1  \n",
      "9     No 2                         Concrete 2  \n",
      "10    No 2  Wood, mosaic, or other covering 1  \n",
      "11    No 2  Wood, mosaic, or other covering 1  \n",
      "12     NaN  Wood, mosaic, or other covering 1  \n",
      "13     NaN                         Concrete 2  \n",
      "14     NaN                              Mud 3  \n",
      "15     NaN  Wood, mosaic, or other covering 1  \n",
      "16    No 2  Wood, mosaic, or other covering 1  \n",
      "17     NaN                         Concrete 2  \n",
      "18    No 2                         Concrete 2  \n",
      "19    No 2                              Mud 3  \n",
      "\n",
      "[20 rows x 184 columns]\n"
     ]
    }
   ],
   "source": [
    "print(\"\\nTest Features Sample:\\n\", test_features_df.head(20))\n"
   ]
  },
  {
   "cell_type": "code",
   "execution_count": 7,
   "metadata": {},
   "outputs": [
    {
     "name": "stdout",
     "output_type": "stream",
     "text": [
      "\n",
      "Train Features Sample:\n",
      "      uid    age_03     urban_03                    married_03  n_mar_03  \\\n",
      "0   aace       NaN          NaN                           NaN       NaN   \n",
      "1   aanz       NaN          NaN                           NaN       NaN   \n",
      "2   aape       NaN          NaN                           NaN       NaN   \n",
      "3   aard  1. 50–59  1. 100,000+                    3. Widowed       1.0   \n",
      "4   ablr       NaN          NaN                           NaN       NaN   \n",
      "5   abme  1. 50–59  0. <100,000  1. Married or in civil union       1.0   \n",
      "6   abrn  1. 50–59  0. <100,000  1. Married or in civil union       2.0   \n",
      "7   acet  1. 50–59  1. 100,000+  1. Married or in civil union       1.0   \n",
      "8   acgx       NaN          NaN                           NaN       NaN   \n",
      "9   acmh  3. 70–79  0. <100,000  1. Married or in civil union       2.0   \n",
      "10  acsp  1. 50–59  1. 100,000+  1. Married or in civil union       1.0   \n",
      "11  addk  3. 70–79  1. 100,000+  1. Married or in civil union       1.0   \n",
      "12  adtd       NaN          NaN                           NaN       NaN   \n",
      "13  aehw  3. 70–79  0. <100,000  1. Married or in civil union       1.0   \n",
      "14  aete  1. 50–59  1. 100,000+  1. Married or in civil union       1.0   \n",
      "15  aevc  1. 50–59  1. 100,000+  1. Married or in civil union       1.0   \n",
      "16  aewa       NaN          NaN                           NaN       NaN   \n",
      "17  afls  1. 50–59  0. <100,000  1. Married or in civil union       1.0   \n",
      "18  agjr  2. 60–69  0. <100,000  1. Married or in civil union       3.0   \n",
      "19  agnc  1. 50–59  1. 100,000+  1. Married or in civil union       2.0   \n",
      "\n",
      "         edu_gru_03 n_living_child_03  migration_03 glob_hlth_03  \\\n",
      "0               NaN               NaN           NaN          NaN   \n",
      "1               NaN               NaN           NaN          NaN   \n",
      "2               NaN               NaN           NaN          NaN   \n",
      "3      3. 7–9 years         1. 1 or 2           0.0      4. Fair   \n",
      "4               NaN               NaN           NaN          NaN   \n",
      "5      1. 1–5 years         3. 5 or 6           0.0      4. Fair   \n",
      "6   0. No education         3. 5 or 6           0.0      4. Fair   \n",
      "7      3. 7–9 years    0. No children           0.0      4. Fair   \n",
      "8               NaN               NaN           NaN          NaN   \n",
      "9   0. No education         2. 3 or 4           0.0      5. Poor   \n",
      "10     1. 1–5 years         2. 3 or 4           0.0      4. Fair   \n",
      "11       2. 6 years         3. 5 or 6           0.0          NaN   \n",
      "12              NaN               NaN           NaN          NaN   \n",
      "13  0. No education             4. 7+           0.0      3. Good   \n",
      "14       2. 6 years         2. 3 or 4           0.0      3. Good   \n",
      "15     1. 1–5 years         1. 1 or 2           0.0      3. Good   \n",
      "16              NaN               NaN           NaN          NaN   \n",
      "17  0. No education             4. 7+           0.0          NaN   \n",
      "18  0. No education             4. 7+           0.0      3. Good   \n",
      "19  0. No education         2. 3 or 4           0.0      4. Fair   \n",
      "\n",
      "    adl_dress_03  ...           rrelgimp_12              rrfcntx_m_12  \\\n",
      "0            NaN  ...  2.somewhat important                   9.Never   \n",
      "1            NaN  ...      1.very important                   9.Never   \n",
      "2            NaN  ...  2.somewhat important    6.2 or 3 times a month   \n",
      "3            0.0  ...      1.very important             4.Once a week   \n",
      "4            NaN  ...      1.very important     3.2 or 3 times a week   \n",
      "5            0.0  ...      1.very important                   9.Never   \n",
      "6            0.0  ...  2.somewhat important  8.Almost Never, sporadic   \n",
      "7            0.0  ...  2.somewhat important        1.Almost every day   \n",
      "8            NaN  ...      1.very important     3.2 or 3 times a week   \n",
      "9            0.0  ...  2.somewhat important                   9.Never   \n",
      "10           0.0  ...  2.somewhat important                   9.Never   \n",
      "11           NaN  ...      1.very important                   9.Never   \n",
      "12           NaN  ...  2.somewhat important  2.4 or more times a week   \n",
      "13           0.0  ...      1.very important            7.Once a month   \n",
      "14           0.0  ...  2.somewhat important     3.2 or 3 times a week   \n",
      "15           0.0  ...  2.somewhat important                   9.Never   \n",
      "16           NaN  ...      1.very important     3.2 or 3 times a week   \n",
      "17           NaN  ...  2.somewhat important                   9.Never   \n",
      "18           0.0  ...       3.not important        1.Almost every day   \n",
      "19           0.0  ...      1.very important     3.2 or 3 times a week   \n",
      "\n",
      "                rsocact_m_12  rrelgwk_12  a16a_12  a21_12  a22_12  a33b_12  \\\n",
      "0                    9.Never        0.No      NaN     NaN     NaN      NaN   \n",
      "1         1.Almost every day        0.No      NaN     NaN     NaN      NaN   \n",
      "2   2.4 or more times a week        0.No      NaN     NaN     NaN      NaN   \n",
      "3                    9.Never       1.Yes      NaN     NaN     NaN      NaN   \n",
      "4      3.2 or 3 times a week        0.No      NaN     NaN     NaN      NaN   \n",
      "5                    9.Never        0.No      NaN     NaN     NaN      NaN   \n",
      "6                    9.Never        0.No      NaN     NaN     NaN      NaN   \n",
      "7         1.Almost every day        0.No      NaN     NaN     NaN      NaN   \n",
      "8              4.Once a week        0.No      NaN     NaN     NaN      NaN   \n",
      "9                    9.Never        0.No      NaN     NaN     NaN      NaN   \n",
      "10        1.Almost every day       1.Yes      NaN     NaN     NaN      NaN   \n",
      "11                   9.Never       1.Yes      NaN     NaN     NaN      NaN   \n",
      "12  2.4 or more times a week        0.No      NaN     NaN     NaN      NaN   \n",
      "13            7.Once a month        0.No      NaN     NaN     NaN      NaN   \n",
      "14                   9.Never        0.No      NaN     NaN     NaN      NaN   \n",
      "15                   9.Never        0.No      NaN     NaN     NaN      NaN   \n",
      "16                   9.Never        0.No      NaN     NaN     NaN      NaN   \n",
      "17        1.Almost every day        0.No      NaN     NaN     NaN      NaN   \n",
      "18                   9.Never        0.No      NaN     NaN     NaN      NaN   \n",
      "19        1.Almost every day       1.Yes      NaN     NaN     NaN      NaN   \n",
      "\n",
      "    a34_12                             j11_12  \n",
      "0      NaN                         Concrete 2  \n",
      "1      NaN                         Concrete 2  \n",
      "2      NaN  Wood, mosaic, or other covering 1  \n",
      "3     No 2                         Concrete 2  \n",
      "4      NaN  Wood, mosaic, or other covering 1  \n",
      "5     No 2                         Concrete 2  \n",
      "6     No 2                         Concrete 2  \n",
      "7     No 2                         Concrete 2  \n",
      "8      NaN                         Concrete 2  \n",
      "9     No 2                         Concrete 2  \n",
      "10    No 2                         Concrete 2  \n",
      "11    No 2                         Concrete 2  \n",
      "12     NaN  Wood, mosaic, or other covering 1  \n",
      "13    No 2                         Concrete 2  \n",
      "14    No 2  Wood, mosaic, or other covering 1  \n",
      "15    No 2  Wood, mosaic, or other covering 1  \n",
      "16     NaN                         Concrete 2  \n",
      "17    No 2                         Concrete 2  \n",
      "18    No 2                         Concrete 2  \n",
      "19    No 2                         Concrete 2  \n",
      "\n",
      "[20 rows x 184 columns]\n"
     ]
    }
   ],
   "source": [
    "print(\"\\nTrain Features Sample:\\n\", train_features_df.head(20))\n"
   ]
  },
  {
   "cell_type": "code",
   "execution_count": 8,
   "metadata": {},
   "outputs": [
    {
     "name": "stdout",
     "output_type": "stream",
     "text": [
      "\n",
      "Train Labels Sample:\n",
      "      uid  year  composite_score\n",
      "0   aace  2021              175\n",
      "1   aanz  2021              206\n",
      "2   aape  2016              161\n",
      "3   aape  2021              144\n",
      "4   aard  2021              104\n",
      "5   ablr  2021              183\n",
      "6   abme  2021              106\n",
      "7   abrn  2021              144\n",
      "8   acet  2021              152\n",
      "9   acgx  2021              144\n",
      "10  acmh  2016               13\n",
      "11  acsp  2021              193\n",
      "12  addk  2016               38\n",
      "13  adtd  2016              272\n",
      "14  adtd  2021              254\n",
      "15  aehw  2016               87\n",
      "16  aehw  2021               92\n",
      "17  aete  2016              203\n",
      "18  aevc  2021              117\n",
      "19  aewa  2021               84\n"
     ]
    }
   ],
   "source": [
    "print(\"\\nTrain Labels Sample:\\n\", train_labels_df.head(20))"
   ]
  },
  {
   "cell_type": "markdown",
   "metadata": {},
   "source": [
    "##### Observations\n",
    "\n",
    "**Submission Format**\n",
    "\n",
    "* The submission_format dataset has three columns: uid, year, and composite_score.\n",
    "* Each row represents a unique individual (uid) for a specific year, with composite_score currently set to 0.\n",
    "* This format suggests the expected structure for submission, likely requiring predicted values for composite_score.\n",
    "\n",
    "**Test and Train Features**\n",
    "\n",
    "* Both test_features and train_features datasets contain numerous columns (184 in total), mostly focused on social, demographic, and health-related factors.\n",
    "* Columns include identifiers like uid, categories like age_03, urban_03, and responses to social and health questions (married_03, n_mar_03, etc.).\n",
    "* Many fields have missing values, as indicated by NaN, and categorical data encoded with prefixes like 1., 2., which may require preprocessing to make values numeric or otherwise usable in modeling.\n",
    "\n",
    "**Challenges**\n",
    "\n",
    "* The categorical values include descriptions (e.g., 1. Married or in civil union) that may need to be cleaned and converted to numeric codes.\n",
    "* Some columns have complex string representations (e.g., rrelgimp_12 shows responses like \"1.very important\"), suggesting the need for encoding or label transformation.\n",
    "* Missing data in columns such as age_03, n_mar_03, and glob_hlth_03 might impact model performance if not handled appropriately.\n",
    "\n",
    "**Potential Focus Areas for Preprocessing**\n",
    "\n",
    "* Data Cleaning: Removing numerical prefixes from categorical responses (e.g., transforming 1. 50–59 to 50–59).\n",
    "* Encoding: Converting categorical variables into numerical form through techniques such as label encoding or one-hot encoding.\n",
    "* Handling Missing Values: Filling in missing values based on specific imputation strategies or removing rows/columns if appropriate.\n",
    "* Feature Selection: Since there are 184 features, exploring dimensionality reduction techniques might improve model performance and interpretability."
   ]
  },
  {
   "cell_type": "markdown",
   "metadata": {},
   "source": [
    "##### 2.3 Data Type For Each Attributes"
   ]
  },
  {
   "cell_type": "code",
   "execution_count": 9,
   "metadata": {},
   "outputs": [
    {
     "name": "stdout",
     "output_type": "stream",
     "text": [
      "\n",
      "Data types for each attribute in submission_format_df:\n",
      "\n",
      "uid                object\n",
      "year                int64\n",
      "composite_score     int64\n",
      "dtype: object\n"
     ]
    }
   ],
   "source": [
    "#Display data types for each DataFrame\n",
    "print(\"\\nData types for each attribute in submission_format_df:\\n\")\n",
    "print(submission_format_df.dtypes)\n",
    "\n"
   ]
  },
  {
   "cell_type": "code",
   "execution_count": 10,
   "metadata": {},
   "outputs": [
    {
     "name": "stdout",
     "output_type": "stream",
     "text": [
      "\n",
      "Data types for each attribute in test_features_df:\n",
      "\n",
      "uid            object\n",
      "age_03         object\n",
      "urban_03       object\n",
      "married_03     object\n",
      "n_mar_03      float64\n",
      "               ...   \n",
      "a21_12        float64\n",
      "a22_12         object\n",
      "a33b_12        object\n",
      "a34_12         object\n",
      "j11_12         object\n",
      "Length: 184, dtype: object\n"
     ]
    }
   ],
   "source": [
    "print(\"\\nData types for each attribute in test_features_df:\\n\")\n",
    "print(test_features_df.dtypes)\n",
    "\n"
   ]
  },
  {
   "cell_type": "code",
   "execution_count": 11,
   "metadata": {},
   "outputs": [
    {
     "name": "stdout",
     "output_type": "stream",
     "text": [
      "\n",
      "Data types for each attribute in train_features_df:\n",
      "\n",
      "uid            object\n",
      "age_03         object\n",
      "urban_03       object\n",
      "married_03     object\n",
      "n_mar_03      float64\n",
      "               ...   \n",
      "a21_12        float64\n",
      "a22_12         object\n",
      "a33b_12        object\n",
      "a34_12         object\n",
      "j11_12         object\n",
      "Length: 184, dtype: object\n"
     ]
    }
   ],
   "source": [
    "print(\"\\nData types for each attribute in train_features_df:\\n\")\n",
    "print(train_features_df.dtypes)\n",
    "\n"
   ]
  },
  {
   "cell_type": "code",
   "execution_count": 12,
   "metadata": {},
   "outputs": [
    {
     "name": "stdout",
     "output_type": "stream",
     "text": [
      "\n",
      "Data types for each attribute in train_labels_df:\n",
      "\n",
      "uid                object\n",
      "year                int64\n",
      "composite_score     int64\n",
      "dtype: object\n"
     ]
    }
   ],
   "source": [
    "print(\"\\nData types for each attribute in train_labels_df:\\n\")\n",
    "print(train_labels_df.dtypes)"
   ]
  },
  {
   "cell_type": "markdown",
   "metadata": {},
   "source": [
    "##### Observations\n",
    "\n",
    "**Submission Format (submission_format_df)**\n",
    "\n",
    "* Contains three columns: uid, year, and composite_score.\n",
    "* uid is of type object, representing unique identifiers for individuals.\n",
    "* year and composite_score are of type int64, indicating they store integer values.\n",
    "\n",
    "**Test Features (test_features_df)**\n",
    "\n",
    "* Contains 184 columns, with a mix of object and float64 data types.\n",
    "* uid is of type object, and most features are stored as object (likely categorical or nominal data).\n",
    "* Some columns, such as n_mar_03, a21_12, are float64, indicating continuous or numeric values.\n",
    "\n",
    "**Train Features (train_features_df)**\n",
    "\n",
    "* Similar to test_features_df, it has 184 columns and contains a mix of object and float64 data types.\n",
    "* The data types are consistent with those in test_features_df, which will aid in ensuring uniform preprocessing.\n",
    "\n",
    "**Train Labels (train_labels_df)**\n",
    "\n",
    "* Consists of three columns: uid, year, and composite_score.\n",
    "* The data types mirror those in submission_format_df, with uid as object, and year and composite_score as int64.\n",
    "\n",
    "**Overall Observations**\n",
    "\n",
    "* Many columns in the features DataFrames (train_features_df and test_features_df) are stored as object, which suggests they may represent categorical data (e.g., marital status, education level).\n",
    "* Some columns are float64, which are likely numeric and may require scaling or normalization during preprocessing.\n",
    "* Consistency in data types across train_features_df and test_features_df simplifies the preprocessing pipeline, as the same transformations can be applied to both."
   ]
  },
  {
   "cell_type": "markdown",
   "metadata": {},
   "source": [
    "#### 2.4 Descriptive Statistics"
   ]
  },
  {
   "cell_type": "code",
   "execution_count": 13,
   "metadata": {},
   "outputs": [
    {
     "name": "stdout",
     "output_type": "stream",
     "text": [
      "\n",
      "Descriptive Statistics for submission_format_df:\n",
      "\n",
      "              year  composite_score\n",
      "count  1105.000000           1105.0\n",
      "mean   2019.162896              0.0\n",
      "std       2.411604              0.0\n",
      "min    2016.000000              0.0\n",
      "25%    2016.000000              0.0\n",
      "50%    2021.000000              0.0\n",
      "75%    2021.000000              0.0\n",
      "max    2021.000000              0.0\n"
     ]
    }
   ],
   "source": [
    "# Descriptive statistics for submission_format_df\n",
    "print(\"\\nDescriptive Statistics for submission_format_df:\\n\")\n",
    "print(submission_format_df.describe())\n",
    "\n"
   ]
  },
  {
   "cell_type": "code",
   "execution_count": 14,
   "metadata": {},
   "outputs": [
    {
     "name": "stdout",
     "output_type": "stream",
     "text": [
      "\n",
      "Descriptive Statistics for test_features_df:\n",
      "\n",
      "         n_mar_03  migration_03  adl_dress_03  adl_walk_03  adl_bath_03  \\\n",
      "count  568.000000    570.000000    542.000000   569.000000   569.000000   \n",
      "mean     1.165493      0.077193      0.047970     0.012302     0.012302   \n",
      "std      0.535254      0.267132      0.213901     0.110328     0.110328   \n",
      "min      0.000000      0.000000      0.000000     0.000000     0.000000   \n",
      "25%      1.000000      0.000000      0.000000     0.000000     0.000000   \n",
      "50%      1.000000      0.000000      0.000000     0.000000     0.000000   \n",
      "75%      1.000000      0.000000      0.000000     0.000000     0.000000   \n",
      "max      4.000000      1.000000      1.000000     1.000000     1.000000   \n",
      "\n",
      "       adl_eat_03  adl_bed_03  adl_toilet_03    n_adl_03  iadl_money_03  ...  \\\n",
      "count  569.000000  569.000000     569.000000  569.000000     542.000000  ...   \n",
      "mean     0.005272    0.038664       0.019332    0.087873       0.009225  ...   \n",
      "std      0.072483    0.192963       0.137811    0.443272       0.095692  ...   \n",
      "min      0.000000    0.000000       0.000000    0.000000       0.000000  ...   \n",
      "25%      0.000000    0.000000       0.000000    0.000000       0.000000  ...   \n",
      "50%      0.000000    0.000000       0.000000    0.000000       0.000000  ...   \n",
      "75%      0.000000    0.000000       0.000000    0.000000       0.000000  ...   \n",
      "max      1.000000    1.000000       1.000000    5.000000       1.000000  ...   \n",
      "\n",
      "        searnings_12    hincome_12  hinc_business_12   hinc_rent_12  \\\n",
      "count     508.000000  7.730000e+02      7.940000e+02     794.000000   \n",
      "mean    10196.850394  6.608021e+04      1.010076e+04    2216.624685   \n",
      "std     35871.244519  2.540155e+05      7.190606e+04   35284.803065   \n",
      "min         0.000000 -2.000000e+05      0.000000e+00 -200000.000000   \n",
      "25%         0.000000  0.000000e+00      0.000000e+00       0.000000   \n",
      "50%         0.000000  2.000000e+04      0.000000e+00       0.000000   \n",
      "75%         0.000000  5.000000e+04      0.000000e+00       0.000000   \n",
      "max    310000.000000  6.020000e+06      1.430000e+06  710000.000000   \n",
      "\n",
      "       hinc_assets_12   hinc_cap_12  rinc_pension_12  sinc_pension_12  \\\n",
      "count      794.000000  7.940000e+02       794.000000     5.080000e+02   \n",
      "mean       367.758186  1.265743e+04     13476.070529     1.039370e+04   \n",
      "std       4482.643368  8.003225e+04     38708.762304     5.315530e+04   \n",
      "min          0.000000 -2.000000e+05         0.000000     0.000000e+00   \n",
      "25%          0.000000  0.000000e+00         0.000000     0.000000e+00   \n",
      "50%          0.000000  0.000000e+00         0.000000     0.000000e+00   \n",
      "75%          0.000000  0.000000e+00         0.000000     0.000000e+00   \n",
      "max      84000.000000  1.430000e+06    480000.000000     1.080000e+06   \n",
      "\n",
      "           a16a_12     a21_12  \n",
      "count     6.000000  11.000000  \n",
      "mean   1975.833333   6.454545  \n",
      "std      25.103121   9.771015  \n",
      "min    1940.000000   1.000000  \n",
      "25%    1965.750000   1.000000  \n",
      "50%    1971.000000   2.000000  \n",
      "75%    1991.250000   7.000000  \n",
      "max    2011.000000  32.000000  \n",
      "\n",
      "[8 rows x 140 columns]\n"
     ]
    }
   ],
   "source": [
    "# Descriptive statistics for test_features_df\n",
    "print(\"\\nDescriptive Statistics for test_features_df:\\n\")\n",
    "print(test_features_df.describe())\n",
    "\n"
   ]
  },
  {
   "cell_type": "code",
   "execution_count": 15,
   "metadata": {},
   "outputs": [
    {
     "name": "stdout",
     "output_type": "stream",
     "text": [
      "\n",
      "Descriptive Statistics for train_features_df:\n",
      "\n",
      "          n_mar_03  migration_03  adl_dress_03  adl_walk_03  adl_bath_03  \\\n",
      "count  2222.000000   2241.000000   2105.000000  2235.000000  2235.000000   \n",
      "mean      1.134113      0.099063      0.041805     0.017002     0.007159   \n",
      "std       0.482953      0.298813      0.200191     0.129308     0.084325   \n",
      "min       0.000000      0.000000      0.000000     0.000000     0.000000   \n",
      "25%       1.000000      0.000000      0.000000     0.000000     0.000000   \n",
      "50%       1.000000      0.000000      0.000000     0.000000     0.000000   \n",
      "75%       1.000000      0.000000      0.000000     0.000000     0.000000   \n",
      "max       5.000000      1.000000      1.000000     1.000000     1.000000   \n",
      "\n",
      "        adl_eat_03   adl_bed_03  adl_toilet_03     n_adl_03  iadl_money_03  \\\n",
      "count  2234.000000  2235.000000    2235.000000  2234.000000    2105.000000   \n",
      "mean      0.004476     0.026398       0.013423     0.068487       0.005226   \n",
      "std       0.066770     0.160352       0.115102     0.392793       0.072117   \n",
      "min       0.000000     0.000000       0.000000     0.000000       0.000000   \n",
      "25%       0.000000     0.000000       0.000000     0.000000       0.000000   \n",
      "50%       0.000000     0.000000       0.000000     0.000000       0.000000   \n",
      "75%       0.000000     0.000000       0.000000     0.000000       0.000000   \n",
      "max       1.000000     1.000000       1.000000     5.000000       1.000000   \n",
      "\n",
      "       ...  searnings_12    hincome_12  hinc_business_12  hinc_rent_12  \\\n",
      "count  ...  2.091000e+03  3.138000e+03      3.187000e+03  3.187000e+03   \n",
      "mean   ...  1.181253e+04  8.824729e+04      3.294321e+04  8.628805e+02   \n",
      "std    ...  6.013394e+04  6.901728e+05      6.520799e+05  3.282440e+04   \n",
      "min    ...  0.000000e+00 -1.900000e+05      0.000000e+00 -3.600000e+05   \n",
      "25%    ...  0.000000e+00  0.000000e+00      0.000000e+00  0.000000e+00   \n",
      "50%    ...  0.000000e+00  2.000000e+04      0.000000e+00  0.000000e+00   \n",
      "75%    ...  0.000000e+00  6.000000e+04      0.000000e+00  0.000000e+00   \n",
      "max    ...  1.370000e+06  3.602000e+07      3.600000e+07  1.200000e+06   \n",
      "\n",
      "       hinc_assets_12   hinc_cap_12  rinc_pension_12  sinc_pension_12  \\\n",
      "count     3187.000000  3.187000e+03      3187.000000     2.091000e+03   \n",
      "mean       788.202071  3.458739e+04     13850.015689     1.193687e+04   \n",
      "std      10314.879890  6.527276e+05     44336.711380     4.705314e+04   \n",
      "min          0.000000 -2.100000e+05         0.000000     0.000000e+00   \n",
      "25%          0.000000  0.000000e+00         0.000000     0.000000e+00   \n",
      "50%          0.000000  0.000000e+00         0.000000     0.000000e+00   \n",
      "75%          0.000000  0.000000e+00         0.000000     0.000000e+00   \n",
      "max     360000.000000  3.600000e+07    960000.000000     1.200000e+06   \n",
      "\n",
      "           a16a_12     a21_12  \n",
      "count    24.000000  42.000000  \n",
      "mean   1975.166667   7.833333  \n",
      "std      20.440086  12.585157  \n",
      "min    1942.000000   1.000000  \n",
      "25%    1960.000000   1.000000  \n",
      "50%    1972.500000   2.000000  \n",
      "75%    1988.500000   6.750000  \n",
      "max    2012.000000  52.000000  \n",
      "\n",
      "[8 rows x 140 columns]\n"
     ]
    }
   ],
   "source": [
    "# Descriptive statistics for train_features_df\n",
    "print(\"\\nDescriptive Statistics for train_features_df:\\n\")\n",
    "print(train_features_df.describe())\n",
    "\n"
   ]
  },
  {
   "cell_type": "code",
   "execution_count": 16,
   "metadata": {},
   "outputs": [
    {
     "name": "stdout",
     "output_type": "stream",
     "text": [
      "\n",
      "Descriptive Statistics for train_labels_df:\n",
      "\n",
      "              year  composite_score\n",
      "count  4343.000000      4343.000000\n",
      "mean   2019.162560       157.016809\n",
      "std       2.410882        60.909546\n",
      "min    2016.000000         4.000000\n",
      "25%    2016.000000       114.000000\n",
      "50%    2021.000000       157.000000\n",
      "75%    2021.000000       200.000000\n",
      "max    2021.000000       334.000000\n"
     ]
    }
   ],
   "source": [
    "# Descriptive statistics for train_labels_df\n",
    "print(\"\\nDescriptive Statistics for train_labels_df:\\n\")\n",
    "print(train_labels_df.describe())"
   ]
  },
  {
   "cell_type": "markdown",
   "metadata": {},
   "source": [
    "##### Observations\n",
    "\n",
    "**Submission Format**\n",
    "\n",
    "* The year field shows values from 2016 to 2021 with an average close to 2019, indicating the range of years for the predictions.\n",
    "* composite_score is set to 0 for all entries, which serves as a placeholder and highlights that the actual predictions will need to populate this field.\n",
    "\n",
    "**Test Features**\n",
    "\n",
    "* Contains various attributes from n_mar_03 to hinc_rent_12.\n",
    "* The mean, min, max, and quartile values for each attribute provide insight into the distributions. For example:\n",
    "    - Activity of Daily Living (ADL) columns such as adl_dress_03, adl_walk_03, adl_bath_03, and others show binary values (0 and 1), indicating difficulties in these daily tasks.\n",
    "    - Income and Earnings fields (hincome_12, hinc_business_12) display a broad range, suggesting diversity in economic circumstances.\n",
    "* Many values are missing in specific columns, as indicated by counts much lower than the total rows.\n",
    "\n",
    "**Train Features**\n",
    "\n",
    "* Similar attributes as the test set, with differences in the data distribution due to training data specifics.\n",
    "* The income and ADL columns show similar ranges, with values indicating variability in health, economic conditions, and social determinants.\n",
    "\n",
    "**Train Labels**\n",
    "\n",
    "* The target variable composite_score has an average around 157, with a minimum of 4 and a maximum of 334, indicating a wide range in cognitive scores.\n",
    "* The 25th and 75th percentiles for composite_score (114 and 200, respectively) suggest the data may have a normal distribution but with a slight positive skew.\n",
    "\n",
    "\n",
    "These statistics highlight potential predictors related to health, social determinants, and economic factors, which could correlate with cognitive function scores in the train_labels dataset.\n"
   ]
  },
  {
   "cell_type": "markdown",
   "metadata": {},
   "source": [
    "#### 2.5 Data Cardinality\n",
    "\n",
    "Assess unique values in categorical features (e.g., marital status, employment status) to understand diversity in responses.\n"
   ]
  },
  {
   "cell_type": "code",
   "execution_count": 17,
   "metadata": {},
   "outputs": [
    {
     "name": "stdout",
     "output_type": "stream",
     "text": [
      "\n",
      "Data Cardinality in Train Features:\n",
      "Column 'married_03': 4 unique values\n",
      "Column 'married_12': 4 unique values\n",
      "Column 'edu_gru_03': 5 unique values\n",
      "Column 'edu_gru_12': 5 unique values\n",
      "Column 'employment_03': 4 unique values\n",
      "Column 'employment_12': 4 unique values\n",
      "Column 'urban_03': 2 unique values\n",
      "Column 'urban_12': 2 unique values\n",
      "\n",
      "Data Cardinality in Test Features:\n",
      "Column 'married_03': 4 unique values\n",
      "Column 'married_12': 4 unique values\n",
      "Column 'edu_gru_03': 5 unique values\n",
      "Column 'edu_gru_12': 5 unique values\n",
      "Column 'employment_03': 4 unique values\n",
      "Column 'employment_12': 4 unique values\n",
      "Column 'urban_03': 2 unique values\n",
      "Column 'urban_12': 2 unique values\n"
     ]
    }
   ],
   "source": [
    "# List of categorical columns to analyze \n",
    "categorical_columns = [\n",
    "    'married_03', 'married_12', 'edu_gru_03', 'edu_gru_12', \n",
    "    'employment_03', 'employment_12', 'urban_03', 'urban_12'\n",
    "]\n",
    "\n",
    "# Function to display the number of unique values in each categorical column\n",
    "def assess_cardinality(df, categorical_columns):\n",
    "    for col in categorical_columns:\n",
    "        if col in df.columns:\n",
    "            unique_values = df[col].nunique()\n",
    "            print(f\"Column '{col}': {unique_values} unique values\")\n",
    "\n",
    "# Assess cardinality for each dataset (update categorical_columns as needed)\n",
    "print(\"\\nData Cardinality in Train Features:\")\n",
    "assess_cardinality(train_features_df, categorical_columns)\n",
    "\n",
    "print(\"\\nData Cardinality in Test Features:\")\n",
    "assess_cardinality(test_features_df, categorical_columns)"
   ]
  },
  {
   "cell_type": "markdown",
   "metadata": {},
   "source": [
    "##### Observations\n",
    "\n",
    "* Marital Status (married_03 and married_12):\n",
    "\n",
    "    - There are 4 unique values in both married_03 and married_12. This indicates that there are four distinct marital status categories in both time points (2003 and 2012), such as \"Single,\" \"Married,\" \"Widowed,\" etc.\n",
    "\n",
    "* Education Level (edu_gru_03 and edu_gru_12):\n",
    "\n",
    "    - There are 5 unique values in edu_gru_03 and edu_gru_12, suggesting five levels of educational attainment recorded in both years. These levels might range from \"No education\" to \"Higher education.\"\n",
    "\n",
    "*   Employment Status (employment_03 and employment_12):\n",
    "\n",
    "    - Both employment_03 and employment_12 have 4 unique values, indicating four employment categories (e.g., \"Unemployed,\" \"Employed,\" \"Retired,\" \"Student\") recorded in each time period.\n",
    "\n",
    "* Urban/Rural Location (urban_03 and urban_12):\n",
    "\n",
    "    - Each urban/rural feature (urban_03 and urban_12) has 2 unique values. This binary categorization likely represents whether the individual lives in an urban area (population 100,000+) or a rural area.\n",
    "\n",
    "* The data shows consistent cardinality across train and test datasets, which suggests similar categorical diversity across the datasets and time periods. This consistency in cardinality is beneficial for model training as it indicates similar feature distributions between the train and test sets, reducing the risk of distributional shifts. These categorical levels can be used for one-hot encoding or other categorical transformations during preprocessing."
   ]
  },
  {
   "cell_type": "markdown",
   "metadata": {},
   "source": [
    "### 3. Data Quality Assessment\n"
   ]
  },
  {
   "cell_type": "markdown",
   "metadata": {},
   "source": [
    "#### 3.1 Identify Missing Values\n",
    "\n",
    "Generating a missing values report, noting columns with missing data and their percentages.\n"
   ]
  },
  {
   "cell_type": "code",
   "execution_count": 18,
   "metadata": {},
   "outputs": [],
   "source": [
    "# Identify Missing Values\n",
    "def missing_values_report(df, df_name):\n",
    "    missing_values = df.isnull().sum()\n",
    "    missing_percentage = (missing_values / len(df)) * 100\n",
    "    missing_report = pd.DataFrame({'Missing Values': missing_values, 'Percentage': missing_percentage})\n",
    "    print(f\"\\nMissing Values Report for {df_name}:\\n\")\n",
    "    print(missing_report[missing_report['Missing Values'] > 0].sort_values(by='Percentage', ascending=False))\n",
    "\n",
    "\n"
   ]
  },
  {
   "cell_type": "code",
   "execution_count": 19,
   "metadata": {},
   "outputs": [
    {
     "name": "stdout",
     "output_type": "stream",
     "text": [
      "\n",
      "Missing Values Report for submission_format_df:\n",
      "\n",
      "Empty DataFrame\n",
      "Columns: [Missing Values, Percentage]\n",
      "Index: []\n",
      "\n",
      "Missing Values Report for test_features_df:\n",
      "\n",
      "               Missing Values  Percentage\n",
      "a16a_12                   813   99.267399\n",
      "a22_12                    809   98.778999\n",
      "a21_12                    808   98.656899\n",
      "a33b_12                   808   98.656899\n",
      "rjlocc_m_03               734   89.621490\n",
      "...                       ...         ...\n",
      "hrt_attack_12              25    3.052503\n",
      "migration_12               25    3.052503\n",
      "married_12                 25    3.052503\n",
      "urban_12                   25    3.052503\n",
      "j11_12                     24    2.930403\n",
      "\n",
      "[182 rows x 2 columns]\n",
      "\n",
      "Missing Values Report for train_features_df:\n",
      "\n",
      "                Missing Values  Percentage\n",
      "a16a_12                   3252   99.267399\n",
      "a22_12                    3240   98.901099\n",
      "a33b_12                   3234   98.717949\n",
      "a21_12                    3234   98.717949\n",
      "rjlocc_m_03               2965   90.506716\n",
      "...                        ...         ...\n",
      "rearnings_12                89    2.716728\n",
      "hosp_12                     89    2.716728\n",
      "pem_def_mar_12              89    2.716728\n",
      "insured_12                  89    2.716728\n",
      "j11_12                      75    2.289377\n",
      "\n",
      "[182 rows x 2 columns]\n",
      "\n",
      "Missing Values Report for train_labels_df:\n",
      "\n",
      "Empty DataFrame\n",
      "Columns: [Missing Values, Percentage]\n",
      "Index: []\n"
     ]
    }
   ],
   "source": [
    "# Generate missing values report for each dataset\n",
    "missing_values_report(submission_format_df, 'submission_format_df')\n",
    "missing_values_report(test_features_df, 'test_features_df')\n",
    "missing_values_report(train_features_df, 'train_features_df')\n",
    "missing_values_report(train_labels_df, 'train_labels_df')"
   ]
  },
  {
   "cell_type": "markdown",
   "metadata": {},
   "source": [
    "#### 3.2 Duplicate Records\n",
    "\n",
    "Check for any duplicate rows by uid and year to ensure unique entries for each individual-year pair.\n"
   ]
  },
  {
   "cell_type": "code",
   "execution_count": 20,
   "metadata": {},
   "outputs": [
    {
     "name": "stdout",
     "output_type": "stream",
     "text": [
      "\n",
      "Duplicate Records in train_features_df based on ['uid']: 0\n",
      "\n",
      "Duplicate Records in test_features_df based on ['uid']: 0\n",
      "\n",
      "Duplicate Records in train_labels_df based on ['uid', 'year']: 0\n",
      "\n",
      "Duplicate Records in submission_format_df based on ['uid', 'year']: 0\n"
     ]
    }
   ],
   "source": [
    "# Check for Duplicate Records\n",
    "def duplicate_records_report(df, unique_cols, df_name):\n",
    "    duplicates = df.duplicated(subset=unique_cols).sum()\n",
    "    print(f\"\\nDuplicate Records in {df_name} based on {unique_cols}:\", duplicates)\n",
    "\n",
    "# Check for duplicates based on 'uid' and 'year' in train and submission data (assuming 'year' is present)\n",
    "duplicate_records_report(train_features_df, ['uid'], 'train_features_df')\n",
    "duplicate_records_report(test_features_df, ['uid'], 'test_features_df')\n",
    "duplicate_records_report(train_labels_df, ['uid', 'year'], 'train_labels_df')\n",
    "duplicate_records_report(submission_format_df, ['uid', 'year'], 'submission_format_df')"
   ]
  },
  {
   "cell_type": "markdown",
   "metadata": {},
   "source": [
    "#### 3.3 Outlier Detection\n",
    "\n",
    "Explore for any outliers in continuous variables (e.g., household income) that may impact model performance.\n"
   ]
  },
  {
   "cell_type": "code",
   "execution_count": 21,
   "metadata": {},
   "outputs": [
    {
     "name": "stdout",
     "output_type": "stream",
     "text": [
      "\n",
      "Outlier Report for train_features_df:\n",
      "                  Outliers  Percentage\n",
      "hincome_12           331.0   10.103785\n",
      "hinc_business_12     339.0   10.347985\n",
      "hinc_rent_12          82.0    2.503053\n",
      "\n",
      "Outlier Report for train_labels_df:\n",
      "                 Outliers  Percentage\n",
      "composite_score       5.0    0.115128\n"
     ]
    }
   ],
   "source": [
    "# Outlier Detection in Continuous Variables\n",
    "def detect_outliers(df, continuous_columns):\n",
    "    outliers_report = {}\n",
    "    for col in continuous_columns:\n",
    "        if col in df.columns:\n",
    "            Q1 = df[col].quantile(0.25)\n",
    "            Q3 = df[col].quantile(0.75)\n",
    "            IQR = Q3 - Q1\n",
    "            lower_bound = Q1 - 1.5 * IQR\n",
    "            upper_bound = Q3 + 1.5 * IQR\n",
    "            outliers = df[(df[col] < lower_bound) | (df[col] > upper_bound)][col]\n",
    "            outliers_report[col] = {'Outliers': len(outliers), 'Percentage': len(outliers) / len(df) * 100}\n",
    "        else:\n",
    "            print(f\"Column '{col}' not found in DataFrame '{df}'\")\n",
    "    return pd.DataFrame(outliers_report).T\n",
    "\n",
    "# Continuous columns to check for outliers (update based on actual columns in your datasets)\n",
    "train_continuous_columns = ['hincome_12', 'hinc_business_12', 'hinc_rent_12']  # Example continuous columns in train_features_df\n",
    "label_continuous_columns = ['composite_score']  # 'composite_score' should be in train_labels_df\n",
    "\n",
    "# Detect outliers in train_features_df and train_labels_df\n",
    "print(\"\\nOutlier Report for train_features_df:\")\n",
    "print(detect_outliers(train_features_df, train_continuous_columns))\n",
    "\n",
    "print(\"\\nOutlier Report for train_labels_df:\")\n",
    "print(detect_outliers(train_labels_df, label_continuous_columns))"
   ]
  },
  {
   "cell_type": "markdown",
   "metadata": {},
   "source": [
    "##### Obervations\n",
    "\n",
    "* Missing Values\n",
    "\n",
    "    - The submission_format_df and train_features_df dataframes have no missing values.\n",
    "    - test_features_df has a substantial amount of missing data in certain columns, with over 99% missing in columns like a16a_12, a22_12, and a21_12. Some columns, such as hrt_attack_12 and migration_12, have relatively lower missing percentages (~3%).\n",
    "\n",
    "* Duplicate Records\n",
    "\n",
    "    - No duplicate records were found in any dataset based on uid (and year where applicable).\n",
    "\n",
    "* Outliers Report\n",
    "\n",
    "    - In train_features_df, columns such as hincome_12, hinc_business_12, and hinc_rent_12 show notable outliers, with around 10% of the records identified as outliers in hincome_12 and hinc_business_12.\n",
    "    - In train_labels_df, the composite_score column has minimal outliers (0.1%), indicating that the majority of the target variable values fall within a typical range.\n",
    "\n",
    "* These observations suggest a need to handle missing data in test_features_df, possibly through imputation or removing certain columns if deemed irrelevant. \n",
    "\n",
    "*   For outliers, decisions on whether to transform, remove, or handle them differently could be based on their impact on model performance."
   ]
  },
  {
   "cell_type": "markdown",
   "metadata": {},
   "source": [
    "### 4. Exploring Relationships in the Data\n"
   ]
  },
  {
   "cell_type": "code",
   "execution_count": 22,
   "metadata": {},
   "outputs": [],
   "source": [
    "# Set visualization style\n",
    "sns.set(style=\"whitegrid\")"
   ]
  },
  {
   "cell_type": "markdown",
   "metadata": {},
   "source": [
    "#### 4.1 Target Variable Exploration\n",
    "\n",
    "Analyze composite_score across the years 2016 and 2021, looking at mean, standard deviation, and range.\n",
    "\n",
    "Plot the distribution of composite_score to check for skewness and variability.\n"
   ]
  },
  {
   "cell_type": "code",
   "execution_count": 23,
   "metadata": {},
   "outputs": [
    {
     "data": {
      "image/png": "[encoded data removed]",
      "text/plain": [
       "<Figure size 1008x432 with 1 Axes>"
      ]
     },
     "metadata": {
      "needs_background": "light"
     },
     "output_type": "display_data"
    }
   ],
   "source": [
    "# Target Variable Exploration: composite_score across years\n",
    "plt.figure(figsize=(14, 6))\n",
    "sns.histplot(train_labels_df[train_labels_df['year'] == 2016]['composite_score'], kde=True, color='blue', label='2016')\n",
    "sns.histplot(train_labels_df[train_labels_df['year'] == 2021]['composite_score'], kde=True, color='red', label='2021')\n",
    "plt.title('Distribution of composite_score for 2016 and 2021')\n",
    "plt.xlabel('Composite Score')\n",
    "plt.ylabel('Frequency')\n",
    "plt.legend()\n",
    "plt.show()"
   ]
  },
  {
   "cell_type": "code",
   "execution_count": 24,
   "metadata": {},
   "outputs": [
    {
     "name": "stdout",
     "output_type": "stream",
     "text": [
      "Composite Score Statistics for 2016:\n",
      " count    1596.000000\n",
      "mean      160.431078\n",
      "std        65.587728\n",
      "min         4.000000\n",
      "25%       114.750000\n",
      "50%       163.000000\n",
      "75%       207.000000\n",
      "max       334.000000\n",
      "Name: composite_score, dtype: float64\n",
      "\n",
      "Composite Score Statistics for 2021:\n",
      " count    2747.000000\n",
      "mean      155.033127\n",
      "std        57.938599\n",
      "min        12.000000\n",
      "25%       114.000000\n",
      "50%       154.000000\n",
      "75%       195.000000\n",
      "max       332.000000\n",
      "Name: composite_score, dtype: float64\n"
     ]
    }
   ],
   "source": [
    "# Summary statistics of composite_score\n",
    "composite_stats_2016 = train_labels_df[train_labels_df['year'] == 2016]['composite_score'].describe()\n",
    "composite_stats_2021 = train_labels_df[train_labels_df['year'] == 2021]['composite_score'].describe()\n",
    "print(\"Composite Score Statistics for 2016:\\n\", composite_stats_2016)\n",
    "print(\"\\nComposite Score Statistics for 2021:\\n\", composite_stats_2021)"
   ]
  },
  {
   "cell_type": "markdown",
   "metadata": {},
   "source": [
    "#### 4.2 Feature-Target Correlations\n",
    "\n",
    "Perform initial correlation analysis between features and composite_score to identify potentially significant predictors.\n"
   ]
  },
  {
   "cell_type": "code",
   "execution_count": 25,
   "metadata": {},
   "outputs": [
    {
     "data": {
      "image/png": "[encoded data removed]",
      "text/plain": [
       "<Figure size 720x576 with 2 Axes>"
      ]
     },
     "metadata": {
      "needs_background": "light"
     },
     "output_type": "display_data"
    }
   ],
   "source": [
    "# Correlation Analysis between Selected Features and Target Variable\n",
    "# Merging train features and labels\n",
    "merged_df = pd.merge(train_features_df, train_labels_df, on='uid')\n",
    "\n",
    "# Select continuous features for correlation (adjust based on your dataset)\n",
    "continuous_features = ['hincome_12', 'hinc_business_12', 'hinc_rent_12']  \n",
    "correlation_matrix = merged_df[continuous_features + ['composite_score']].corr()\n",
    "\n",
    "# Correlation Heatmap\n",
    "plt.figure(figsize=(10, 8))\n",
    "sns.heatmap(correlation_matrix, annot=True, cmap='coolwarm', center=0)\n",
    "plt.title('Correlation Matrix of Continuous Features and Target')\n",
    "plt.show()\n"
   ]
  },
  {
   "cell_type": "markdown",
   "metadata": {},
   "source": [
    "#### 4.3 Cross-Feature Relationships\n",
    "\n",
    "Examine relationships among key features within and between the years (e.g., income vs. education level).\n"
   ]
  },
  {
   "cell_type": "code",
   "execution_count": 26,
   "metadata": {},
   "outputs": [
    {
     "data": {
      "image/png": "[encoded data removed]",
      "text/plain": [
       "<Figure size 720x720 with 20 Axes>"
      ]
     },
     "metadata": {
      "needs_background": "light"
     },
     "output_type": "display_data"
    }
   ],
   "source": [
    "# Cross-Feature Relationships - Scatter plots between income and education level as an example\n",
    "sns.pairplot(merged_df, vars=continuous_features + ['composite_score'])\n",
    "plt.suptitle('Scatter Plot Matrix of Selected Features and Target', y=1.02)\n",
    "plt.show()\n"
   ]
  },
  {
   "cell_type": "markdown",
   "metadata": {},
   "source": [
    "#### 4.4 Skew of Univariate Distributions"
   ]
  },
  {
   "cell_type": "code",
   "execution_count": 27,
   "metadata": {},
   "outputs": [
    {
     "data": {
      "image/png": "[encoded data removed]",
      "text/plain": [
       "<Figure size 864x360 with 2 Axes>"
      ]
     },
     "metadata": {
      "needs_background": "light"
     },
     "output_type": "display_data"
    },
    {
     "data": {
      "image/png": "[encoded data removed]",
      "text/plain": [
       "<Figure size 864x360 with 2 Axes>"
      ]
     },
     "metadata": {
      "needs_background": "light"
     },
     "output_type": "display_data"
    },
    {
     "data": {
      "image/png": "[encoded data removed]",
      "text/plain": [
       "<Figure size 864x360 with 2 Axes>"
      ]
     },
     "metadata": {
      "needs_background": "light"
     },
     "output_type": "display_data"
    }
   ],
   "source": [
    "# Skew of Univariate Distributions - Histograms and Density Plots\n",
    "for col in continuous_features:\n",
    "    plt.figure(figsize=(12, 5))\n",
    "    plt.subplot(1, 2, 1)\n",
    "    sns.histplot(merged_df[col].dropna(), kde=True)\n",
    "    plt.title(f'Histogram and Density Plot of {col}')\n",
    "    \n",
    "    plt.subplot(1, 2, 2)\n",
    "    sns.boxplot(x=merged_df[col].dropna())\n",
    "    plt.title(f'Box Plot of {col}')\n",
    "    \n",
    "    plt.show()\n"
   ]
  },
  {
   "cell_type": "markdown",
   "metadata": {},
   "source": [
    "##### Observations\n",
    "* Distribution of composite_score for 2016 and 2021:\n",
    "\n",
    "    - The composite_score distributions for both 2016 and 2021 appear to follow a similar bell-shaped curve, though there is a noticeable increase in the distribution for 2021.\n",
    "    - Both distributions show a concentration of scores between 100 and 200, indicating this is the most common range for cognitive function scores in the data.\n",
    "    - There is a slight positive skew, suggesting that fewer individuals have high cognitive scores, with most falling in the lower to mid ranges.\n",
    "\n",
    "* Correlation Matrix:\n",
    "\n",
    "    - The correlation matrix highlights a strong positive correlation between hincome_12 (household income), hinc_business_12 (household business income), and hinc_rent_12 (household rental income). This suggests that individuals with high household income tend to have higher income from business and rental sources as well.\n",
    "    - The composite_score has a weak positive correlation with hincome_12, hinc_business_12, and hinc_rent_12, indicating that household income factors are not strong predictors of cognitive scores in this dataset.\n",
    "\n",
    "* Scatter Plot Matrix:\n",
    "\n",
    "    - The scatter plot matrix shows relationships between hincome_12, hinc_business_12, hinc_rent_12, and composite_score.\n",
    "    - The plots show outliers, especially in the income-related features (hincome_12, hinc_business_12, and hinc_rent_12), with a few extremely high values.\n",
    "    - Most data points are clustered around lower income values, with a wide distribution of composite_score values for these individuals.\n",
    "\n",
    "*   Univariate Distribution of Income Features:\n",
    "\n",
    "    - The income features (hincome_12, hinc_business_12, hinc_rent_12) display a high concentration of values close to zero, with a few outliers significantly higher than the main distribution.\n",
    "    - The Box plots reveal extreme values in all three income-related features, suggesting the presence of outliers that may impact model performance.\n",
    "\n",
    "\n",
    "* Target Distribution: The composite_score distributions are positively skewed with a higher frequency of scores in the mid-range (100-200), which may affect model performance if not accounted for.\n",
    "* Income-Related Variables: Although income-related features are correlated with each other, they show little correlation with composite_score, implying limited predictive power for cognitive function scores.\n",
    "* Outliers: The presence of outliers, especially in income-related features, suggests the need for preprocessing steps, such as scaling or removing outliers, to improve model performance.\n"
   ]
  },
  {
   "cell_type": "markdown",
   "metadata": {},
   "source": [
    "### 5. Understand Temporal Components"
   ]
  },
  {
   "cell_type": "markdown",
   "metadata": {},
   "source": [
    "#### 5.1 Longitudinal Patterns\n",
    "Investigate differences between _03 and _12 features for temporal patterns or trends.\n"
   ]
  },
  {
   "cell_type": "code",
   "execution_count": 28,
   "metadata": {},
   "outputs": [
    {
     "data": {
      "image/png": "[encoded data removed]",
      "text/plain": [
       "<Figure size 864x360 with 1 Axes>"
      ]
     },
     "metadata": {
      "needs_background": "light"
     },
     "output_type": "display_data"
    },
    {
     "data": {
      "image/png": "[encoded data removed]",
      "text/plain": [
       "<Figure size 864x360 with 1 Axes>"
      ]
     },
     "metadata": {
      "needs_background": "light"
     },
     "output_type": "display_data"
    },
    {
     "data": {
      "image/png": "[encoded data removed]",
      "text/plain": [
       "<Figure size 864x360 with 1 Axes>"
      ]
     },
     "metadata": {
      "needs_background": "light"
     },
     "output_type": "display_data"
    },
    {
     "data": {
      "image/png": "[encoded data removed]",
      "text/plain": [
       "<Figure size 864x360 with 1 Axes>"
      ]
     },
     "metadata": {
      "needs_background": "light"
     },
     "output_type": "display_data"
    },
    {
     "data": {
      "image/png": "[encoded data removed]",
      "text/plain": [
       "<Figure size 864x360 with 1 Axes>"
      ]
     },
     "metadata": {
      "needs_background": "light"
     },
     "output_type": "display_data"
    },
    {
     "data": {
      "image/png": "[encoded data removed]",
      "text/plain": [
       "<Figure size 864x360 with 1 Axes>"
      ]
     },
     "metadata": {
      "needs_background": "light"
     },
     "output_type": "display_data"
    }
   ],
   "source": [
    "# Define the temporal features\n",
    "temporal_features = ['glob_hlth', 'adl_dress', 'adl_walk', 'adl_bath', 'adl_toilet', 'adl_eat']\n",
    "temporal_03_features = [f\"{feat}_03\" for feat in temporal_features]\n",
    "temporal_12_features = [f\"{feat}_12\" for feat in temporal_features]\n",
    "\n",
    "# Longitudinal Patterns: Plot distributions for each feature in 2003 and 2012\n",
    "for feat_03, feat_12 in zip(temporal_03_features, temporal_12_features):\n",
    "    plt.figure(figsize=(12, 5))\n",
    "    \n",
    "    # Convert columns to numeric, coercing errors to NaN for non-numeric values\n",
    "    train_features_df[feat_03] = pd.to_numeric(train_features_df[feat_03], errors='coerce')\n",
    "    train_features_df[feat_12] = pd.to_numeric(train_features_df[feat_12], errors='coerce')\n",
    "    \n",
    "    # Plot distribution for _03 and _12 features\n",
    "    sns.histplot(train_features_df[feat_03].dropna(), color='blue', kde=True, label=f'{feat_03} (2003)')\n",
    "    sns.histplot(train_features_df[feat_12].dropna(), color='red', kde=True, label=f'{feat_12} (2012)')\n",
    "    \n",
    "    # Plot mean lines\n",
    "    plt.axvline(train_features_df[feat_03].mean(), color='blue', linestyle='--', label=f'Mean {feat_03}')\n",
    "    plt.axvline(train_features_df[feat_12].mean(), color='red', linestyle='--', label=f'Mean {feat_12}')\n",
    "    \n",
    "    plt.title(f\"Longitudinal Patterns: Distribution of {feat_03} and {feat_12}\")\n",
    "    plt.xlabel('Score')\n",
    "    plt.ylabel('Frequency')\n",
    "    plt.legend()\n",
    "    plt.show()"
   ]
  },
  {
   "cell_type": "markdown",
   "metadata": {},
   "source": [
    "#### 5.2 Trend Analysis\n",
    "Compare means or distributions of key indicators like glob_hlth, adl scores (activities of daily living) across timepoints."
   ]
  },
  {
   "cell_type": "code",
   "execution_count": 29,
   "metadata": {},
   "outputs": [
    {
     "data": {
      "image/png": "[encoded data removed]",
      "text/plain": [
       "<Figure size 720x432 with 1 Axes>"
      ]
     },
     "metadata": {
      "needs_background": "light"
     },
     "output_type": "display_data"
    }
   ],
   "source": [
    "#Trend Analysis: Mean Comparison with Data Conversion\n",
    "# Calculate mean values for _03 and _12 features\n",
    "mean_values_03 = train_features_df[temporal_03_features].apply(pd.to_numeric, errors='coerce').mean()\n",
    "mean_values_12 = train_features_df[temporal_12_features].apply(pd.to_numeric, errors='coerce').mean()\n",
    "\n",
    "# Convert mean values to a DataFrame for easier plotting\n",
    "mean_values_df = pd.DataFrame({\n",
    "    'Feature': temporal_features,\n",
    "    'Mean_03': mean_values_03.values,\n",
    "    'Mean_12': mean_values_12.values\n",
    "})\n",
    "\n",
    "# Trend Analysis: Plot mean values for _03 and _12 features\n",
    "plt.figure(figsize=(10, 6))\n",
    "sns.barplot(x='Feature', y='Mean_03', data=mean_values_df, color='blue', label='2003')\n",
    "sns.barplot(x='Feature', y='Mean_12', data=mean_values_df, color='red', label='2012', alpha=0.6)\n",
    "plt.title(\"Trend Analysis: Mean Comparison of Key Indicators Between 2003 and 2012\")\n",
    "plt.ylabel(\"Mean Value\")\n",
    "plt.legend(title=\"Year\")\n",
    "plt.xticks(rotation=45)\n",
    "plt.show()\n"
   ]
  },
  {
   "cell_type": "code",
   "execution_count": 30,
   "metadata": {},
   "outputs": [
    {
     "ename": "UnboundLocalError",
     "evalue": "local variable 'boxprops' referenced before assignment",
     "output_type": "error",
     "traceback": [
      "\u001b[1;31m---------------------------------------------------------------------------\u001b[0m",
      "\u001b[1;31mUnboundLocalError\u001b[0m                         Traceback (most recent call last)",
      "\u001b[1;32m<ipython-input-30-e6a6a5c09a2c>\u001b[0m in \u001b[0;36m<module>\u001b[1;34m\u001b[0m\n\u001b[0;32m      9\u001b[0m \u001b[1;33m\u001b[0m\u001b[0m\n\u001b[0;32m     10\u001b[0m     \u001b[1;31m# Box plots for _03 and _12 to compare distributions over time\u001b[0m\u001b[1;33m\u001b[0m\u001b[1;33m\u001b[0m\u001b[1;33m\u001b[0m\u001b[0m\n\u001b[1;32m---> 11\u001b[1;33m     \u001b[0msns\u001b[0m\u001b[1;33m.\u001b[0m\u001b[0mboxplot\u001b[0m\u001b[1;33m(\u001b[0m\u001b[0mdata\u001b[0m\u001b[1;33m=\u001b[0m\u001b[0mtrain_features_df\u001b[0m\u001b[1;33m[\u001b[0m\u001b[1;33m[\u001b[0m\u001b[1;34mf\"{feature}_03\"\u001b[0m\u001b[1;33m,\u001b[0m \u001b[1;34mf\"{feature}_12\"\u001b[0m\u001b[1;33m]\u001b[0m\u001b[1;33m]\u001b[0m\u001b[1;33m,\u001b[0m \u001b[0mpalette\u001b[0m\u001b[1;33m=\u001b[0m\u001b[1;34m\"Set2\"\u001b[0m\u001b[1;33m)\u001b[0m\u001b[1;33m\u001b[0m\u001b[1;33m\u001b[0m\u001b[0m\n\u001b[0m\u001b[0;32m     12\u001b[0m     \u001b[0mplt\u001b[0m\u001b[1;33m.\u001b[0m\u001b[0mtitle\u001b[0m\u001b[1;33m(\u001b[0m\u001b[1;34mf\"Trend Analysis: Box Plot Comparison for {feature} in 2003 vs 2012\"\u001b[0m\u001b[1;33m)\u001b[0m\u001b[1;33m\u001b[0m\u001b[1;33m\u001b[0m\u001b[0m\n\u001b[0;32m     13\u001b[0m     \u001b[0mplt\u001b[0m\u001b[1;33m.\u001b[0m\u001b[0mylabel\u001b[0m\u001b[1;33m(\u001b[0m\u001b[0mfeature\u001b[0m\u001b[1;33m)\u001b[0m\u001b[1;33m\u001b[0m\u001b[1;33m\u001b[0m\u001b[0m\n",
      "\u001b[1;32mc:\\Users\\hp\\anaconda\\envs\\learn-env\\lib\\site-packages\\seaborn\\categorical.py\u001b[0m in \u001b[0;36mboxplot\u001b[1;34m(data, x, y, hue, order, hue_order, orient, color, palette, saturation, fill, dodge, width, gap, whis, linecolor, linewidth, fliersize, hue_norm, native_scale, log_scale, formatter, legend, ax, **kwargs)\u001b[0m\n\u001b[0;32m   1632\u001b[0m     \u001b[0mlinecolor\u001b[0m \u001b[1;33m=\u001b[0m \u001b[0mp\u001b[0m\u001b[1;33m.\u001b[0m\u001b[0m_complement_color\u001b[0m\u001b[1;33m(\u001b[0m\u001b[0mlinecolor\u001b[0m\u001b[1;33m,\u001b[0m \u001b[0mcolor\u001b[0m\u001b[1;33m,\u001b[0m \u001b[0mp\u001b[0m\u001b[1;33m.\u001b[0m\u001b[0m_hue_map\u001b[0m\u001b[1;33m)\u001b[0m\u001b[1;33m\u001b[0m\u001b[1;33m\u001b[0m\u001b[0m\n\u001b[0;32m   1633\u001b[0m \u001b[1;33m\u001b[0m\u001b[0m\n\u001b[1;32m-> 1634\u001b[1;33m     p.plot_boxes(\n\u001b[0m\u001b[0;32m   1635\u001b[0m         \u001b[0mwidth\u001b[0m\u001b[1;33m=\u001b[0m\u001b[0mwidth\u001b[0m\u001b[1;33m,\u001b[0m\u001b[1;33m\u001b[0m\u001b[1;33m\u001b[0m\u001b[0m\n\u001b[0;32m   1636\u001b[0m         \u001b[0mdodge\u001b[0m\u001b[1;33m=\u001b[0m\u001b[0mdodge\u001b[0m\u001b[1;33m,\u001b[0m\u001b[1;33m\u001b[0m\u001b[1;33m\u001b[0m\u001b[0m\n",
      "\u001b[1;32mc:\\Users\\hp\\anaconda\\envs\\learn-env\\lib\\site-packages\\seaborn\\categorical.py\u001b[0m in \u001b[0;36mplot_boxes\u001b[1;34m(self, width, dodge, gap, fill, whis, color, linecolor, linewidth, fliersize, plot_kws)\u001b[0m\n\u001b[0;32m    743\u001b[0m \u001b[1;33m\u001b[0m\u001b[0m\n\u001b[0;32m    744\u001b[0m         \u001b[0mlegend_artist\u001b[0m \u001b[1;33m=\u001b[0m \u001b[0m_get_patch_legend_artist\u001b[0m\u001b[1;33m(\u001b[0m\u001b[0mfill\u001b[0m\u001b[1;33m)\u001b[0m\u001b[1;33m\u001b[0m\u001b[1;33m\u001b[0m\u001b[0m\n\u001b[1;32m--> 745\u001b[1;33m         \u001b[0mself\u001b[0m\u001b[1;33m.\u001b[0m\u001b[0m_configure_legend\u001b[0m\u001b[1;33m(\u001b[0m\u001b[0max\u001b[0m\u001b[1;33m,\u001b[0m \u001b[0mlegend_artist\u001b[0m\u001b[1;33m,\u001b[0m \u001b[0mboxprops\u001b[0m\u001b[1;33m)\u001b[0m\u001b[1;33m\u001b[0m\u001b[1;33m\u001b[0m\u001b[0m\n\u001b[0m\u001b[0;32m    746\u001b[0m \u001b[1;33m\u001b[0m\u001b[0m\n\u001b[0;32m    747\u001b[0m     def plot_boxens(\n",
      "\u001b[1;31mUnboundLocalError\u001b[0m: local variable 'boxprops' referenced before assignment"
     ]
    },
    {
     "data": {
      "image/png": "[encoded data removed]",
      "text/plain": [
       "<Figure size 720x360 with 1 Axes>"
      ]
     },
     "metadata": {
      "needs_background": "light"
     },
     "output_type": "display_data"
    }
   ],
   "source": [
    "#Trend Analysis: Box Plot Comparison with Data Conversion\n",
    "# Trend Analysis: Box plots for each feature in 2003 and 2012\n",
    "for feature in temporal_features:\n",
    "    plt.figure(figsize=(10, 5))\n",
    "    \n",
    "    # Convert columns to numeric for each feature\n",
    "    train_features_df[f\"{feature}_03\"] = pd.to_numeric(train_features_df[f\"{feature}_03\"], errors='coerce')\n",
    "    train_features_df[f\"{feature}_12\"] = pd.to_numeric(train_features_df[f\"{feature}_12\"], errors='coerce')\n",
    "    \n",
    "    # Box plots for _03 and _12 to compare distributions over time\n",
    "    sns.boxplot(data=train_features_df[[f\"{feature}_03\", f\"{feature}_12\"]], palette=\"Set2\")\n",
    "    plt.title(f\"Trend Analysis: Box Plot Comparison for {feature} in 2003 vs 2012\")\n",
    "    plt.ylabel(feature)\n",
    "    plt.xticks([0, 1], [f\"{feature}_03 (2003)\", f\"{feature}_12 (2012)\"])\n",
    "    plt.show()\n"
   ]
  },
  {
   "cell_type": "code",
   "execution_count": null,
   "metadata": {},
   "outputs": [
    {
     "ename": "UnboundLocalError",
     "evalue": "local variable 'boxprops' referenced before assignment",
     "output_type": "error",
     "traceback": [
      "\u001b[1;31m---------------------------------------------------------------------------\u001b[0m",
      "\u001b[1;31mUnboundLocalError\u001b[0m                         Traceback (most recent call last)",
      "\u001b[1;32m<ipython-input-32-ef686a10a225>\u001b[0m in \u001b[0;36m<module>\u001b[1;34m\u001b[0m\n\u001b[0;32m     17\u001b[0m \u001b[1;33m\u001b[0m\u001b[0m\n\u001b[0;32m     18\u001b[0m     \u001b[1;31m# Box plot to compare distributions over time\u001b[0m\u001b[1;33m\u001b[0m\u001b[1;33m\u001b[0m\u001b[1;33m\u001b[0m\u001b[0m\n\u001b[1;32m---> 19\u001b[1;33m     \u001b[0msns\u001b[0m\u001b[1;33m.\u001b[0m\u001b[0mboxplot\u001b[0m\u001b[1;33m(\u001b[0m\u001b[0mx\u001b[0m\u001b[1;33m=\u001b[0m\u001b[1;34m\"Year\"\u001b[0m\u001b[1;33m,\u001b[0m \u001b[0my\u001b[0m\u001b[1;33m=\u001b[0m\u001b[0mfeature\u001b[0m\u001b[1;33m,\u001b[0m \u001b[0mdata\u001b[0m\u001b[1;33m=\u001b[0m\u001b[0mfeature_data\u001b[0m\u001b[1;33m,\u001b[0m \u001b[0mpalette\u001b[0m\u001b[1;33m=\u001b[0m\u001b[1;34m\"Set2\"\u001b[0m\u001b[1;33m,\u001b[0m \u001b[0mboxprops\u001b[0m\u001b[1;33m=\u001b[0m\u001b[0mdict\u001b[0m\u001b[1;33m(\u001b[0m\u001b[0medgecolor\u001b[0m\u001b[1;33m=\u001b[0m\u001b[1;34m\"black\"\u001b[0m\u001b[1;33m)\u001b[0m\u001b[1;33m)\u001b[0m\u001b[1;33m\u001b[0m\u001b[1;33m\u001b[0m\u001b[0m\n\u001b[0m\u001b[0;32m     20\u001b[0m     \u001b[0mplt\u001b[0m\u001b[1;33m.\u001b[0m\u001b[0mtitle\u001b[0m\u001b[1;33m(\u001b[0m\u001b[1;34mf\"Trend Analysis: Box Plot Comparison for {feature} in 2003 vs 2012\"\u001b[0m\u001b[1;33m)\u001b[0m\u001b[1;33m\u001b[0m\u001b[1;33m\u001b[0m\u001b[0m\n\u001b[0;32m     21\u001b[0m     \u001b[0mplt\u001b[0m\u001b[1;33m.\u001b[0m\u001b[0mylabel\u001b[0m\u001b[1;33m(\u001b[0m\u001b[0mfeature\u001b[0m\u001b[1;33m)\u001b[0m\u001b[1;33m\u001b[0m\u001b[1;33m\u001b[0m\u001b[0m\n",
      "\u001b[1;32mc:\\Users\\hp\\anaconda\\envs\\learn-env\\lib\\site-packages\\seaborn\\categorical.py\u001b[0m in \u001b[0;36mboxplot\u001b[1;34m(data, x, y, hue, order, hue_order, orient, color, palette, saturation, fill, dodge, width, gap, whis, linecolor, linewidth, fliersize, hue_norm, native_scale, log_scale, formatter, legend, ax, **kwargs)\u001b[0m\n\u001b[0;32m   1632\u001b[0m     \u001b[0mlinecolor\u001b[0m \u001b[1;33m=\u001b[0m \u001b[0mp\u001b[0m\u001b[1;33m.\u001b[0m\u001b[0m_complement_color\u001b[0m\u001b[1;33m(\u001b[0m\u001b[0mlinecolor\u001b[0m\u001b[1;33m,\u001b[0m \u001b[0mcolor\u001b[0m\u001b[1;33m,\u001b[0m \u001b[0mp\u001b[0m\u001b[1;33m.\u001b[0m\u001b[0m_hue_map\u001b[0m\u001b[1;33m)\u001b[0m\u001b[1;33m\u001b[0m\u001b[1;33m\u001b[0m\u001b[0m\n\u001b[0;32m   1633\u001b[0m \u001b[1;33m\u001b[0m\u001b[0m\n\u001b[1;32m-> 1634\u001b[1;33m     p.plot_boxes(\n\u001b[0m\u001b[0;32m   1635\u001b[0m         \u001b[0mwidth\u001b[0m\u001b[1;33m=\u001b[0m\u001b[0mwidth\u001b[0m\u001b[1;33m,\u001b[0m\u001b[1;33m\u001b[0m\u001b[1;33m\u001b[0m\u001b[0m\n\u001b[0;32m   1636\u001b[0m         \u001b[0mdodge\u001b[0m\u001b[1;33m=\u001b[0m\u001b[0mdodge\u001b[0m\u001b[1;33m,\u001b[0m\u001b[1;33m\u001b[0m\u001b[1;33m\u001b[0m\u001b[0m\n",
      "\u001b[1;32mc:\\Users\\hp\\anaconda\\envs\\learn-env\\lib\\site-packages\\seaborn\\categorical.py\u001b[0m in \u001b[0;36mplot_boxes\u001b[1;34m(self, width, dodge, gap, fill, whis, color, linecolor, linewidth, fliersize, plot_kws)\u001b[0m\n\u001b[0;32m    743\u001b[0m \u001b[1;33m\u001b[0m\u001b[0m\n\u001b[0;32m    744\u001b[0m         \u001b[0mlegend_artist\u001b[0m \u001b[1;33m=\u001b[0m \u001b[0m_get_patch_legend_artist\u001b[0m\u001b[1;33m(\u001b[0m\u001b[0mfill\u001b[0m\u001b[1;33m)\u001b[0m\u001b[1;33m\u001b[0m\u001b[1;33m\u001b[0m\u001b[0m\n\u001b[1;32m--> 745\u001b[1;33m         \u001b[0mself\u001b[0m\u001b[1;33m.\u001b[0m\u001b[0m_configure_legend\u001b[0m\u001b[1;33m(\u001b[0m\u001b[0max\u001b[0m\u001b[1;33m,\u001b[0m \u001b[0mlegend_artist\u001b[0m\u001b[1;33m,\u001b[0m \u001b[0mboxprops\u001b[0m\u001b[1;33m)\u001b[0m\u001b[1;33m\u001b[0m\u001b[1;33m\u001b[0m\u001b[0m\n\u001b[0m\u001b[0;32m    746\u001b[0m \u001b[1;33m\u001b[0m\u001b[0m\n\u001b[0;32m    747\u001b[0m     def plot_boxens(\n",
      "\u001b[1;31mUnboundLocalError\u001b[0m: local variable 'boxprops' referenced before assignment"
     ]
    },
    {
     "data": {
      "image/png": "[encoded data removed]",
      "text/plain": [
       "<Figure size 720x360 with 1 Axes>"
      ]
     },
     "metadata": {
      "needs_background": "light"
     },
     "output_type": "display_data"
    }
   ],
   "source": [
    "# Trend Analysis: Box Plot Comparison with Data Conversion\n",
    "# Trend Analysis: Box plots for each feature in 2003 and 2012\n",
    "\n",
    "for feature in temporal_features:\n",
    "    plt.figure(figsize=(10, 5))\n",
    "    \n",
    "    # Convert columns to numeric for each feature\n",
    "    train_features_df[f\"{feature}_03\"] = pd.to_numeric(train_features_df[f\"{feature}_03\"], errors='coerce')\n",
    "    train_features_df[f\"{feature}_12\"] = pd.to_numeric(train_features_df[f\"{feature}_12\"], errors='coerce')\n",
    "    \n",
    "    # Reshape the data for Seaborn's boxplot\n",
    "    feature_data = train_features_df[[f\"{feature}_03\", f\"{feature}_12\"]].melt(\n",
    "        var_name=\"Year\", \n",
    "        value_name=feature\n",
    "    )\n",
    "    feature_data['Year'] = feature_data['Year'].map({f\"{feature}_03\": \"2003\", f\"{feature}_12\": \"2012\"})\n",
    "    \n",
    "    # Box plot to compare distributions over time\n",
    "    sns.boxplot(x=\"Year\", y=feature, data=feature_data, palette=\"Set2\", boxprops=dict(edgecolor=\"black\"))\n",
    "    plt.title(f\"Trend Analysis: Box Plot Comparison for {feature} in 2003 vs 2012\")\n",
    "    plt.ylabel(feature)\n",
    "    plt.show()\n"
   ]
  },
  {
   "cell_type": "markdown",
   "metadata": {},
   "source": [
    "#### "
   ]
  },
  {
   "cell_type": "markdown",
   "metadata": {},
   "source": [
    "##### Observations\n",
    "* Longitudinal Patterns\n",
    "    - Health and Activity Levels: Across the key adl (Activities of Daily Living) scores for 2003 and 2012, the distributions indicate very low values with some minor right skew. This suggests that a large portion of the participants had low activity limitations in both years.\n",
    "    - Global Health (glob_hlth): There is limited variance in global health scores across the years 2003 and 2012. The distributions are centered around low scores, indicating a high concentration of individuals reporting fewer health issues, though mean values slightly change across time points.\n",
    "    - Subtle Shifts Over Time: For certain variables like adl_dress, adl_walk, adl_toilet, and adl_eat, there is a slight increase in mean scores from 2003 to 2012. This could reflect aging effects, where individuals report slightly more difficulties in performing daily activities as time progresses.\n",
    "\n",
    "* Trend Analysis\n",
    "    - Mean Comparisons: In the bar chart comparing mean values of key indicators, there is a notable rise in values for indicators like adl_dress and adl_walk over time, suggesting an increase in activity limitations from 2003 to 2012.\n",
    "    - Box Plots for Year Comparisons: The box plots for each indicator (e.g., adl_dress, adl_walk) show a similar trend with minor shifts in the distributions. These visualizations provide further evidence of subtle increases in limitations over time, which align with expected aging-related declines.\n",
    "\n",
    "* Derived Insights\n",
    "    - Feature Engineering: Given the changes observed, it may be useful to engineer new features capturing the differences between 2003 and 2012 for each indicator. This could enhance predictive power by highlighting temporal changes.\n",
    "    - Further Analysis: Additional statistical tests could be conducted to confirm if these temporal shifts are statistically significant. This would help verify if the observed changes are meaningful for modeling purposes."
   ]
  },
  {
   "cell_type": "markdown",
   "metadata": {},
   "source": [
    "### 6. Examining Data for Bias and Diversity"
   ]
  },
  {
   "cell_type": "markdown",
   "metadata": {},
   "source": [
    "#### 6.1 Demographic Distribution:\n",
    "Examine distribution across age, gender, education, and urban/rural locality to ensure representative diversity.\n",
    "\n"
   ]
  },
  {
   "cell_type": "code",
   "execution_count": 31,
   "metadata": {},
   "outputs": [
    {
     "data": {
      "image/png": "[encoded data removed]",
      "text/plain": [
       "<Figure size 720x360 with 1 Axes>"
      ]
     },
     "metadata": {
      "needs_background": "light"
     },
     "output_type": "display_data"
    },
    {
     "data": {
      "image/png": "[encoded data removed]",
      "text/plain": [
       "<Figure size 720x360 with 1 Axes>"
      ]
     },
     "metadata": {
      "needs_background": "light"
     },
     "output_type": "display_data"
    },
    {
     "data": {
      "image/png": "[encoded data removed]",
      "text/plain": [
       "<Figure size 720x360 with 1 Axes>"
      ]
     },
     "metadata": {
      "needs_background": "light"
     },
     "output_type": "display_data"
    },
    {
     "data": {
      "image/png": "[encoded data removed]",
      "text/plain": [
       "<Figure size 720x360 with 1 Axes>"
      ]
     },
     "metadata": {
      "needs_background": "light"
     },
     "output_type": "display_data"
    },
    {
     "data": {
      "image/png": "[encoded data removed]",
      "text/plain": [
       "<Figure size 720x360 with 1 Axes>"
      ]
     },
     "metadata": {
      "needs_background": "light"
     },
     "output_type": "display_data"
    },
    {
     "data": {
      "image/png": "[encoded data removed]",
      "text/plain": [
       "<Figure size 720x360 with 1 Axes>"
      ]
     },
     "metadata": {
      "needs_background": "light"
     },
     "output_type": "display_data"
    }
   ],
   "source": [
    "def plot_demographic_distribution(df, column, title):\n",
    "    plt.figure(figsize=(10, 5))\n",
    "    sns.countplot(data=df, x=column, palette=\"viridis\")\n",
    "    plt.title(title)\n",
    "    plt.xlabel(column)\n",
    "    plt.ylabel(\"Count\")\n",
    "    plt.xticks(rotation=45)\n",
    "    plt.show()\n",
    "\n",
    "# Plot distributions for key demographic attributes\n",
    "plot_demographic_distribution(train_features_df, 'age_03', \"Age Distribution in 2003\")\n",
    "plot_demographic_distribution(train_features_df, 'edu_gru_03', \"Education Level Distribution in 2003\")\n",
    "plot_demographic_distribution(train_features_df, 'urban_03', \"Urban/Rural Distribution in 2003\")\n",
    "\n",
    "plot_demographic_distribution(train_features_df, 'age_12', \"Age Distribution in 2012\")\n",
    "plot_demographic_distribution(train_features_df, 'edu_gru_12', \"Education Level Distribution in 2012\")\n",
    "plot_demographic_distribution(train_features_df, 'urban_12', \"Urban/Rural Distribution in 2012\")"
   ]
  },
  {
   "cell_type": "markdown",
   "metadata": {},
   "source": [
    "#### 6.2 Potential Bias in Features\n",
    "Consider initial indications of possible biases (e.g., socioeconomic disparities) that could impact model fairness."
   ]
  },
  {
   "cell_type": "code",
   "execution_count": 32,
   "metadata": {},
   "outputs": [
    {
     "data": {
      "image/png": "[encoded data removed]",
      "text/plain": [
       "<Figure size 720x360 with 1 Axes>"
      ]
     },
     "metadata": {
      "needs_background": "light"
     },
     "output_type": "display_data"
    },
    {
     "data": {
      "image/png": "[encoded data removed]",
      "text/plain": [
       "<Figure size 720x360 with 1 Axes>"
      ]
     },
     "metadata": {
      "needs_background": "light"
     },
     "output_type": "display_data"
    },
    {
     "data": {
      "image/png": "[encoded data removed]",
      "text/plain": [
       "<Figure size 720x360 with 1 Axes>"
      ]
     },
     "metadata": {
      "needs_background": "light"
     },
     "output_type": "display_data"
    }
   ],
   "source": [
    "def plot_income_distribution(df, column, title):\n",
    "    plt.figure(figsize=(10, 5))\n",
    "    sns.histplot(df[column].dropna(), bins=30, kde=True, color='skyblue')\n",
    "    plt.title(title)\n",
    "    plt.xlabel(column)\n",
    "    plt.ylabel(\"Frequency\")\n",
    "    plt.show()\n",
    "\n",
    "# Plot income distributions to assess socioeconomic diversity\n",
    "plot_income_distribution(train_features_df, 'hincome_12', \"Household Income Distribution in 2012\")\n",
    "plot_income_distribution(train_features_df, 'hinc_business_12', \"Business Income Distribution in 2012\")\n",
    "plot_income_distribution(train_features_df, 'hinc_rent_12', \"Rental Income Distribution in 2012\")\n"
   ]
  },
  {
   "cell_type": "markdown",
   "metadata": {},
   "source": [
    "#### 6.3 Handling Underrepresented Groups\n",
    "Identify any underrepresented groups that might need special attention for fair and balanced prediction results.\n"
   ]
  },
  {
   "cell_type": "code",
   "execution_count": 33,
   "metadata": {},
   "outputs": [
    {
     "name": "stdout",
     "output_type": "stream",
     "text": [
      "Underrepresented Groups Report:\n",
      "age_03: ['3. 70–79', '0. 49 or younger', '4. 80+']\n",
      "edu_gru_03: ['2. 6 years', '3. 7–9 years', '4. 10+ years']\n",
      "urban_03: ['0. <100,000']\n",
      "age_12: ['4. 80+', '0. 49 or younger']\n",
      "edu_gru_12: ['0. No education', '3. 7–9 years', '4. 10+ years']\n",
      "urban_12: ['0. <100,000']\n"
     ]
    }
   ],
   "source": [
    "def underrepresented_group_report(df, columns):\n",
    "    underrepresented_report = {}\n",
    "    for col in columns:\n",
    "        counts = df[col].value_counts()\n",
    "        underrepresented_report[col] = counts[counts < counts.mean()].index.tolist()\n",
    "    return underrepresented_report\n",
    "\n",
    "# Define the demographic columns to check\n",
    "demographic_columns = ['age_03', 'edu_gru_03', 'urban_03', 'age_12', 'edu_gru_12', 'urban_12']\n",
    "\n",
    "# Get report on underrepresented groups\n",
    "underrepresented_groups = underrepresented_group_report(train_features_df, demographic_columns)\n",
    "print(\"Underrepresented Groups Report:\")\n",
    "for col, groups in underrepresented_groups.items():\n",
    "    print(f\"{col}: {groups}\")\n"
   ]
  },
  {
   "cell_type": "markdown",
   "metadata": {},
   "source": [
    "##### Observations\n",
    "**Demographic Distribution**\n",
    "\n",
    "* Age\n",
    "    - In 2003, most individuals were in the age group of 50–59, followed by 60–69. Very few individuals were aged 80+ or 49 or younger.\n",
    "    - By 2012, the distribution shifted slightly, with the 60–69 group being the largest, while the 80+ and 49 or younger groups remained underrepresented.\n",
    "\n",
    "* Education\n",
    "    - In both 2003 and 2012, a significant portion of the population fell into the \"1–5 years\" education category, with \"6 years\" and \"no education\" also prevalent. Higher education levels (10+ years) were underrepresented in both years.\n",
    "\n",
    "* Urban/Rural\n",
    "    - In 2003, the majority lived in urban areas (100,000+ population), with rural areas (<100,000) being underrepresented.\n",
    "    - This trend slightly reversed in 2012, with the urban-rural distribution becoming more balanced, though urban areas remained somewhat dominant.\n",
    "\n",
    "**Potential Bias in Features**\n",
    "\n",
    "* Socioeconomic Factors\n",
    "    - Income distributions (household, business, and rental) for 2012 show a highly skewed distribution, with most values concentrated at lower income levels and a few very high outliers. This skew could indicate socioeconomic disparities, where the majority have limited income, and a few individuals or families have significantly higher income levels.\n",
    "\n",
    "* Urban vs. Rural Distribution:\n",
    "    - The imbalance between urban and rural areas in both years could suggest a potential bias favoring urban populations. This may affect the model's generalization to rural populations if not adequately addressed.\n",
    "\n",
    "**Handling Underrepresented Groups**\n",
    "\n",
    "*    Age Groups\n",
    "    - Certain age groups (49 or younger, 70–79, and 80+) are consistently underrepresented. This could lead to a model that may not perform as well for younger or older individuals.\n",
    "\n",
    "* Education Levels\n",
    "Higher education levels (10+ years) and some middle education levels (6–9 years) are also underrepresented, which may affect the model’s accuracy across different education backgrounds.\n",
    "\n",
    "* Rural Populations \n",
    "The rural (<100,000 population) demographic is underrepresented, especially in 2003. Special attention may be needed to ensure the model doesn’t bias predictions toward urban characteristics.\n",
    "\n",
    "\n",
    "The distribution shows that most individuals are middle-aged, have low to moderate levels of education, and predominantly reside in urban areas.\n",
    "\n",
    "Income data is highly skewed, indicating significant income inequality, which could introduce bias if not handled appropriately. \n",
    "\n",
    "There is a need to consider strategies like resampling or applying weights to address the potential underrepresentation of certain groups, especially for age, rural populations, and education levels, to enhance model fairness and ensure equitable predictions across different demographics."
   ]
  },
  {
   "cell_type": "markdown",
   "metadata": {},
   "source": [
    "### Conclusion - Data Understanding\n",
    "\n",
    "**Data Completeness and Quality**\n",
    "\n",
    "- While the train and submission data are mostly complete, the test features data contains a considerable amount of missing values, particularly in certain attributes (e.g., a16a_12, a22_12). \n",
    "- This will require specific handling strategies such as imputation or exclusion of high-missing-value columns.\n",
    "\n",
    "**Feature Diversity and Cardinality**\n",
    "- The data contains a variety of features, including demographic, socioeconomic, and health-related attributes. \n",
    "- Many categorical features exhibit consistent cardinality across years (e.g., marital status, education level), which suggests stable data categories that are suitable for encoding.\n",
    "\n",
    "**Outliers** \n",
    "- Income-related variables show significant outliers, which could impact model performance. These outliers will need careful treatment, potentially through transformation, removal, or scaling.\n",
    "\n",
    "**Temporal Analysis** \n",
    "-   Longitudinal changes are observed in health and socioeconomic indicators between 2003 and 2012, which might be relevant for trend-based feature engineering and temporal pattern analysis.\n",
    "\n",
    "**Bias and Representation** \n",
    "- Certain demographics, such as age groups (49 or younger, 80+), rural populations, and specific education levels, are underrepresented. \n",
    "- This may introduce bias, especially if the model does not account for these distributions."
   ]
  },
  {
   "cell_type": "markdown",
   "metadata": {},
   "source": [
    "## Data Preprocessing"
   ]
  },
  {
   "cell_type": "code",
   "execution_count": 34,
   "metadata": {},
   "outputs": [
    {
     "data": {
      "text/html": [
       "<div>\n",
       "<style scoped>\n",
       "    .dataframe tbody tr th:only-of-type {\n",
       "        vertical-align: middle;\n",
       "    }\n",
       "\n",
       "    .dataframe tbody tr th {\n",
       "        vertical-align: top;\n",
       "    }\n",
       "\n",
       "    .dataframe thead th {\n",
       "        text-align: right;\n",
       "    }\n",
       "</style>\n",
       "<table border=\"1\" class=\"dataframe\">\n",
       "  <thead>\n",
       "    <tr style=\"text-align: right;\">\n",
       "      <th></th>\n",
       "      <th>uid</th>\n",
       "      <th>age_03</th>\n",
       "      <th>urban_03</th>\n",
       "      <th>married_03</th>\n",
       "      <th>n_mar_03</th>\n",
       "      <th>edu_gru_03</th>\n",
       "      <th>n_living_child_03</th>\n",
       "      <th>migration_03</th>\n",
       "      <th>glob_hlth_03</th>\n",
       "      <th>adl_dress_03</th>\n",
       "      <th>...</th>\n",
       "      <th>rrelgimp_12</th>\n",
       "      <th>rrfcntx_m_12</th>\n",
       "      <th>rsocact_m_12</th>\n",
       "      <th>rrelgwk_12</th>\n",
       "      <th>a16a_12</th>\n",
       "      <th>a21_12</th>\n",
       "      <th>a22_12</th>\n",
       "      <th>a33b_12</th>\n",
       "      <th>a34_12</th>\n",
       "      <th>j11_12</th>\n",
       "    </tr>\n",
       "  </thead>\n",
       "  <tbody>\n",
       "    <tr>\n",
       "      <th>0</th>\n",
       "      <td>aace</td>\n",
       "      <td>NaN</td>\n",
       "      <td>NaN</td>\n",
       "      <td>NaN</td>\n",
       "      <td>NaN</td>\n",
       "      <td>NaN</td>\n",
       "      <td>NaN</td>\n",
       "      <td>NaN</td>\n",
       "      <td>NaN</td>\n",
       "      <td>NaN</td>\n",
       "      <td>...</td>\n",
       "      <td>2.somewhat important</td>\n",
       "      <td>9.Never</td>\n",
       "      <td>9.Never</td>\n",
       "      <td>0.No</td>\n",
       "      <td>NaN</td>\n",
       "      <td>NaN</td>\n",
       "      <td>NaN</td>\n",
       "      <td>NaN</td>\n",
       "      <td>NaN</td>\n",
       "      <td>Concrete 2</td>\n",
       "    </tr>\n",
       "    <tr>\n",
       "      <th>1</th>\n",
       "      <td>aanz</td>\n",
       "      <td>NaN</td>\n",
       "      <td>NaN</td>\n",
       "      <td>NaN</td>\n",
       "      <td>NaN</td>\n",
       "      <td>NaN</td>\n",
       "      <td>NaN</td>\n",
       "      <td>NaN</td>\n",
       "      <td>NaN</td>\n",
       "      <td>NaN</td>\n",
       "      <td>...</td>\n",
       "      <td>1.very important</td>\n",
       "      <td>9.Never</td>\n",
       "      <td>1.Almost every day</td>\n",
       "      <td>0.No</td>\n",
       "      <td>NaN</td>\n",
       "      <td>NaN</td>\n",
       "      <td>NaN</td>\n",
       "      <td>NaN</td>\n",
       "      <td>NaN</td>\n",
       "      <td>Concrete 2</td>\n",
       "    </tr>\n",
       "    <tr>\n",
       "      <th>2</th>\n",
       "      <td>aape</td>\n",
       "      <td>NaN</td>\n",
       "      <td>NaN</td>\n",
       "      <td>NaN</td>\n",
       "      <td>NaN</td>\n",
       "      <td>NaN</td>\n",
       "      <td>NaN</td>\n",
       "      <td>NaN</td>\n",
       "      <td>NaN</td>\n",
       "      <td>NaN</td>\n",
       "      <td>...</td>\n",
       "      <td>2.somewhat important</td>\n",
       "      <td>6.2 or 3 times a month</td>\n",
       "      <td>2.4 or more times a week</td>\n",
       "      <td>0.No</td>\n",
       "      <td>NaN</td>\n",
       "      <td>NaN</td>\n",
       "      <td>NaN</td>\n",
       "      <td>NaN</td>\n",
       "      <td>NaN</td>\n",
       "      <td>Wood, mosaic, or other covering 1</td>\n",
       "    </tr>\n",
       "    <tr>\n",
       "      <th>3</th>\n",
       "      <td>aard</td>\n",
       "      <td>1. 50–59</td>\n",
       "      <td>1. 100,000+</td>\n",
       "      <td>3. Widowed</td>\n",
       "      <td>1.0</td>\n",
       "      <td>3. 7–9 years</td>\n",
       "      <td>1. 1 or 2</td>\n",
       "      <td>0.0</td>\n",
       "      <td>NaN</td>\n",
       "      <td>0.0</td>\n",
       "      <td>...</td>\n",
       "      <td>1.very important</td>\n",
       "      <td>4.Once a week</td>\n",
       "      <td>9.Never</td>\n",
       "      <td>1.Yes</td>\n",
       "      <td>NaN</td>\n",
       "      <td>NaN</td>\n",
       "      <td>NaN</td>\n",
       "      <td>NaN</td>\n",
       "      <td>No 2</td>\n",
       "      <td>Concrete 2</td>\n",
       "    </tr>\n",
       "    <tr>\n",
       "      <th>4</th>\n",
       "      <td>ablr</td>\n",
       "      <td>NaN</td>\n",
       "      <td>NaN</td>\n",
       "      <td>NaN</td>\n",
       "      <td>NaN</td>\n",
       "      <td>NaN</td>\n",
       "      <td>NaN</td>\n",
       "      <td>NaN</td>\n",
       "      <td>NaN</td>\n",
       "      <td>NaN</td>\n",
       "      <td>...</td>\n",
       "      <td>1.very important</td>\n",
       "      <td>3.2 or 3 times a week</td>\n",
       "      <td>3.2 or 3 times a week</td>\n",
       "      <td>0.No</td>\n",
       "      <td>NaN</td>\n",
       "      <td>NaN</td>\n",
       "      <td>NaN</td>\n",
       "      <td>NaN</td>\n",
       "      <td>NaN</td>\n",
       "      <td>Wood, mosaic, or other covering 1</td>\n",
       "    </tr>\n",
       "  </tbody>\n",
       "</table>\n",
       "<p>5 rows × 184 columns</p>\n",
       "</div>"
      ],
      "text/plain": [
       "    uid    age_03     urban_03  married_03  n_mar_03    edu_gru_03  \\\n",
       "0  aace       NaN          NaN         NaN       NaN           NaN   \n",
       "1  aanz       NaN          NaN         NaN       NaN           NaN   \n",
       "2  aape       NaN          NaN         NaN       NaN           NaN   \n",
       "3  aard  1. 50–59  1. 100,000+  3. Widowed       1.0  3. 7–9 years   \n",
       "4  ablr       NaN          NaN         NaN       NaN           NaN   \n",
       "\n",
       "  n_living_child_03  migration_03  glob_hlth_03  adl_dress_03  ...  \\\n",
       "0               NaN           NaN           NaN           NaN  ...   \n",
       "1               NaN           NaN           NaN           NaN  ...   \n",
       "2               NaN           NaN           NaN           NaN  ...   \n",
       "3         1. 1 or 2           0.0           NaN           0.0  ...   \n",
       "4               NaN           NaN           NaN           NaN  ...   \n",
       "\n",
       "            rrelgimp_12            rrfcntx_m_12              rsocact_m_12  \\\n",
       "0  2.somewhat important                 9.Never                   9.Never   \n",
       "1      1.very important                 9.Never        1.Almost every day   \n",
       "2  2.somewhat important  6.2 or 3 times a month  2.4 or more times a week   \n",
       "3      1.very important           4.Once a week                   9.Never   \n",
       "4      1.very important   3.2 or 3 times a week     3.2 or 3 times a week   \n",
       "\n",
       "   rrelgwk_12  a16a_12  a21_12  a22_12  a33b_12  a34_12  \\\n",
       "0        0.No      NaN     NaN     NaN      NaN     NaN   \n",
       "1        0.No      NaN     NaN     NaN      NaN     NaN   \n",
       "2        0.No      NaN     NaN     NaN      NaN     NaN   \n",
       "3       1.Yes      NaN     NaN     NaN      NaN    No 2   \n",
       "4        0.No      NaN     NaN     NaN      NaN     NaN   \n",
       "\n",
       "                              j11_12  \n",
       "0                         Concrete 2  \n",
       "1                         Concrete 2  \n",
       "2  Wood, mosaic, or other covering 1  \n",
       "3                         Concrete 2  \n",
       "4  Wood, mosaic, or other covering 1  \n",
       "\n",
       "[5 rows x 184 columns]"
      ]
     },
     "execution_count": 34,
     "metadata": {},
     "output_type": "execute_result"
    }
   ],
   "source": [
    "train_features_df.head()"
   ]
  },
  {
   "cell_type": "code",
   "execution_count": 35,
   "metadata": {},
   "outputs": [
    {
     "data": {
      "text/html": [
       "<div>\n",
       "<style scoped>\n",
       "    .dataframe tbody tr th:only-of-type {\n",
       "        vertical-align: middle;\n",
       "    }\n",
       "\n",
       "    .dataframe tbody tr th {\n",
       "        vertical-align: top;\n",
       "    }\n",
       "\n",
       "    .dataframe thead th {\n",
       "        text-align: right;\n",
       "    }\n",
       "</style>\n",
       "<table border=\"1\" class=\"dataframe\">\n",
       "  <thead>\n",
       "    <tr style=\"text-align: right;\">\n",
       "      <th></th>\n",
       "      <th>uid</th>\n",
       "      <th>year</th>\n",
       "      <th>composite_score</th>\n",
       "    </tr>\n",
       "  </thead>\n",
       "  <tbody>\n",
       "    <tr>\n",
       "      <th>0</th>\n",
       "      <td>aace</td>\n",
       "      <td>2021</td>\n",
       "      <td>175</td>\n",
       "    </tr>\n",
       "    <tr>\n",
       "      <th>1</th>\n",
       "      <td>aanz</td>\n",
       "      <td>2021</td>\n",
       "      <td>206</td>\n",
       "    </tr>\n",
       "    <tr>\n",
       "      <th>2</th>\n",
       "      <td>aape</td>\n",
       "      <td>2016</td>\n",
       "      <td>161</td>\n",
       "    </tr>\n",
       "    <tr>\n",
       "      <th>3</th>\n",
       "      <td>aape</td>\n",
       "      <td>2021</td>\n",
       "      <td>144</td>\n",
       "    </tr>\n",
       "    <tr>\n",
       "      <th>4</th>\n",
       "      <td>aard</td>\n",
       "      <td>2021</td>\n",
       "      <td>104</td>\n",
       "    </tr>\n",
       "  </tbody>\n",
       "</table>\n",
       "</div>"
      ],
      "text/plain": [
       "    uid  year  composite_score\n",
       "0  aace  2021              175\n",
       "1  aanz  2021              206\n",
       "2  aape  2016              161\n",
       "3  aape  2021              144\n",
       "4  aard  2021              104"
      ]
     },
     "execution_count": 35,
     "metadata": {},
     "output_type": "execute_result"
    }
   ],
   "source": [
    "train_labels_df.head()"
   ]
  },
  {
   "cell_type": "markdown",
   "metadata": {},
   "source": [
    "We will merge the train features and train labels on 'uid' column."
   ]
  },
  {
   "cell_type": "code",
   "execution_count": 36,
   "metadata": {},
   "outputs": [
    {
     "name": "stdout",
     "output_type": "stream",
     "text": [
      "(4343, 186)\n"
     ]
    },
    {
     "data": {
      "text/html": [
       "<div>\n",
       "<style scoped>\n",
       "    .dataframe tbody tr th:only-of-type {\n",
       "        vertical-align: middle;\n",
       "    }\n",
       "\n",
       "    .dataframe tbody tr th {\n",
       "        vertical-align: top;\n",
       "    }\n",
       "\n",
       "    .dataframe thead th {\n",
       "        text-align: right;\n",
       "    }\n",
       "</style>\n",
       "<table border=\"1\" class=\"dataframe\">\n",
       "  <thead>\n",
       "    <tr style=\"text-align: right;\">\n",
       "      <th></th>\n",
       "      <th>uid</th>\n",
       "      <th>year</th>\n",
       "      <th>composite_score</th>\n",
       "      <th>age_03</th>\n",
       "      <th>urban_03</th>\n",
       "      <th>married_03</th>\n",
       "      <th>n_mar_03</th>\n",
       "      <th>edu_gru_03</th>\n",
       "      <th>n_living_child_03</th>\n",
       "      <th>migration_03</th>\n",
       "      <th>...</th>\n",
       "      <th>rrelgimp_12</th>\n",
       "      <th>rrfcntx_m_12</th>\n",
       "      <th>rsocact_m_12</th>\n",
       "      <th>rrelgwk_12</th>\n",
       "      <th>a16a_12</th>\n",
       "      <th>a21_12</th>\n",
       "      <th>a22_12</th>\n",
       "      <th>a33b_12</th>\n",
       "      <th>a34_12</th>\n",
       "      <th>j11_12</th>\n",
       "    </tr>\n",
       "  </thead>\n",
       "  <tbody>\n",
       "    <tr>\n",
       "      <th>0</th>\n",
       "      <td>aace</td>\n",
       "      <td>2021</td>\n",
       "      <td>175</td>\n",
       "      <td>NaN</td>\n",
       "      <td>NaN</td>\n",
       "      <td>NaN</td>\n",
       "      <td>NaN</td>\n",
       "      <td>NaN</td>\n",
       "      <td>NaN</td>\n",
       "      <td>NaN</td>\n",
       "      <td>...</td>\n",
       "      <td>2.somewhat important</td>\n",
       "      <td>9.Never</td>\n",
       "      <td>9.Never</td>\n",
       "      <td>0.No</td>\n",
       "      <td>NaN</td>\n",
       "      <td>NaN</td>\n",
       "      <td>NaN</td>\n",
       "      <td>NaN</td>\n",
       "      <td>NaN</td>\n",
       "      <td>Concrete 2</td>\n",
       "    </tr>\n",
       "    <tr>\n",
       "      <th>1</th>\n",
       "      <td>aanz</td>\n",
       "      <td>2021</td>\n",
       "      <td>206</td>\n",
       "      <td>NaN</td>\n",
       "      <td>NaN</td>\n",
       "      <td>NaN</td>\n",
       "      <td>NaN</td>\n",
       "      <td>NaN</td>\n",
       "      <td>NaN</td>\n",
       "      <td>NaN</td>\n",
       "      <td>...</td>\n",
       "      <td>1.very important</td>\n",
       "      <td>9.Never</td>\n",
       "      <td>1.Almost every day</td>\n",
       "      <td>0.No</td>\n",
       "      <td>NaN</td>\n",
       "      <td>NaN</td>\n",
       "      <td>NaN</td>\n",
       "      <td>NaN</td>\n",
       "      <td>NaN</td>\n",
       "      <td>Concrete 2</td>\n",
       "    </tr>\n",
       "    <tr>\n",
       "      <th>2</th>\n",
       "      <td>aape</td>\n",
       "      <td>2016</td>\n",
       "      <td>161</td>\n",
       "      <td>NaN</td>\n",
       "      <td>NaN</td>\n",
       "      <td>NaN</td>\n",
       "      <td>NaN</td>\n",
       "      <td>NaN</td>\n",
       "      <td>NaN</td>\n",
       "      <td>NaN</td>\n",
       "      <td>...</td>\n",
       "      <td>2.somewhat important</td>\n",
       "      <td>6.2 or 3 times a month</td>\n",
       "      <td>2.4 or more times a week</td>\n",
       "      <td>0.No</td>\n",
       "      <td>NaN</td>\n",
       "      <td>NaN</td>\n",
       "      <td>NaN</td>\n",
       "      <td>NaN</td>\n",
       "      <td>NaN</td>\n",
       "      <td>Wood, mosaic, or other covering 1</td>\n",
       "    </tr>\n",
       "    <tr>\n",
       "      <th>3</th>\n",
       "      <td>aape</td>\n",
       "      <td>2021</td>\n",
       "      <td>144</td>\n",
       "      <td>NaN</td>\n",
       "      <td>NaN</td>\n",
       "      <td>NaN</td>\n",
       "      <td>NaN</td>\n",
       "      <td>NaN</td>\n",
       "      <td>NaN</td>\n",
       "      <td>NaN</td>\n",
       "      <td>...</td>\n",
       "      <td>2.somewhat important</td>\n",
       "      <td>6.2 or 3 times a month</td>\n",
       "      <td>2.4 or more times a week</td>\n",
       "      <td>0.No</td>\n",
       "      <td>NaN</td>\n",
       "      <td>NaN</td>\n",
       "      <td>NaN</td>\n",
       "      <td>NaN</td>\n",
       "      <td>NaN</td>\n",
       "      <td>Wood, mosaic, or other covering 1</td>\n",
       "    </tr>\n",
       "    <tr>\n",
       "      <th>4</th>\n",
       "      <td>aard</td>\n",
       "      <td>2021</td>\n",
       "      <td>104</td>\n",
       "      <td>1. 50–59</td>\n",
       "      <td>1. 100,000+</td>\n",
       "      <td>3. Widowed</td>\n",
       "      <td>1.0</td>\n",
       "      <td>3. 7–9 years</td>\n",
       "      <td>1. 1 or 2</td>\n",
       "      <td>0.0</td>\n",
       "      <td>...</td>\n",
       "      <td>1.very important</td>\n",
       "      <td>4.Once a week</td>\n",
       "      <td>9.Never</td>\n",
       "      <td>1.Yes</td>\n",
       "      <td>NaN</td>\n",
       "      <td>NaN</td>\n",
       "      <td>NaN</td>\n",
       "      <td>NaN</td>\n",
       "      <td>No 2</td>\n",
       "      <td>Concrete 2</td>\n",
       "    </tr>\n",
       "  </tbody>\n",
       "</table>\n",
       "<p>5 rows × 186 columns</p>\n",
       "</div>"
      ],
      "text/plain": [
       "    uid  year  composite_score    age_03     urban_03  married_03  n_mar_03  \\\n",
       "0  aace  2021              175       NaN          NaN         NaN       NaN   \n",
       "1  aanz  2021              206       NaN          NaN         NaN       NaN   \n",
       "2  aape  2016              161       NaN          NaN         NaN       NaN   \n",
       "3  aape  2021              144       NaN          NaN         NaN       NaN   \n",
       "4  aard  2021              104  1. 50–59  1. 100,000+  3. Widowed       1.0   \n",
       "\n",
       "     edu_gru_03 n_living_child_03  migration_03  ...           rrelgimp_12  \\\n",
       "0           NaN               NaN           NaN  ...  2.somewhat important   \n",
       "1           NaN               NaN           NaN  ...      1.very important   \n",
       "2           NaN               NaN           NaN  ...  2.somewhat important   \n",
       "3           NaN               NaN           NaN  ...  2.somewhat important   \n",
       "4  3. 7–9 years         1. 1 or 2           0.0  ...      1.very important   \n",
       "\n",
       "             rrfcntx_m_12              rsocact_m_12  rrelgwk_12  a16a_12  \\\n",
       "0                 9.Never                   9.Never        0.No      NaN   \n",
       "1                 9.Never        1.Almost every day        0.No      NaN   \n",
       "2  6.2 or 3 times a month  2.4 or more times a week        0.No      NaN   \n",
       "3  6.2 or 3 times a month  2.4 or more times a week        0.No      NaN   \n",
       "4           4.Once a week                   9.Never       1.Yes      NaN   \n",
       "\n",
       "   a21_12  a22_12  a33b_12  a34_12                             j11_12  \n",
       "0     NaN     NaN      NaN     NaN                         Concrete 2  \n",
       "1     NaN     NaN      NaN     NaN                         Concrete 2  \n",
       "2     NaN     NaN      NaN     NaN  Wood, mosaic, or other covering 1  \n",
       "3     NaN     NaN      NaN     NaN  Wood, mosaic, or other covering 1  \n",
       "4     NaN     NaN      NaN    No 2                         Concrete 2  \n",
       "\n",
       "[5 rows x 186 columns]"
      ]
     },
     "execution_count": 36,
     "metadata": {},
     "output_type": "execute_result"
    }
   ],
   "source": [
    "#merging the train features train label datasets\n",
    "df = pd.merge(train_labels_df, train_features_df, on='uid', how='left')\n",
    "print(df.shape)\n",
    "df.head()"
   ]
  },
  {
   "cell_type": "markdown",
   "metadata": {},
   "source": [
    "The dataset now has 186 columns and 4343 rows."
   ]
  },
  {
   "cell_type": "markdown",
   "metadata": {},
   "source": [
    "##### Creating a mapping for all categorical variables"
   ]
  },
  {
   "cell_type": "code",
   "execution_count": 37,
   "metadata": {},
   "outputs": [],
   "source": [
    "# Define mappings for each categorical column\n",
    "mappings = {\n",
    "    'age_03': {\n",
    "        '1. 50–59': 1,\n",
    "        '3. 70–79': 3,\n",
    "        '2. 60–69': 2,\n",
    "        '0. 49 or younger': 0,\n",
    "        '4. 80+': 4\n",
    "    },\n",
    "    'urban_03': {\n",
    "        '1. 100,000+': 1,\n",
    "        '0. <100,000': 0\n",
    "    },\n",
    "    'married_03': {\n",
    "        '3. Widowed': 3,\n",
    "        '1. Married or in civil union': 1,\n",
    "        '4. Single': 4,\n",
    "        '2. Separated or divorced': 2\n",
    "    },\n",
    "    'edu_gru_03': {\n",
    "        '3. 7–9 years': 3,\n",
    "        '1. 1–5 years': 1,\n",
    "        '0. No education': 0,\n",
    "        '2. 6 years': 2,\n",
    "        '4. 10+ years': 4\n",
    "    },\n",
    "    'n_living_child_03': {\n",
    "        '1. 1 or 2': 1,\n",
    "        '3. 5 or 6': 3,\n",
    "        '0. No children': 0,\n",
    "        '2. 3 or 4': 2,\n",
    "        '4. 7+': 4\n",
    "    },\n",
    "    'glob_hlth_03': {\n",
    "        '4. Fair': 4,\n",
    "        '5. Poor': 5,\n",
    "        '3. Good': 3,\n",
    "        '1. Excellent': 1,\n",
    "        '2. Very good': 2\n",
    "    },\n",
    "    'employment_03': {\n",
    "        '3. Dedicated to household chores': 3,\n",
    "        '1. Currently Working': 1,\n",
    "        '2. Currently looking for work': 2,\n",
    "        '4. Retired, incapacitated, or does not work': 4\n",
    "    },\n",
    "    'age_12': {\n",
    "        '2. 60–69': 2,\n",
    "        '1. 50–59': 1,\n",
    "        '4. 80+': 4,\n",
    "        '3. 70–79': 3,\n",
    "        '0. 49 or younger': 0\n",
    "    },\n",
    "    'urban_12': {\n",
    "        '0. <100,000': 0,\n",
    "        '1. 100,000+': 1\n",
    "    },\n",
    "    'married_12': {\n",
    "        '1. Married or in civil union': 1,\n",
    "        '3. Widowed': 3,\n",
    "        '2. Separated or divorced': 2,\n",
    "        '4. Single': 4\n",
    "    },\n",
    "    'edu_gru_12': {\n",
    "        '0. No education': 0,\n",
    "        '3. 7–9 years': 3,\n",
    "        '1. 1–5 years': 1,\n",
    "        '2. 6 years': 2,\n",
    "        '4. 10+ years': 4\n",
    "    },\n",
    "    'n_living_child_12': {\n",
    "        '1. 1 or 2': 1,\n",
    "        '3. 5 or 6': 3,\n",
    "        '0. No children': 0,\n",
    "        '2. 3 or 4': 2,\n",
    "        '4. 7+': 4\n",
    "    },\n",
    "    'glob_hlth_12': {\n",
    "        '4. Fair': 4,\n",
    "        '3. Good': 3,\n",
    "        '2. Very good': 2,\n",
    "        '5. Poor': 5,\n",
    "        '1. Excellent': 1\n",
    "    },\n",
    "    'bmi_12': {\n",
    "        '3. Overweight': 3,\n",
    "        '4. Obese': 4,\n",
    "        '2. Normal weight': 2,\n",
    "        '1. Underweight': 1,\n",
    "        '5. Morbidly obese': 5\n",
    "    },\n",
    "    'decis_famil_12': {\n",
    "        '2. Approximately equal weight': 2,\n",
    "        '3. Spouse': 3,\n",
    "        '1. Respondent': 1\n",
    "    },\n",
    "    'decis_personal_12': {\n",
    "        '1. A lot': 1,\n",
    "        '2. A little': 2,\n",
    "        '3. None': 3\n",
    "    },\n",
    "    'employment_12': {\n",
    "        '1. Currently Working': 1,\n",
    "        '2. Currently looking for work': 2,\n",
    "        '3. Dedicated to household chores': 3,\n",
    "        '4. Retired, incapacitated, or does not work': 4\n",
    "    },\n",
    "    'satis_ideal_12': {\n",
    "        '3. Disagrees': 3,\n",
    "        '1. Agrees': 1,\n",
    "        '2. Neither agrees nor disagrees': 2\n",
    "    },\n",
    "    'satis_excel_12': {\n",
    "        '3. Disagrees': 3,\n",
    "        '2. Neither agrees nor disagrees': 2,\n",
    "        '1. Agrees': 1\n",
    "    },\n",
    "    'satis_fine_12': {\n",
    "        '1. Agrees': 1,\n",
    "        '3. Disagrees': 3,\n",
    "        '2. Neither agrees nor disagrees': 2\n",
    "    },\n",
    "    'cosas_imp_12': {\n",
    "        '1. Agrees': 1,\n",
    "        '2. Neither agrees nor disagrees': 2,\n",
    "        '3. Disagrees': 3\n",
    "    },\n",
    "    'wouldnt_change_12': {\n",
    "        '3. Disagrees': 3,\n",
    "        '1. Agrees': 1,\n",
    "        '2. Neither agrees nor disagrees': 2\n",
    "    },\n",
    "    'memory_12': {\n",
    "        '2. Very good': 2,\n",
    "        '4. Fair': 4,\n",
    "        '3. Good': 3,\n",
    "        '5. Poor': 5,\n",
    "        '1. Excellent': 1\n",
    "    },\n",
    "    'ragender': {\n",
    "        '1.Man': 1,\n",
    "        '2.Woman': 2\n",
    "    },\n",
    "    'rameduc_m': {\n",
    "        '1.None': 1,\n",
    "        '2.Some primary': 2,\n",
    "        '3.Primary': 3,\n",
    "        '4.More than primary': 4\n",
    "    },\n",
    "    'rafeduc_m': {\n",
    "        '1.None': 1,\n",
    "        '2.Some primary': 2,\n",
    "        '4.More than primary': 4,\n",
    "        '3.Primary': 3\n",
    "    },\n",
    "    'sgender_03': {\n",
    "        '2.Woman': 2,\n",
    "        '1.Man': 1\n",
    "    },\n",
    "    'rrelgimp_03': {\n",
    "        '1.very important': 1,\n",
    "        '2.somewhat important': 2,\n",
    "        '3.not important': 3\n",
    "    },\n",
    "    'sgender_12': {\n",
    "        '2.Woman': 2,\n",
    "        '1.Man': 1\n",
    "    },\n",
    "    'rjlocc_m_12': {\n",
    "        '6.Workers in Agriculture, Livestock, Forestry, and Fishing': 6,\n",
    "        '18.Safety and Security Personnel': 18,\n",
    "        '8.Artisans and Workers in Production, Repair, Maintenance': 8,\n",
    "        '14.Merchants and Sales Representatives': 14,\n",
    "        '17.Domestic Workers': 17,\n",
    "        '9.Operators of Fixed Machinery and Equipment for Ind. Production': 9,\n",
    "        '15.Traveling Salespeople and Traveling Salespeople of Services': 15,\n",
    "        '16.Workers in the Service Industry': 16,\n",
    "        '4.Workers in Art, Shows, and Sports': 4,\n",
    "        '3.Educators': 3,\n",
    "        '12.Department Heads/Coordinators/Supervisors in Admin and Service Activities': 12,\n",
    "        '10.Asst/Laborers etc in Ind. Production, Repair, Maintenance': 10,\n",
    "        '1.Professionals': 1,\n",
    "        '13.Administrative Support Staff': 13,\n",
    "        '11.Drivers and Asst Drivers of Mobile Machinery and Transport Vehicles': 11,\n",
    "        '7.Bosses/Supervisors etc in Artistic, Ind. Production, Repair, Maintenance Activities': 7,\n",
    "        '2.Technicians': 2,\n",
    "        '5.Officials and Directors Public, Private, and Social Sectors': 5\n",
    "    },\n",
    "    'rrelgimp_12': {\n",
    "        '2.somewhat important': 2,\n",
    "        '1.very important': 1,\n",
    "        '3.not important': 3\n",
    "    },\n",
    "    'rrfcntx_m_12': {\n",
    "        '9.Never': 9,\n",
    "        '6.2 or 3 times a month': 6,\n",
    "        '4.Once a week': 4,\n",
    "        '3.2 or 3 times a week': 3,\n",
    "        '8.Almost Never, sporadic': 8,\n",
    "        '1.Almost every day': 1,\n",
    "        '2.4 or more times a week': 2,\n",
    "        '7.Once a month': 7,\n",
    "        '5.4 or more times a month': 5\n",
    "    },\n",
    "    'rsocact_m_12': {\n",
    "        '9.Never': 9,\n",
    "        '1.Almost every day': 1,\n",
    "        '2.4 or more times a week': 2,\n",
    "        '3.2 or 3 times a week': 3,\n",
    "        '4.Once a week': 4,\n",
    "        '8.Almost Never, sporadic': 8,\n",
    "        '5.2 or 3 times a month': 5,\n",
    "        '6.Once a month': 6,\n",
    "        '7.4 or more times a month': 7\n",
    "    },\n",
    "    'rrelgwk_12': {\n",
    "        '0.No': 0,\n",
    "        '1.Yes': 1\n",
    "    },\n",
    "    'a34_12': {\n",
    "        'No 2': 0,\n",
    "        'Yes 1': 1\n",
    "    },\n",
    "    'j11_12': {\n",
    "        'Wood, mosaic, or other covering 1': 1,\n",
    "        'Concrete 2': 2,\n",
    "        'Mud 3': 3\n",
    "    }\n",
    "    }\n"
   ]
  },
  {
   "cell_type": "code",
   "execution_count": 38,
   "metadata": {},
   "outputs": [
    {
     "data": {
      "text/html": [
       "<div>\n",
       "<style scoped>\n",
       "    .dataframe tbody tr th:only-of-type {\n",
       "        vertical-align: middle;\n",
       "    }\n",
       "\n",
       "    .dataframe tbody tr th {\n",
       "        vertical-align: top;\n",
       "    }\n",
       "\n",
       "    .dataframe thead th {\n",
       "        text-align: right;\n",
       "    }\n",
       "</style>\n",
       "<table border=\"1\" class=\"dataframe\">\n",
       "  <thead>\n",
       "    <tr style=\"text-align: right;\">\n",
       "      <th></th>\n",
       "      <th>uid</th>\n",
       "      <th>year</th>\n",
       "      <th>composite_score</th>\n",
       "      <th>age_03</th>\n",
       "      <th>urban_03</th>\n",
       "      <th>married_03</th>\n",
       "      <th>n_mar_03</th>\n",
       "      <th>edu_gru_03</th>\n",
       "      <th>n_living_child_03</th>\n",
       "      <th>migration_03</th>\n",
       "      <th>...</th>\n",
       "      <th>rrelgimp_12</th>\n",
       "      <th>rrfcntx_m_12</th>\n",
       "      <th>rsocact_m_12</th>\n",
       "      <th>rrelgwk_12</th>\n",
       "      <th>a16a_12</th>\n",
       "      <th>a21_12</th>\n",
       "      <th>a22_12</th>\n",
       "      <th>a33b_12</th>\n",
       "      <th>a34_12</th>\n",
       "      <th>j11_12</th>\n",
       "    </tr>\n",
       "  </thead>\n",
       "  <tbody>\n",
       "    <tr>\n",
       "      <th>0</th>\n",
       "      <td>aace</td>\n",
       "      <td>2021</td>\n",
       "      <td>175</td>\n",
       "      <td>NaN</td>\n",
       "      <td>NaN</td>\n",
       "      <td>NaN</td>\n",
       "      <td>NaN</td>\n",
       "      <td>NaN</td>\n",
       "      <td>NaN</td>\n",
       "      <td>NaN</td>\n",
       "      <td>...</td>\n",
       "      <td>2.0</td>\n",
       "      <td>9.0</td>\n",
       "      <td>9.0</td>\n",
       "      <td>0.0</td>\n",
       "      <td>NaN</td>\n",
       "      <td>NaN</td>\n",
       "      <td>NaN</td>\n",
       "      <td>NaN</td>\n",
       "      <td>NaN</td>\n",
       "      <td>2.0</td>\n",
       "    </tr>\n",
       "    <tr>\n",
       "      <th>1</th>\n",
       "      <td>aanz</td>\n",
       "      <td>2021</td>\n",
       "      <td>206</td>\n",
       "      <td>NaN</td>\n",
       "      <td>NaN</td>\n",
       "      <td>NaN</td>\n",
       "      <td>NaN</td>\n",
       "      <td>NaN</td>\n",
       "      <td>NaN</td>\n",
       "      <td>NaN</td>\n",
       "      <td>...</td>\n",
       "      <td>1.0</td>\n",
       "      <td>9.0</td>\n",
       "      <td>1.0</td>\n",
       "      <td>0.0</td>\n",
       "      <td>NaN</td>\n",
       "      <td>NaN</td>\n",
       "      <td>NaN</td>\n",
       "      <td>NaN</td>\n",
       "      <td>NaN</td>\n",
       "      <td>2.0</td>\n",
       "    </tr>\n",
       "    <tr>\n",
       "      <th>2</th>\n",
       "      <td>aape</td>\n",
       "      <td>2016</td>\n",
       "      <td>161</td>\n",
       "      <td>NaN</td>\n",
       "      <td>NaN</td>\n",
       "      <td>NaN</td>\n",
       "      <td>NaN</td>\n",
       "      <td>NaN</td>\n",
       "      <td>NaN</td>\n",
       "      <td>NaN</td>\n",
       "      <td>...</td>\n",
       "      <td>2.0</td>\n",
       "      <td>6.0</td>\n",
       "      <td>2.0</td>\n",
       "      <td>0.0</td>\n",
       "      <td>NaN</td>\n",
       "      <td>NaN</td>\n",
       "      <td>NaN</td>\n",
       "      <td>NaN</td>\n",
       "      <td>NaN</td>\n",
       "      <td>1.0</td>\n",
       "    </tr>\n",
       "    <tr>\n",
       "      <th>3</th>\n",
       "      <td>aape</td>\n",
       "      <td>2021</td>\n",
       "      <td>144</td>\n",
       "      <td>NaN</td>\n",
       "      <td>NaN</td>\n",
       "      <td>NaN</td>\n",
       "      <td>NaN</td>\n",
       "      <td>NaN</td>\n",
       "      <td>NaN</td>\n",
       "      <td>NaN</td>\n",
       "      <td>...</td>\n",
       "      <td>2.0</td>\n",
       "      <td>6.0</td>\n",
       "      <td>2.0</td>\n",
       "      <td>0.0</td>\n",
       "      <td>NaN</td>\n",
       "      <td>NaN</td>\n",
       "      <td>NaN</td>\n",
       "      <td>NaN</td>\n",
       "      <td>NaN</td>\n",
       "      <td>1.0</td>\n",
       "    </tr>\n",
       "    <tr>\n",
       "      <th>4</th>\n",
       "      <td>aard</td>\n",
       "      <td>2021</td>\n",
       "      <td>104</td>\n",
       "      <td>1.0</td>\n",
       "      <td>1.0</td>\n",
       "      <td>3.0</td>\n",
       "      <td>1.0</td>\n",
       "      <td>3.0</td>\n",
       "      <td>1.0</td>\n",
       "      <td>0.0</td>\n",
       "      <td>...</td>\n",
       "      <td>1.0</td>\n",
       "      <td>4.0</td>\n",
       "      <td>9.0</td>\n",
       "      <td>1.0</td>\n",
       "      <td>NaN</td>\n",
       "      <td>NaN</td>\n",
       "      <td>NaN</td>\n",
       "      <td>NaN</td>\n",
       "      <td>0.0</td>\n",
       "      <td>2.0</td>\n",
       "    </tr>\n",
       "  </tbody>\n",
       "</table>\n",
       "<p>5 rows × 186 columns</p>\n",
       "</div>"
      ],
      "text/plain": [
       "    uid  year  composite_score  age_03  urban_03  married_03  n_mar_03  \\\n",
       "0  aace  2021              175     NaN       NaN         NaN       NaN   \n",
       "1  aanz  2021              206     NaN       NaN         NaN       NaN   \n",
       "2  aape  2016              161     NaN       NaN         NaN       NaN   \n",
       "3  aape  2021              144     NaN       NaN         NaN       NaN   \n",
       "4  aard  2021              104     1.0       1.0         3.0       1.0   \n",
       "\n",
       "   edu_gru_03  n_living_child_03  migration_03  ...  rrelgimp_12  \\\n",
       "0         NaN                NaN           NaN  ...          2.0   \n",
       "1         NaN                NaN           NaN  ...          1.0   \n",
       "2         NaN                NaN           NaN  ...          2.0   \n",
       "3         NaN                NaN           NaN  ...          2.0   \n",
       "4         3.0                1.0           0.0  ...          1.0   \n",
       "\n",
       "   rrfcntx_m_12  rsocact_m_12  rrelgwk_12  a16a_12  a21_12  a22_12  a33b_12  \\\n",
       "0           9.0           9.0         0.0      NaN     NaN     NaN      NaN   \n",
       "1           9.0           1.0         0.0      NaN     NaN     NaN      NaN   \n",
       "2           6.0           2.0         0.0      NaN     NaN     NaN      NaN   \n",
       "3           6.0           2.0         0.0      NaN     NaN     NaN      NaN   \n",
       "4           4.0           9.0         1.0      NaN     NaN     NaN      NaN   \n",
       "\n",
       "   a34_12  j11_12  \n",
       "0     NaN     2.0  \n",
       "1     NaN     2.0  \n",
       "2     NaN     1.0  \n",
       "3     NaN     1.0  \n",
       "4     0.0     2.0  \n",
       "\n",
       "[5 rows x 186 columns]"
      ]
     },
     "execution_count": 38,
     "metadata": {},
     "output_type": "execute_result"
    }
   ],
   "source": [
    "#applying the mappings to the columns \n",
    "for column, mapping in mappings.items():\n",
    "    df[column] = df[column].map(mapping)\n",
    "\n",
    "df.head()"
   ]
  },
  {
   "cell_type": "markdown",
   "metadata": {},
   "source": [
    "**DATA TRANSFORMATION**"
   ]
  },
  {
   "cell_type": "code",
   "execution_count": 39,
   "metadata": {},
   "outputs": [],
   "source": [
    "#defining a function to convert data from wide to long\n",
    "def reshape_long_format(df, id_vars, year_suffixes=['03', '12']):\n",
    "    \n",
    "    # Identifying columns to reshape based on the specified year suffixes\n",
    "    stubnames = list(set(\n",
    "        col.rsplit('_', 1)[0] for col in df.columns if any(col.endswith(suffix) for suffix in year_suffixes)\n",
    "    ))\n",
    "\n",
    "    # Reshaping the DataFrame using pd.wide_to_long\n",
    "    data_long = pd.wide_to_long(\n",
    "        df,\n",
    "        stubnames=stubnames,\n",
    "        i=['uid', 'year', 'composite_score'],\n",
    "        j='time', \n",
    "        sep='_',\n",
    "        suffix='\\\\d+'\n",
    "    ).reset_index()\n",
    "    \n",
    "    return data_long\n"
   ]
  },
  {
   "cell_type": "code",
   "execution_count": 40,
   "metadata": {},
   "outputs": [
    {
     "name": "stdout",
     "output_type": "stream",
     "text": [
      "(8686, 112)\n"
     ]
    },
    {
     "data": {
      "text/html": [
       "<div>\n",
       "<style scoped>\n",
       "    .dataframe tbody tr th:only-of-type {\n",
       "        vertical-align: middle;\n",
       "    }\n",
       "\n",
       "    .dataframe tbody tr th {\n",
       "        vertical-align: top;\n",
       "    }\n",
       "\n",
       "    .dataframe thead th {\n",
       "        text-align: right;\n",
       "    }\n",
       "</style>\n",
       "<table border=\"1\" class=\"dataframe\">\n",
       "  <thead>\n",
       "    <tr style=\"text-align: right;\">\n",
       "      <th></th>\n",
       "      <th>uid</th>\n",
       "      <th>year</th>\n",
       "      <th>composite_score</th>\n",
       "      <th>time</th>\n",
       "      <th>rameduc_m</th>\n",
       "      <th>ragender</th>\n",
       "      <th>rafeduc_m</th>\n",
       "      <th>test_chol</th>\n",
       "      <th>hinc_cap</th>\n",
       "      <th>arthritis</th>\n",
       "      <th>...</th>\n",
       "      <th>sgender</th>\n",
       "      <th>n_adl</th>\n",
       "      <th>satis_excel</th>\n",
       "      <th>attends_class</th>\n",
       "      <th>rearnings</th>\n",
       "      <th>glob_hlth</th>\n",
       "      <th>sinc_pension</th>\n",
       "      <th>a21</th>\n",
       "      <th>test_pres</th>\n",
       "      <th>n_mar</th>\n",
       "    </tr>\n",
       "  </thead>\n",
       "  <tbody>\n",
       "    <tr>\n",
       "      <th>0</th>\n",
       "      <td>aace</td>\n",
       "      <td>2021</td>\n",
       "      <td>175</td>\n",
       "      <td>3</td>\n",
       "      <td>1.0</td>\n",
       "      <td>1</td>\n",
       "      <td>1.0</td>\n",
       "      <td>NaN</td>\n",
       "      <td>NaN</td>\n",
       "      <td>NaN</td>\n",
       "      <td>...</td>\n",
       "      <td>NaN</td>\n",
       "      <td>NaN</td>\n",
       "      <td>NaN</td>\n",
       "      <td>NaN</td>\n",
       "      <td>NaN</td>\n",
       "      <td>NaN</td>\n",
       "      <td>NaN</td>\n",
       "      <td>NaN</td>\n",
       "      <td>NaN</td>\n",
       "      <td>NaN</td>\n",
       "    </tr>\n",
       "    <tr>\n",
       "      <th>1</th>\n",
       "      <td>aace</td>\n",
       "      <td>2021</td>\n",
       "      <td>175</td>\n",
       "      <td>12</td>\n",
       "      <td>1.0</td>\n",
       "      <td>1</td>\n",
       "      <td>1.0</td>\n",
       "      <td>0.0</td>\n",
       "      <td>10000.0</td>\n",
       "      <td>0.0</td>\n",
       "      <td>...</td>\n",
       "      <td>2.0</td>\n",
       "      <td>NaN</td>\n",
       "      <td>3.0</td>\n",
       "      <td>0.0</td>\n",
       "      <td>0.0</td>\n",
       "      <td>NaN</td>\n",
       "      <td>0.0</td>\n",
       "      <td>NaN</td>\n",
       "      <td>1.0</td>\n",
       "      <td>1.0</td>\n",
       "    </tr>\n",
       "    <tr>\n",
       "      <th>2</th>\n",
       "      <td>aanz</td>\n",
       "      <td>2021</td>\n",
       "      <td>206</td>\n",
       "      <td>3</td>\n",
       "      <td>1.0</td>\n",
       "      <td>1</td>\n",
       "      <td>1.0</td>\n",
       "      <td>NaN</td>\n",
       "      <td>NaN</td>\n",
       "      <td>NaN</td>\n",
       "      <td>...</td>\n",
       "      <td>NaN</td>\n",
       "      <td>NaN</td>\n",
       "      <td>NaN</td>\n",
       "      <td>NaN</td>\n",
       "      <td>NaN</td>\n",
       "      <td>NaN</td>\n",
       "      <td>NaN</td>\n",
       "      <td>NaN</td>\n",
       "      <td>NaN</td>\n",
       "      <td>NaN</td>\n",
       "    </tr>\n",
       "    <tr>\n",
       "      <th>3</th>\n",
       "      <td>aanz</td>\n",
       "      <td>2021</td>\n",
       "      <td>206</td>\n",
       "      <td>12</td>\n",
       "      <td>1.0</td>\n",
       "      <td>1</td>\n",
       "      <td>1.0</td>\n",
       "      <td>1.0</td>\n",
       "      <td>0.0</td>\n",
       "      <td>0.0</td>\n",
       "      <td>...</td>\n",
       "      <td>2.0</td>\n",
       "      <td>0.0</td>\n",
       "      <td>2.0</td>\n",
       "      <td>0.0</td>\n",
       "      <td>70000.0</td>\n",
       "      <td>NaN</td>\n",
       "      <td>0.0</td>\n",
       "      <td>NaN</td>\n",
       "      <td>1.0</td>\n",
       "      <td>1.0</td>\n",
       "    </tr>\n",
       "    <tr>\n",
       "      <th>4</th>\n",
       "      <td>aape</td>\n",
       "      <td>2016</td>\n",
       "      <td>161</td>\n",
       "      <td>3</td>\n",
       "      <td>2.0</td>\n",
       "      <td>2</td>\n",
       "      <td>2.0</td>\n",
       "      <td>NaN</td>\n",
       "      <td>NaN</td>\n",
       "      <td>NaN</td>\n",
       "      <td>...</td>\n",
       "      <td>NaN</td>\n",
       "      <td>NaN</td>\n",
       "      <td>NaN</td>\n",
       "      <td>NaN</td>\n",
       "      <td>NaN</td>\n",
       "      <td>NaN</td>\n",
       "      <td>NaN</td>\n",
       "      <td>NaN</td>\n",
       "      <td>NaN</td>\n",
       "      <td>NaN</td>\n",
       "    </tr>\n",
       "  </tbody>\n",
       "</table>\n",
       "<p>5 rows × 112 columns</p>\n",
       "</div>"
      ],
      "text/plain": [
       "    uid  year  composite_score  time  rameduc_m  ragender  rafeduc_m  \\\n",
       "0  aace  2021              175     3        1.0         1        1.0   \n",
       "1  aace  2021              175    12        1.0         1        1.0   \n",
       "2  aanz  2021              206     3        1.0         1        1.0   \n",
       "3  aanz  2021              206    12        1.0         1        1.0   \n",
       "4  aape  2016              161     3        2.0         2        2.0   \n",
       "\n",
       "   test_chol  hinc_cap  arthritis  ... sgender  n_adl  satis_excel  \\\n",
       "0        NaN       NaN        NaN  ...     NaN    NaN          NaN   \n",
       "1        0.0   10000.0        0.0  ...     2.0    NaN          3.0   \n",
       "2        NaN       NaN        NaN  ...     NaN    NaN          NaN   \n",
       "3        1.0       0.0        0.0  ...     2.0    0.0          2.0   \n",
       "4        NaN       NaN        NaN  ...     NaN    NaN          NaN   \n",
       "\n",
       "   attends_class  rearnings  glob_hlth  sinc_pension  a21  test_pres n_mar  \n",
       "0            NaN        NaN        NaN           NaN  NaN        NaN   NaN  \n",
       "1            0.0        0.0        NaN           0.0  NaN        1.0   1.0  \n",
       "2            NaN        NaN        NaN           NaN  NaN        NaN   NaN  \n",
       "3            0.0    70000.0        NaN           0.0  NaN        1.0   1.0  \n",
       "4            NaN        NaN        NaN           NaN  NaN        NaN   NaN  \n",
       "\n",
       "[5 rows x 112 columns]"
      ]
     },
     "execution_count": 40,
     "metadata": {},
     "output_type": "execute_result"
    }
   ],
   "source": [
    "# Defining the identifier variables\n",
    "id_vars = ['uid', 'ragender', 'rameduc_m', 'rafeduc_m', 'year', 'composite_score']\n",
    "\n",
    "# Reshaping the data\n",
    "data_long = reshape_long_format(df, id_vars)\n",
    "print(data_long.shape)\n",
    "data_long.head()"
   ]
  },
  {
   "cell_type": "markdown",
   "metadata": {},
   "source": [
    "Using long data format over wide format here simplifies analysis by consolidating year-based measurements into a single column, making it easier to perform trend analysis and comparisons over time. This structure enhances compatibility with visualization tools and statistical functions, which generally process time-series or repeated measures data more effectively in long format.\n",
    "\n",
    "Long format is vital for regression when predicting composite scores over time, as it captures temporal trends, treats year as a feature, and simplifies modeling interactions—enabling a stronger analysis of time-dependent effects in longitudinal data."
   ]
  },
  {
   "cell_type": "markdown",
   "metadata": {},
   "source": [
    "##### Handling missing values"
   ]
  },
  {
   "cell_type": "code",
   "execution_count": 41,
   "metadata": {},
   "outputs": [
    {
     "data": {
      "text/plain": [
       "glob_hlth        100.000000\n",
       "a16a              99.608566\n",
       "a22               99.447387\n",
       "a33b              99.366797\n",
       "a21               99.366797\n",
       "                    ...    \n",
       "hinc_rent         17.798757\n",
       "hinc_business     17.798757\n",
       "hinc_cap          17.798757\n",
       "rafeduc_m         14.736357\n",
       "rameduc_m         12.318674\n",
       "Length: 107, dtype: float64"
      ]
     },
     "execution_count": 41,
     "metadata": {},
     "output_type": "execute_result"
    }
   ],
   "source": [
    "# Calculate the percentage of missing values in each column\n",
    "missing_percentage = data_long.isnull().mean() * 100\n",
    "\n",
    "# Display the columns with missing values and their percentages\n",
    "missing_percentage = missing_percentage[missing_percentage > 0].sort_values(ascending=False)\n",
    "missing_percentage\n"
   ]
  },
  {
   "cell_type": "code",
   "execution_count": 42,
   "metadata": {},
   "outputs": [],
   "source": [
    "#defining a function to impute missing values and drop values with over 50% missing values\n",
    "def clean_and_impute_data(df, missing_threshold=0.5):\n",
    "\n",
    "    # Dropping columns with more than 50% missing values\n",
    "    df = df.loc[:, df.isnull().mean() < missing_threshold]\n",
    "    \n",
    "    # Separating categorical and numerical columns\n",
    "    cat_cols = df.select_dtypes(include=['object', 'category']).columns\n",
    "    num_cols = df.select_dtypes(include=['float64', 'int64']).columns\n",
    "    \n",
    "    # Imputing categorical columns with the mode (most frequent value)\n",
    "    for col in cat_cols:\n",
    "        df[col].fillna(df[col].mode()[0], inplace=True)\n",
    "    \n",
    "    # Imputing numerical columns with the median\n",
    "    for col in num_cols:\n",
    "        df[col].fillna(df[col].median(), inplace=True)\n",
    "    \n",
    "    return df\n"
   ]
  },
  {
   "cell_type": "code",
   "execution_count": 43,
   "metadata": {},
   "outputs": [
    {
     "name": "stdout",
     "output_type": "stream",
     "text": [
      "(8686, 77)\n"
     ]
    },
    {
     "data": {
      "text/html": [
       "<div>\n",
       "<style scoped>\n",
       "    .dataframe tbody tr th:only-of-type {\n",
       "        vertical-align: middle;\n",
       "    }\n",
       "\n",
       "    .dataframe tbody tr th {\n",
       "        vertical-align: top;\n",
       "    }\n",
       "\n",
       "    .dataframe thead th {\n",
       "        text-align: right;\n",
       "    }\n",
       "</style>\n",
       "<table border=\"1\" class=\"dataframe\">\n",
       "  <thead>\n",
       "    <tr style=\"text-align: right;\">\n",
       "      <th></th>\n",
       "      <th>uid</th>\n",
       "      <th>year</th>\n",
       "      <th>composite_score</th>\n",
       "      <th>time</th>\n",
       "      <th>rameduc_m</th>\n",
       "      <th>ragender</th>\n",
       "      <th>rafeduc_m</th>\n",
       "      <th>test_chol</th>\n",
       "      <th>hinc_cap</th>\n",
       "      <th>arthritis</th>\n",
       "      <th>...</th>\n",
       "      <th>depressed</th>\n",
       "      <th>iadl_money</th>\n",
       "      <th>exer_3xwk</th>\n",
       "      <th>stroke</th>\n",
       "      <th>sgender</th>\n",
       "      <th>n_adl</th>\n",
       "      <th>rearnings</th>\n",
       "      <th>sinc_pension</th>\n",
       "      <th>test_pres</th>\n",
       "      <th>n_mar</th>\n",
       "    </tr>\n",
       "  </thead>\n",
       "  <tbody>\n",
       "    <tr>\n",
       "      <th>0</th>\n",
       "      <td>aace</td>\n",
       "      <td>2021</td>\n",
       "      <td>175</td>\n",
       "      <td>3</td>\n",
       "      <td>1.0</td>\n",
       "      <td>1</td>\n",
       "      <td>1.0</td>\n",
       "      <td>1.0</td>\n",
       "      <td>0.0</td>\n",
       "      <td>0.0</td>\n",
       "      <td>...</td>\n",
       "      <td>0.0</td>\n",
       "      <td>0.0</td>\n",
       "      <td>0.0</td>\n",
       "      <td>0.0</td>\n",
       "      <td>1.0</td>\n",
       "      <td>0.0</td>\n",
       "      <td>0.0</td>\n",
       "      <td>0.0</td>\n",
       "      <td>1.0</td>\n",
       "      <td>1.0</td>\n",
       "    </tr>\n",
       "    <tr>\n",
       "      <th>1</th>\n",
       "      <td>aace</td>\n",
       "      <td>2021</td>\n",
       "      <td>175</td>\n",
       "      <td>12</td>\n",
       "      <td>1.0</td>\n",
       "      <td>1</td>\n",
       "      <td>1.0</td>\n",
       "      <td>0.0</td>\n",
       "      <td>10000.0</td>\n",
       "      <td>0.0</td>\n",
       "      <td>...</td>\n",
       "      <td>0.0</td>\n",
       "      <td>0.0</td>\n",
       "      <td>1.0</td>\n",
       "      <td>0.0</td>\n",
       "      <td>2.0</td>\n",
       "      <td>0.0</td>\n",
       "      <td>0.0</td>\n",
       "      <td>0.0</td>\n",
       "      <td>1.0</td>\n",
       "      <td>1.0</td>\n",
       "    </tr>\n",
       "    <tr>\n",
       "      <th>2</th>\n",
       "      <td>aanz</td>\n",
       "      <td>2021</td>\n",
       "      <td>206</td>\n",
       "      <td>3</td>\n",
       "      <td>1.0</td>\n",
       "      <td>1</td>\n",
       "      <td>1.0</td>\n",
       "      <td>1.0</td>\n",
       "      <td>0.0</td>\n",
       "      <td>0.0</td>\n",
       "      <td>...</td>\n",
       "      <td>0.0</td>\n",
       "      <td>0.0</td>\n",
       "      <td>0.0</td>\n",
       "      <td>0.0</td>\n",
       "      <td>1.0</td>\n",
       "      <td>0.0</td>\n",
       "      <td>0.0</td>\n",
       "      <td>0.0</td>\n",
       "      <td>1.0</td>\n",
       "      <td>1.0</td>\n",
       "    </tr>\n",
       "    <tr>\n",
       "      <th>3</th>\n",
       "      <td>aanz</td>\n",
       "      <td>2021</td>\n",
       "      <td>206</td>\n",
       "      <td>12</td>\n",
       "      <td>1.0</td>\n",
       "      <td>1</td>\n",
       "      <td>1.0</td>\n",
       "      <td>1.0</td>\n",
       "      <td>0.0</td>\n",
       "      <td>0.0</td>\n",
       "      <td>...</td>\n",
       "      <td>1.0</td>\n",
       "      <td>0.0</td>\n",
       "      <td>1.0</td>\n",
       "      <td>0.0</td>\n",
       "      <td>2.0</td>\n",
       "      <td>0.0</td>\n",
       "      <td>70000.0</td>\n",
       "      <td>0.0</td>\n",
       "      <td>1.0</td>\n",
       "      <td>1.0</td>\n",
       "    </tr>\n",
       "    <tr>\n",
       "      <th>4</th>\n",
       "      <td>aape</td>\n",
       "      <td>2016</td>\n",
       "      <td>161</td>\n",
       "      <td>3</td>\n",
       "      <td>2.0</td>\n",
       "      <td>2</td>\n",
       "      <td>2.0</td>\n",
       "      <td>1.0</td>\n",
       "      <td>0.0</td>\n",
       "      <td>0.0</td>\n",
       "      <td>...</td>\n",
       "      <td>0.0</td>\n",
       "      <td>0.0</td>\n",
       "      <td>0.0</td>\n",
       "      <td>0.0</td>\n",
       "      <td>1.0</td>\n",
       "      <td>0.0</td>\n",
       "      <td>0.0</td>\n",
       "      <td>0.0</td>\n",
       "      <td>1.0</td>\n",
       "      <td>1.0</td>\n",
       "    </tr>\n",
       "  </tbody>\n",
       "</table>\n",
       "<p>5 rows × 77 columns</p>\n",
       "</div>"
      ],
      "text/plain": [
       "    uid  year  composite_score  time  rameduc_m  ragender  rafeduc_m  \\\n",
       "0  aace  2021              175     3        1.0         1        1.0   \n",
       "1  aace  2021              175    12        1.0         1        1.0   \n",
       "2  aanz  2021              206     3        1.0         1        1.0   \n",
       "3  aanz  2021              206    12        1.0         1        1.0   \n",
       "4  aape  2016              161     3        2.0         2        2.0   \n",
       "\n",
       "   test_chol  hinc_cap  arthritis  ... depressed  iadl_money  exer_3xwk  \\\n",
       "0        1.0       0.0        0.0  ...       0.0         0.0        0.0   \n",
       "1        0.0   10000.0        0.0  ...       0.0         0.0        1.0   \n",
       "2        1.0       0.0        0.0  ...       0.0         0.0        0.0   \n",
       "3        1.0       0.0        0.0  ...       1.0         0.0        1.0   \n",
       "4        1.0       0.0        0.0  ...       0.0         0.0        0.0   \n",
       "\n",
       "   stroke  sgender  n_adl  rearnings  sinc_pension  test_pres  n_mar  \n",
       "0     0.0      1.0    0.0        0.0           0.0        1.0    1.0  \n",
       "1     0.0      2.0    0.0        0.0           0.0        1.0    1.0  \n",
       "2     0.0      1.0    0.0        0.0           0.0        1.0    1.0  \n",
       "3     0.0      2.0    0.0    70000.0           0.0        1.0    1.0  \n",
       "4     0.0      1.0    0.0        0.0           0.0        1.0    1.0  \n",
       "\n",
       "[5 rows x 77 columns]"
      ]
     },
     "execution_count": 43,
     "metadata": {},
     "output_type": "execute_result"
    }
   ],
   "source": [
    "data_long = clean_and_impute_data(data_long)\n",
    "print(data_long.shape)\n",
    "data_long.head()"
   ]
  },
  {
   "cell_type": "markdown",
   "metadata": {},
   "source": [
    "The data cleaning process involves dropping columns with over 50% missing values and imputing missing numerical values using the median. For categorical columns, missing values are replaced with the most frequent value (mode), ensuring the dataset is complete and ready for analysis."
   ]
  },
  {
   "cell_type": "markdown",
   "metadata": {},
   "source": [
    "#### Preparing data for modeling"
   ]
  },
  {
   "cell_type": "code",
   "execution_count": 53,
   "metadata": {},
   "outputs": [
    {
     "name": "stdout",
     "output_type": "stream",
     "text": [
      "['uid', 'bmi', 'decis_famil']\n"
     ]
    },
    {
     "data": {
      "text/html": [
       "<div>\n",
       "<style scoped>\n",
       "    .dataframe tbody tr th:only-of-type {\n",
       "        vertical-align: middle;\n",
       "    }\n",
       "\n",
       "    .dataframe tbody tr th {\n",
       "        vertical-align: top;\n",
       "    }\n",
       "\n",
       "    .dataframe thead th {\n",
       "        text-align: right;\n",
       "    }\n",
       "</style>\n",
       "<table border=\"1\" class=\"dataframe\">\n",
       "  <thead>\n",
       "    <tr style=\"text-align: right;\">\n",
       "      <th></th>\n",
       "      <th>year</th>\n",
       "      <th>composite_score</th>\n",
       "      <th>time</th>\n",
       "      <th>rameduc_m</th>\n",
       "      <th>ragender</th>\n",
       "      <th>rafeduc_m</th>\n",
       "      <th>test_chol</th>\n",
       "      <th>hinc_cap</th>\n",
       "      <th>arthritis</th>\n",
       "      <th>n_illnesses</th>\n",
       "      <th>...</th>\n",
       "      <th>bmi_1. Underweight</th>\n",
       "      <th>bmi_2. Normal weight</th>\n",
       "      <th>bmi_3. Overweight</th>\n",
       "      <th>bmi_4. Obese</th>\n",
       "      <th>bmi_5. Morbidly obese</th>\n",
       "      <th>decis_famil_2.0</th>\n",
       "      <th>decis_famil_3.0</th>\n",
       "      <th>decis_famil_1. Respondent</th>\n",
       "      <th>decis_famil_2. Approximately equal weight</th>\n",
       "      <th>decis_famil_3. Spouse</th>\n",
       "    </tr>\n",
       "  </thead>\n",
       "  <tbody>\n",
       "    <tr>\n",
       "      <th>0</th>\n",
       "      <td>2021</td>\n",
       "      <td>175</td>\n",
       "      <td>3</td>\n",
       "      <td>1</td>\n",
       "      <td>1</td>\n",
       "      <td>1</td>\n",
       "      <td>1</td>\n",
       "      <td>0</td>\n",
       "      <td>0</td>\n",
       "      <td>1</td>\n",
       "      <td>...</td>\n",
       "      <td>0</td>\n",
       "      <td>0</td>\n",
       "      <td>0</td>\n",
       "      <td>0</td>\n",
       "      <td>0</td>\n",
       "      <td>1</td>\n",
       "      <td>0</td>\n",
       "      <td>0</td>\n",
       "      <td>0</td>\n",
       "      <td>0</td>\n",
       "    </tr>\n",
       "    <tr>\n",
       "      <th>1</th>\n",
       "      <td>2021</td>\n",
       "      <td>175</td>\n",
       "      <td>12</td>\n",
       "      <td>1</td>\n",
       "      <td>1</td>\n",
       "      <td>1</td>\n",
       "      <td>0</td>\n",
       "      <td>10000</td>\n",
       "      <td>0</td>\n",
       "      <td>1</td>\n",
       "      <td>...</td>\n",
       "      <td>0</td>\n",
       "      <td>0</td>\n",
       "      <td>0</td>\n",
       "      <td>0</td>\n",
       "      <td>0</td>\n",
       "      <td>1</td>\n",
       "      <td>0</td>\n",
       "      <td>0</td>\n",
       "      <td>0</td>\n",
       "      <td>0</td>\n",
       "    </tr>\n",
       "    <tr>\n",
       "      <th>2</th>\n",
       "      <td>2021</td>\n",
       "      <td>206</td>\n",
       "      <td>3</td>\n",
       "      <td>1</td>\n",
       "      <td>1</td>\n",
       "      <td>1</td>\n",
       "      <td>1</td>\n",
       "      <td>0</td>\n",
       "      <td>0</td>\n",
       "      <td>1</td>\n",
       "      <td>...</td>\n",
       "      <td>0</td>\n",
       "      <td>0</td>\n",
       "      <td>0</td>\n",
       "      <td>0</td>\n",
       "      <td>0</td>\n",
       "      <td>1</td>\n",
       "      <td>0</td>\n",
       "      <td>0</td>\n",
       "      <td>0</td>\n",
       "      <td>0</td>\n",
       "    </tr>\n",
       "    <tr>\n",
       "      <th>3</th>\n",
       "      <td>2021</td>\n",
       "      <td>206</td>\n",
       "      <td>12</td>\n",
       "      <td>1</td>\n",
       "      <td>1</td>\n",
       "      <td>1</td>\n",
       "      <td>1</td>\n",
       "      <td>0</td>\n",
       "      <td>0</td>\n",
       "      <td>1</td>\n",
       "      <td>...</td>\n",
       "      <td>0</td>\n",
       "      <td>0</td>\n",
       "      <td>0</td>\n",
       "      <td>0</td>\n",
       "      <td>0</td>\n",
       "      <td>1</td>\n",
       "      <td>0</td>\n",
       "      <td>0</td>\n",
       "      <td>0</td>\n",
       "      <td>0</td>\n",
       "    </tr>\n",
       "    <tr>\n",
       "      <th>4</th>\n",
       "      <td>2016</td>\n",
       "      <td>161</td>\n",
       "      <td>3</td>\n",
       "      <td>2</td>\n",
       "      <td>2</td>\n",
       "      <td>2</td>\n",
       "      <td>1</td>\n",
       "      <td>0</td>\n",
       "      <td>0</td>\n",
       "      <td>1</td>\n",
       "      <td>...</td>\n",
       "      <td>0</td>\n",
       "      <td>0</td>\n",
       "      <td>0</td>\n",
       "      <td>0</td>\n",
       "      <td>0</td>\n",
       "      <td>1</td>\n",
       "      <td>0</td>\n",
       "      <td>0</td>\n",
       "      <td>0</td>\n",
       "      <td>0</td>\n",
       "    </tr>\n",
       "  </tbody>\n",
       "</table>\n",
       "<p>5 rows × 3363 columns</p>\n",
       "</div>"
      ],
      "text/plain": [
       "   year  composite_score  time  rameduc_m  ragender  rafeduc_m  test_chol  \\\n",
       "0  2021              175     3          1         1          1          1   \n",
       "1  2021              175    12          1         1          1          0   \n",
       "2  2021              206     3          1         1          1          1   \n",
       "3  2021              206    12          1         1          1          1   \n",
       "4  2016              161     3          2         2          2          1   \n",
       "\n",
       "   hinc_cap  arthritis  n_illnesses  ...  bmi_1. Underweight  \\\n",
       "0         0          0            1  ...                   0   \n",
       "1     10000          0            1  ...                   0   \n",
       "2         0          0            1  ...                   0   \n",
       "3         0          0            1  ...                   0   \n",
       "4         0          0            1  ...                   0   \n",
       "\n",
       "   bmi_2. Normal weight  bmi_3. Overweight  bmi_4. Obese  \\\n",
       "0                     0                  0             0   \n",
       "1                     0                  0             0   \n",
       "2                     0                  0             0   \n",
       "3                     0                  0             0   \n",
       "4                     0                  0             0   \n",
       "\n",
       "   bmi_5. Morbidly obese  decis_famil_2.0  decis_famil_3.0  \\\n",
       "0                      0                1                0   \n",
       "1                      0                1                0   \n",
       "2                      0                1                0   \n",
       "3                      0                1                0   \n",
       "4                      0                1                0   \n",
       "\n",
       "   decis_famil_1. Respondent  decis_famil_2. Approximately equal weight  \\\n",
       "0                          0                                          0   \n",
       "1                          0                                          0   \n",
       "2                          0                                          0   \n",
       "3                          0                                          0   \n",
       "4                          0                                          0   \n",
       "\n",
       "   decis_famil_3. Spouse  \n",
       "0                      0  \n",
       "1                      0  \n",
       "2                      0  \n",
       "3                      0  \n",
       "4                      0  \n",
       "\n",
       "[5 rows x 3363 columns]"
      ]
     },
     "execution_count": 53,
     "metadata": {},
     "output_type": "execute_result"
    }
   ],
   "source": [
    "#encoding categorical columns\n",
    "cat_cols = data_long.select_dtypes(include=['object', 'category']).columns.tolist()\n",
    "print(cat_cols)\n",
    "\n",
    "#encoding categorical columns using get dummies\n",
    "data_encoded = pd.get_dummies(data_long, columns=cat_cols, drop_first=True)\n",
    "data_encoded = data_encoded.astype(int)\n",
    "data_encoded.head()"
   ]
  },
  {
   "cell_type": "markdown",
   "metadata": {},
   "source": [
    "## Modelling"
   ]
  },
  {
   "cell_type": "markdown",
   "metadata": {},
   "source": [
    "**1. BASELINE MODEL**"
   ]
  },
  {
   "cell_type": "code",
   "execution_count": 55,
   "metadata": {},
   "outputs": [
    {
     "name": "stdout",
     "output_type": "stream",
     "text": [
      "Mean Squared Error (MSE): 1550.203014817622\n",
      "R-squared (R²): 0.5764315366458983\n",
      "RMSE : 39.372617576402284\n"
     ]
    }
   ],
   "source": [
    "# Dropping target columns 'composite_score' and 'year' from X\n",
    "X = data_encoded.drop(['composite_score', 'year'], axis=1)\n",
    "y = data_encoded['composite_score']\n",
    "\n",
    "# Splitting the data into training and testing sets\n",
    "X_train, X_test, y_train, y_test = train_test_split(X, y, test_size=0.2, random_state=42)\n",
    "\n",
    "# Standardizing the features (if needed, depending on the model)\n",
    "scaler = StandardScaler()\n",
    "X_train_scaled = scaler.fit_transform(X_train)\n",
    "X_test_scaled = scaler.transform(X_test)\n",
    "\n",
    "# Initializing the model\n",
    "model = RandomForestRegressor(random_state=42, n_estimators=100)\n",
    "\n",
    "# Training the model on the training set\n",
    "model.fit(X_train_scaled, y_train)\n",
    "\n",
    "# Predictting on the test set\n",
    "y_pred = model.predict(X_test_scaled)\n",
    "\n",
    "# Calculating evaluation metrics\n",
    "mse = mean_squared_error(y_test, y_pred)\n",
    "r2 = r2_score(y_test, y_pred)\n",
    "rmse = np.sqrt(mean_squared_error(y_test, y_pred))\n",
    "\n",
    "print(f'Mean Squared Error (MSE): {mse}')\n",
    "print(f'R-squared (R²): {r2}')\n",
    "print(f'RMSE : {rmse}')"
   ]
  },
  {
   "cell_type": "markdown",
   "metadata": {},
   "source": [
    "The model achieved a Mean Squared Error (MSE) of 1550.20, an R-squared value of 0.576, and a Root Mean Squared Error (RMSE) of 39.37. This indicates that while the model explains approximately 57.6% of the variance in the target variable, there is still room for improvement in predictive accuracy."
   ]
  },
  {
   "cell_type": "markdown",
   "metadata": {},
   "source": [
    "#### **1. IMPROVING THE RANDOM FOREST MODEL**\n",
    "##### 1.1. Hyperparameter tuning using grid search cv"
   ]
  },
  {
   "cell_type": "code",
   "execution_count": null,
   "metadata": {},
   "outputs": [
    {
     "name": "stdout",
     "output_type": "stream",
     "text": [
      "Fitting 5 folds for each of 216 candidates, totalling 1080 fits\n",
      "Best Random Forest RMSE after tuning: 43.1393\n",
      "Best Parameters: {'max_depth': None, 'max_features': 'sqrt', 'min_samples_leaf': 1, 'min_samples_split': 2, 'n_estimators': 300}\n"
     ]
    }
   ],
   "source": [
    "from sklearn.model_selection import GridSearchCV\n",
    "\n",
    "# Defining the parameter grid for Random Forest\n",
    "param_grid = {\n",
    "    'n_estimators': [100, 200, 300],\n",
    "    'max_depth': [None, 10, 20, 30],\n",
    "    'min_samples_split': [2, 5, 10],\n",
    "    'min_samples_leaf': [1, 2, 4],\n",
    "    'max_features': ['auto', 'sqrt']\n",
    "}\n",
    "\n",
    "# Initializing Random Forest model\n",
    "rf = RandomForestRegressor(random_state=42)\n",
    "\n",
    "# Setting up GridSearchCV\n",
    "grid_search = GridSearchCV(estimator=rf, param_grid=param_grid, cv=5, scoring='neg_mean_squared_error', n_jobs=-1, verbose=2)\n",
    "\n",
    "# Fitting the model\n",
    "grid_search.fit(X_train_scaled, y_train)\n",
    "\n",
    "# Getting the best parameters and best RMSE\n",
    "best_rf = grid_search.best_estimator_\n",
    "best_rf_rmse = np.sqrt(-grid_search.best_score_)\n",
    "print(f\"Best Random Forest RMSE after tuning: {best_rf_rmse:.4f}\")\n",
    "print(f\"Best Parameters: {grid_search.best_params_}\")\n"
   ]
  },
  {
   "cell_type": "markdown",
   "metadata": {},
   "source": [
    "After conducting a grid search with 5-fold cross-validation across 216 parameter combinations (totaling 1,080 fits), the Random Forest model achieved its lowest RMSE of 43.14. The optimal parameters identified were: max_depth as None, max_features set to 'sqrt,' min_samples_leaf of 1, min_samples_split of 2, and n_estimators at 300."
   ]
  },
  {
   "cell_type": "markdown",
   "metadata": {},
   "source": [
    "#### 1.2. Randomized Grid Search"
   ]
  },
  {
   "cell_type": "code",
   "execution_count": 58,
   "metadata": {},
   "outputs": [
    {
     "name": "stdout",
     "output_type": "stream",
     "text": [
      "Best Random Forest RMSE after Randomized Search: 43.5519\n",
      "Best Parameters (Randomized Search): {'bootstrap': False, 'max_depth': None, 'max_features': 'log2', 'min_samples_leaf': 1, 'min_samples_split': 3, 'n_estimators': 229}\n"
     ]
    }
   ],
   "source": [
    "from sklearn.model_selection import RandomizedSearchCV\n",
    "import scipy.stats as stats\n",
    "\n",
    "# Define a wider parameter grid for Randomized Search\n",
    "param_dist = {\n",
    "    'n_estimators': stats.randint(100, 500),\n",
    "    'max_depth': [None, 10, 20, 30, 50],\n",
    "    'min_samples_split': stats.randint(2, 10),\n",
    "    'min_samples_leaf': stats.randint(1, 10),\n",
    "    'max_features': ['auto', 'sqrt', 'log2'],\n",
    "    'bootstrap': [True, False]\n",
    "}\n",
    "\n",
    "# RandomizedSearchCV with more iterations to explore parameter space\n",
    "random_search = RandomizedSearchCV(\n",
    "    estimator=RandomForestRegressor(random_state=42),\n",
    "    param_distributions=param_dist,\n",
    "    n_iter=100,  \n",
    "    cv=5,\n",
    "    scoring='neg_mean_squared_error',\n",
    "    n_jobs=-1,\n",
    "    random_state=42\n",
    ")\n",
    "\n",
    "random_search.fit(X_train_scaled, y_train)\n",
    "best_rf_random = random_search.best_estimator_\n",
    "best_rf_random_rmse = np.sqrt(-random_search.best_score_)\n",
    "print(f\"Best Random Forest RMSE after Randomized Search: {best_rf_random_rmse:.4f}\")\n",
    "print(f\"Best Parameters (Randomized Search): {random_search.best_params_}\")\n"
   ]
  },
  {
   "cell_type": "markdown",
   "metadata": {},
   "source": [
    "#### 1.3. Dimensionality Reduction"
   ]
  },
  {
   "cell_type": "code",
   "execution_count": 59,
   "metadata": {},
   "outputs": [
    {
     "name": "stdout",
     "output_type": "stream",
     "text": [
      "Mean Squared Error (MSE): 1550.203014817622\n",
      "R-squared (R²): 0.5764315366458983\n",
      "RMSE : 39.372617576402284\n"
     ]
    }
   ],
   "source": [
    "# Initializing the model\n",
    "pca_rf_model = RandomForestRegressor(random_state=42, n_estimators=100)\n",
    "\n",
    "# Training the model on the training set\n",
    "pca_rf_model.fit(X_train_scaled, y_train)\n",
    "\n",
    "# Predicting on the test set\n",
    "y_pred = model.predict(X_test_scaled)\n",
    "\n",
    "# Calculating evaluation metrics\n",
    "mse = mean_squared_error(y_test, y_pred)\n",
    "r2 = r2_score(y_test, y_pred)\n",
    "rmse = np.sqrt(mse)\n",
    "\n",
    "print(f'Mean Squared Error (MSE): {mse}')\n",
    "print(f'R-squared (R²): {r2}')\n",
    "print(f'RMSE : {rmse}')"
   ]
  },
  {
   "cell_type": "markdown",
   "metadata": {},
   "source": [
    "After applying PCA, the Random Forest model achieved an RMSE of 39.37, an MSE of 1550.20, and an R-squared value of 0.576, indicating improved predictive accuracy compared to previous models. \n",
    "\n",
    "The reduced RMSE suggests that dimensionality reduction through PCA positively impacted the model's ability to fit the data, resulting in better performance than prior attempts, such as the tuned model with an RMSE of 43.55. This demonstrates that PCA effectively enhanced model efficiency and accuracy by reducing noise from high-dimensional data."
   ]
  },
  {
   "cell_type": "markdown",
   "metadata": {},
   "source": [
    "#### 1.4. Feature Selection"
   ]
  },
  {
   "cell_type": "code",
   "execution_count": null,
   "metadata": {},
   "outputs": [
    {
     "name": "stdout",
     "output_type": "stream",
     "text": [
      "Selected features: Index(['time', 'rameduc_m', 'ragender', 'rafeduc_m', 'test_chol', 'hinc_cap',\n",
      "       'arthritis', 'n_illnesses', 'iadl_meals', 'married',\n",
      "       ...\n",
      "       'bmi_5.0', 'bmi_1. Underweight', 'bmi_2. Normal weight',\n",
      "       'bmi_3. Overweight', 'bmi_4. Obese', 'decis_famil_2.0',\n",
      "       'decis_famil_3.0', 'decis_famil_1. Respondent',\n",
      "       'decis_famil_2. Approximately equal weight', 'decis_famil_3. Spouse'],\n",
      "      dtype='object', length=351)\n",
      "MSE: 1791.5830228906152\n",
      "R²: 0.5266033200178692\n",
      "R²: 0.5266033200178692\n"
     ]
    }
   ],
   "source": [
    "from sklearn.feature_selection import SelectFromModel\n",
    "\n",
    "rf = RandomForestRegressor(n_estimators=100, random_state=42)\n",
    "rf.fit(X_train_scaled, y_train)\n",
    "\n",
    "# Using SelectFromModel with the trained Random Forest model\n",
    "selector = SelectFromModel(estimator=rf, threshold=\"mean\", prefit=True)\n",
    "X_selected = selector.transform(X_train_scaled)\n",
    "\n",
    "# Convert X_selected back to a DataFrame with selected feature names\n",
    "X_selected_df = pd.DataFrame(X_selected, columns=X_train.columns[selector.get_support()])\n",
    "\n",
    "# Check selected features\n",
    "selected_features = X_train.columns[selector.get_support()]\n",
    "print(\"Selected features:\", selected_features)\n",
    "\n",
    "# Split the selected features into training and testing sets\n",
    "X_train_selected, X_test_selected, y_train, y_test = train_test_split(X_selected, y_train, test_size=0.2, random_state=42)\n",
    "\n",
    "# Train a new Random Forest on the selected features\n",
    "rf_selected = RandomForestRegressor(n_estimators=100, random_state=42)\n",
    "rf_selected.fit(X_train_selected, y_train)\n",
    "\n",
    "# Make predictions and evaluate the model\n",
    "y_pred = rf_selected.predict(X_test_selected)\n",
    "mse = mean_squared_error(y_test, y_pred)\n",
    "r2 = r2_score(y_test, y_pred)\n",
    "\n",
    "print(\"MSE:\", mse)\n",
    "print(\"R²:\", r2)"
   ]
  },
  {
   "cell_type": "code",
   "execution_count": 64,
   "metadata": {},
   "outputs": [
    {
     "data": {
      "text/plain": [
       "42.327095611329334"
      ]
     },
     "execution_count": 64,
     "metadata": {},
     "output_type": "execute_result"
    }
   ],
   "source": [
    "rmse = np.sqrt(mse)\n",
    "rmse"
   ]
  },
  {
   "cell_type": "markdown",
   "metadata": {},
   "source": [
    "From the results of your feature selection and model performance:\n",
    "\n",
    "1. Selected Features: A total of 351 features were selected out of the original dataset. This indicates that a significant portion of the original features were deemed important by the Random Forest model. The selected features span various domains, including:\n",
    "\n",
    "Demographic factors (e.g., time, rafeduc_m, rameduc_m, ragender)\n",
    "\n",
    "Health metrics (e.g., test_chol, arthritis, n_illnesses, bmi_5.0)\n",
    "\n",
    "Functional abilities (e.g., iadl_meals)\n",
    "\n",
    "Economic factors (e.g., hinc_cap)\n",
    "\n",
    "Marital and decision-making status (e.g., married, decis_famil_*)\n",
    "\n",
    "This diversity of selected features suggests that the model found valuable information across health, demographic, and socioeconomic variables, aligning well with a complex, multifactorial outcome.\n",
    "\n",
    "While the model explains more than half of the variance, the RMSE indicates considerable deviation in predictions from actual values. To enhance performance, consider further hyperparameter tuning, exploring more advanced ensemble methods, or implementing techniques like stacking."
   ]
  },
  {
   "cell_type": "markdown",
   "metadata": {},
   "source": [
    "#### 2. Linear Regression Model"
   ]
  },
  {
   "cell_type": "code",
   "execution_count": 67,
   "metadata": {},
   "outputs": [
    {
     "name": "stdout",
     "output_type": "stream",
     "text": [
      "6948 5558\n"
     ]
    }
   ],
   "source": [
    "# Check if the lengths match\n",
    "print(len(X_train), len(y_train))\n"
   ]
  },
  {
   "cell_type": "code",
   "execution_count": null,
   "metadata": {},
   "outputs": [],
   "source": [
    "#Re-splitting X_train and X_test\n",
    "X_train, X_test, y_train, y_test = train_test_split(X, y, test_size=0.2, random_state=42)\n",
    "\n",
    "X_train_scaled = scaler.fit_transform(X_train)\n",
    "X_test_scaled = scaler.fit_transform(X_test)"
   ]
  },
  {
   "cell_type": "code",
   "execution_count": 69,
   "metadata": {},
   "outputs": [
    {
     "name": "stdout",
     "output_type": "stream",
     "text": [
      "MSE: 1.624423651001452e+29\n",
      "RMSE: 403041393780025.06\n",
      "R²: -4.438480786799997e+25\n"
     ]
    }
   ],
   "source": [
    "lr_model = LinearRegression()\n",
    "lr_model.fit(X_train_scaled, y_train)\n",
    "\n",
    "# Make predictions\n",
    "y_pred = lr_model.predict(X_test_scaled)\n",
    "\n",
    "# Evaluate model\n",
    "mse = mean_squared_error(y_test, y_pred)\n",
    "rmse = np.sqrt(mse)\n",
    "r2 = r2_score(y_test, y_pred)\n",
    "\n",
    "# Print performance metrics\n",
    "print(f'MSE: {mse}')\n",
    "print(f'RMSE: {rmse}')\n",
    "print(f'R²: {r2}')"
   ]
  },
  {
   "cell_type": "markdown",
   "metadata": {},
   "source": [
    "#### 3. Linear Regression with Regularization (Ridge Model)"
   ]
  },
  {
   "cell_type": "code",
   "execution_count": 73,
   "metadata": {},
   "outputs": [
    {
     "name": "stdout",
     "output_type": "stream",
     "text": [
      "Mean Squared Error (MSE): 601.2462122398451\n",
      "Root Mean Squared Error (RMSE): 24.520322433439677\n",
      "R-squared (R²): 0.8357189788810555\n"
     ]
    }
   ],
   "source": [
    "# Separate features and target\n",
    "X = data_encoded.drop(columns=['composite_score', 'year'])\n",
    "y = data_encoded['composite_score']\n",
    "\n",
    "original_X = X\n",
    "\n",
    "# Scale features\n",
    "scaler = StandardScaler()\n",
    "X_scaled = scaler.fit_transform(X)\n",
    "\n",
    "from sklearn.linear_model import Ridge\n",
    "\n",
    "# Train-test split\n",
    "X_train, X_test, y_train, y_test = train_test_split(X_scaled, y, test_size=0.2, random_state=42)\n",
    "\n",
    "# Initialize and train Ridge Regression model\n",
    "ridge_model = Ridge(alpha=1.0)\n",
    "ridge_model.fit(X_train, y_train)  # Predicting the composite score\n",
    "\n",
    "# Predictions\n",
    "y_pred = ridge_model.predict(X_test)\n",
    "\n",
    "# Evaluation\n",
    "mse = mean_squared_error(y_test, y_pred)\n",
    "rmse = np.sqrt(mse)\n",
    "r2 = r2_score(y_test, y_pred)\n",
    "\n",
    "print(f\"Mean Squared Error (MSE): {mse}\")\n",
    "print(f\"Root Mean Squared Error (RMSE): {rmse}\")\n",
    "print(f\"R-squared (R²): {r2}\")\n"
   ]
  },
  {
   "cell_type": "markdown",
   "metadata": {},
   "source": [
    "Mean Squared Error (MSE) of 601.25 and Root Mean Squared Error (RMSE) of 24.52 imply relatively low prediction errors, meaning that the model's predictions are close to the actual values.\n",
    "\n",
    "R-squared (R²) of 0.836 suggests that approximately 83.6% of the variance in the target variable is explained by the model. This high R² indicates a strong relationship between the features and the target variable.\n",
    "\n",
    "The ridge regression model fits the data well, explaining a substantial portion of the variance in the target variable. The relatively low RMSE indicates that predictions are fairly accurate, though there may still be room for improvement through hyperparameter tuning.\n"
   ]
  },
  {
   "cell_type": "code",
   "execution_count": 74,
   "metadata": {},
   "outputs": [
    {
     "name": "stdout",
     "output_type": "stream",
     "text": [
      "Best Alpha (Regularization Strength): 429.1934260128778\n",
      "Mean Squared Error (MSE): 514.8977187894935\n",
      "Root Mean Squared Error (RMSE): 22.691357799600567\n",
      "R-squared (R²): 0.8593123394500323\n"
     ]
    }
   ],
   "source": [
    "# Define a range of alpha values for Ridge Regression\n",
    "param_grid = {'alpha': np.logspace(-3, 3, 50)}  \n",
    "\n",
    "# Set up GridSearchCV with Ridge Regression\n",
    "ridge = Ridge()\n",
    "ridge_cv = GridSearchCV(ridge, param_grid, cv=5, scoring='neg_mean_squared_error')\n",
    "ridge_cv.fit(X_train, y_train)\n",
    "\n",
    "# Get the best model from GridSearchCV\n",
    "best_ridge = ridge_cv.best_estimator_\n",
    "\n",
    "# Make predictions\n",
    "y_pred = best_ridge.predict(X_test)\n",
    "\n",
    "# Calculate metrics\n",
    "mse = mean_squared_error(y_test, y_pred)\n",
    "rmse = np.sqrt(mse)\n",
    "r2 = r2_score(y_test, y_pred)\n",
    "\n",
    "# Displaying the results\n",
    "print(f\"Best Alpha (Regularization Strength): {best_ridge.alpha}\")\n",
    "print(f\"Mean Squared Error (MSE): {mse}\")\n",
    "print(f\"Root Mean Squared Error (RMSE): {rmse}\")\n",
    "print(f\"R-squared (R²): {r2}\")"
   ]
  },
  {
   "cell_type": "markdown",
   "metadata": {},
   "source": [
    "With a best regularization strength (alpha) of 429.19, the ridge regression model achieves a Mean Squared Error (MSE) of 514.90, a Root Mean Squared Error (RMSE) of 22.69, and an R-squared (R²) of 0.859. These results suggest a strong model fit, explaining about 85.9% of the variance in the target variable and yielding relatively accurate predictions with low error"
   ]
  },
  {
   "cell_type": "code",
   "execution_count": null,
   "metadata": {},
   "outputs": [],
   "source": [
    "from sklearn.decomposition import PCA\n",
    "\n",
    "# Splitting data into training and testing sets\n",
    "X_train, X_test, y_train, y_test = train_test_split(X, y, test_size=0.2, random_state=42)\n",
    "\n",
    "# Defining the number of principal components (n_components) as needed\n",
    "n_components = min(X_train.shape[1], 10)  \n",
    "\n",
    "# Setting up a pipeline with PCA and Ridge regression\n",
    "pipeline = Pipeline([\n",
    "    ('pca', PCA(n_components=n_components)),\n",
    "    ('ridge', Ridge(alpha=1.0))  # You can tune alpha for ridge regularization\n",
    "])\n",
    "\n",
    "# Fit the pipeline to the training data\n",
    "pipeline.fit(X_train, y_train)\n",
    "\n",
    "# Predict on the test data\n",
    "y_pred = pipeline.predict(X_test)\n",
    "\n",
    "# Calculate evaluation metrics\n",
    "mse = mean_squared_error(y_test, y_pred)\n",
    "rmse = np.sqrt(mse)\n",
    "r2 = r2_score(y_test, y_pred)\n",
    "\n",
    "print(f'Mean Squared Error (MSE): {mse}')\n",
    "print(f'Root Mean Squared Error (RMSE): {rmse}')\n",
    "print(f'R-squared (R²): {r2}')\n"
   ]
  }
 ],
 "metadata": {
  "kernelspec": {
   "display_name": "learn-env",
   "language": "python",
   "name": "python3"
  },
  "language_info": {
   "codemirror_mode": {
    "name": "ipython",
    "version": 3
   },
   "file_extension": ".py",
   "mimetype": "text/x-python",
   "name": "python",
   "nbconvert_exporter": "python",
   "pygments_lexer": "ipython3",
   "version": "3.8.5"
  }
 },
 "nbformat": 4,
 "nbformat_minor": 2
}
