{
 "cells": [
  {
   "cell_type": "markdown",
   "metadata": {},
   "source": [
    "\n",
    "\n",
    "#### **1. BUSINESS UNDERSTANDING**\n",
    "\n",
    "#### *Objective*\n",
    "\n",
    "The main goal is to develop models that can predict the likelihood of Alzheimer’s Disease (AD) and Alzheimer’s Disease Related Dementias (AD/ADRD) as early as possible by leveraging social determinants of health. Early identification allows for timely interventions that could slow cognitive decline, manage symptoms earlier, and improve quality of life for at-risk individuals.\n",
    "\n",
    "#### *Importance*\n",
    "Current methods for diagnosing AD/ADRD are often time-consuming, require specialist assessments, and may not be accessible to all, particularly marginalized or underserved groups. By focusing on social determinants of health, this model has the potential to:\n",
    "\n",
    "Enable proactive healthcare interventions.\n",
    "Reduce disparities in care by identifying at-risk individuals in marginalized communities.\n",
    "Improve cost-efficiency in healthcare by addressing conditions earlier in the disease progression.\n",
    "Business Success Criteria:\n",
    "\n",
    "The model should accurately identify high-risk individuals for AD/ADRD based on social determinants, which may include demographic, economic, and lifestyle factors.\n",
    "Predictions should be interpretable, offering insights into which factors significantly contribute to early-onset risk.\n",
    "The model’s predictions should be reproducible, as DrivenData will verify the submitted models.\n",
    "Ultimately, the solution should help healthcare providers prioritize early screening and support for individuals flagged by the model.\n",
    "\n",
    "#### 2. Data Understanding\n",
    "Data Source:\n",
    "\n",
    "The dataset is sourced from the Mexican Health and Aging Study (MHAS), a longitudinal survey of adults aged 50 and older in Mexico.\n",
    "MHAS provides data across various health domains, including demographics, economics, physical limitations, self-reported health, and lifestyle factors.\n",
    "Data Structure:\n",
    "\n",
    "train_features.csv: Contains the survey responses for training data, with features collected from both the 2003 and 2012 surveys.\n",
    "train_labels.csv: Contains the target labels (presence of AD/ADRD) for the training dataset.\n",
    "test_features.csv: Similar to train_features.csv but without the target label, used for model testing.\n",
    "\n",
    "Key Data Attributes:\n",
    "\n",
    "Survey Waves: Data includes responses from the 2003 and 2012 surveys. Some individuals appear in only one survey, while others are present in both.\n",
    "Feature Columns:\n",
    "Year-specific columns are suffixed with _03 for 2003 and _12 for 2012.\n",
    "Year-agnostic columns are not suffixed, as they represent data that is either static over time or measured in both years without difference.\n",
    "Types of Information Collected:\n",
    "Demographics (age, gender, etc.)\n",
    "Economic circumstances (income level, employment status)\n",
    "Migration history (U.S. migration status, residency status)\n",
    "Health and physical limitations (self-reported health, ADLs, IADLs)\n",
    "Lifestyle behaviors (exercise, social activity, household composition)\n",
    "\n",
    "**Challenges with Data**\n",
    "\n",
    "Missing Values: Due to the survey format, missing values are present, likely from uncollected data or inapplicable questions.\n",
    "Temporal Nature: Given data is from two survey years (2003 and 2012), understanding changes over time for an individual could offer insights but adds complexity.\n",
    "Data Restrictions: External data is not permitted, though pre-trained models can be used if they meet specified conditions.\n",
    "\n",
    "**Evaluation Considerations**\n",
    "\n",
    "Models will be evaluated on both their predictive accuracy (leaderboard score) and the interpretability and completeness of model reports.\n",
    "To ensure reproducibility, DrivenData will require winning participants to submit modeling code for verification of leaderboard scores."
   ]
  },
  {
   "cell_type": "markdown",
   "metadata": {},
   "source": [
    "**IMPORTING THE NECESSARY LIBRARIES**"
   ]
  },
  {
   "cell_type": "code",
   "execution_count": 2,
   "metadata": {},
   "outputs": [],
   "source": [
    "import pandas as pd\n",
    "import numpy as np\n",
    "import matplotlib.pyplot as plt\n",
    "import seaborn as sns\n",
    "from sklearn.model_selection import train_test_split, cross_val_score, GridSearchCV\n",
    "from sklearn.preprocessing import StandardScaler, MinMaxScaler, OneHotEncoder, OrdinalEncoder\n",
    "from sklearn.impute import SimpleImputer, KNNImputer\n",
    "from sklearn.impute import SimpleImputer\n",
    "from sklearn.ensemble import RandomForestClassifier, GradientBoostingRegressor\n",
    "from sklearn.metrics import accuracy_score, precision_score, recall_score, f1_score, roc_auc_score, r2_score, accuracy_score, classification_report\n",
    "from sklearn.pipeline import Pipeline\n",
    "from sklearn.linear_model import LinearRegression, LogisticRegression\n",
    "from sklearn.compose import ColumnTransformer\n",
    "import shap\n",
    "import warnings\n",
    "warnings.filterwarnings('ignore')"
   ]
  },
  {
   "cell_type": "markdown",
   "metadata": {},
   "source": [
    "**LOADING AND INSPECTING THE DATASETS**"
   ]
  },
  {
   "cell_type": "code",
   "execution_count": 4,
   "metadata": {},
   "outputs": [],
   "source": [
    "data = pd.read_csv(r'C:\\Users\\hp\\Documents\\Data Science Projects\\phase5_capstone\\Early-Detection-of-Alzheimer-s-Disease-and-Related-Dementias-Using-Social-Determinants-of-Health\\Original data\\train_features.csv')\n",
    "data_label = pd.read_csv(r'C:\\Users\\hp\\Documents\\Data Science Projects\\phase5_capstone\\Early-Detection-of-Alzheimer-s-Disease-and-Related-Dementias-Using-Social-Determinants-of-Health\\Original data\\train_labels.csv')"
   ]
  },
  {
   "cell_type": "code",
   "execution_count": 5,
   "metadata": {},
   "outputs": [
    {
     "data": {
      "text/html": [
       "<div>\n",
       "<style scoped>\n",
       "    .dataframe tbody tr th:only-of-type {\n",
       "        vertical-align: middle;\n",
       "    }\n",
       "\n",
       "    .dataframe tbody tr th {\n",
       "        vertical-align: top;\n",
       "    }\n",
       "\n",
       "    .dataframe thead th {\n",
       "        text-align: right;\n",
       "    }\n",
       "</style>\n",
       "<table border=\"1\" class=\"dataframe\">\n",
       "  <thead>\n",
       "    <tr style=\"text-align: right;\">\n",
       "      <th></th>\n",
       "      <th>uid</th>\n",
       "      <th>age_03</th>\n",
       "      <th>urban_03</th>\n",
       "      <th>married_03</th>\n",
       "      <th>n_mar_03</th>\n",
       "      <th>edu_gru_03</th>\n",
       "      <th>n_living_child_03</th>\n",
       "      <th>migration_03</th>\n",
       "      <th>glob_hlth_03</th>\n",
       "      <th>adl_dress_03</th>\n",
       "      <th>...</th>\n",
       "      <th>rrelgimp_12</th>\n",
       "      <th>rrfcntx_m_12</th>\n",
       "      <th>rsocact_m_12</th>\n",
       "      <th>rrelgwk_12</th>\n",
       "      <th>a16a_12</th>\n",
       "      <th>a21_12</th>\n",
       "      <th>a22_12</th>\n",
       "      <th>a33b_12</th>\n",
       "      <th>a34_12</th>\n",
       "      <th>j11_12</th>\n",
       "    </tr>\n",
       "  </thead>\n",
       "  <tbody>\n",
       "    <tr>\n",
       "      <th>0</th>\n",
       "      <td>aace</td>\n",
       "      <td>NaN</td>\n",
       "      <td>NaN</td>\n",
       "      <td>NaN</td>\n",
       "      <td>NaN</td>\n",
       "      <td>NaN</td>\n",
       "      <td>NaN</td>\n",
       "      <td>NaN</td>\n",
       "      <td>NaN</td>\n",
       "      <td>NaN</td>\n",
       "      <td>...</td>\n",
       "      <td>2.somewhat important</td>\n",
       "      <td>9.Never</td>\n",
       "      <td>9.Never</td>\n",
       "      <td>0.No</td>\n",
       "      <td>NaN</td>\n",
       "      <td>NaN</td>\n",
       "      <td>NaN</td>\n",
       "      <td>NaN</td>\n",
       "      <td>NaN</td>\n",
       "      <td>Concrete 2</td>\n",
       "    </tr>\n",
       "    <tr>\n",
       "      <th>1</th>\n",
       "      <td>aanz</td>\n",
       "      <td>NaN</td>\n",
       "      <td>NaN</td>\n",
       "      <td>NaN</td>\n",
       "      <td>NaN</td>\n",
       "      <td>NaN</td>\n",
       "      <td>NaN</td>\n",
       "      <td>NaN</td>\n",
       "      <td>NaN</td>\n",
       "      <td>NaN</td>\n",
       "      <td>...</td>\n",
       "      <td>1.very important</td>\n",
       "      <td>9.Never</td>\n",
       "      <td>1.Almost every day</td>\n",
       "      <td>0.No</td>\n",
       "      <td>NaN</td>\n",
       "      <td>NaN</td>\n",
       "      <td>NaN</td>\n",
       "      <td>NaN</td>\n",
       "      <td>NaN</td>\n",
       "      <td>Concrete 2</td>\n",
       "    </tr>\n",
       "    <tr>\n",
       "      <th>2</th>\n",
       "      <td>aape</td>\n",
       "      <td>NaN</td>\n",
       "      <td>NaN</td>\n",
       "      <td>NaN</td>\n",
       "      <td>NaN</td>\n",
       "      <td>NaN</td>\n",
       "      <td>NaN</td>\n",
       "      <td>NaN</td>\n",
       "      <td>NaN</td>\n",
       "      <td>NaN</td>\n",
       "      <td>...</td>\n",
       "      <td>2.somewhat important</td>\n",
       "      <td>6.2 or 3 times a month</td>\n",
       "      <td>2.4 or more times a week</td>\n",
       "      <td>0.No</td>\n",
       "      <td>NaN</td>\n",
       "      <td>NaN</td>\n",
       "      <td>NaN</td>\n",
       "      <td>NaN</td>\n",
       "      <td>NaN</td>\n",
       "      <td>Wood, mosaic, or other covering 1</td>\n",
       "    </tr>\n",
       "    <tr>\n",
       "      <th>3</th>\n",
       "      <td>aard</td>\n",
       "      <td>1. 50–59</td>\n",
       "      <td>1. 100,000+</td>\n",
       "      <td>3. Widowed</td>\n",
       "      <td>1.0</td>\n",
       "      <td>3. 7–9 years</td>\n",
       "      <td>1. 1 or 2</td>\n",
       "      <td>0.0</td>\n",
       "      <td>4. Fair</td>\n",
       "      <td>0.0</td>\n",
       "      <td>...</td>\n",
       "      <td>1.very important</td>\n",
       "      <td>4.Once a week</td>\n",
       "      <td>9.Never</td>\n",
       "      <td>1.Yes</td>\n",
       "      <td>NaN</td>\n",
       "      <td>NaN</td>\n",
       "      <td>NaN</td>\n",
       "      <td>NaN</td>\n",
       "      <td>No 2</td>\n",
       "      <td>Concrete 2</td>\n",
       "    </tr>\n",
       "    <tr>\n",
       "      <th>4</th>\n",
       "      <td>ablr</td>\n",
       "      <td>NaN</td>\n",
       "      <td>NaN</td>\n",
       "      <td>NaN</td>\n",
       "      <td>NaN</td>\n",
       "      <td>NaN</td>\n",
       "      <td>NaN</td>\n",
       "      <td>NaN</td>\n",
       "      <td>NaN</td>\n",
       "      <td>NaN</td>\n",
       "      <td>...</td>\n",
       "      <td>1.very important</td>\n",
       "      <td>3.2 or 3 times a week</td>\n",
       "      <td>3.2 or 3 times a week</td>\n",
       "      <td>0.No</td>\n",
       "      <td>NaN</td>\n",
       "      <td>NaN</td>\n",
       "      <td>NaN</td>\n",
       "      <td>NaN</td>\n",
       "      <td>NaN</td>\n",
       "      <td>Wood, mosaic, or other covering 1</td>\n",
       "    </tr>\n",
       "  </tbody>\n",
       "</table>\n",
       "<p>5 rows × 184 columns</p>\n",
       "</div>"
      ],
      "text/plain": [
       "    uid    age_03     urban_03  married_03  n_mar_03    edu_gru_03  \\\n",
       "0  aace       NaN          NaN         NaN       NaN           NaN   \n",
       "1  aanz       NaN          NaN         NaN       NaN           NaN   \n",
       "2  aape       NaN          NaN         NaN       NaN           NaN   \n",
       "3  aard  1. 50–59  1. 100,000+  3. Widowed       1.0  3. 7–9 years   \n",
       "4  ablr       NaN          NaN         NaN       NaN           NaN   \n",
       "\n",
       "  n_living_child_03  migration_03 glob_hlth_03  adl_dress_03  ...  \\\n",
       "0               NaN           NaN          NaN           NaN  ...   \n",
       "1               NaN           NaN          NaN           NaN  ...   \n",
       "2               NaN           NaN          NaN           NaN  ...   \n",
       "3         1. 1 or 2           0.0      4. Fair           0.0  ...   \n",
       "4               NaN           NaN          NaN           NaN  ...   \n",
       "\n",
       "            rrelgimp_12            rrfcntx_m_12              rsocact_m_12  \\\n",
       "0  2.somewhat important                 9.Never                   9.Never   \n",
       "1      1.very important                 9.Never        1.Almost every day   \n",
       "2  2.somewhat important  6.2 or 3 times a month  2.4 or more times a week   \n",
       "3      1.very important           4.Once a week                   9.Never   \n",
       "4      1.very important   3.2 or 3 times a week     3.2 or 3 times a week   \n",
       "\n",
       "   rrelgwk_12  a16a_12  a21_12  a22_12  a33b_12  a34_12  \\\n",
       "0        0.No      NaN     NaN     NaN      NaN     NaN   \n",
       "1        0.No      NaN     NaN     NaN      NaN     NaN   \n",
       "2        0.No      NaN     NaN     NaN      NaN     NaN   \n",
       "3       1.Yes      NaN     NaN     NaN      NaN    No 2   \n",
       "4        0.No      NaN     NaN     NaN      NaN     NaN   \n",
       "\n",
       "                              j11_12  \n",
       "0                         Concrete 2  \n",
       "1                         Concrete 2  \n",
       "2  Wood, mosaic, or other covering 1  \n",
       "3                         Concrete 2  \n",
       "4  Wood, mosaic, or other covering 1  \n",
       "\n",
       "[5 rows x 184 columns]"
      ]
     },
     "execution_count": 5,
     "metadata": {},
     "output_type": "execute_result"
    }
   ],
   "source": [
    "#inspecting the datasets\n",
    "data.head()"
   ]
  },
  {
   "cell_type": "code",
   "execution_count": 6,
   "metadata": {},
   "outputs": [
    {
     "data": {
      "text/html": [
       "<div>\n",
       "<style scoped>\n",
       "    .dataframe tbody tr th:only-of-type {\n",
       "        vertical-align: middle;\n",
       "    }\n",
       "\n",
       "    .dataframe tbody tr th {\n",
       "        vertical-align: top;\n",
       "    }\n",
       "\n",
       "    .dataframe thead th {\n",
       "        text-align: right;\n",
       "    }\n",
       "</style>\n",
       "<table border=\"1\" class=\"dataframe\">\n",
       "  <thead>\n",
       "    <tr style=\"text-align: right;\">\n",
       "      <th></th>\n",
       "      <th>uid</th>\n",
       "      <th>year</th>\n",
       "      <th>composite_score</th>\n",
       "    </tr>\n",
       "  </thead>\n",
       "  <tbody>\n",
       "    <tr>\n",
       "      <th>0</th>\n",
       "      <td>aace</td>\n",
       "      <td>2021</td>\n",
       "      <td>175</td>\n",
       "    </tr>\n",
       "    <tr>\n",
       "      <th>1</th>\n",
       "      <td>aanz</td>\n",
       "      <td>2021</td>\n",
       "      <td>206</td>\n",
       "    </tr>\n",
       "    <tr>\n",
       "      <th>2</th>\n",
       "      <td>aape</td>\n",
       "      <td>2016</td>\n",
       "      <td>161</td>\n",
       "    </tr>\n",
       "    <tr>\n",
       "      <th>3</th>\n",
       "      <td>aape</td>\n",
       "      <td>2021</td>\n",
       "      <td>144</td>\n",
       "    </tr>\n",
       "    <tr>\n",
       "      <th>4</th>\n",
       "      <td>aard</td>\n",
       "      <td>2021</td>\n",
       "      <td>104</td>\n",
       "    </tr>\n",
       "  </tbody>\n",
       "</table>\n",
       "</div>"
      ],
      "text/plain": [
       "    uid  year  composite_score\n",
       "0  aace  2021              175\n",
       "1  aanz  2021              206\n",
       "2  aape  2016              161\n",
       "3  aape  2021              144\n",
       "4  aard  2021              104"
      ]
     },
     "execution_count": 6,
     "metadata": {},
     "output_type": "execute_result"
    }
   ],
   "source": [
    "data_label.head()"
   ]
  },
  {
   "cell_type": "code",
   "execution_count": 7,
   "metadata": {},
   "outputs": [],
   "source": [
    "df= pd.merge(data, data_label, on=\"uid\", how=\"left\")"
   ]
  },
  {
   "cell_type": "code",
   "execution_count": 9,
   "metadata": {},
   "outputs": [
    {
     "data": {
      "text/html": [
       "<div>\n",
       "<style scoped>\n",
       "    .dataframe tbody tr th:only-of-type {\n",
       "        vertical-align: middle;\n",
       "    }\n",
       "\n",
       "    .dataframe tbody tr th {\n",
       "        vertical-align: top;\n",
       "    }\n",
       "\n",
       "    .dataframe thead th {\n",
       "        text-align: right;\n",
       "    }\n",
       "</style>\n",
       "<table border=\"1\" class=\"dataframe\">\n",
       "  <thead>\n",
       "    <tr style=\"text-align: right;\">\n",
       "      <th></th>\n",
       "      <th>uid</th>\n",
       "      <th>age_03</th>\n",
       "      <th>urban_03</th>\n",
       "      <th>married_03</th>\n",
       "      <th>n_mar_03</th>\n",
       "      <th>edu_gru_03</th>\n",
       "      <th>n_living_child_03</th>\n",
       "      <th>migration_03</th>\n",
       "      <th>glob_hlth_03</th>\n",
       "      <th>adl_dress_03</th>\n",
       "      <th>...</th>\n",
       "      <th>rsocact_m_12</th>\n",
       "      <th>rrelgwk_12</th>\n",
       "      <th>a16a_12</th>\n",
       "      <th>a21_12</th>\n",
       "      <th>a22_12</th>\n",
       "      <th>a33b_12</th>\n",
       "      <th>a34_12</th>\n",
       "      <th>j11_12</th>\n",
       "      <th>year</th>\n",
       "      <th>composite_score</th>\n",
       "    </tr>\n",
       "  </thead>\n",
       "  <tbody>\n",
       "    <tr>\n",
       "      <th>0</th>\n",
       "      <td>aace</td>\n",
       "      <td>NaN</td>\n",
       "      <td>NaN</td>\n",
       "      <td>NaN</td>\n",
       "      <td>NaN</td>\n",
       "      <td>NaN</td>\n",
       "      <td>NaN</td>\n",
       "      <td>NaN</td>\n",
       "      <td>NaN</td>\n",
       "      <td>NaN</td>\n",
       "      <td>...</td>\n",
       "      <td>9.Never</td>\n",
       "      <td>0.No</td>\n",
       "      <td>NaN</td>\n",
       "      <td>NaN</td>\n",
       "      <td>NaN</td>\n",
       "      <td>NaN</td>\n",
       "      <td>NaN</td>\n",
       "      <td>Concrete 2</td>\n",
       "      <td>2021</td>\n",
       "      <td>175</td>\n",
       "    </tr>\n",
       "    <tr>\n",
       "      <th>1</th>\n",
       "      <td>aanz</td>\n",
       "      <td>NaN</td>\n",
       "      <td>NaN</td>\n",
       "      <td>NaN</td>\n",
       "      <td>NaN</td>\n",
       "      <td>NaN</td>\n",
       "      <td>NaN</td>\n",
       "      <td>NaN</td>\n",
       "      <td>NaN</td>\n",
       "      <td>NaN</td>\n",
       "      <td>...</td>\n",
       "      <td>1.Almost every day</td>\n",
       "      <td>0.No</td>\n",
       "      <td>NaN</td>\n",
       "      <td>NaN</td>\n",
       "      <td>NaN</td>\n",
       "      <td>NaN</td>\n",
       "      <td>NaN</td>\n",
       "      <td>Concrete 2</td>\n",
       "      <td>2021</td>\n",
       "      <td>206</td>\n",
       "    </tr>\n",
       "    <tr>\n",
       "      <th>2</th>\n",
       "      <td>aape</td>\n",
       "      <td>NaN</td>\n",
       "      <td>NaN</td>\n",
       "      <td>NaN</td>\n",
       "      <td>NaN</td>\n",
       "      <td>NaN</td>\n",
       "      <td>NaN</td>\n",
       "      <td>NaN</td>\n",
       "      <td>NaN</td>\n",
       "      <td>NaN</td>\n",
       "      <td>...</td>\n",
       "      <td>2.4 or more times a week</td>\n",
       "      <td>0.No</td>\n",
       "      <td>NaN</td>\n",
       "      <td>NaN</td>\n",
       "      <td>NaN</td>\n",
       "      <td>NaN</td>\n",
       "      <td>NaN</td>\n",
       "      <td>Wood, mosaic, or other covering 1</td>\n",
       "      <td>2016</td>\n",
       "      <td>161</td>\n",
       "    </tr>\n",
       "    <tr>\n",
       "      <th>3</th>\n",
       "      <td>aape</td>\n",
       "      <td>NaN</td>\n",
       "      <td>NaN</td>\n",
       "      <td>NaN</td>\n",
       "      <td>NaN</td>\n",
       "      <td>NaN</td>\n",
       "      <td>NaN</td>\n",
       "      <td>NaN</td>\n",
       "      <td>NaN</td>\n",
       "      <td>NaN</td>\n",
       "      <td>...</td>\n",
       "      <td>2.4 or more times a week</td>\n",
       "      <td>0.No</td>\n",
       "      <td>NaN</td>\n",
       "      <td>NaN</td>\n",
       "      <td>NaN</td>\n",
       "      <td>NaN</td>\n",
       "      <td>NaN</td>\n",
       "      <td>Wood, mosaic, or other covering 1</td>\n",
       "      <td>2021</td>\n",
       "      <td>144</td>\n",
       "    </tr>\n",
       "    <tr>\n",
       "      <th>4</th>\n",
       "      <td>aard</td>\n",
       "      <td>1. 50–59</td>\n",
       "      <td>1. 100,000+</td>\n",
       "      <td>3. Widowed</td>\n",
       "      <td>1.0</td>\n",
       "      <td>3. 7–9 years</td>\n",
       "      <td>1. 1 or 2</td>\n",
       "      <td>0.0</td>\n",
       "      <td>4. Fair</td>\n",
       "      <td>0.0</td>\n",
       "      <td>...</td>\n",
       "      <td>9.Never</td>\n",
       "      <td>1.Yes</td>\n",
       "      <td>NaN</td>\n",
       "      <td>NaN</td>\n",
       "      <td>NaN</td>\n",
       "      <td>NaN</td>\n",
       "      <td>No 2</td>\n",
       "      <td>Concrete 2</td>\n",
       "      <td>2021</td>\n",
       "      <td>104</td>\n",
       "    </tr>\n",
       "  </tbody>\n",
       "</table>\n",
       "<p>5 rows × 186 columns</p>\n",
       "</div>"
      ],
      "text/plain": [
       "    uid    age_03     urban_03  married_03  n_mar_03    edu_gru_03  \\\n",
       "0  aace       NaN          NaN         NaN       NaN           NaN   \n",
       "1  aanz       NaN          NaN         NaN       NaN           NaN   \n",
       "2  aape       NaN          NaN         NaN       NaN           NaN   \n",
       "3  aape       NaN          NaN         NaN       NaN           NaN   \n",
       "4  aard  1. 50–59  1. 100,000+  3. Widowed       1.0  3. 7–9 years   \n",
       "\n",
       "  n_living_child_03  migration_03 glob_hlth_03  adl_dress_03  ...  \\\n",
       "0               NaN           NaN          NaN           NaN  ...   \n",
       "1               NaN           NaN          NaN           NaN  ...   \n",
       "2               NaN           NaN          NaN           NaN  ...   \n",
       "3               NaN           NaN          NaN           NaN  ...   \n",
       "4         1. 1 or 2           0.0      4. Fair           0.0  ...   \n",
       "\n",
       "               rsocact_m_12  rrelgwk_12  a16a_12  a21_12  a22_12  a33b_12  \\\n",
       "0                   9.Never        0.No      NaN     NaN     NaN      NaN   \n",
       "1        1.Almost every day        0.No      NaN     NaN     NaN      NaN   \n",
       "2  2.4 or more times a week        0.No      NaN     NaN     NaN      NaN   \n",
       "3  2.4 or more times a week        0.No      NaN     NaN     NaN      NaN   \n",
       "4                   9.Never       1.Yes      NaN     NaN     NaN      NaN   \n",
       "\n",
       "   a34_12                             j11_12  year  composite_score  \n",
       "0     NaN                         Concrete 2  2021              175  \n",
       "1     NaN                         Concrete 2  2021              206  \n",
       "2     NaN  Wood, mosaic, or other covering 1  2016              161  \n",
       "3     NaN  Wood, mosaic, or other covering 1  2021              144  \n",
       "4    No 2                         Concrete 2  2021              104  \n",
       "\n",
       "[5 rows x 186 columns]"
      ]
     },
     "execution_count": 9,
     "metadata": {},
     "output_type": "execute_result"
    }
   ],
   "source": [
    "df.head()"
   ]
  },
  {
   "cell_type": "code",
   "execution_count": 10,
   "metadata": {},
   "outputs": [
    {
     "data": {
      "text/plain": [
       "(4343, 186)"
      ]
     },
     "execution_count": 10,
     "metadata": {},
     "output_type": "execute_result"
    }
   ],
   "source": [
    "df.shape"
   ]
  },
  {
   "cell_type": "code",
   "execution_count": 11,
   "metadata": {},
   "outputs": [
    {
     "data": {
      "text/plain": [
       "<bound method DataFrame.info of        uid    age_03     urban_03                    married_03  n_mar_03  \\\n",
       "0     aace       NaN          NaN                           NaN       NaN   \n",
       "1     aanz       NaN          NaN                           NaN       NaN   \n",
       "2     aape       NaN          NaN                           NaN       NaN   \n",
       "3     aape       NaN          NaN                           NaN       NaN   \n",
       "4     aard  1. 50–59  1. 100,000+                    3. Widowed       1.0   \n",
       "...    ...       ...          ...                           ...       ...   \n",
       "4338  zzag  1. 50–59  0. <100,000  1. Married or in civil union       1.0   \n",
       "4339  zzci  1. 50–59  0. <100,000                    3. Widowed       1.0   \n",
       "4340  zzci  1. 50–59  0. <100,000                    3. Widowed       1.0   \n",
       "4341  zzjb  1. 50–59  0. <100,000  1. Married or in civil union       1.0   \n",
       "4342  zzti  1. 50–59  1. 100,000+  1. Married or in civil union       3.0   \n",
       "\n",
       "           edu_gru_03 n_living_child_03  migration_03 glob_hlth_03  \\\n",
       "0                 NaN               NaN           NaN          NaN   \n",
       "1                 NaN               NaN           NaN          NaN   \n",
       "2                 NaN               NaN           NaN          NaN   \n",
       "3                 NaN               NaN           NaN          NaN   \n",
       "4        3. 7–9 years         1. 1 or 2           0.0      4. Fair   \n",
       "...               ...               ...           ...          ...   \n",
       "4338     1. 1–5 years             4. 7+           0.0      5. Poor   \n",
       "4339     1. 1–5 years         1. 1 or 2           0.0      4. Fair   \n",
       "4340     1. 1–5 years         1. 1 or 2           0.0      4. Fair   \n",
       "4341  0. No education         2. 3 or 4           0.0      3. Good   \n",
       "4342  0. No education             4. 7+           0.0      4. Fair   \n",
       "\n",
       "      adl_dress_03  ...              rsocact_m_12  rrelgwk_12  a16a_12  \\\n",
       "0              NaN  ...                   9.Never        0.No      NaN   \n",
       "1              NaN  ...        1.Almost every day        0.No      NaN   \n",
       "2              NaN  ...  2.4 or more times a week        0.No      NaN   \n",
       "3              NaN  ...  2.4 or more times a week        0.No      NaN   \n",
       "4              0.0  ...                   9.Never       1.Yes      NaN   \n",
       "...            ...  ...                       ...         ...      ...   \n",
       "4338           0.0  ...             4.Once a week       1.Yes      NaN   \n",
       "4339           0.0  ...                   9.Never       1.Yes      NaN   \n",
       "4340           0.0  ...                   9.Never       1.Yes      NaN   \n",
       "4341           0.0  ...                       NaN         NaN      NaN   \n",
       "4342           0.0  ...        1.Almost every day        0.No      NaN   \n",
       "\n",
       "      a21_12  a22_12  a33b_12  a34_12                             j11_12  \\\n",
       "0        NaN     NaN      NaN     NaN                         Concrete 2   \n",
       "1        NaN     NaN      NaN     NaN                         Concrete 2   \n",
       "2        NaN     NaN      NaN     NaN  Wood, mosaic, or other covering 1   \n",
       "3        NaN     NaN      NaN     NaN  Wood, mosaic, or other covering 1   \n",
       "4        NaN     NaN      NaN    No 2                         Concrete 2   \n",
       "...      ...     ...      ...     ...                                ...   \n",
       "4338     NaN     NaN      NaN    No 2                         Concrete 2   \n",
       "4339     NaN     NaN      NaN    No 2                         Concrete 2   \n",
       "4340     NaN     NaN      NaN    No 2                         Concrete 2   \n",
       "4341     NaN     NaN      NaN     NaN                         Concrete 2   \n",
       "4342     NaN     NaN      NaN    No 2                         Concrete 2   \n",
       "\n",
       "      year  composite_score  \n",
       "0     2021              175  \n",
       "1     2021              206  \n",
       "2     2016              161  \n",
       "3     2021              144  \n",
       "4     2021              104  \n",
       "...    ...              ...  \n",
       "4338  2021              152  \n",
       "4339  2016              140  \n",
       "4340  2021              121  \n",
       "4341  2021               32  \n",
       "4342  2021              147  \n",
       "\n",
       "[4343 rows x 186 columns]>"
      ]
     },
     "execution_count": 11,
     "metadata": {},
     "output_type": "execute_result"
    }
   ],
   "source": [
    "df.info"
   ]
  },
  {
   "cell_type": "code",
   "execution_count": 12,
   "metadata": {},
   "outputs": [
    {
     "data": {
      "text/plain": [
       "uid                 object\n",
       "age_03              object\n",
       "urban_03            object\n",
       "married_03          object\n",
       "n_mar_03           float64\n",
       "                    ...   \n",
       "a33b_12             object\n",
       "a34_12              object\n",
       "j11_12              object\n",
       "year                 int64\n",
       "composite_score      int64\n",
       "Length: 186, dtype: object"
      ]
     },
     "execution_count": 12,
     "metadata": {},
     "output_type": "execute_result"
    }
   ],
   "source": [
    "df.dtypes"
   ]
  },
  {
   "cell_type": "markdown",
   "metadata": {},
   "source": [
    "**EXPLORATORY DATA ANALYSIS**"
   ]
  },
  {
   "cell_type": "code",
   "execution_count": 13,
   "metadata": {},
   "outputs": [
    {
     "name": "stdout",
     "output_type": "stream",
     "text": [
      "Missing Values:\n",
      " a16a_12           4309\n",
      "a22_12            4295\n",
      "a21_12            4288\n",
      "a33b_12           4288\n",
      "rjlocc_m_03       3943\n",
      "                  ... \n",
      "rearnings_12       107\n",
      "migration_12       107\n",
      "employment_12      107\n",
      "pem_def_mar_12     107\n",
      "j11_12              89\n",
      "Length: 182, dtype: int64\n"
     ]
    }
   ],
   "source": [
    "# Summary of missing values\n",
    "missing_values = df.isnull().sum().sort_values(ascending=False)\n",
    "print(\"Missing Values:\\n\", missing_values[missing_values > 0])\n"
   ]
  },
  {
   "cell_type": "code",
   "execution_count": 14,
   "metadata": {},
   "outputs": [
    {
     "data": {
      "image/png": "[encoded data removed]",
      "text/plain": [
       "<Figure size 720x360 with 1 Axes>"
      ]
     },
     "metadata": {
      "needs_background": "light"
     },
     "output_type": "display_data"
    },
    {
     "data": {
      "image/png": "[encoded data removed]",
      "text/plain": [
       "<Figure size 720x360 with 1 Axes>"
      ]
     },
     "metadata": {
      "needs_background": "light"
     },
     "output_type": "display_data"
    },
    {
     "data": {
      "image/png": "[encoded data removed]",
      "text/plain": [
       "<Figure size 720x360 with 1 Axes>"
      ]
     },
     "metadata": {
      "needs_background": "light"
     },
     "output_type": "display_data"
    },
    {
     "data": {
      "image/png": "[encoded data removed]",
      "text/plain": [
       "<Figure size 720x360 with 1 Axes>"
      ]
     },
     "metadata": {
      "needs_background": "light"
     },
     "output_type": "display_data"
    },
    {
     "data": {
      "image/png": "[encoded data removed]",
      "text/plain": [
       "<Figure size 720x360 with 1 Axes>"
      ]
     },
     "metadata": {
      "needs_background": "light"
     },
     "output_type": "display_data"
    },
    {
     "data": {
      "image/png": "[encoded data removed]",
      "text/plain": [
       "<Figure size 720x360 with 1 Axes>"
      ]
     },
     "metadata": {
      "needs_background": "light"
     },
     "output_type": "display_data"
    }
   ],
   "source": [
    "# List of categorical columns\n",
    "cat_cols = ['age_03', 'urban_03', 'edu_gru_03', 'glob_hlth_03', 'adl_dress_03', 'n_living_child_03']\n",
    "\n",
    "# Count plots\n",
    "for col in cat_cols:\n",
    "    plt.figure(figsize=(10, 5))\n",
    "    sns.countplot(data=df, x=col)\n",
    "    plt.title(f'Distribution of {col}')\n",
    "    plt.xticks(rotation=45)\n",
    "    plt.show()\n"
   ]
  },
  {
   "cell_type": "markdown",
   "metadata": {},
   "source": [
    "**COUNTPLOTS**"
   ]
  },
  {
   "cell_type": "code",
   "execution_count": 15,
   "metadata": {},
   "outputs": [
    {
     "data": {
      "image/png": "[encoded data removed]",
      "text/plain": [
       "<Figure size 432x288 with 1 Axes>"
      ]
     },
     "metadata": {
      "needs_background": "light"
     },
     "output_type": "display_data"
    },
    {
     "data": {
      "image/png": "[encoded data removed]",
      "text/plain": [
       "<Figure size 432x288 with 1 Axes>"
      ]
     },
     "metadata": {
      "needs_background": "light"
     },
     "output_type": "display_data"
    },
    {
     "data": {
      "image/png": "[encoded data removed]",
      "text/plain": [
       "<Figure size 432x288 with 1 Axes>"
      ]
     },
     "metadata": {
      "needs_background": "light"
     },
     "output_type": "display_data"
    },
    {
     "data": {
      "image/png": "[encoded data removed]",
      "text/plain": [
       "<Figure size 432x288 with 1 Axes>"
      ]
     },
     "metadata": {
      "needs_background": "light"
     },
     "output_type": "display_data"
    },
    {
     "data": {
      "image/png": "[encoded data removed]",
      "text/plain": [
       "<Figure size 432x288 with 1 Axes>"
      ]
     },
     "metadata": {
      "needs_background": "light"
     },
     "output_type": "display_data"
    },
    {
     "data": {
      "image/png": "[encoded data removed]",
      "text/plain": [
       "<Figure size 432x288 with 1 Axes>"
      ]
     },
     "metadata": {
      "needs_background": "light"
     },
     "output_type": "display_data"
    }
   ],
   "source": [
    "binary_cols = ['adl_dress_03', 'adl_walk_03', 'iadl_money_03', 'hypertension_03', 'diabetes_03', 'alcohol_03']\n",
    "\n",
    "# Loop through and plot binary distributions\n",
    "for col in binary_cols:\n",
    "    plt.figure(figsize=(6, 4))\n",
    "    sns.countplot(data=df, x=col)\n",
    "    plt.title(f'{col} Distribution')\n",
    "    plt.show()\n"
   ]
  },
  {
   "cell_type": "markdown",
   "metadata": {},
   "source": [
    "**DISTRIBUTION PLOTS**"
   ]
  },
  {
   "cell_type": "code",
   "execution_count": 16,
   "metadata": {},
   "outputs": [
    {
     "name": "stdout",
     "output_type": "stream",
     "text": [
      "Summary Statistics:\n",
      "           n_mar_03     n_adl_03    n_iadl_03    n_depr_03  n_illnesses_03\n",
      "count  2222.000000  2234.000000  2105.000000  2100.000000     2241.000000\n",
      "mean      1.134113     0.068487     0.047506     3.484286        0.979027\n",
      "std       0.482953     0.392793     0.296726     2.665439        0.960844\n",
      "min       0.000000     0.000000     0.000000     0.000000        0.000000\n",
      "25%       1.000000     0.000000     0.000000     1.000000        0.000000\n",
      "50%       1.000000     0.000000     0.000000     3.000000        1.000000\n",
      "75%       1.000000     0.000000     0.000000     5.000000        2.000000\n",
      "max       5.000000     5.000000     4.000000     9.000000        5.000000\n"
     ]
    }
   ],
   "source": [
    "# Continuous variables\n",
    "cont_cols = ['n_mar_03', 'n_adl_03', 'n_iadl_03', 'n_depr_03', 'n_illnesses_03']\n",
    "\n",
    "# Summary statistics\n",
    "print(\"Summary Statistics:\\n\", data[cont_cols].describe())\n"
   ]
  },
  {
   "cell_type": "code",
   "execution_count": 17,
   "metadata": {},
   "outputs": [
    {
     "data": {
      "image/png": "[encoded data removed]",
      "text/plain": [
       "<Figure size 432x288 with 1 Axes>"
      ]
     },
     "metadata": {
      "needs_background": "light"
     },
     "output_type": "display_data"
    },
    {
     "data": {
      "image/png": "[encoded data removed]",
      "text/plain": [
       "<Figure size 432x288 with 1 Axes>"
      ]
     },
     "metadata": {
      "needs_background": "light"
     },
     "output_type": "display_data"
    },
    {
     "data": {
      "image/png": "[encoded data removed]",
      "text/plain": [
       "<Figure size 432x288 with 1 Axes>"
      ]
     },
     "metadata": {
      "needs_background": "light"
     },
     "output_type": "display_data"
    },
    {
     "data": {
      "image/png": "[encoded data removed]",
      "text/plain": [
       "<Figure size 432x288 with 1 Axes>"
      ]
     },
     "metadata": {
      "needs_background": "light"
     },
     "output_type": "display_data"
    },
    {
     "data": {
      "image/png": "[encoded data removed]",
      "text/plain": [
       "<Figure size 432x288 with 1 Axes>"
      ]
     },
     "metadata": {
      "needs_background": "light"
     },
     "output_type": "display_data"
    }
   ],
   "source": [
    "for col in cont_cols:\n",
    "  plt.figure(figsize=(6, 4))\n",
    "  sns.histplot(data=df, x=col, bins=10, kde=True, color='skyblue', linewidth=2)\n",
    "  plt.title(f'Distribution of {col}')\n",
    "  plt.xlabel(col) \n",
    "  plt.ylabel('Frequency')\n",
    "  plt.grid(True)\n",
    "  plt.show()\n"
   ]
  },
  {
   "cell_type": "markdown",
   "metadata": {},
   "source": [
    "**CORRELATION MATRIX**"
   ]
  },
  {
   "cell_type": "code",
   "execution_count": 18,
   "metadata": {},
   "outputs": [
    {
     "data": {
      "image/png": "[encoded data removed]",
      "text/plain": [
       "<Figure size 864x720 with 2 Axes>"
      ]
     },
     "metadata": {
      "needs_background": "light"
     },
     "output_type": "display_data"
    }
   ],
   "source": [
    "# Selecting columns for correlation analysis\n",
    "corr_cols = binary_cols + cont_cols\n",
    "\n",
    "# Computing correlation matrix\n",
    "corr_matrix = df[corr_cols].corr()\n",
    "\n",
    "# Plotting heatmap\n",
    "plt.figure(figsize=(12, 10))\n",
    "sns.heatmap(corr_matrix, annot=True, fmt='.2f', cmap='coolwarm', vmin=-1, vmax=1)\n",
    "plt.title('Correlation Heatmap')\n",
    "plt.show()\n"
   ]
  },
  {
   "cell_type": "code",
   "execution_count": 19,
   "metadata": {},
   "outputs": [
    {
     "data": {
      "image/png": "[encoded data removed]",
      "text/plain": [
       "<Figure size 432x288 with 1 Axes>"
      ]
     },
     "metadata": {
      "needs_background": "light"
     },
     "output_type": "display_data"
    },
    {
     "data": {
      "image/png": "[encoded data removed]",
      "text/plain": [
       "<Figure size 432x288 with 1 Axes>"
      ]
     },
     "metadata": {
      "needs_background": "light"
     },
     "output_type": "display_data"
    }
   ],
   "source": [
    "# Age vs. health condition (e.g., hypertension_03)\n",
    "sns.boxplot(data=data, x='age_03', y='hypertension_03')\n",
    "plt.title('Hypertension Across Age Groups')\n",
    "plt.show()\n",
    "\n",
    "# Education level vs. number of illnesses\n",
    "sns.boxplot(data=data, x='edu_gru_03', y='n_illnesses_03')\n",
    "plt.title('Number of Illnesses Across Education Levels')\n",
    "plt.show()\n"
   ]
  },
  {
   "cell_type": "markdown",
   "metadata": {},
   "source": [
    "#### DATA CLEANING"
   ]
  },
  {
   "cell_type": "code",
   "execution_count": 20,
   "metadata": {},
   "outputs": [
    {
     "data": {
      "text/html": [
       "<div>\n",
       "<style scoped>\n",
       "    .dataframe tbody tr th:only-of-type {\n",
       "        vertical-align: middle;\n",
       "    }\n",
       "\n",
       "    .dataframe tbody tr th {\n",
       "        vertical-align: top;\n",
       "    }\n",
       "\n",
       "    .dataframe thead th {\n",
       "        text-align: right;\n",
       "    }\n",
       "</style>\n",
       "<table border=\"1\" class=\"dataframe\">\n",
       "  <thead>\n",
       "    <tr style=\"text-align: right;\">\n",
       "      <th></th>\n",
       "      <th>uid</th>\n",
       "      <th>age_03</th>\n",
       "      <th>urban_03</th>\n",
       "      <th>married_03</th>\n",
       "      <th>n_mar_03</th>\n",
       "      <th>edu_gru_03</th>\n",
       "      <th>n_living_child_03</th>\n",
       "      <th>migration_03</th>\n",
       "      <th>glob_hlth_03</th>\n",
       "      <th>adl_dress_03</th>\n",
       "      <th>...</th>\n",
       "      <th>rsocact_m_12</th>\n",
       "      <th>rrelgwk_12</th>\n",
       "      <th>a16a_12</th>\n",
       "      <th>a21_12</th>\n",
       "      <th>a22_12</th>\n",
       "      <th>a33b_12</th>\n",
       "      <th>a34_12</th>\n",
       "      <th>j11_12</th>\n",
       "      <th>year</th>\n",
       "      <th>composite_score</th>\n",
       "    </tr>\n",
       "  </thead>\n",
       "  <tbody>\n",
       "    <tr>\n",
       "      <th>0</th>\n",
       "      <td>aace</td>\n",
       "      <td>NaN</td>\n",
       "      <td>NaN</td>\n",
       "      <td>NaN</td>\n",
       "      <td>NaN</td>\n",
       "      <td>NaN</td>\n",
       "      <td>NaN</td>\n",
       "      <td>NaN</td>\n",
       "      <td>NaN</td>\n",
       "      <td>NaN</td>\n",
       "      <td>...</td>\n",
       "      <td>9.Never</td>\n",
       "      <td>0.No</td>\n",
       "      <td>NaN</td>\n",
       "      <td>NaN</td>\n",
       "      <td>NaN</td>\n",
       "      <td>NaN</td>\n",
       "      <td>NaN</td>\n",
       "      <td>Concrete 2</td>\n",
       "      <td>2021</td>\n",
       "      <td>175</td>\n",
       "    </tr>\n",
       "    <tr>\n",
       "      <th>1</th>\n",
       "      <td>aanz</td>\n",
       "      <td>NaN</td>\n",
       "      <td>NaN</td>\n",
       "      <td>NaN</td>\n",
       "      <td>NaN</td>\n",
       "      <td>NaN</td>\n",
       "      <td>NaN</td>\n",
       "      <td>NaN</td>\n",
       "      <td>NaN</td>\n",
       "      <td>NaN</td>\n",
       "      <td>...</td>\n",
       "      <td>1.Almost every day</td>\n",
       "      <td>0.No</td>\n",
       "      <td>NaN</td>\n",
       "      <td>NaN</td>\n",
       "      <td>NaN</td>\n",
       "      <td>NaN</td>\n",
       "      <td>NaN</td>\n",
       "      <td>Concrete 2</td>\n",
       "      <td>2021</td>\n",
       "      <td>206</td>\n",
       "    </tr>\n",
       "    <tr>\n",
       "      <th>2</th>\n",
       "      <td>aape</td>\n",
       "      <td>NaN</td>\n",
       "      <td>NaN</td>\n",
       "      <td>NaN</td>\n",
       "      <td>NaN</td>\n",
       "      <td>NaN</td>\n",
       "      <td>NaN</td>\n",
       "      <td>NaN</td>\n",
       "      <td>NaN</td>\n",
       "      <td>NaN</td>\n",
       "      <td>...</td>\n",
       "      <td>2.4 or more times a week</td>\n",
       "      <td>0.No</td>\n",
       "      <td>NaN</td>\n",
       "      <td>NaN</td>\n",
       "      <td>NaN</td>\n",
       "      <td>NaN</td>\n",
       "      <td>NaN</td>\n",
       "      <td>Wood, mosaic, or other covering 1</td>\n",
       "      <td>2016</td>\n",
       "      <td>161</td>\n",
       "    </tr>\n",
       "    <tr>\n",
       "      <th>3</th>\n",
       "      <td>aape</td>\n",
       "      <td>NaN</td>\n",
       "      <td>NaN</td>\n",
       "      <td>NaN</td>\n",
       "      <td>NaN</td>\n",
       "      <td>NaN</td>\n",
       "      <td>NaN</td>\n",
       "      <td>NaN</td>\n",
       "      <td>NaN</td>\n",
       "      <td>NaN</td>\n",
       "      <td>...</td>\n",
       "      <td>2.4 or more times a week</td>\n",
       "      <td>0.No</td>\n",
       "      <td>NaN</td>\n",
       "      <td>NaN</td>\n",
       "      <td>NaN</td>\n",
       "      <td>NaN</td>\n",
       "      <td>NaN</td>\n",
       "      <td>Wood, mosaic, or other covering 1</td>\n",
       "      <td>2021</td>\n",
       "      <td>144</td>\n",
       "    </tr>\n",
       "    <tr>\n",
       "      <th>4</th>\n",
       "      <td>aard</td>\n",
       "      <td>1. 50–59</td>\n",
       "      <td>1. 100,000+</td>\n",
       "      <td>3. Widowed</td>\n",
       "      <td>1.0</td>\n",
       "      <td>3. 7–9 years</td>\n",
       "      <td>1. 1 or 2</td>\n",
       "      <td>0.0</td>\n",
       "      <td>4. Fair</td>\n",
       "      <td>0.0</td>\n",
       "      <td>...</td>\n",
       "      <td>9.Never</td>\n",
       "      <td>1.Yes</td>\n",
       "      <td>NaN</td>\n",
       "      <td>NaN</td>\n",
       "      <td>NaN</td>\n",
       "      <td>NaN</td>\n",
       "      <td>No 2</td>\n",
       "      <td>Concrete 2</td>\n",
       "      <td>2021</td>\n",
       "      <td>104</td>\n",
       "    </tr>\n",
       "  </tbody>\n",
       "</table>\n",
       "<p>5 rows × 186 columns</p>\n",
       "</div>"
      ],
      "text/plain": [
       "    uid    age_03     urban_03  married_03  n_mar_03    edu_gru_03  \\\n",
       "0  aace       NaN          NaN         NaN       NaN           NaN   \n",
       "1  aanz       NaN          NaN         NaN       NaN           NaN   \n",
       "2  aape       NaN          NaN         NaN       NaN           NaN   \n",
       "3  aape       NaN          NaN         NaN       NaN           NaN   \n",
       "4  aard  1. 50–59  1. 100,000+  3. Widowed       1.0  3. 7–9 years   \n",
       "\n",
       "  n_living_child_03  migration_03 glob_hlth_03  adl_dress_03  ...  \\\n",
       "0               NaN           NaN          NaN           NaN  ...   \n",
       "1               NaN           NaN          NaN           NaN  ...   \n",
       "2               NaN           NaN          NaN           NaN  ...   \n",
       "3               NaN           NaN          NaN           NaN  ...   \n",
       "4         1. 1 or 2           0.0      4. Fair           0.0  ...   \n",
       "\n",
       "               rsocact_m_12  rrelgwk_12  a16a_12  a21_12  a22_12  a33b_12  \\\n",
       "0                   9.Never        0.No      NaN     NaN     NaN      NaN   \n",
       "1        1.Almost every day        0.No      NaN     NaN     NaN      NaN   \n",
       "2  2.4 or more times a week        0.No      NaN     NaN     NaN      NaN   \n",
       "3  2.4 or more times a week        0.No      NaN     NaN     NaN      NaN   \n",
       "4                   9.Never       1.Yes      NaN     NaN     NaN      NaN   \n",
       "\n",
       "   a34_12                             j11_12  year  composite_score  \n",
       "0     NaN                         Concrete 2  2021              175  \n",
       "1     NaN                         Concrete 2  2021              206  \n",
       "2     NaN  Wood, mosaic, or other covering 1  2016              161  \n",
       "3     NaN  Wood, mosaic, or other covering 1  2021              144  \n",
       "4    No 2                         Concrete 2  2021              104  \n",
       "\n",
       "[5 rows x 186 columns]"
      ]
     },
     "execution_count": 20,
     "metadata": {},
     "output_type": "execute_result"
    }
   ],
   "source": [
    "df.head()"
   ]
  },
  {
   "cell_type": "code",
   "execution_count": 21,
   "metadata": {},
   "outputs": [
    {
     "name": "stdout",
     "output_type": "stream",
     "text": [
      "Missing Value Percentage:\n",
      " uid                 0.000000\n",
      "age_03             33.525213\n",
      "urban_03           33.479162\n",
      "married_03         33.479162\n",
      "n_mar_03           34.123878\n",
      "                     ...    \n",
      "a33b_12            98.733594\n",
      "a34_12             36.863919\n",
      "j11_12              2.049275\n",
      "year                0.000000\n",
      "composite_score     0.000000\n",
      "Length: 186, dtype: float64\n"
     ]
    }
   ],
   "source": [
    "missing_percentage = df.isnull().mean() * 100\n",
    "\n",
    "# Display the missing percentage\n",
    "print(\"Missing Value Percentage:\\n\", missing_percentage)\n",
    "\n",
    "# Drop columns with over 50% missing values\n",
    "df = df.loc[:, missing_percentage <= 50]"
   ]
  },
  {
   "cell_type": "code",
   "execution_count": 22,
   "metadata": {},
   "outputs": [
    {
     "data": {
      "text/plain": [
       "(4343, 173)"
      ]
     },
     "execution_count": 22,
     "metadata": {},
     "output_type": "execute_result"
    }
   ],
   "source": [
    "df.shape"
   ]
  },
  {
   "cell_type": "code",
   "execution_count": 23,
   "metadata": {},
   "outputs": [],
   "source": [
    "from sklearn.impute import SimpleImputer\n",
    "\n",
    "# Separate numerical and categorical columns\n",
    "numerical_cols = df.select_dtypes(include=['float64', 'int64']).columns\n",
    "categorical_cols = df.select_dtypes(include=['object']).columns\n",
    "\n",
    "# Create imputer objects\n",
    "num_imputer = SimpleImputer(strategy='median')  # For numerical columns\n",
    "cat_imputer = SimpleImputer(strategy='most_frequent')  # For categorical columns\n",
    "\n",
    "# Fill missing values in numerical columns\n",
    "df[numerical_cols] = num_imputer.fit_transform(df[numerical_cols])\n",
    "\n",
    "# Fill missing values in categorical columns\n",
    "df[categorical_cols] = cat_imputer.fit_transform(df[categorical_cols])\n"
   ]
  },
  {
   "cell_type": "markdown",
   "metadata": {},
   "source": [
    "**Mapping Categorical Columns in the Data**\n",
    "\n",
    "In this section, we convert categorical data into numerical data through mapping. We will first identify the catergorical columns the create a mapping dictionary for each of the categorical variables. The variables will be assigned numbers eg 1, 2, 3, 4 according to how they appear on the dataset"
   ]
  },
  {
   "cell_type": "code",
   "execution_count": 24,
   "metadata": {},
   "outputs": [
    {
     "name": "stdout",
     "output_type": "stream",
     "text": [
      "Unique values in 'uid': ['aace' 'aanz' 'aape' ... 'zzci' 'zzjb' 'zzti']\n",
      "Unique values in 'age_03': ['1. 50–59' '3. 70–79' '2. 60–69' '0. 49 or younger' '4. 80+']\n",
      "Unique values in 'urban_03': ['1. 100,000+' '0. <100,000']\n",
      "Unique values in 'married_03': ['1. Married or in civil union' '3. Widowed' '4. Single'\n",
      " '2. Separated or divorced']\n",
      "Unique values in 'edu_gru_03': ['1. 1–5 years' '3. 7–9 years' '0. No education' '2. 6 years'\n",
      " '4. 10+ years']\n",
      "Unique values in 'n_living_child_03': ['2. 3 or 4' '1. 1 or 2' '3. 5 or 6' '0. No children' '4. 7+']\n",
      "Unique values in 'glob_hlth_03': ['4. Fair' '5. Poor' '3. Good' '1. Excellent' '2. Very good']\n",
      "Unique values in 'employment_03': ['1. Currently Working' '3. Dedicated to household chores'\n",
      " '2. Currently looking for work'\n",
      " '4. Retired, incapacitated, or does not work']\n",
      "Unique values in 'age_12': ['2. 60–69' '1. 50–59' '4. 80+' '3. 70–79' '0. 49 or younger']\n",
      "Unique values in 'urban_12': ['0. <100,000' '1. 100,000+']\n",
      "Unique values in 'married_12': ['1. Married or in civil union' '3. Widowed' '2. Separated or divorced'\n",
      " '4. Single']\n",
      "Unique values in 'edu_gru_12': ['0. No education' '3. 7–9 years' '1. 1–5 years' '2. 6 years'\n",
      " '4. 10+ years']\n",
      "Unique values in 'n_living_child_12': ['1. 1 or 2' '3. 5 or 6' '0. No children' '2. 3 or 4' '4. 7+']\n",
      "Unique values in 'glob_hlth_12': ['4. Fair' '3. Good' '2. Very good' '5. Poor' '1. Excellent']\n",
      "Unique values in 'bmi_12': ['3. Overweight' '4. Obese' '2. Normal weight' '1. Underweight'\n",
      " '5. Morbidly obese']\n",
      "Unique values in 'decis_famil_12': ['2. Approximately equal weight' '3. Spouse' '1. Respondent']\n",
      "Unique values in 'decis_personal_12': ['1. A lot' '2. A little' '3. None']\n",
      "Unique values in 'employment_12': ['1. Currently Working' '2. Currently looking for work'\n",
      " '3. Dedicated to household chores'\n",
      " '4. Retired, incapacitated, or does not work']\n",
      "Unique values in 'satis_ideal_12': ['3. Disagrees' '1. Agrees' '2. Neither agrees nor disagrees']\n",
      "Unique values in 'satis_excel_12': ['3. Disagrees' '2. Neither agrees nor disagrees' '1. Agrees']\n",
      "Unique values in 'satis_fine_12': ['1. Agrees' '3. Disagrees' '2. Neither agrees nor disagrees']\n",
      "Unique values in 'cosas_imp_12': ['1. Agrees' '2. Neither agrees nor disagrees' '3. Disagrees']\n",
      "Unique values in 'wouldnt_change_12': ['3. Disagrees' '1. Agrees' '2. Neither agrees nor disagrees']\n",
      "Unique values in 'memory_12': ['2. Very good' '4. Fair' '3. Good' '5. Poor' '1. Excellent']\n",
      "Unique values in 'ragender': ['1.Man' '2.Woman']\n",
      "Unique values in 'rameduc_m': ['1.None' '2.Some primary' '3.Primary' '4.More than primary']\n",
      "Unique values in 'rafeduc_m': ['1.None' '2.Some primary' '4.More than primary' '3.Primary']\n",
      "Unique values in 'sgender_03': ['1.Man' '2.Woman']\n",
      "Unique values in 'rrelgimp_03': ['1.very important' '2.somewhat important' '3.not important']\n",
      "Unique values in 'sgender_12': ['2.Woman' '1.Man']\n",
      "Unique values in 'rjlocc_m_12': ['6.Workers in Agriculture, Livestock, Forestry, and Fishing'\n",
      " '18.Safety and Security Personnel'\n",
      " '8.Artisans and Workers in Production, Repair, Maintenance'\n",
      " '14.Merchants and Sales Representatives' '17.Domestic Workers'\n",
      " '9.Operators of Fixed Machinery and Equipment for Ind. Production'\n",
      " '15.Traveling Salespeople and Traveling Salespeople of Services'\n",
      " '16.Workers in the Service Industry'\n",
      " '4.Workers in Art, Shows, and Sports' '3.Educators'\n",
      " '12.Department Heads/Coordinators/Supervisors in Admin and Service Activities'\n",
      " '10.Asst/Laborers etc in Ind. Production, Repair, Maintenance'\n",
      " '1.Professionals' '13.Administrative Support Staff'\n",
      " '11.Drivers and Asst Drivers of Mobile Machinery and Transport Vehicles'\n",
      " '7.Bosses/Supervisors etc in Artistic, Ind. Production, Repair, Maintenance Activities'\n",
      " '2.Technicians'\n",
      " '5.Officials and Directors Public, Private, and Social Sectors']\n",
      "Unique values in 'rrelgimp_12': ['2.somewhat important' '1.very important' '3.not important']\n",
      "Unique values in 'rrfcntx_m_12': ['9.Never' '6.2 or 3 times a month' '4.Once a week'\n",
      " '3.2 or 3 times a week' '8.Almost Never, sporadic' '1.Almost every day'\n",
      " '2.4 or more times a week' '7.Once a month' '5.4 or more times a month']\n",
      "Unique values in 'rsocact_m_12': ['9.Never' '1.Almost every day' '2.4 or more times a week'\n",
      " '3.2 or 3 times a week' '4.Once a week' '7.Once a month'\n",
      " '8.Almost Never, sporadic' '6.2 or 3 times a month'\n",
      " '5.4 or more times a month']\n",
      "Unique values in 'rrelgwk_12': ['0.No' '1.Yes']\n",
      "Unique values in 'a34_12': ['No 2' 'Yes 1']\n",
      "Unique values in 'j11_12': ['Concrete 2' 'Wood, mosaic, or other covering 1' 'Mud 3']\n"
     ]
    }
   ],
   "source": [
    "#extracting categorical columns\n",
    "categorical_columns = df.select_dtypes(include='object')\n",
    "for col in categorical_columns:\n",
    "    print(f\"Unique values in '{col}': {df[col].unique()}\")\n"
   ]
  },
  {
   "cell_type": "markdown",
   "metadata": {},
   "source": [
    "From the above output, we can see that some features have this format: ['0. No Education, 1. 1-5Years]. We will deal with thes columns by mapping them."
   ]
  },
  {
   "cell_type": "code",
   "execution_count": 25,
   "metadata": {},
   "outputs": [],
   "source": [
    "# Define mappings for each categorical column\n",
    "mappings = {\n",
    "    'age_03': {\n",
    "        '1. 50–59': 1,\n",
    "        '3. 70–79': 3,\n",
    "        '2. 60–69': 2,\n",
    "        '0. 49 or younger': 0,\n",
    "        '4. 80+': 4\n",
    "    },\n",
    "    'urban_03': {\n",
    "        '1. 100,000+': 1,\n",
    "        '0. <100,000': 0\n",
    "    },\n",
    "    'married_03': {\n",
    "        '3. Widowed': 3,\n",
    "        '1. Married or in civil union': 1,\n",
    "        '4. Single': 4,\n",
    "        '2. Separated or divorced': 2\n",
    "    },\n",
    "    'edu_gru_03': {\n",
    "        '3. 7–9 years': 3,\n",
    "        '1. 1–5 years': 1,\n",
    "        '0. No education': 0,\n",
    "        '2. 6 years': 2,\n",
    "        '4. 10+ years': 4\n",
    "    },\n",
    "    'n_living_child_03': {\n",
    "        '1. 1 or 2': 1,\n",
    "        '3. 5 or 6': 3,\n",
    "        '0. No children': 0,\n",
    "        '2. 3 or 4': 2,\n",
    "        '4. 7+': 4\n",
    "    },\n",
    "    'glob_hlth_03': {\n",
    "        '4. Fair': 4,\n",
    "        '5. Poor': 5,\n",
    "        '3. Good': 3,\n",
    "        '1. Excellent': 1,\n",
    "        '2. Very good': 2\n",
    "    },\n",
    "    'employment_03': {\n",
    "        '3. Dedicated to household chores': 3,\n",
    "        '1. Currently Working': 1,\n",
    "        '2. Currently looking for work': 2,\n",
    "        '4. Retired, incapacitated, or does not work': 4\n",
    "    },\n",
    "    'age_12': {\n",
    "        '2. 60–69': 2,\n",
    "        '1. 50–59': 1,\n",
    "        '4. 80+': 4,\n",
    "        '3. 70–79': 3,\n",
    "        '0. 49 or younger': 0\n",
    "    },\n",
    "    'urban_12': {\n",
    "        '0. <100,000': 0,\n",
    "        '1. 100,000+': 1\n",
    "    },\n",
    "    'married_12': {\n",
    "        '1. Married or in civil union': 1,\n",
    "        '3. Widowed': 3,\n",
    "        '2. Separated or divorced': 2,\n",
    "        '4. Single': 4\n",
    "    },\n",
    "    'edu_gru_12': {\n",
    "        '0. No education': 0,\n",
    "        '3. 7–9 years': 3,\n",
    "        '1. 1–5 years': 1,\n",
    "        '2. 6 years': 2,\n",
    "        '4. 10+ years': 4\n",
    "    },\n",
    "    'n_living_child_12': {\n",
    "        '1. 1 or 2': 1,\n",
    "        '3. 5 or 6': 3,\n",
    "        '0. No children': 0,\n",
    "        '2. 3 or 4': 2,\n",
    "        '4. 7+': 4\n",
    "    },\n",
    "    'glob_hlth_12': {\n",
    "        '4. Fair': 4,\n",
    "        '3. Good': 3,\n",
    "        '2. Very good': 2,\n",
    "        '5. Poor': 5,\n",
    "        '1. Excellent': 1\n",
    "    },\n",
    "    'bmi_12': {\n",
    "        '3. Overweight': 3,\n",
    "        '4. Obese': 4,\n",
    "        '2. Normal weight': 2,\n",
    "        '1. Underweight': 1,\n",
    "        '5. Morbidly obese': 5\n",
    "    },\n",
    "    'decis_famil_12': {\n",
    "        '2. Approximately equal weight': 2,\n",
    "        '3. Spouse': 3,\n",
    "        '1. Respondent': 1\n",
    "    },\n",
    "    'decis_personal_12': {\n",
    "        '1. A lot': 1,\n",
    "        '2. A little': 2,\n",
    "        '3. None': 3\n",
    "    },\n",
    "    'employment_12': {\n",
    "        '1. Currently Working': 1,\n",
    "        '2. Currently looking for work': 2,\n",
    "        '3. Dedicated to household chores': 3,\n",
    "        '4. Retired, incapacitated, or does not work': 4\n",
    "    },\n",
    "    'satis_ideal_12': {\n",
    "        '3. Disagrees': 3,\n",
    "        '1. Agrees': 1,\n",
    "        '2. Neither agrees nor disagrees': 2\n",
    "    },\n",
    "    'satis_excel_12': {\n",
    "        '3. Disagrees': 3,\n",
    "        '2. Neither agrees nor disagrees': 2,\n",
    "        '1. Agrees': 1\n",
    "    },\n",
    "    'satis_fine_12': {\n",
    "        '1. Agrees': 1,\n",
    "        '3. Disagrees': 3,\n",
    "        '2. Neither agrees nor disagrees': 2\n",
    "    },\n",
    "    'cosas_imp_12': {\n",
    "        '1. Agrees': 1,\n",
    "        '2. Neither agrees nor disagrees': 2,\n",
    "        '3. Disagrees': 3\n",
    "    },\n",
    "    'wouldnt_change_12': {\n",
    "        '3. Disagrees': 3,\n",
    "        '1. Agrees': 1,\n",
    "        '2. Neither agrees nor disagrees': 2\n",
    "    },\n",
    "    'memory_12': {\n",
    "        '2. Very good': 2,\n",
    "        '4. Fair': 4,\n",
    "        '3. Good': 3,\n",
    "        '5. Poor': 5,\n",
    "        '1. Excellent': 1\n",
    "    },\n",
    "    'ragender': {\n",
    "        '1.Man': 1,\n",
    "        '2.Woman': 2\n",
    "    },\n",
    "    'rameduc_m': {\n",
    "        '1.None': 1,\n",
    "        '2.Some primary': 2,\n",
    "        '3.Primary': 3,\n",
    "        '4.More than primary': 4\n",
    "    },\n",
    "    'rafeduc_m': {\n",
    "        '1.None': 1,\n",
    "        '2.Some primary': 2,\n",
    "        '4.More than primary': 4,\n",
    "        '3.Primary': 3\n",
    "    },\n",
    "    'sgender_03': {\n",
    "        '2.Woman': 2,\n",
    "        '1.Man': 1\n",
    "    },\n",
    "    'rrelgimp_03': {\n",
    "        '1.very important': 1,\n",
    "        '2.somewhat important': 2,\n",
    "        '3.not important': 3\n",
    "    },\n",
    "    'sgender_12': {\n",
    "        '2.Woman': 2,\n",
    "        '1.Man': 1\n",
    "    },\n",
    "    'rjlocc_m_12': {\n",
    "        '6.Workers in Agriculture, Livestock, Forestry, and Fishing': 6,\n",
    "        '18.Safety and Security Personnel': 18,\n",
    "        '8.Artisans and Workers in Production, Repair, Maintenance': 8,\n",
    "        '14.Merchants and Sales Representatives': 14,\n",
    "        '17.Domestic Workers': 17,\n",
    "        '9.Operators of Fixed Machinery and Equipment for Ind. Production': 9,\n",
    "        '15.Traveling Salespeople and Traveling Salespeople of Services': 15,\n",
    "        '16.Workers in the Service Industry': 16,\n",
    "        '4.Workers in Art, Shows, and Sports': 4,\n",
    "        '3.Educators': 3,\n",
    "        '12.Department Heads/Coordinators/Supervisors in Admin and Service Activities': 12,\n",
    "        '10.Asst/Laborers etc in Ind. Production, Repair, Maintenance': 10,\n",
    "        '1.Professionals': 1,\n",
    "        '13.Administrative Support Staff': 13,\n",
    "        '11.Drivers and Asst Drivers of Mobile Machinery and Transport Vehicles': 11,\n",
    "        '7.Bosses/Supervisors etc in Artistic, Ind. Production, Repair, Maintenance Activities': 7,\n",
    "        '2.Technicians': 2,\n",
    "        '5.Officials and Directors Public, Private, and Social Sectors': 5\n",
    "    },\n",
    "    'rrelgimp_12': {\n",
    "        '2.somewhat important': 2,\n",
    "        '1.very important': 1,\n",
    "        '3.not important': 3\n",
    "    },\n",
    "    'rrfcntx_m_12': {\n",
    "        '9.Never': 9,\n",
    "        '6.2 or 3 times a month': 6,\n",
    "        '4.Once a week': 4,\n",
    "        '3.2 or 3 times a week': 3,\n",
    "        '8.Almost Never, sporadic': 8,\n",
    "        '1.Almost every day': 1,\n",
    "        '2.4 or more times a week': 2,\n",
    "        '7.Once a month': 7,\n",
    "        '5.4 or more times a month': 5\n",
    "    },\n",
    "    'rsocact_m_12': {\n",
    "        '9.Never': 9,\n",
    "        '1.Almost every day': 1,\n",
    "        '2.4 or more times a week': 2,\n",
    "        '3.2 or 3 times a week': 3,\n",
    "        '4.Once a week': 4,\n",
    "        '8.Almost Never, sporadic': 8,\n",
    "        '5.2 or 3 times a month': 5,\n",
    "        '6.Once a month': 6,\n",
    "        '7.4 or more times a month': 7\n",
    "    },\n",
    "    'rrelgwk_12': {\n",
    "        '0.No': 0,\n",
    "        '1.Yes': 1\n",
    "    },\n",
    "    'a34_12': {\n",
    "        'No 2': 0,\n",
    "        'Yes 1': 1\n",
    "    },\n",
    "    'j11_12': {\n",
    "        'Wood, mosaic, or other covering 1': 1,\n",
    "        'Concrete 2': 2,\n",
    "        'Mud 3': 3\n",
    "    }\n",
    "}\n",
    "\n"
   ]
  },
  {
   "cell_type": "code",
   "execution_count": 26,
   "metadata": {},
   "outputs": [],
   "source": [
    "#applying the mappings to the columns \n",
    "for column, mapping in mappings.items():\n",
    "    df[column] = df[column].map(mapping)"
   ]
  },
  {
   "cell_type": "code",
   "execution_count": 27,
   "metadata": {},
   "outputs": [
    {
     "data": {
      "text/html": [
       "<div>\n",
       "<style scoped>\n",
       "    .dataframe tbody tr th:only-of-type {\n",
       "        vertical-align: middle;\n",
       "    }\n",
       "\n",
       "    .dataframe tbody tr th {\n",
       "        vertical-align: top;\n",
       "    }\n",
       "\n",
       "    .dataframe thead th {\n",
       "        text-align: right;\n",
       "    }\n",
       "</style>\n",
       "<table border=\"1\" class=\"dataframe\">\n",
       "  <thead>\n",
       "    <tr style=\"text-align: right;\">\n",
       "      <th></th>\n",
       "      <th>uid</th>\n",
       "      <th>age_03</th>\n",
       "      <th>urban_03</th>\n",
       "      <th>married_03</th>\n",
       "      <th>n_mar_03</th>\n",
       "      <th>edu_gru_03</th>\n",
       "      <th>n_living_child_03</th>\n",
       "      <th>migration_03</th>\n",
       "      <th>glob_hlth_03</th>\n",
       "      <th>adl_dress_03</th>\n",
       "      <th>...</th>\n",
       "      <th>rinc_pension_12</th>\n",
       "      <th>sinc_pension_12</th>\n",
       "      <th>rrelgimp_12</th>\n",
       "      <th>rrfcntx_m_12</th>\n",
       "      <th>rsocact_m_12</th>\n",
       "      <th>rrelgwk_12</th>\n",
       "      <th>a34_12</th>\n",
       "      <th>j11_12</th>\n",
       "      <th>year</th>\n",
       "      <th>composite_score</th>\n",
       "    </tr>\n",
       "  </thead>\n",
       "  <tbody>\n",
       "    <tr>\n",
       "      <th>0</th>\n",
       "      <td>aace</td>\n",
       "      <td>1</td>\n",
       "      <td>1</td>\n",
       "      <td>1</td>\n",
       "      <td>1.0</td>\n",
       "      <td>1</td>\n",
       "      <td>2</td>\n",
       "      <td>0.0</td>\n",
       "      <td>4</td>\n",
       "      <td>0.0</td>\n",
       "      <td>...</td>\n",
       "      <td>0.0</td>\n",
       "      <td>0.0</td>\n",
       "      <td>2</td>\n",
       "      <td>9</td>\n",
       "      <td>9.0</td>\n",
       "      <td>0</td>\n",
       "      <td>0</td>\n",
       "      <td>2</td>\n",
       "      <td>2021.0</td>\n",
       "      <td>175.0</td>\n",
       "    </tr>\n",
       "    <tr>\n",
       "      <th>1</th>\n",
       "      <td>aanz</td>\n",
       "      <td>1</td>\n",
       "      <td>1</td>\n",
       "      <td>1</td>\n",
       "      <td>1.0</td>\n",
       "      <td>1</td>\n",
       "      <td>2</td>\n",
       "      <td>0.0</td>\n",
       "      <td>4</td>\n",
       "      <td>0.0</td>\n",
       "      <td>...</td>\n",
       "      <td>0.0</td>\n",
       "      <td>0.0</td>\n",
       "      <td>1</td>\n",
       "      <td>9</td>\n",
       "      <td>1.0</td>\n",
       "      <td>0</td>\n",
       "      <td>0</td>\n",
       "      <td>2</td>\n",
       "      <td>2021.0</td>\n",
       "      <td>206.0</td>\n",
       "    </tr>\n",
       "    <tr>\n",
       "      <th>2</th>\n",
       "      <td>aape</td>\n",
       "      <td>1</td>\n",
       "      <td>1</td>\n",
       "      <td>1</td>\n",
       "      <td>1.0</td>\n",
       "      <td>1</td>\n",
       "      <td>2</td>\n",
       "      <td>0.0</td>\n",
       "      <td>4</td>\n",
       "      <td>0.0</td>\n",
       "      <td>...</td>\n",
       "      <td>0.0</td>\n",
       "      <td>0.0</td>\n",
       "      <td>2</td>\n",
       "      <td>6</td>\n",
       "      <td>2.0</td>\n",
       "      <td>0</td>\n",
       "      <td>0</td>\n",
       "      <td>1</td>\n",
       "      <td>2016.0</td>\n",
       "      <td>161.0</td>\n",
       "    </tr>\n",
       "    <tr>\n",
       "      <th>3</th>\n",
       "      <td>aape</td>\n",
       "      <td>1</td>\n",
       "      <td>1</td>\n",
       "      <td>1</td>\n",
       "      <td>1.0</td>\n",
       "      <td>1</td>\n",
       "      <td>2</td>\n",
       "      <td>0.0</td>\n",
       "      <td>4</td>\n",
       "      <td>0.0</td>\n",
       "      <td>...</td>\n",
       "      <td>0.0</td>\n",
       "      <td>0.0</td>\n",
       "      <td>2</td>\n",
       "      <td>6</td>\n",
       "      <td>2.0</td>\n",
       "      <td>0</td>\n",
       "      <td>0</td>\n",
       "      <td>1</td>\n",
       "      <td>2021.0</td>\n",
       "      <td>144.0</td>\n",
       "    </tr>\n",
       "    <tr>\n",
       "      <th>4</th>\n",
       "      <td>aard</td>\n",
       "      <td>1</td>\n",
       "      <td>1</td>\n",
       "      <td>3</td>\n",
       "      <td>1.0</td>\n",
       "      <td>3</td>\n",
       "      <td>1</td>\n",
       "      <td>0.0</td>\n",
       "      <td>4</td>\n",
       "      <td>0.0</td>\n",
       "      <td>...</td>\n",
       "      <td>0.0</td>\n",
       "      <td>0.0</td>\n",
       "      <td>1</td>\n",
       "      <td>4</td>\n",
       "      <td>9.0</td>\n",
       "      <td>1</td>\n",
       "      <td>0</td>\n",
       "      <td>2</td>\n",
       "      <td>2021.0</td>\n",
       "      <td>104.0</td>\n",
       "    </tr>\n",
       "    <tr>\n",
       "      <th>...</th>\n",
       "      <td>...</td>\n",
       "      <td>...</td>\n",
       "      <td>...</td>\n",
       "      <td>...</td>\n",
       "      <td>...</td>\n",
       "      <td>...</td>\n",
       "      <td>...</td>\n",
       "      <td>...</td>\n",
       "      <td>...</td>\n",
       "      <td>...</td>\n",
       "      <td>...</td>\n",
       "      <td>...</td>\n",
       "      <td>...</td>\n",
       "      <td>...</td>\n",
       "      <td>...</td>\n",
       "      <td>...</td>\n",
       "      <td>...</td>\n",
       "      <td>...</td>\n",
       "      <td>...</td>\n",
       "      <td>...</td>\n",
       "      <td>...</td>\n",
       "    </tr>\n",
       "    <tr>\n",
       "      <th>4338</th>\n",
       "      <td>zzag</td>\n",
       "      <td>1</td>\n",
       "      <td>0</td>\n",
       "      <td>1</td>\n",
       "      <td>1.0</td>\n",
       "      <td>1</td>\n",
       "      <td>4</td>\n",
       "      <td>0.0</td>\n",
       "      <td>5</td>\n",
       "      <td>0.0</td>\n",
       "      <td>...</td>\n",
       "      <td>0.0</td>\n",
       "      <td>0.0</td>\n",
       "      <td>1</td>\n",
       "      <td>9</td>\n",
       "      <td>4.0</td>\n",
       "      <td>1</td>\n",
       "      <td>0</td>\n",
       "      <td>2</td>\n",
       "      <td>2021.0</td>\n",
       "      <td>152.0</td>\n",
       "    </tr>\n",
       "    <tr>\n",
       "      <th>4339</th>\n",
       "      <td>zzci</td>\n",
       "      <td>1</td>\n",
       "      <td>0</td>\n",
       "      <td>3</td>\n",
       "      <td>1.0</td>\n",
       "      <td>1</td>\n",
       "      <td>1</td>\n",
       "      <td>0.0</td>\n",
       "      <td>4</td>\n",
       "      <td>0.0</td>\n",
       "      <td>...</td>\n",
       "      <td>0.0</td>\n",
       "      <td>0.0</td>\n",
       "      <td>1</td>\n",
       "      <td>9</td>\n",
       "      <td>9.0</td>\n",
       "      <td>1</td>\n",
       "      <td>0</td>\n",
       "      <td>2</td>\n",
       "      <td>2016.0</td>\n",
       "      <td>140.0</td>\n",
       "    </tr>\n",
       "    <tr>\n",
       "      <th>4340</th>\n",
       "      <td>zzci</td>\n",
       "      <td>1</td>\n",
       "      <td>0</td>\n",
       "      <td>3</td>\n",
       "      <td>1.0</td>\n",
       "      <td>1</td>\n",
       "      <td>1</td>\n",
       "      <td>0.0</td>\n",
       "      <td>4</td>\n",
       "      <td>0.0</td>\n",
       "      <td>...</td>\n",
       "      <td>0.0</td>\n",
       "      <td>0.0</td>\n",
       "      <td>1</td>\n",
       "      <td>9</td>\n",
       "      <td>9.0</td>\n",
       "      <td>1</td>\n",
       "      <td>0</td>\n",
       "      <td>2</td>\n",
       "      <td>2021.0</td>\n",
       "      <td>121.0</td>\n",
       "    </tr>\n",
       "    <tr>\n",
       "      <th>4341</th>\n",
       "      <td>zzjb</td>\n",
       "      <td>1</td>\n",
       "      <td>0</td>\n",
       "      <td>1</td>\n",
       "      <td>1.0</td>\n",
       "      <td>0</td>\n",
       "      <td>2</td>\n",
       "      <td>0.0</td>\n",
       "      <td>3</td>\n",
       "      <td>0.0</td>\n",
       "      <td>...</td>\n",
       "      <td>0.0</td>\n",
       "      <td>0.0</td>\n",
       "      <td>1</td>\n",
       "      <td>9</td>\n",
       "      <td>9.0</td>\n",
       "      <td>0</td>\n",
       "      <td>0</td>\n",
       "      <td>2</td>\n",
       "      <td>2021.0</td>\n",
       "      <td>32.0</td>\n",
       "    </tr>\n",
       "    <tr>\n",
       "      <th>4342</th>\n",
       "      <td>zzti</td>\n",
       "      <td>1</td>\n",
       "      <td>1</td>\n",
       "      <td>1</td>\n",
       "      <td>3.0</td>\n",
       "      <td>0</td>\n",
       "      <td>4</td>\n",
       "      <td>0.0</td>\n",
       "      <td>4</td>\n",
       "      <td>0.0</td>\n",
       "      <td>...</td>\n",
       "      <td>0.0</td>\n",
       "      <td>0.0</td>\n",
       "      <td>1</td>\n",
       "      <td>9</td>\n",
       "      <td>1.0</td>\n",
       "      <td>0</td>\n",
       "      <td>0</td>\n",
       "      <td>2</td>\n",
       "      <td>2021.0</td>\n",
       "      <td>147.0</td>\n",
       "    </tr>\n",
       "  </tbody>\n",
       "</table>\n",
       "<p>4343 rows × 173 columns</p>\n",
       "</div>"
      ],
      "text/plain": [
       "       uid  age_03  urban_03  married_03  n_mar_03  edu_gru_03  \\\n",
       "0     aace       1         1           1       1.0           1   \n",
       "1     aanz       1         1           1       1.0           1   \n",
       "2     aape       1         1           1       1.0           1   \n",
       "3     aape       1         1           1       1.0           1   \n",
       "4     aard       1         1           3       1.0           3   \n",
       "...    ...     ...       ...         ...       ...         ...   \n",
       "4338  zzag       1         0           1       1.0           1   \n",
       "4339  zzci       1         0           3       1.0           1   \n",
       "4340  zzci       1         0           3       1.0           1   \n",
       "4341  zzjb       1         0           1       1.0           0   \n",
       "4342  zzti       1         1           1       3.0           0   \n",
       "\n",
       "      n_living_child_03  migration_03  glob_hlth_03  adl_dress_03  ...  \\\n",
       "0                     2           0.0             4           0.0  ...   \n",
       "1                     2           0.0             4           0.0  ...   \n",
       "2                     2           0.0             4           0.0  ...   \n",
       "3                     2           0.0             4           0.0  ...   \n",
       "4                     1           0.0             4           0.0  ...   \n",
       "...                 ...           ...           ...           ...  ...   \n",
       "4338                  4           0.0             5           0.0  ...   \n",
       "4339                  1           0.0             4           0.0  ...   \n",
       "4340                  1           0.0             4           0.0  ...   \n",
       "4341                  2           0.0             3           0.0  ...   \n",
       "4342                  4           0.0             4           0.0  ...   \n",
       "\n",
       "      rinc_pension_12  sinc_pension_12  rrelgimp_12  rrfcntx_m_12  \\\n",
       "0                 0.0              0.0            2             9   \n",
       "1                 0.0              0.0            1             9   \n",
       "2                 0.0              0.0            2             6   \n",
       "3                 0.0              0.0            2             6   \n",
       "4                 0.0              0.0            1             4   \n",
       "...               ...              ...          ...           ...   \n",
       "4338              0.0              0.0            1             9   \n",
       "4339              0.0              0.0            1             9   \n",
       "4340              0.0              0.0            1             9   \n",
       "4341              0.0              0.0            1             9   \n",
       "4342              0.0              0.0            1             9   \n",
       "\n",
       "      rsocact_m_12  rrelgwk_12  a34_12  j11_12    year  composite_score  \n",
       "0              9.0           0       0       2  2021.0            175.0  \n",
       "1              1.0           0       0       2  2021.0            206.0  \n",
       "2              2.0           0       0       1  2016.0            161.0  \n",
       "3              2.0           0       0       1  2021.0            144.0  \n",
       "4              9.0           1       0       2  2021.0            104.0  \n",
       "...            ...         ...     ...     ...     ...              ...  \n",
       "4338           4.0           1       0       2  2021.0            152.0  \n",
       "4339           9.0           1       0       2  2016.0            140.0  \n",
       "4340           9.0           1       0       2  2021.0            121.0  \n",
       "4341           9.0           0       0       2  2021.0             32.0  \n",
       "4342           1.0           0       0       2  2021.0            147.0  \n",
       "\n",
       "[4343 rows x 173 columns]"
      ]
     },
     "execution_count": 27,
     "metadata": {},
     "output_type": "execute_result"
    }
   ],
   "source": [
    "#investigating the columns\n",
    "df"
   ]
  },
  {
   "cell_type": "code",
   "execution_count": 28,
   "metadata": {},
   "outputs": [
    {
     "data": {
      "text/plain": [
       "uid                 object\n",
       "age_03               int64\n",
       "urban_03             int64\n",
       "married_03           int64\n",
       "n_mar_03           float64\n",
       "                    ...   \n",
       "rrelgwk_12           int64\n",
       "a34_12               int64\n",
       "j11_12               int64\n",
       "year               float64\n",
       "composite_score    float64\n",
       "Length: 173, dtype: object"
      ]
     },
     "execution_count": 28,
     "metadata": {},
     "output_type": "execute_result"
    }
   ],
   "source": [
    "df.dtypes"
   ]
  },
  {
   "cell_type": "code",
   "execution_count": 29,
   "metadata": {},
   "outputs": [
    {
     "data": {
      "text/plain": [
       "0"
      ]
     },
     "execution_count": 29,
     "metadata": {},
     "output_type": "execute_result"
    }
   ],
   "source": [
    "data.duplicated().sum()"
   ]
  },
  {
   "cell_type": "markdown",
   "metadata": {},
   "source": [
    "**MODELLING**"
   ]
  },
  {
   "cell_type": "code",
   "execution_count": 30,
   "metadata": {},
   "outputs": [],
   "source": [
    "from sklearn.model_selection import train_test_split\n",
    "from sklearn.preprocessing import StandardScaler, OneHotEncoder\n",
    "from sklearn.compose import ColumnTransformer\n",
    "from sklearn.pipeline import Pipeline\n",
    "from sklearn.metrics import mean_squared_error\n",
    "from sklearn.ensemble import RandomForestRegressor\n",
    "from sklearn.linear_model import LinearRegression\n",
    "from sklearn.tree import DecisionTreeRegressor\n",
    "from sklearn.svm import SVR\n",
    "from sklearn.neighbors import KNeighborsRegressor\n"
   ]
  },
  {
   "cell_type": "code",
   "execution_count": null,
   "metadata": {},
   "outputs": [],
   "source": [
    "# Separate features and target variable\n",
    "X = df.drop(columns=['composite_score', 'year', 'uid'])\n",
    "y = df['composite_score']\n",
    "\n",
    "# Identify categorical and numerical columns\n",
    "cat_cols = X.select_dtypes(include=['object']).columns\n",
    "num_cols = X.select_dtypes(include=['float', 'int']).columns\n",
    "\n",
    "# Creating transformers for preprocessing\n",
    "preprocessor = ColumnTransformer(\n",
    "    transformers=[\n",
    "        ('num', StandardScaler(), num_cols),\n",
    "        ('cat', OneHotEncoder(drop='first'), cat_cols)\n",
    "    ]\n",
    ")\n"
   ]
  },
  {
   "cell_type": "code",
   "execution_count": null,
   "metadata": {},
   "outputs": [],
   "source": [
    "#defining models to test\n",
    "models = {\n",
    "    'Linear Regression': LinearRegression(),\n",
    "    'Random Forest': RandomForestRegressor(),\n",
    "    'Decision Tree': DecisionTreeRegressor(),\n",
    "    'Support Vector Regressor': SVR(),\n",
    "    'K-Nearest Neighbors': KNeighborsRegressor()\n",
    "}\n"
   ]
  },
  {
   "cell_type": "markdown",
   "metadata": {},
   "source": [
    "**Building a Pipeline for each model**"
   ]
  },
  {
   "cell_type": "code",
   "execution_count": 72,
   "metadata": {},
   "outputs": [
    {
     "name": "stdout",
     "output_type": "stream",
     "text": [
      "Linear Regression RMSE: 41.368\n",
      "Random Forest RMSE: 37.690\n",
      "Decision Tree RMSE: 49.240\n",
      "Support Vector Regressor RMSE: 49.029\n",
      "K-Nearest Neighbors RMSE: 48.582\n"
     ]
    }
   ],
   "source": [
    "# Split data into train and test sets\n",
    "X_train, X_test, y_train, y_test = train_test_split(X, y, test_size=0.2, random_state=42)\n",
    "\n",
    "# Evaluate each model\n",
    "results = {}\n",
    "for name, model in models.items():\n",
    "    pipeline = Pipeline(steps=[('preprocessor', preprocessor), ('model', model)])\n",
    "    pipeline.fit(X_train, y_train)\n",
    "    \n",
    "    # Predictions\n",
    "    y_pred = pipeline.predict(X_test)\n",
    "    \n",
    "    # Calculate RMSE\n",
    "    rmse = mean_squared_error(y_test, y_pred, squared=False)\n",
    "    results[name] = rmse\n",
    "    print(f\"{name} RMSE: {rmse:.3f}\")\n"
   ]
  },
  {
   "cell_type": "markdown",
   "metadata": {},
   "source": [
    "**HYPERPARAMETER TUNING**"
   ]
  },
  {
   "cell_type": "code",
   "execution_count": 75,
   "metadata": {},
   "outputs": [
    {
     "name": "stdout",
     "output_type": "stream",
     "text": [
      "Best parameters found:  {'model__max_depth': None, 'model__min_samples_split': 2, 'model__n_estimators': 200}\n",
      "Best RMSE from Grid Search:  39.300165992283\n"
     ]
    }
   ],
   "source": [
    "from sklearn.model_selection import GridSearchCV\n",
    "\n",
    "param_grid = {\n",
    "    'model__n_estimators': [50, 100, 200],\n",
    "    'model__max_depth': [None, 10, 20, 30],\n",
    "    'model__min_samples_split': [2, 5, 10]\n",
    "}\n",
    "\n",
    "pipeline_rf = Pipeline(steps=[('preprocessor', preprocessor), ('model', RandomForestRegressor())])\n",
    "grid_search = GridSearchCV(pipeline_rf, param_grid, cv=5, scoring='neg_root_mean_squared_error', n_jobs=-1)\n",
    "grid_search.fit(X_train, y_train)\n",
    "\n",
    "# Best parameters and score\n",
    "print(\"Best parameters found: \", grid_search.best_params_)\n",
    "print(\"Best RMSE from Grid Search: \", -grid_search.best_score_)\n"
   ]
  },
  {
   "cell_type": "code",
   "execution_count": 77,
   "metadata": {},
   "outputs": [
    {
     "name": "stdout",
     "output_type": "stream",
     "text": [
      "Gradient Boosting RMSE: 39.578\n"
     ]
    }
   ],
   "source": [
    "from sklearn.ensemble import GradientBoostingRegressor\n",
    "\n",
    "# Define the model\n",
    "gb_model = GradientBoostingRegressor(n_estimators=100, learning_rate=0.1, max_depth=3, random_state=42)\n",
    "\n",
    "# Create a pipeline\n",
    "pipeline_gb = Pipeline(steps=[('preprocessor', preprocessor), ('model', gb_model)])\n",
    "\n",
    "# Fit the model\n",
    "pipeline_gb.fit(X_train, y_train)\n",
    "\n",
    "# Predictions\n",
    "y_pred_gb = pipeline_gb.predict(X_test)\n",
    "\n",
    "# Calculate RMSE\n",
    "rmse_gb = mean_squared_error(y_test, y_pred_gb, squared=False)\n",
    "print(f\"Gradient Boosting RMSE: {rmse_gb:.3f}\")\n"
   ]
  }
 ],
 "metadata": {
  "kernelspec": {
   "display_name": "learn-env",
   "language": "python",
   "name": "python3"
  },
  "language_info": {
   "codemirror_mode": {
    "name": "ipython",
    "version": 3
   },
   "file_extension": ".py",
   "mimetype": "text/x-python",
   "name": "python",
   "nbconvert_exporter": "python",
   "pygments_lexer": "ipython3",
   "version": "3.8.5"
  }
 },
 "nbformat": 4,
 "nbformat_minor": 2
}
