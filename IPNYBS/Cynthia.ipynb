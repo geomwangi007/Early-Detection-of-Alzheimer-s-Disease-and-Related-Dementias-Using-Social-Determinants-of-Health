{
 "cells": [
  {
   "cell_type": "code",
   "execution_count": 316,
   "metadata": {},
   "outputs": [],
   "source": [
    "import pandas as pd\n",
    "import seaborn as sns\n",
    "import matplotlib.pyplot as plt\n",
    "from sklearn.model_selection import train_test_split\n",
    "from sklearn.ensemble import RandomForestClassifier\n",
    "from sklearn.metrics import classification_report\n"
   ]
  },
  {
   "cell_type": "markdown",
   "metadata": {},
   "source": [
    "## 1. BUSINESS UNDERSTANDING"
   ]
  },
  {
   "cell_type": "markdown",
   "metadata": {},
   "source": [
    "## 2. DATA UNDERSTANDING"
   ]
  },
  {
   "cell_type": "markdown",
   "metadata": {},
   "source": [
    "### 1. Loading Data"
   ]
  },
  {
   "cell_type": "code",
   "execution_count": 317,
   "metadata": {},
   "outputs": [
    {
     "name": "stdout",
     "output_type": "stream",
     "text": [
      "    uid    age_03     urban_03  married_03  n_mar_03    edu_gru_03  \\\n",
      "0  aace       NaN          NaN         NaN       NaN           NaN   \n",
      "1  aanz       NaN          NaN         NaN       NaN           NaN   \n",
      "2  aape       NaN          NaN         NaN       NaN           NaN   \n",
      "3  aard  1. 50–59  1. 100,000+  3. Widowed       1.0  3. 7–9 years   \n",
      "4  ablr       NaN          NaN         NaN       NaN           NaN   \n",
      "\n",
      "  n_living_child_03  migration_03 glob_hlth_03  adl_dress_03  ...  \\\n",
      "0               NaN           NaN          NaN           NaN  ...   \n",
      "1               NaN           NaN          NaN           NaN  ...   \n",
      "2               NaN           NaN          NaN           NaN  ...   \n",
      "3         1. 1 or 2           0.0      4. Fair           0.0  ...   \n",
      "4               NaN           NaN          NaN           NaN  ...   \n",
      "\n",
      "            rrelgimp_12            rrfcntx_m_12              rsocact_m_12  \\\n",
      "0  2.somewhat important                 9.Never                   9.Never   \n",
      "1      1.very important                 9.Never        1.Almost every day   \n",
      "2  2.somewhat important  6.2 or 3 times a month  2.4 or more times a week   \n",
      "3      1.very important           4.Once a week                   9.Never   \n",
      "4      1.very important   3.2 or 3 times a week     3.2 or 3 times a week   \n",
      "\n",
      "   rrelgwk_12  a16a_12  a21_12  a22_12  a33b_12  a34_12  \\\n",
      "0        0.No      NaN     NaN     NaN      NaN     NaN   \n",
      "1        0.No      NaN     NaN     NaN      NaN     NaN   \n",
      "2        0.No      NaN     NaN     NaN      NaN     NaN   \n",
      "3       1.Yes      NaN     NaN     NaN      NaN    No 2   \n",
      "4        0.No      NaN     NaN     NaN      NaN     NaN   \n",
      "\n",
      "                              j11_12  \n",
      "0                         Concrete 2  \n",
      "1                         Concrete 2  \n",
      "2  Wood, mosaic, or other covering 1  \n",
      "3                         Concrete 2  \n",
      "4  Wood, mosaic, or other covering 1  \n",
      "\n",
      "[5 rows x 184 columns]\n",
      "    uid    age_03     urban_03                    married_03  n_mar_03  \\\n",
      "0  abxu       NaN          NaN                           NaN       NaN   \n",
      "1  aeol       NaN          NaN                           NaN       NaN   \n",
      "2  afnb       NaN          NaN                           NaN       NaN   \n",
      "3  ajfh       NaN          NaN                           NaN       NaN   \n",
      "4  ajvq  2. 60–69  1. 100,000+  1. Married or in civil union       1.0   \n",
      "\n",
      "     edu_gru_03 n_living_child_03  migration_03 glob_hlth_03  adl_dress_03  \\\n",
      "0           NaN               NaN           NaN          NaN           NaN   \n",
      "1           NaN               NaN           NaN          NaN           NaN   \n",
      "2           NaN               NaN           NaN          NaN           NaN   \n",
      "3           NaN               NaN           NaN          NaN           NaN   \n",
      "4  4. 10+ years         1. 1 or 2           0.0          NaN           NaN   \n",
      "\n",
      "   ...           rrelgimp_12        rrfcntx_m_12               rsocact_m_12  \\\n",
      "0  ...                   NaN                 NaN                        NaN   \n",
      "1  ...      1.very important             9.Never                    9.Never   \n",
      "2  ...      1.very important             9.Never      3.2 or 3 times a week   \n",
      "3  ...  2.somewhat important             9.Never  5.4 or more times a month   \n",
      "4  ...  2.somewhat important  1.Almost every day              4.Once a week   \n",
      "\n",
      "   rrelgwk_12  a16a_12  a21_12  a22_12  a33b_12  a34_12  \\\n",
      "0         NaN      NaN     NaN     NaN      NaN     NaN   \n",
      "1       1.Yes      NaN     NaN     NaN      NaN     NaN   \n",
      "2       1.Yes      NaN     NaN     NaN      NaN     NaN   \n",
      "3        0.No      NaN     NaN     NaN      NaN     NaN   \n",
      "4        0.No      NaN     NaN     NaN      NaN    No 2   \n",
      "\n",
      "                              j11_12  \n",
      "0  Wood, mosaic, or other covering 1  \n",
      "1                         Concrete 2  \n",
      "2  Wood, mosaic, or other covering 1  \n",
      "3  Wood, mosaic, or other covering 1  \n",
      "4  Wood, mosaic, or other covering 1  \n",
      "\n",
      "[5 rows x 184 columns]\n",
      "    uid  year  composite_score\n",
      "0  aace  2021              175\n",
      "1  aanz  2021              206\n",
      "2  aape  2016              161\n",
      "3  aape  2021              144\n",
      "4  aard  2021              104\n",
      "<class 'pandas.core.frame.DataFrame'>\n",
      "RangeIndex: 3276 entries, 0 to 3275\n",
      "Columns: 184 entries, uid to j11_12\n",
      "dtypes: float64(140), object(44)\n",
      "memory usage: 4.6+ MB\n",
      "None\n",
      "<class 'pandas.core.frame.DataFrame'>\n",
      "RangeIndex: 819 entries, 0 to 818\n",
      "Columns: 184 entries, uid to j11_12\n",
      "dtypes: float64(140), object(44)\n",
      "memory usage: 1.1+ MB\n",
      "None\n",
      "<class 'pandas.core.frame.DataFrame'>\n",
      "RangeIndex: 4343 entries, 0 to 4342\n",
      "Data columns (total 3 columns):\n",
      " #   Column           Non-Null Count  Dtype \n",
      "---  ------           --------------  ----- \n",
      " 0   uid              4343 non-null   object\n",
      " 1   year             4343 non-null   int64 \n",
      " 2   composite_score  4343 non-null   int64 \n",
      "dtypes: int64(2), object(1)\n",
      "memory usage: 101.9+ KB\n",
      "None\n"
     ]
    }
   ],
   "source": [
    "# Load the datasets\n",
    "train_features = pd.read_csv(r\"C:\\Users\\David\\Documents\\PHASE 4 PROJECT\\PHASE 5 FINAL PROJECT\\train_features.csv\")\n",
    "test_features = pd.read_csv(r\"C:\\Users\\David\\Documents\\PHASE 4 PROJECT\\PHASE 5 FINAL PROJECT\\test_features.csv\")\n",
    "train_labels = pd.read_csv(r\"C:\\Users\\David\\Documents\\PHASE 4 PROJECT\\PHASE 5 FINAL PROJECT\\train_labels.csv\")\n",
    "\n",
    "# Explore the data\n",
    "print(train_features.head())\n",
    "print(test_features.head())\n",
    "print(train_labels.head())\n",
    "\n",
    "print(train_features.info())\n",
    "print(test_features.info())\n",
    "print(train_labels.info())\n",
    "\n"
   ]
  },
  {
   "cell_type": "markdown",
   "metadata": {},
   "source": [
    "#### 2. Data Exploration"
   ]
  },
  {
   "cell_type": "markdown",
   "metadata": {},
   "source": [
    "#### a) Descriptive Statistics\n",
    "\n",
    "Summary Statistics"
   ]
  },
  {
   "cell_type": "code",
   "execution_count": 318,
   "metadata": {},
   "outputs": [
    {
     "name": "stdout",
     "output_type": "stream",
     "text": [
      "          n_mar_03  migration_03  adl_dress_03  adl_walk_03  adl_bath_03  \\\n",
      "count  2222.000000   2241.000000   2105.000000  2235.000000  2235.000000   \n",
      "mean      1.134113      0.099063      0.041805     0.017002     0.007159   \n",
      "std       0.482953      0.298813      0.200191     0.129308     0.084325   \n",
      "min       0.000000      0.000000      0.000000     0.000000     0.000000   \n",
      "25%       1.000000      0.000000      0.000000     0.000000     0.000000   \n",
      "50%       1.000000      0.000000      0.000000     0.000000     0.000000   \n",
      "75%       1.000000      0.000000      0.000000     0.000000     0.000000   \n",
      "max       5.000000      1.000000      1.000000     1.000000     1.000000   \n",
      "\n",
      "        adl_eat_03   adl_bed_03  adl_toilet_03     n_adl_03  iadl_money_03  \\\n",
      "count  2234.000000  2235.000000    2235.000000  2234.000000    2105.000000   \n",
      "mean      0.004476     0.026398       0.013423     0.068487       0.005226   \n",
      "std       0.066770     0.160352       0.115102     0.392793       0.072117   \n",
      "min       0.000000     0.000000       0.000000     0.000000       0.000000   \n",
      "25%       0.000000     0.000000       0.000000     0.000000       0.000000   \n",
      "50%       0.000000     0.000000       0.000000     0.000000       0.000000   \n",
      "75%       0.000000     0.000000       0.000000     0.000000       0.000000   \n",
      "max       1.000000     1.000000       1.000000     5.000000       1.000000   \n",
      "\n",
      "       ...  searnings_12    hincome_12  hinc_business_12  hinc_rent_12  \\\n",
      "count  ...  2.091000e+03  3.138000e+03      3.187000e+03  3.187000e+03   \n",
      "mean   ...  1.181253e+04  8.824729e+04      3.294321e+04  8.628805e+02   \n",
      "std    ...  6.013394e+04  6.901728e+05      6.520799e+05  3.282440e+04   \n",
      "min    ...  0.000000e+00 -1.900000e+05      0.000000e+00 -3.600000e+05   \n",
      "25%    ...  0.000000e+00  0.000000e+00      0.000000e+00  0.000000e+00   \n",
      "50%    ...  0.000000e+00  2.000000e+04      0.000000e+00  0.000000e+00   \n",
      "75%    ...  0.000000e+00  6.000000e+04      0.000000e+00  0.000000e+00   \n",
      "max    ...  1.370000e+06  3.602000e+07      3.600000e+07  1.200000e+06   \n",
      "\n",
      "       hinc_assets_12   hinc_cap_12  rinc_pension_12  sinc_pension_12  \\\n",
      "count     3187.000000  3.187000e+03      3187.000000     2.091000e+03   \n",
      "mean       788.202071  3.458739e+04     13850.015689     1.193687e+04   \n",
      "std      10314.879890  6.527276e+05     44336.711380     4.705314e+04   \n",
      "min          0.000000 -2.100000e+05         0.000000     0.000000e+00   \n",
      "25%          0.000000  0.000000e+00         0.000000     0.000000e+00   \n",
      "50%          0.000000  0.000000e+00         0.000000     0.000000e+00   \n",
      "75%          0.000000  0.000000e+00         0.000000     0.000000e+00   \n",
      "max     360000.000000  3.600000e+07    960000.000000     1.200000e+06   \n",
      "\n",
      "           a16a_12     a21_12  \n",
      "count    24.000000  42.000000  \n",
      "mean   1975.166667   7.833333  \n",
      "std      20.440086  12.585157  \n",
      "min    1942.000000   1.000000  \n",
      "25%    1960.000000   1.000000  \n",
      "50%    1972.500000   2.000000  \n",
      "75%    1988.500000   6.750000  \n",
      "max    2012.000000  52.000000  \n",
      "\n",
      "[8 rows x 140 columns]\n",
      "         n_mar_03  migration_03  adl_dress_03  adl_walk_03  adl_bath_03  \\\n",
      "count  568.000000    570.000000    542.000000   569.000000   569.000000   \n",
      "mean     1.165493      0.077193      0.047970     0.012302     0.012302   \n",
      "std      0.535254      0.267132      0.213901     0.110328     0.110328   \n",
      "min      0.000000      0.000000      0.000000     0.000000     0.000000   \n",
      "25%      1.000000      0.000000      0.000000     0.000000     0.000000   \n",
      "50%      1.000000      0.000000      0.000000     0.000000     0.000000   \n",
      "75%      1.000000      0.000000      0.000000     0.000000     0.000000   \n",
      "max      4.000000      1.000000      1.000000     1.000000     1.000000   \n",
      "\n",
      "       adl_eat_03  adl_bed_03  adl_toilet_03    n_adl_03  iadl_money_03  ...  \\\n",
      "count  569.000000  569.000000     569.000000  569.000000     542.000000  ...   \n",
      "mean     0.005272    0.038664       0.019332    0.087873       0.009225  ...   \n",
      "std      0.072483    0.192963       0.137811    0.443272       0.095692  ...   \n",
      "min      0.000000    0.000000       0.000000    0.000000       0.000000  ...   \n",
      "25%      0.000000    0.000000       0.000000    0.000000       0.000000  ...   \n",
      "50%      0.000000    0.000000       0.000000    0.000000       0.000000  ...   \n",
      "75%      0.000000    0.000000       0.000000    0.000000       0.000000  ...   \n",
      "max      1.000000    1.000000       1.000000    5.000000       1.000000  ...   \n",
      "\n",
      "        searnings_12    hincome_12  hinc_business_12   hinc_rent_12  \\\n",
      "count     508.000000  7.730000e+02      7.940000e+02     794.000000   \n",
      "mean    10196.850394  6.608021e+04      1.010076e+04    2216.624685   \n",
      "std     35871.244519  2.540155e+05      7.190606e+04   35284.803065   \n",
      "min         0.000000 -2.000000e+05      0.000000e+00 -200000.000000   \n",
      "25%         0.000000  0.000000e+00      0.000000e+00       0.000000   \n",
      "50%         0.000000  2.000000e+04      0.000000e+00       0.000000   \n",
      "75%         0.000000  5.000000e+04      0.000000e+00       0.000000   \n",
      "max    310000.000000  6.020000e+06      1.430000e+06  710000.000000   \n",
      "\n",
      "       hinc_assets_12   hinc_cap_12  rinc_pension_12  sinc_pension_12  \\\n",
      "count      794.000000  7.940000e+02       794.000000     5.080000e+02   \n",
      "mean       367.758186  1.265743e+04     13476.070529     1.039370e+04   \n",
      "std       4482.643368  8.003225e+04     38708.762304     5.315530e+04   \n",
      "min          0.000000 -2.000000e+05         0.000000     0.000000e+00   \n",
      "25%          0.000000  0.000000e+00         0.000000     0.000000e+00   \n",
      "50%          0.000000  0.000000e+00         0.000000     0.000000e+00   \n",
      "75%          0.000000  0.000000e+00         0.000000     0.000000e+00   \n",
      "max      84000.000000  1.430000e+06    480000.000000     1.080000e+06   \n",
      "\n",
      "           a16a_12     a21_12  \n",
      "count     6.000000  11.000000  \n",
      "mean   1975.833333   6.454545  \n",
      "std      25.103121   9.771015  \n",
      "min    1940.000000   1.000000  \n",
      "25%    1965.750000   1.000000  \n",
      "50%    1971.000000   2.000000  \n",
      "75%    1991.250000   7.000000  \n",
      "max    2011.000000  32.000000  \n",
      "\n",
      "[8 rows x 140 columns]\n",
      "              year  composite_score\n",
      "count  4343.000000      4343.000000\n",
      "mean   2019.162560       157.016809\n",
      "std       2.410882        60.909546\n",
      "min    2016.000000         4.000000\n",
      "25%    2016.000000       114.000000\n",
      "50%    2021.000000       157.000000\n",
      "75%    2021.000000       200.000000\n",
      "max    2021.000000       334.000000\n"
     ]
    }
   ],
   "source": [
    "print(train_features.describe())\n",
    "print(test_features.describe())\n",
    "print(train_labels.describe())"
   ]
  },
  {
   "cell_type": "markdown",
   "metadata": {},
   "source": [
    "- Get a count of each education level."
   ]
  },
  {
   "cell_type": "code",
   "execution_count": 319,
   "metadata": {},
   "outputs": [
    {
     "name": "stdout",
     "output_type": "stream",
     "text": [
      "1. 1–5 years       842\n",
      "0. No education    452\n",
      "2. 6 years         422\n",
      "3. 7–9 years       302\n",
      "4. 10+ years       214\n",
      "Name: edu_gru_03, dtype: int64\n"
     ]
    }
   ],
   "source": [
    "education_counts = train_features['edu_gru_03'].value_counts()\n",
    "print(education_counts)\n"
   ]
  },
  {
   "cell_type": "markdown",
   "metadata": {},
   "source": [
    "- Visualize Distributions\n",
    "\n",
    "Plot the distribution of marital status."
   ]
  },
  {
   "cell_type": "code",
   "execution_count": 320,
   "metadata": {},
   "outputs": [
    {
     "data": {
      "image/png": "[encoded data removed]",
      "text/plain": [
       "<Figure size 432x288 with 1 Axes>"
      ]
     },
     "metadata": {},
     "output_type": "display_data"
    }
   ],
   "source": [
    "\n",
    "train_features['married_03'].value_counts().plot(kind='bar')\n",
    "plt.title('Marital Status Distribution')\n",
    "plt.xlabel('Marital Status')\n",
    "plt.ylabel('Count')\n",
    "plt.show()\n"
   ]
  },
  {
   "cell_type": "markdown",
   "metadata": {},
   "source": [
    "Majority of the population are either maried or in a civil union"
   ]
  },
  {
   "cell_type": "markdown",
   "metadata": {},
   "source": [
    "-  Identify Relationships"
   ]
  },
  {
   "cell_type": "code",
   "execution_count": 321,
   "metadata": {},
   "outputs": [
    {
     "name": "stdout",
     "output_type": "stream",
     "text": [
      "                 n_mar_03  migration_03  adl_dress_03  adl_walk_03  \\\n",
      "n_mar_03         1.000000      0.035342     -0.048134    -0.000685   \n",
      "migration_03     0.035342      1.000000     -0.036109     0.014614   \n",
      "adl_dress_03    -0.048134     -0.036109      1.000000     0.255194   \n",
      "adl_walk_03     -0.000685      0.014614      0.255194     1.000000   \n",
      "adl_bath_03      0.020462     -0.010256      0.274902     0.522506   \n",
      "...                   ...           ...           ...          ...   \n",
      "hinc_cap_12     -0.005369     -0.009552     -0.004493    -0.004039   \n",
      "rinc_pension_12  0.006166     -0.004492     -0.007145    -0.009158   \n",
      "sinc_pension_12 -0.033584     -0.044000     -0.015087    -0.011985   \n",
      "a16a_12         -0.206789      0.206219      0.227995          NaN   \n",
      "a21_12           0.093941     -0.044623     -0.098678     0.352360   \n",
      "\n",
      "                 adl_bath_03  adl_eat_03  adl_bed_03  adl_toilet_03  n_adl_03  \\\n",
      "n_mar_03            0.020462    0.023115   -0.034299       0.017355 -0.000926   \n",
      "migration_03       -0.010256    0.000333   -0.016960       0.000596 -0.004108   \n",
      "adl_dress_03        0.274902    0.192654    0.371409       0.280713  0.409783   \n",
      "adl_walk_03         0.522506    0.146750    0.410107       0.375635  0.743969   \n",
      "adl_bath_03         1.000000    0.312384    0.350164       0.405161  0.701609   \n",
      "...                      ...         ...         ...            ...       ...   \n",
      "hinc_cap_12        -0.002591   -0.003142   -0.006725       0.001325 -0.004776   \n",
      "rinc_pension_12     0.005196   -0.003991    0.021389       0.001389  0.006646   \n",
      "sinc_pension_12    -0.006179   -0.016320   -0.027461       0.003934 -0.018349   \n",
      "a16a_12                  NaN         NaN         NaN            NaN       NaN   \n",
      "a21_12                   NaN         NaN   -0.027543            NaN  0.232683   \n",
      "\n",
      "                 iadl_money_03  ...  searnings_12  hincome_12  \\\n",
      "n_mar_03             -0.005028  ...      0.023833   -0.007224   \n",
      "migration_03         -0.023690  ...     -0.035418   -0.015902   \n",
      "adl_dress_03          0.149466  ...     -0.007317   -0.005732   \n",
      "adl_walk_03           0.102443  ...     -0.008950   -0.007436   \n",
      "adl_bath_03           0.075117  ...     -0.009735   -0.004404   \n",
      "...                        ...  ...           ...         ...   \n",
      "hinc_cap_12          -0.003520  ...     -0.007938    0.951529   \n",
      "rinc_pension_12      -0.008137  ...      0.001346    0.054029   \n",
      "sinc_pension_12      -0.010475  ...     -0.038038    0.053739   \n",
      "a16a_12                    NaN  ...           NaN    0.316004   \n",
      "a21_12                     NaN  ...      0.314357    0.261043   \n",
      "\n",
      "                 hinc_business_12  hinc_rent_12  hinc_assets_12  hinc_cap_12  \\\n",
      "n_mar_03                -0.005228     -0.011120        0.020427    -0.005369   \n",
      "migration_03            -0.008709     -0.013788       -0.019870    -0.009552   \n",
      "adl_dress_03            -0.004356      0.002240       -0.015507    -0.004493   \n",
      "adl_walk_03             -0.003773     -0.003196       -0.009572    -0.004039   \n",
      "adl_bath_03             -0.002418     -0.002082       -0.006237    -0.002591   \n",
      "...                           ...           ...             ...          ...   \n",
      "hinc_cap_12              0.998582      0.041419        0.020208     1.000000   \n",
      "rinc_pension_12         -0.009797     -0.020637        0.055447    -0.009979   \n",
      "sinc_pension_12          0.001762      0.006221        0.018098     0.002339   \n",
      "a16a_12                  0.008684           NaN        0.102470     0.097241   \n",
      "a21_12                  -0.032190           NaN        0.027213    -0.022344   \n",
      "\n",
      "                 rinc_pension_12  sinc_pension_12   a16a_12    a21_12  \n",
      "n_mar_03                0.006166        -0.033584 -0.206789  0.093941  \n",
      "migration_03           -0.004492        -0.044000  0.206219 -0.044623  \n",
      "adl_dress_03           -0.007145        -0.015087  0.227995 -0.098678  \n",
      "adl_walk_03            -0.009158        -0.011985       NaN  0.352360  \n",
      "adl_bath_03             0.005196        -0.006179       NaN       NaN  \n",
      "...                          ...              ...       ...       ...  \n",
      "hinc_cap_12            -0.009979         0.002339  0.097241 -0.022344  \n",
      "rinc_pension_12         1.000000         0.052647 -0.095381  0.284083  \n",
      "sinc_pension_12         0.052647         1.000000  0.391310 -0.101488  \n",
      "a16a_12                -0.095381         0.391310  1.000000 -0.262641  \n",
      "a21_12                  0.284083        -0.101488 -0.262641  1.000000  \n",
      "\n",
      "[140 rows x 140 columns]\n"
     ]
    }
   ],
   "source": [
    "correlation = train_features.corr()\n",
    "print(correlation)\n"
   ]
  },
  {
   "cell_type": "markdown",
   "metadata": {},
   "source": [
    "- Interpretation of Key Correlations\n",
    "\n",
    "1. adl_walk_03 and adl_bath_03:\n",
    "\n",
    "Correlation: 0.522506\n",
    "Interpretation: There is a moderate positive correlation between the ability to walk and the ability to bathe. This suggests that individuals who have better mobility (walking) also tend to have better self-care capabilities (bathing).\n",
    "\n",
    "2. adl_dress_03 and adl_walk_03\n",
    "\n",
    "Correlation: 0.255194\n",
    "Interpretation: There is a weak to moderate positive correlation. Those who can dress themselves also have some ability to walk, implying that physical mobility may impact the ability to dress.\n",
    "\n",
    "3.n_mar_03 (number of marital statuses) and adl_walk_03\n",
    "\n",
    "Correlation: -0.000685\n",
    "Interpretation: There is virtually no correlation between marital status and the ability to walk, indicating that these factors are likely independent of each other in this dataset.\n",
    "migration_03 and adl_dress_03\n",
    "\n",
    "4.migration_03 and adl_dress_03\n",
    "\n",
    "Correlation: -0.036109\n",
    "Interpretation: There is a slight negative correlation. This could suggest that higher levels of migration may be associated with slightly lower levels of dressing ability, though the relationship is weak.\n",
    "n_adl_03 (number of activities of daily living)\n",
    "\n",
    "5. n_adl_03 (number of activities of daily living)\n",
    "\n",
    "Correlation with adl_walk_03: 0.743969\n",
    "Interpretation: A strong positive correlation with walking ability suggests that the more activities of daily living an individual can perform, the better their ability to walk. This implies a strong link between overall functionality and mobility.\n",
    "\n",
    "\n",
    "\n"
   ]
  },
  {
   "cell_type": "markdown",
   "metadata": {},
   "source": [
    "Strongest Relationships: Focus on adl_walk_03 as it has strong positive correlations with other activities of daily living (like \n",
    "\n",
    "adl_bath_03 and adl_dress_03). This indicates that mobility is a critical factor in overall functional health.\n",
    "\n",
    "\n",
    "Weak Relationships: Variables like n_mar_03 and migration_03 show weak correlations with others, indicating that marital status and\n",
    " \n",
    "migration may not have a significant impact on physical capabilities as measured here."
   ]
  },
  {
   "cell_type": "markdown",
   "metadata": {},
   "source": [
    "#### b) Checking and Handling Missing Values\n"
   ]
  },
  {
   "cell_type": "code",
   "execution_count": 322,
   "metadata": {},
   "outputs": [
    {
     "name": "stdout",
     "output_type": "stream",
     "text": [
      "uid              0\n",
      "age_03        1036\n",
      "urban_03      1034\n",
      "married_03    1034\n",
      "n_mar_03      1054\n",
      "              ... \n",
      "a21_12        3234\n",
      "a22_12        3240\n",
      "a33b_12       3234\n",
      "a34_12        1164\n",
      "j11_12          75\n",
      "Length: 184, dtype: int64\n",
      "uid             0\n",
      "age_03        249\n",
      "urban_03      249\n",
      "married_03    249\n",
      "n_mar_03      251\n",
      "             ... \n",
      "a21_12        808\n",
      "a22_12        809\n",
      "a33b_12       808\n",
      "a34_12        277\n",
      "j11_12         24\n",
      "Length: 184, dtype: int64\n"
     ]
    }
   ],
   "source": [
    "# Find missing values\n",
    "print(train_features.isnull().sum())\n",
    "print(test_features.isnull().sum())\n"
   ]
  },
  {
   "cell_type": "markdown",
   "metadata": {},
   "source": [
    "There are so many missing values in this dataset. I will proceed with handling the missing values"
   ]
  },
  {
   "cell_type": "code",
   "execution_count": 323,
   "metadata": {},
   "outputs": [],
   "source": [
    "# Drop columns with more than 40% missing values in both datasets\n",
    "threshold = 0.4\n",
    "train_features_cleaned = train_features.loc[:, train_features.isnull().mean() < threshold]\n",
    "test_features_cleaned = test_features.loc[:, test_features.isnull().mean() < threshold]\n",
    "\n"
   ]
  },
  {
   "cell_type": "code",
   "execution_count": 324,
   "metadata": {},
   "outputs": [
    {
     "name": "stderr",
     "output_type": "stream",
     "text": [
      "c:\\Users\\David\\anaconda3\\envs\\learn-env\\lib\\site-packages\\pandas\\core\\series.py:4517: SettingWithCopyWarning: \n",
      "A value is trying to be set on a copy of a slice from a DataFrame\n",
      "\n",
      "See the caveats in the documentation: https://pandas.pydata.org/pandas-docs/stable/user_guide/indexing.html#returning-a-view-versus-a-copy\n",
      "  return super().fillna(\n"
     ]
    }
   ],
   "source": [
    "# Impute missing values for numerical features\n",
    "for col in train_features_cleaned.select_dtypes(include=['float64', 'int64']).columns:\n",
    "    train_features_cleaned[col].fillna(train_features_cleaned[col].mean(), inplace=True)\n",
    "\n",
    "for col in test_features_cleaned.select_dtypes(include=['float64', 'int64']).columns:\n",
    "    test_features_cleaned[col].fillna(test_features_cleaned[col].mean(), inplace=True)\n",
    "\n",
    "# Impute missing values for categorical features\n",
    "for col in train_features_cleaned.select_dtypes(include=['object']).columns:\n",
    "    train_features_cleaned[col].fillna(train_features_cleaned[col].mode()[0], inplace=True)\n",
    "\n",
    "for col in test_features_cleaned.select_dtypes(include=['object']).columns:\n",
    "    test_features_cleaned[col].fillna(test_features_cleaned[col].mode()[0], inplace=True)\n"
   ]
  },
  {
   "cell_type": "code",
   "execution_count": 325,
   "metadata": {},
   "outputs": [
    {
     "name": "stdout",
     "output_type": "stream",
     "text": [
      "uid            object\n",
      "age_03         object\n",
      "urban_03       object\n",
      "married_03     object\n",
      "n_mar_03      float64\n",
      "               ...   \n",
      "a21_12        float64\n",
      "a22_12         object\n",
      "a33b_12        object\n",
      "a34_12         object\n",
      "j11_12         object\n",
      "Length: 184, dtype: object\n"
     ]
    }
   ],
   "source": [
    "print(train_features.dtypes)\n"
   ]
  },
  {
   "cell_type": "markdown",
   "metadata": {},
   "source": [
    "Identify Columns for Conversion"
   ]
  },
  {
   "cell_type": "code",
   "execution_count": 326,
   "metadata": {},
   "outputs": [
    {
     "name": "stdout",
     "output_type": "stream",
     "text": [
      "Object Columns:\n",
      " Index(['uid', 'age_03', 'urban_03', 'married_03', 'edu_gru_03',\n",
      "       'n_living_child_03', 'glob_hlth_03', 'bmi_03', 'decis_famil_03',\n",
      "       'employment_03', 'age_12', 'urban_12', 'married_12', 'edu_gru_12',\n",
      "       'n_living_child_12', 'glob_hlth_12', 'bmi_12', 'decis_famil_12',\n",
      "       'decis_personal_12', 'employment_12', 'satis_ideal_12',\n",
      "       'satis_excel_12', 'satis_fine_12', 'cosas_imp_12', 'wouldnt_change_12',\n",
      "       'memory_12', 'ragender', 'rameduc_m', 'rafeduc_m', 'sgender_03',\n",
      "       'rjlocc_m_03', 'rjobend_reason_03', 'rrelgimp_03', 'sgender_12',\n",
      "       'rjlocc_m_12', 'rjobend_reason_12', 'rrelgimp_12', 'rrfcntx_m_12',\n",
      "       'rsocact_m_12', 'rrelgwk_12', 'a22_12', 'a33b_12', 'a34_12', 'j11_12'],\n",
      "      dtype='object')\n"
     ]
    }
   ],
   "source": [
    "# List of object columns\n",
    "object_columns = train_features.select_dtypes(include=['object']).columns\n",
    "print(\"Object Columns:\\n\", object_columns)\n"
   ]
  },
  {
   "cell_type": "markdown",
   "metadata": {},
   "source": [
    "Identify Categorical Columns"
   ]
  },
  {
   "cell_type": "code",
   "execution_count": 327,
   "metadata": {},
   "outputs": [
    {
     "name": "stdout",
     "output_type": "stream",
     "text": [
      "age_03 unique values:\n",
      " [nan '1. 50–59' '3. 70–79' '2. 60–69' '0. 49 or younger' '4. 80+']\n",
      "urban_03 unique values:\n",
      " [nan '1. 100,000+' '0. <100,000']\n",
      "married_03 unique values:\n",
      " [nan '3. Widowed' '1. Married or in civil union' '4. Single'\n",
      " '2. Separated or divorced']\n"
     ]
    }
   ],
   "source": [
    "# Check unique values in some categorical columns\n",
    "for col in ['age_03', 'urban_03', 'married_03']:\n",
    "    print(f\"{col} unique values:\\n\", train_features[col].unique())\n"
   ]
  },
  {
   "cell_type": "markdown",
   "metadata": {},
   "source": [
    "Convert Categorical Columns\n",
    "\n",
    "I will use label encoder"
   ]
  },
  {
   "cell_type": "code",
   "execution_count": 328,
   "metadata": {},
   "outputs": [],
   "source": [
    "from sklearn.preprocessing import LabelEncoder\n",
    "\n",
    "# Create a LabelEncoder instance\n",
    "label_encoders = {}\n",
    "\n",
    "# Convert categorical columns to numeric\n",
    "categorical_columns = ['age_03', 'urban_03', 'married_03', 'edu_gru_03', 'employment_03']  \n",
    "\n",
    "for col in categorical_columns:\n",
    "    le = LabelEncoder()\n",
    "    train_features[col] = le.fit_transform(train_features[col].astype(str))  # Convert to string first \n",
    "    label_encoders[col] = le  # Save the encoder for inverse transformation later\n"
   ]
  },
  {
   "cell_type": "markdown",
   "metadata": {},
   "source": [
    "##### Convert Relevant Numeric Columns\n",
    "\n",
    "Use pd.to_numeric() for columns that should be numeric."
   ]
  },
  {
   "cell_type": "code",
   "execution_count": 329,
   "metadata": {},
   "outputs": [],
   "source": [
    "# Identify columns that should be numeric\n",
    "numeric_columns = ['n_mar_03', 'bmi_03'] \n",
    "\n",
    "for col in numeric_columns:\n",
    "    train_features[col] = pd.to_numeric(train_features[col], errors='coerce')\n"
   ]
  },
  {
   "cell_type": "markdown",
   "metadata": {},
   "source": [
    "Check and fill or drop NaN values as needed"
   ]
  },
  {
   "cell_type": "code",
   "execution_count": 330,
   "metadata": {},
   "outputs": [
    {
     "name": "stdout",
     "output_type": "stream",
     "text": [
      "uid              0\n",
      "age_03           0\n",
      "urban_03         0\n",
      "married_03       0\n",
      "n_mar_03      1054\n",
      "              ... \n",
      "a21_12        3234\n",
      "a22_12        3240\n",
      "a33b_12       3234\n",
      "a34_12        1164\n",
      "j11_12          75\n",
      "Length: 184, dtype: int64\n"
     ]
    }
   ],
   "source": [
    "# Check for NaN values\n",
    "print(train_features.isnull().sum())\n"
   ]
  },
  {
   "cell_type": "code",
   "execution_count": 331,
   "metadata": {},
   "outputs": [],
   "source": [
    "# Fill NaNs for numeric columns\n",
    "for col in numeric_columns:\n",
    "    train_features[col].fillna(train_features[col].mean(), inplace=True)\n",
    "\n",
    "# drop rows with NaN values for categorical columns \n",
    "train_features.dropna(subset=categorical_columns, inplace=True)"
   ]
  },
  {
   "cell_type": "code",
   "execution_count": 332,
   "metadata": {},
   "outputs": [
    {
     "name": "stdout",
     "output_type": "stream",
     "text": [
      "uid            object\n",
      "age_03          int32\n",
      "urban_03        int32\n",
      "married_03      int32\n",
      "n_mar_03      float64\n",
      "               ...   \n",
      "a21_12        float64\n",
      "a22_12         object\n",
      "a33b_12        object\n",
      "a34_12         object\n",
      "j11_12         object\n",
      "Length: 184, dtype: object\n"
     ]
    }
   ],
   "source": [
    "#check the data types again\n",
    "print(train_features.dtypes)\n"
   ]
  },
  {
   "cell_type": "code",
   "execution_count": 333,
   "metadata": {},
   "outputs": [
    {
     "name": "stdout",
     "output_type": "stream",
     "text": [
      "Remaining Object Columns:\n",
      " Index(['uid', 'n_living_child_03', 'glob_hlth_03', 'decis_famil_03', 'age_12',\n",
      "       'urban_12', 'married_12', 'edu_gru_12', 'n_living_child_12',\n",
      "       'glob_hlth_12', 'bmi_12', 'decis_famil_12', 'decis_personal_12',\n",
      "       'employment_12', 'satis_ideal_12', 'satis_excel_12', 'satis_fine_12',\n",
      "       'cosas_imp_12', 'wouldnt_change_12', 'memory_12', 'ragender',\n",
      "       'rameduc_m', 'rafeduc_m', 'sgender_03', 'rjlocc_m_03',\n",
      "       'rjobend_reason_03', 'rrelgimp_03', 'sgender_12', 'rjlocc_m_12',\n",
      "       'rjobend_reason_12', 'rrelgimp_12', 'rrfcntx_m_12', 'rsocact_m_12',\n",
      "       'rrelgwk_12', 'a22_12', 'a33b_12', 'a34_12', 'j11_12'],\n",
      "      dtype='object')\n"
     ]
    }
   ],
   "source": [
    "# Identify remaining object columns\n",
    "object_columns = train_features.select_dtypes(include=['object']).columns\n",
    "print(\"Remaining Object Columns:\\n\", object_columns)\n"
   ]
  },
  {
   "cell_type": "code",
   "execution_count": 334,
   "metadata": {},
   "outputs": [],
   "source": [
    "\n",
    "# Convert remaining categorical columns\n",
    "for col in object_columns:\n",
    "    le = LabelEncoder()\n",
    "    train_features[col] = le.fit_transform(train_features[col].astype(str))  \n"
   ]
  },
  {
   "cell_type": "code",
   "execution_count": 335,
   "metadata": {},
   "outputs": [
    {
     "name": "stdout",
     "output_type": "stream",
     "text": [
      "NaN Counts:\n",
      " migration_03       1035\n",
      "adl_dress_03       1171\n",
      "adl_walk_03        1041\n",
      "adl_bath_03        1041\n",
      "adl_eat_03         1042\n",
      "                   ... \n",
      "hinc_cap_12          89\n",
      "rinc_pension_12      89\n",
      "sinc_pension_12    1185\n",
      "a16a_12            3252\n",
      "a21_12             3234\n",
      "Length: 140, dtype: int64\n"
     ]
    }
   ],
   "source": [
    "# Check for NaN values\n",
    "nan_counts = train_features.isnull().sum()\n",
    "print(\"NaN Counts:\\n\", nan_counts[nan_counts > 0])\n"
   ]
  },
  {
   "cell_type": "code",
   "execution_count": 336,
   "metadata": {},
   "outputs": [],
   "source": [
    " #drop specific columns that have too many missing values\n",
    "train_features.drop(columns=['a16a_12', 'a21_12'], inplace=True) "
   ]
  },
  {
   "cell_type": "code",
   "execution_count": 337,
   "metadata": {},
   "outputs": [],
   "source": [
    "# Fill numerical columns with mean \n",
    "numerical_cols = train_features.select_dtypes(include=['float64', 'int64', 'int32']).columns\n",
    "for col in numerical_cols:\n",
    "    train_features[col].fillna(train_features[col].mean(), inplace=True)  \n",
    "\n",
    "# Fill categorical columns with mode\n",
    "categorical_cols = train_features.select_dtypes(include=['object']).columns\n",
    "for col in categorical_cols:\n",
    "    train_features[col].fillna(train_features[col].mode()[0], inplace=True)  \n"
   ]
  },
  {
   "cell_type": "code",
   "execution_count": 338,
   "metadata": {},
   "outputs": [
    {
     "name": "stdout",
     "output_type": "stream",
     "text": [
      "3276\n"
     ]
    }
   ],
   "source": [
    "#check the data again to ensure there are no remaining missing values\n",
    "print(train_features.isnull().sum().sum())  \n"
   ]
  },
  {
   "cell_type": "code",
   "execution_count": 339,
   "metadata": {},
   "outputs": [
    {
     "name": "stdout",
     "output_type": "stream",
     "text": [
      "Columns with Missing Values:\n",
      " bmi_03    3276\n",
      "dtype: int64\n"
     ]
    }
   ],
   "source": [
    "# Count of missing values in each column\n",
    "missing_counts = train_features.isnull().sum()\n",
    "missing_columns = missing_counts[missing_counts > 0]\n",
    "\n",
    "print(\"Columns with Missing Values:\\n\", missing_columns)\n"
   ]
  },
  {
   "cell_type": "code",
   "execution_count": 340,
   "metadata": {},
   "outputs": [
    {
     "name": "stdout",
     "output_type": "stream",
     "text": [
      "Columns after dropping bmi_03: Index(['uid', 'age_03', 'urban_03', 'married_03', 'n_mar_03', 'edu_gru_03',\n",
      "       'n_living_child_03', 'migration_03', 'glob_hlth_03', 'adl_dress_03',\n",
      "       ...\n",
      "       'rinc_pension_12', 'sinc_pension_12', 'rrelgimp_12', 'rrfcntx_m_12',\n",
      "       'rsocact_m_12', 'rrelgwk_12', 'a22_12', 'a33b_12', 'a34_12', 'j11_12'],\n",
      "      dtype='object', length=181)\n"
     ]
    }
   ],
   "source": [
    "# Drop the bmi_03 column\n",
    "train_features.drop(columns=['bmi_03'], inplace=True)\n",
    "\n",
    "# Check to ensure it has been dropped\n",
    "print(\"Columns after dropping bmi_03:\", train_features.columns)\n"
   ]
  },
  {
   "cell_type": "code",
   "execution_count": 341,
   "metadata": {},
   "outputs": [
    {
     "name": "stdout",
     "output_type": "stream",
     "text": [
      "0\n"
     ]
    }
   ],
   "source": [
    "# Check for NaN values\n",
    "print(train_features.isnull().sum().sum())  # Should be 0 if all missing values are handled\n"
   ]
  },
  {
   "cell_type": "markdown",
   "metadata": {},
   "source": [
    "All missing values have been handled"
   ]
  },
  {
   "cell_type": "markdown",
   "metadata": {},
   "source": [
    "### 3. Define Labels"
   ]
  },
  {
   "cell_type": "code",
   "execution_count": 342,
   "metadata": {},
   "outputs": [
    {
     "data": {
      "text/html": [
       "<div>\n",
       "<style scoped>\n",
       "    .dataframe tbody tr th:only-of-type {\n",
       "        vertical-align: middle;\n",
       "    }\n",
       "\n",
       "    .dataframe tbody tr th {\n",
       "        vertical-align: top;\n",
       "    }\n",
       "\n",
       "    .dataframe thead th {\n",
       "        text-align: right;\n",
       "    }\n",
       "</style>\n",
       "<table border=\"1\" class=\"dataframe\">\n",
       "  <thead>\n",
       "    <tr style=\"text-align: right;\">\n",
       "      <th></th>\n",
       "      <th>uid</th>\n",
       "      <th>year</th>\n",
       "      <th>composite_score</th>\n",
       "    </tr>\n",
       "  </thead>\n",
       "  <tbody>\n",
       "    <tr>\n",
       "      <th>0</th>\n",
       "      <td>aace</td>\n",
       "      <td>2021</td>\n",
       "      <td>175</td>\n",
       "    </tr>\n",
       "    <tr>\n",
       "      <th>1</th>\n",
       "      <td>aanz</td>\n",
       "      <td>2021</td>\n",
       "      <td>206</td>\n",
       "    </tr>\n",
       "    <tr>\n",
       "      <th>2</th>\n",
       "      <td>aape</td>\n",
       "      <td>2016</td>\n",
       "      <td>161</td>\n",
       "    </tr>\n",
       "    <tr>\n",
       "      <th>3</th>\n",
       "      <td>aape</td>\n",
       "      <td>2021</td>\n",
       "      <td>144</td>\n",
       "    </tr>\n",
       "    <tr>\n",
       "      <th>4</th>\n",
       "      <td>aard</td>\n",
       "      <td>2021</td>\n",
       "      <td>104</td>\n",
       "    </tr>\n",
       "  </tbody>\n",
       "</table>\n",
       "</div>"
      ],
      "text/plain": [
       "    uid  year  composite_score\n",
       "0  aace  2021              175\n",
       "1  aanz  2021              206\n",
       "2  aape  2016              161\n",
       "3  aape  2021              144\n",
       "4  aard  2021              104"
      ]
     },
     "execution_count": 342,
     "metadata": {},
     "output_type": "execute_result"
    }
   ],
   "source": [
    "# Load the training labels\n",
    "train_labels = pd.read_csv(r\"C:\\Users\\David\\Documents\\PHASE 4 PROJECT\\PHASE 5 FINAL PROJECT\\train_labels.csv\")  \n",
    "train_labels.head()\n"
   ]
  },
  {
   "cell_type": "markdown",
   "metadata": {},
   "source": [
    "##### b) Align Features and Labels"
   ]
  },
  {
   "cell_type": "code",
   "execution_count": 343,
   "metadata": {},
   "outputs": [
    {
     "name": "stdout",
     "output_type": "stream",
     "text": [
      "(4343,)\n"
     ]
    }
   ],
   "source": [
    "y_train = train_labels['composite_score']  \n",
    "print(y_train.shape)  \n",
    "\n"
   ]
  },
  {
   "cell_type": "code",
   "execution_count": 344,
   "metadata": {},
   "outputs": [
    {
     "name": "stdout",
     "output_type": "stream",
     "text": [
      "int32\n",
      "object\n"
     ]
    }
   ],
   "source": [
    "print(train_features['uid'].dtype)  # Check the data type in train_features\n",
    "print(train_labels['uid'].dtype)    # Check the data type in train_labels\n"
   ]
  },
  {
   "cell_type": "markdown",
   "metadata": {},
   "source": [
    "The output indicates that the uid column in train_features is of type int32, while in train_labels, it's of type object. To resolve this, I will convert the uid column in train_features to object (string) format"
   ]
  },
  {
   "cell_type": "code",
   "execution_count": 345,
   "metadata": {},
   "outputs": [],
   "source": [
    "#Convert uid in train_features to String\n",
    "train_features['uid'] = train_features['uid'].astype(str)\n"
   ]
  },
  {
   "cell_type": "code",
   "execution_count": 346,
   "metadata": {},
   "outputs": [
    {
     "name": "stdout",
     "output_type": "stream",
     "text": [
      "object\n",
      "object\n"
     ]
    }
   ],
   "source": [
    "#verify the change\n",
    "print(train_features['uid'].dtype) \n",
    "print(train_labels['uid'].dtype)    \n"
   ]
  },
  {
   "cell_type": "code",
   "execution_count": 347,
   "metadata": {},
   "outputs": [
    {
     "data": {
      "text/html": [
       "<div>\n",
       "<style scoped>\n",
       "    .dataframe tbody tr th:only-of-type {\n",
       "        vertical-align: middle;\n",
       "    }\n",
       "\n",
       "    .dataframe tbody tr th {\n",
       "        vertical-align: top;\n",
       "    }\n",
       "\n",
       "    .dataframe thead th {\n",
       "        text-align: right;\n",
       "    }\n",
       "</style>\n",
       "<table border=\"1\" class=\"dataframe\">\n",
       "  <thead>\n",
       "    <tr style=\"text-align: right;\">\n",
       "      <th></th>\n",
       "      <th>uid</th>\n",
       "      <th>year</th>\n",
       "      <th>composite_score</th>\n",
       "      <th>age_03</th>\n",
       "      <th>urban_03</th>\n",
       "      <th>married_03</th>\n",
       "      <th>n_mar_03</th>\n",
       "      <th>edu_gru_03</th>\n",
       "      <th>n_living_child_03</th>\n",
       "      <th>migration_03</th>\n",
       "      <th>...</th>\n",
       "      <th>rinc_pension_12</th>\n",
       "      <th>sinc_pension_12</th>\n",
       "      <th>rrelgimp_12</th>\n",
       "      <th>rrfcntx_m_12</th>\n",
       "      <th>rsocact_m_12</th>\n",
       "      <th>rrelgwk_12</th>\n",
       "      <th>a22_12</th>\n",
       "      <th>a33b_12</th>\n",
       "      <th>a34_12</th>\n",
       "      <th>j11_12</th>\n",
       "    </tr>\n",
       "  </thead>\n",
       "  <tbody>\n",
       "    <tr>\n",
       "      <th>0</th>\n",
       "      <td>aace</td>\n",
       "      <td>2021</td>\n",
       "      <td>175</td>\n",
       "      <td>NaN</td>\n",
       "      <td>NaN</td>\n",
       "      <td>NaN</td>\n",
       "      <td>NaN</td>\n",
       "      <td>NaN</td>\n",
       "      <td>NaN</td>\n",
       "      <td>NaN</td>\n",
       "      <td>...</td>\n",
       "      <td>NaN</td>\n",
       "      <td>NaN</td>\n",
       "      <td>NaN</td>\n",
       "      <td>NaN</td>\n",
       "      <td>NaN</td>\n",
       "      <td>NaN</td>\n",
       "      <td>NaN</td>\n",
       "      <td>NaN</td>\n",
       "      <td>NaN</td>\n",
       "      <td>NaN</td>\n",
       "    </tr>\n",
       "    <tr>\n",
       "      <th>1</th>\n",
       "      <td>aanz</td>\n",
       "      <td>2021</td>\n",
       "      <td>206</td>\n",
       "      <td>NaN</td>\n",
       "      <td>NaN</td>\n",
       "      <td>NaN</td>\n",
       "      <td>NaN</td>\n",
       "      <td>NaN</td>\n",
       "      <td>NaN</td>\n",
       "      <td>NaN</td>\n",
       "      <td>...</td>\n",
       "      <td>NaN</td>\n",
       "      <td>NaN</td>\n",
       "      <td>NaN</td>\n",
       "      <td>NaN</td>\n",
       "      <td>NaN</td>\n",
       "      <td>NaN</td>\n",
       "      <td>NaN</td>\n",
       "      <td>NaN</td>\n",
       "      <td>NaN</td>\n",
       "      <td>NaN</td>\n",
       "    </tr>\n",
       "    <tr>\n",
       "      <th>2</th>\n",
       "      <td>aape</td>\n",
       "      <td>2016</td>\n",
       "      <td>161</td>\n",
       "      <td>NaN</td>\n",
       "      <td>NaN</td>\n",
       "      <td>NaN</td>\n",
       "      <td>NaN</td>\n",
       "      <td>NaN</td>\n",
       "      <td>NaN</td>\n",
       "      <td>NaN</td>\n",
       "      <td>...</td>\n",
       "      <td>NaN</td>\n",
       "      <td>NaN</td>\n",
       "      <td>NaN</td>\n",
       "      <td>NaN</td>\n",
       "      <td>NaN</td>\n",
       "      <td>NaN</td>\n",
       "      <td>NaN</td>\n",
       "      <td>NaN</td>\n",
       "      <td>NaN</td>\n",
       "      <td>NaN</td>\n",
       "    </tr>\n",
       "    <tr>\n",
       "      <th>3</th>\n",
       "      <td>aape</td>\n",
       "      <td>2021</td>\n",
       "      <td>144</td>\n",
       "      <td>NaN</td>\n",
       "      <td>NaN</td>\n",
       "      <td>NaN</td>\n",
       "      <td>NaN</td>\n",
       "      <td>NaN</td>\n",
       "      <td>NaN</td>\n",
       "      <td>NaN</td>\n",
       "      <td>...</td>\n",
       "      <td>NaN</td>\n",
       "      <td>NaN</td>\n",
       "      <td>NaN</td>\n",
       "      <td>NaN</td>\n",
       "      <td>NaN</td>\n",
       "      <td>NaN</td>\n",
       "      <td>NaN</td>\n",
       "      <td>NaN</td>\n",
       "      <td>NaN</td>\n",
       "      <td>NaN</td>\n",
       "    </tr>\n",
       "    <tr>\n",
       "      <th>4</th>\n",
       "      <td>aard</td>\n",
       "      <td>2021</td>\n",
       "      <td>104</td>\n",
       "      <td>NaN</td>\n",
       "      <td>NaN</td>\n",
       "      <td>NaN</td>\n",
       "      <td>NaN</td>\n",
       "      <td>NaN</td>\n",
       "      <td>NaN</td>\n",
       "      <td>NaN</td>\n",
       "      <td>...</td>\n",
       "      <td>NaN</td>\n",
       "      <td>NaN</td>\n",
       "      <td>NaN</td>\n",
       "      <td>NaN</td>\n",
       "      <td>NaN</td>\n",
       "      <td>NaN</td>\n",
       "      <td>NaN</td>\n",
       "      <td>NaN</td>\n",
       "      <td>NaN</td>\n",
       "      <td>NaN</td>\n",
       "    </tr>\n",
       "  </tbody>\n",
       "</table>\n",
       "<p>5 rows × 183 columns</p>\n",
       "</div>"
      ],
      "text/plain": [
       "    uid  year  composite_score  age_03  urban_03  married_03  n_mar_03  \\\n",
       "0  aace  2021              175     NaN       NaN         NaN       NaN   \n",
       "1  aanz  2021              206     NaN       NaN         NaN       NaN   \n",
       "2  aape  2016              161     NaN       NaN         NaN       NaN   \n",
       "3  aape  2021              144     NaN       NaN         NaN       NaN   \n",
       "4  aard  2021              104     NaN       NaN         NaN       NaN   \n",
       "\n",
       "   edu_gru_03  n_living_child_03  migration_03  ...  rinc_pension_12  \\\n",
       "0         NaN                NaN           NaN  ...              NaN   \n",
       "1         NaN                NaN           NaN  ...              NaN   \n",
       "2         NaN                NaN           NaN  ...              NaN   \n",
       "3         NaN                NaN           NaN  ...              NaN   \n",
       "4         NaN                NaN           NaN  ...              NaN   \n",
       "\n",
       "   sinc_pension_12  rrelgimp_12  rrfcntx_m_12  rsocact_m_12  rrelgwk_12  \\\n",
       "0              NaN          NaN           NaN           NaN         NaN   \n",
       "1              NaN          NaN           NaN           NaN         NaN   \n",
       "2              NaN          NaN           NaN           NaN         NaN   \n",
       "3              NaN          NaN           NaN           NaN         NaN   \n",
       "4              NaN          NaN           NaN           NaN         NaN   \n",
       "\n",
       "   a22_12  a33b_12  a34_12  j11_12  \n",
       "0     NaN      NaN     NaN     NaN  \n",
       "1     NaN      NaN     NaN     NaN  \n",
       "2     NaN      NaN     NaN     NaN  \n",
       "3     NaN      NaN     NaN     NaN  \n",
       "4     NaN      NaN     NaN     NaN  \n",
       "\n",
       "[5 rows x 183 columns]"
      ]
     },
     "execution_count": 347,
     "metadata": {},
     "output_type": "execute_result"
    }
   ],
   "source": [
    "# Merge train_features with train_labels on 'uid'\n",
    "data = train_labels.merge(train_features, on='uid', how='left')\n",
    "data.head()\n",
    "\n"
   ]
  },
  {
   "cell_type": "code",
   "execution_count": 348,
   "metadata": {},
   "outputs": [
    {
     "name": "stdout",
     "output_type": "stream",
     "text": [
      "Series([], dtype: int64)\n"
     ]
    }
   ],
   "source": [
    "#get the percentage of missing values for each column\n",
    "missing_per_column = df.isnull().sum()\n",
    "print(missing_per_column[missing_per_column > 0])  # Display only columns with missing values\n"
   ]
  },
  {
   "cell_type": "markdown",
   "metadata": {},
   "source": [
    "##### c) Check for Duplicates"
   ]
  },
  {
   "cell_type": "markdown",
   "metadata": {},
   "source": [
    "Inspect both datasets for duplicate rows that may cause discrepancies."
   ]
  },
  {
   "cell_type": "code",
   "execution_count": 349,
   "metadata": {},
   "outputs": [
    {
     "name": "stdout",
     "output_type": "stream",
     "text": [
      "Duplicate rows in features: 0\n",
      "Duplicate rows in labels: 0\n"
     ]
    }
   ],
   "source": [
    "print(\"Duplicate rows in features:\", train_features.duplicated().sum())\n",
    "print(\"Duplicate rows in labels:\", train_labels.duplicated().sum())\n"
   ]
  },
  {
   "cell_type": "markdown",
   "metadata": {},
   "source": [
    "There are no duplicate rows in both the features and labels"
   ]
  },
  {
   "cell_type": "markdown",
   "metadata": {},
   "source": [
    "#### Understanding the target variable"
   ]
  },
  {
   "cell_type": "code",
   "execution_count": 350,
   "metadata": {},
   "outputs": [
    {
     "data": {
      "image/png": "[encoded data removed]",
      "text/plain": [
       "<Figure size 864x432 with 1 Axes>"
      ]
     },
     "metadata": {},
     "output_type": "display_data"
    }
   ],
   "source": [
    "import matplotlib.pyplot as plt\n",
    "import numpy as np\n",
    "import seaborn as sns\n",
    "\n",
    "# Set plot style\n",
    "plt.style.use('seaborn-whitegrid')\n",
    "\n",
    "# Create a figure\n",
    "plt.figure(figsize=(12, 6))\n",
    "\n",
    "# Plot histogram\n",
    "plt.hist(data['composite_score'], bins=30, color='skyblue', alpha=0.6, density=True)\n",
    "\n",
    "# Plot KDE\n",
    "sns.kdeplot(data['composite_score'], color='red', linewidth=2)\n",
    "\n",
    "# Set titles and labels\n",
    "plt.title('Distribution of Composite Scores')\n",
    "plt.xlabel('Composite Score')\n",
    "plt.ylabel('Density')\n",
    "\n",
    "# Show the plot\n",
    "plt.show()\n"
   ]
  },
  {
   "cell_type": "code",
   "execution_count": 351,
   "metadata": {},
   "outputs": [
    {
     "name": "stdout",
     "output_type": "stream",
     "text": [
      "<class 'pandas.core.frame.DataFrame'>\n"
     ]
    }
   ],
   "source": [
    "print(type(data))\n",
    "\n"
   ]
  },
  {
   "cell_type": "markdown",
   "metadata": {},
   "source": [
    "Convert NumPy Array to DataFrame"
   ]
  },
  {
   "cell_type": "code",
   "execution_count": 352,
   "metadata": {},
   "outputs": [],
   "source": [
    "import pandas as pd\n",
    "\n",
    "# Assuming 'data' is your NumPy array\n",
    "data = pd.DataFrame(data, columns=['uid', 'year', 'composite_score'])  \n"
   ]
  },
  {
   "cell_type": "code",
   "execution_count": 353,
   "metadata": {},
   "outputs": [
    {
     "name": "stdout",
     "output_type": "stream",
     "text": [
      "(4343, 3)\n"
     ]
    }
   ],
   "source": [
    "\n",
    "columns = ['uid', 'year', 'composite_score']\n",
    "\n",
    "# Create DataFrame correctly\n",
    "df = pd.DataFrame(data, columns=columns)\n",
    "print(df.shape)  \n"
   ]
  },
  {
   "cell_type": "code",
   "execution_count": 354,
   "metadata": {},
   "outputs": [
    {
     "name": "stdout",
     "output_type": "stream",
     "text": [
      "  category  value  category_encoded\n",
      "0      low     10               1.0\n",
      "1   medium     20               2.0\n",
      "2     high     30               0.0\n",
      "3   medium     20               2.0\n",
      "4      low     10               1.0\n"
     ]
    }
   ],
   "source": [
    "import pandas as pd\n",
    "from sklearn.preprocessing import OrdinalEncoder\n",
    "\n",
    "# Sample DataFrame\n",
    "data = pd.DataFrame({\n",
    "    'category': ['low', 'medium', 'high', 'medium', 'low'],\n",
    "    'value': [10, 20, 30, 20, 10]\n",
    "})\n",
    "\n",
    "# Initialize the Ordinal Encoder\n",
    "encoder = OrdinalEncoder()\n",
    "\n",
    "# Fit and transform the categorical column\n",
    "data['category_encoded'] = encoder.fit_transform(data[['category']])\n",
    "\n",
    "# Display the DataFrame\n",
    "print(data)\n"
   ]
  },
  {
   "cell_type": "code",
   "execution_count": 355,
   "metadata": {},
   "outputs": [
    {
     "data": {
      "text/html": [
       "<div>\n",
       "<style scoped>\n",
       "    .dataframe tbody tr th:only-of-type {\n",
       "        vertical-align: middle;\n",
       "    }\n",
       "\n",
       "    .dataframe tbody tr th {\n",
       "        vertical-align: top;\n",
       "    }\n",
       "\n",
       "    .dataframe thead th {\n",
       "        text-align: right;\n",
       "    }\n",
       "</style>\n",
       "<table border=\"1\" class=\"dataframe\">\n",
       "  <thead>\n",
       "    <tr style=\"text-align: right;\">\n",
       "      <th></th>\n",
       "      <th>year</th>\n",
       "      <th>composite_score</th>\n",
       "    </tr>\n",
       "  </thead>\n",
       "  <tbody>\n",
       "    <tr>\n",
       "      <th>year</th>\n",
       "      <td>1.000000</td>\n",
       "      <td>-0.042732</td>\n",
       "    </tr>\n",
       "    <tr>\n",
       "      <th>composite_score</th>\n",
       "      <td>-0.042732</td>\n",
       "      <td>1.000000</td>\n",
       "    </tr>\n",
       "  </tbody>\n",
       "</table>\n",
       "</div>"
      ],
      "text/plain": [
       "                     year  composite_score\n",
       "year             1.000000        -0.042732\n",
       "composite_score -0.042732         1.000000"
      ]
     },
     "execution_count": 355,
     "metadata": {},
     "output_type": "execute_result"
    }
   ],
   "source": [
    "#Analyze Correlations\n",
    "df.corr()\n"
   ]
  },
  {
   "cell_type": "markdown",
   "metadata": {},
   "source": [
    "The correlation matrix shows a weak negative correlation of -0.043 between year and composite_score. This suggests that there is no linear relationship between these two variables"
   ]
  },
  {
   "cell_type": "markdown",
   "metadata": {},
   "source": [
    "Explore Nonlinear Relationships"
   ]
  },
  {
   "cell_type": "code",
   "execution_count": 356,
   "metadata": {},
   "outputs": [
    {
     "data": {
      "image/png": "[encoded data removed]",
      "text/plain": [
       "<Figure size 432x288 with 1 Axes>"
      ]
     },
     "metadata": {},
     "output_type": "display_data"
    }
   ],
   "source": [
    "import matplotlib.pyplot as plt\n",
    "\n",
    "plt.scatter(df['year'], df['composite_score'])\n",
    "plt.xlabel('Year')\n",
    "plt.ylabel('Composite Score')\n",
    "plt.title('Scatter Plot of Year vs Composite Score')\n",
    "plt.show()\n"
   ]
  },
  {
   "cell_type": "markdown",
   "metadata": {},
   "source": [
    "The composite_score values are concentrated at the two ends (for years 2016 and 2021), with a gap in the middle years (2017–2020)."
   ]
  },
  {
   "cell_type": "markdown",
   "metadata": {},
   "source": [
    " Compute the correlation matrix for the entire dataset to see the relationships between composite_score and all other variables."
   ]
  },
  {
   "cell_type": "code",
   "execution_count": 357,
   "metadata": {},
   "outputs": [
    {
     "name": "stdout",
     "output_type": "stream",
     "text": [
      "composite_score    1.000000\n",
      "year              -0.042732\n",
      "Name: composite_score, dtype: float64\n"
     ]
    }
   ],
   "source": [
    "# Calculate correlations with composite_score\n",
    "correlations = df.corr()['composite_score'].sort_values(ascending=False)\n",
    "print(correlations.head(15))  # Display top 15 features most correlated with composite_score\n"
   ]
  },
  {
   "cell_type": "markdown",
   "metadata": {},
   "source": [
    "The composite score has only one feature ie year."
   ]
  },
  {
   "cell_type": "markdown",
   "metadata": {},
   "source": [
    "#### Feature Engineering"
   ]
  },
  {
   "cell_type": "markdown",
   "metadata": {},
   "source": [
    "1. Combine Features"
   ]
  },
  {
   "cell_type": "markdown",
   "metadata": {},
   "source": [
    "- Marriage and Children: Combine marital status (married_03) and number of children (n_living_child_03) to create a \"family support\" indicator, which could reflect social support structures.\n",
    "\n",
    "- Age Groups: Group age_03 into categories (e.g., 18-35, 36-50, 51-65, 65+), which could reveal age-related patterns more effectively than raw age values."
   ]
  },
  {
   "cell_type": "code",
   "execution_count": 358,
   "metadata": {},
   "outputs": [
    {
     "ename": "KeyError",
     "evalue": "'married_03'",
     "output_type": "error",
     "traceback": [
      "\u001b[1;31m---------------------------------------------------------------------------\u001b[0m",
      "\u001b[1;31mKeyError\u001b[0m                                  Traceback (most recent call last)",
      "\u001b[1;32mc:\\Users\\David\\anaconda3\\envs\\learn-env\\lib\\site-packages\\pandas\\core\\indexes\\base.py\u001b[0m in \u001b[0;36mget_loc\u001b[1;34m(self, key, method, tolerance)\u001b[0m\n\u001b[0;32m   2894\u001b[0m             \u001b[1;32mtry\u001b[0m\u001b[1;33m:\u001b[0m\u001b[1;33m\u001b[0m\u001b[1;33m\u001b[0m\u001b[0m\n\u001b[1;32m-> 2895\u001b[1;33m                 \u001b[1;32mreturn\u001b[0m \u001b[0mself\u001b[0m\u001b[1;33m.\u001b[0m\u001b[0m_engine\u001b[0m\u001b[1;33m.\u001b[0m\u001b[0mget_loc\u001b[0m\u001b[1;33m(\u001b[0m\u001b[0mcasted_key\u001b[0m\u001b[1;33m)\u001b[0m\u001b[1;33m\u001b[0m\u001b[1;33m\u001b[0m\u001b[0m\n\u001b[0m\u001b[0;32m   2896\u001b[0m             \u001b[1;32mexcept\u001b[0m \u001b[0mKeyError\u001b[0m \u001b[1;32mas\u001b[0m \u001b[0merr\u001b[0m\u001b[1;33m:\u001b[0m\u001b[1;33m\u001b[0m\u001b[1;33m\u001b[0m\u001b[0m\n",
      "\u001b[1;32mpandas\\_libs\\index.pyx\u001b[0m in \u001b[0;36mpandas._libs.index.IndexEngine.get_loc\u001b[1;34m()\u001b[0m\n",
      "\u001b[1;32mpandas\\_libs\\index.pyx\u001b[0m in \u001b[0;36mpandas._libs.index.IndexEngine.get_loc\u001b[1;34m()\u001b[0m\n",
      "\u001b[1;32mpandas\\_libs\\hashtable_class_helper.pxi\u001b[0m in \u001b[0;36mpandas._libs.hashtable.PyObjectHashTable.get_item\u001b[1;34m()\u001b[0m\n",
      "\u001b[1;32mpandas\\_libs\\hashtable_class_helper.pxi\u001b[0m in \u001b[0;36mpandas._libs.hashtable.PyObjectHashTable.get_item\u001b[1;34m()\u001b[0m\n",
      "\u001b[1;31mKeyError\u001b[0m: 'married_03'",
      "\nThe above exception was the direct cause of the following exception:\n",
      "\u001b[1;31mKeyError\u001b[0m                                  Traceback (most recent call last)",
      "\u001b[1;32m<ipython-input-358-0ea074bc39c4>\u001b[0m in \u001b[0;36m<module>\u001b[1;34m\u001b[0m\n\u001b[0;32m      1\u001b[0m \u001b[1;31m#Creating a 'family_support' feature\u001b[0m\u001b[1;33m\u001b[0m\u001b[1;33m\u001b[0m\u001b[1;33m\u001b[0m\u001b[0m\n\u001b[1;32m----> 2\u001b[1;33m \u001b[0mdata\u001b[0m\u001b[1;33m[\u001b[0m\u001b[1;34m'family_support'\u001b[0m\u001b[1;33m]\u001b[0m \u001b[1;33m=\u001b[0m \u001b[0mdata\u001b[0m\u001b[1;33m[\u001b[0m\u001b[1;34m'married_03'\u001b[0m\u001b[1;33m]\u001b[0m \u001b[1;33m*\u001b[0m \u001b[0mdf\u001b[0m\u001b[1;33m[\u001b[0m\u001b[1;34m'n_living_child_03'\u001b[0m\u001b[1;33m]\u001b[0m\u001b[1;33m\u001b[0m\u001b[1;33m\u001b[0m\u001b[0m\n\u001b[0m",
      "\u001b[1;32mc:\\Users\\David\\anaconda3\\envs\\learn-env\\lib\\site-packages\\pandas\\core\\frame.py\u001b[0m in \u001b[0;36m__getitem__\u001b[1;34m(self, key)\u001b[0m\n\u001b[0;32m   2900\u001b[0m             \u001b[1;32mif\u001b[0m \u001b[0mself\u001b[0m\u001b[1;33m.\u001b[0m\u001b[0mcolumns\u001b[0m\u001b[1;33m.\u001b[0m\u001b[0mnlevels\u001b[0m \u001b[1;33m>\u001b[0m \u001b[1;36m1\u001b[0m\u001b[1;33m:\u001b[0m\u001b[1;33m\u001b[0m\u001b[1;33m\u001b[0m\u001b[0m\n\u001b[0;32m   2901\u001b[0m                 \u001b[1;32mreturn\u001b[0m \u001b[0mself\u001b[0m\u001b[1;33m.\u001b[0m\u001b[0m_getitem_multilevel\u001b[0m\u001b[1;33m(\u001b[0m\u001b[0mkey\u001b[0m\u001b[1;33m)\u001b[0m\u001b[1;33m\u001b[0m\u001b[1;33m\u001b[0m\u001b[0m\n\u001b[1;32m-> 2902\u001b[1;33m             \u001b[0mindexer\u001b[0m \u001b[1;33m=\u001b[0m \u001b[0mself\u001b[0m\u001b[1;33m.\u001b[0m\u001b[0mcolumns\u001b[0m\u001b[1;33m.\u001b[0m\u001b[0mget_loc\u001b[0m\u001b[1;33m(\u001b[0m\u001b[0mkey\u001b[0m\u001b[1;33m)\u001b[0m\u001b[1;33m\u001b[0m\u001b[1;33m\u001b[0m\u001b[0m\n\u001b[0m\u001b[0;32m   2903\u001b[0m             \u001b[1;32mif\u001b[0m \u001b[0mis_integer\u001b[0m\u001b[1;33m(\u001b[0m\u001b[0mindexer\u001b[0m\u001b[1;33m)\u001b[0m\u001b[1;33m:\u001b[0m\u001b[1;33m\u001b[0m\u001b[1;33m\u001b[0m\u001b[0m\n\u001b[0;32m   2904\u001b[0m                 \u001b[0mindexer\u001b[0m \u001b[1;33m=\u001b[0m \u001b[1;33m[\u001b[0m\u001b[0mindexer\u001b[0m\u001b[1;33m]\u001b[0m\u001b[1;33m\u001b[0m\u001b[1;33m\u001b[0m\u001b[0m\n",
      "\u001b[1;32mc:\\Users\\David\\anaconda3\\envs\\learn-env\\lib\\site-packages\\pandas\\core\\indexes\\base.py\u001b[0m in \u001b[0;36mget_loc\u001b[1;34m(self, key, method, tolerance)\u001b[0m\n\u001b[0;32m   2895\u001b[0m                 \u001b[1;32mreturn\u001b[0m \u001b[0mself\u001b[0m\u001b[1;33m.\u001b[0m\u001b[0m_engine\u001b[0m\u001b[1;33m.\u001b[0m\u001b[0mget_loc\u001b[0m\u001b[1;33m(\u001b[0m\u001b[0mcasted_key\u001b[0m\u001b[1;33m)\u001b[0m\u001b[1;33m\u001b[0m\u001b[1;33m\u001b[0m\u001b[0m\n\u001b[0;32m   2896\u001b[0m             \u001b[1;32mexcept\u001b[0m \u001b[0mKeyError\u001b[0m \u001b[1;32mas\u001b[0m \u001b[0merr\u001b[0m\u001b[1;33m:\u001b[0m\u001b[1;33m\u001b[0m\u001b[1;33m\u001b[0m\u001b[0m\n\u001b[1;32m-> 2897\u001b[1;33m                 \u001b[1;32mraise\u001b[0m \u001b[0mKeyError\u001b[0m\u001b[1;33m(\u001b[0m\u001b[0mkey\u001b[0m\u001b[1;33m)\u001b[0m \u001b[1;32mfrom\u001b[0m \u001b[0merr\u001b[0m\u001b[1;33m\u001b[0m\u001b[1;33m\u001b[0m\u001b[0m\n\u001b[0m\u001b[0;32m   2898\u001b[0m \u001b[1;33m\u001b[0m\u001b[0m\n\u001b[0;32m   2899\u001b[0m         \u001b[1;32mif\u001b[0m \u001b[0mtolerance\u001b[0m \u001b[1;32mis\u001b[0m \u001b[1;32mnot\u001b[0m \u001b[1;32mNone\u001b[0m\u001b[1;33m:\u001b[0m\u001b[1;33m\u001b[0m\u001b[1;33m\u001b[0m\u001b[0m\n",
      "\u001b[1;31mKeyError\u001b[0m: 'married_03'"
     ]
    }
   ],
   "source": [
    "#Creating a 'family_support' feature\n",
    "data['family_support'] = data['married_03'] * df['n_living_child_03']\n"
   ]
  },
  {
   "cell_type": "markdown",
   "metadata": {},
   "source": [
    "##### 2. Extract Time-Based Features"
   ]
  },
  {
   "cell_type": "markdown",
   "metadata": {},
   "source": [
    "- Time Since a Specific Year: Calculate the number of years since a baseline year (e.g., time since 2001).\n",
    "\n",
    "- Cohort Effects: If Alzheimer's rates or social determinants have changed over time, creating a binary variable for before and after certain years might help."
   ]
  },
  {
   "cell_type": "code",
   "execution_count": null,
   "metadata": {},
   "outputs": [],
   "source": [
    " #Calculating years since 2001\n",
    "df['years_since_2000'] = df['year'] - 2001\n"
   ]
  },
  {
   "cell_type": "markdown",
   "metadata": {},
   "source": [
    "##### 3. Transformations of Continuous Features"
   ]
  },
  {
   "cell_type": "markdown",
   "metadata": {},
   "source": [
    "- Log Transform: apply log transorm to rinc_pension_12) to normalize \n",
    "\n",
    "- Binning or Bucketing: Divide features like age into bins (e.g., young, middle-aged, senior) to simplify their relationships with the target."
   ]
  },
  {
   "cell_type": "code",
   "execution_count": null,
   "metadata": {},
   "outputs": [
    {
     "ename": "KeyError",
     "evalue": "'rinc_pension_12'",
     "output_type": "error",
     "traceback": [
      "\u001b[1;31m---------------------------------------------------------------------------\u001b[0m",
      "\u001b[1;31mKeyError\u001b[0m                                  Traceback (most recent call last)",
      "\u001b[1;32mc:\\Users\\David\\anaconda3\\envs\\learn-env\\lib\\site-packages\\pandas\\core\\indexes\\base.py\u001b[0m in \u001b[0;36mget_loc\u001b[1;34m(self, key, method, tolerance)\u001b[0m\n\u001b[0;32m   2894\u001b[0m             \u001b[1;32mtry\u001b[0m\u001b[1;33m:\u001b[0m\u001b[1;33m\u001b[0m\u001b[1;33m\u001b[0m\u001b[0m\n\u001b[1;32m-> 2895\u001b[1;33m                 \u001b[1;32mreturn\u001b[0m \u001b[0mself\u001b[0m\u001b[1;33m.\u001b[0m\u001b[0m_engine\u001b[0m\u001b[1;33m.\u001b[0m\u001b[0mget_loc\u001b[0m\u001b[1;33m(\u001b[0m\u001b[0mcasted_key\u001b[0m\u001b[1;33m)\u001b[0m\u001b[1;33m\u001b[0m\u001b[1;33m\u001b[0m\u001b[0m\n\u001b[0m\u001b[0;32m   2896\u001b[0m             \u001b[1;32mexcept\u001b[0m \u001b[0mKeyError\u001b[0m \u001b[1;32mas\u001b[0m \u001b[0merr\u001b[0m\u001b[1;33m:\u001b[0m\u001b[1;33m\u001b[0m\u001b[1;33m\u001b[0m\u001b[0m\n",
      "\u001b[1;32mpandas\\_libs\\index.pyx\u001b[0m in \u001b[0;36mpandas._libs.index.IndexEngine.get_loc\u001b[1;34m()\u001b[0m\n",
      "\u001b[1;32mpandas\\_libs\\index.pyx\u001b[0m in \u001b[0;36mpandas._libs.index.IndexEngine.get_loc\u001b[1;34m()\u001b[0m\n",
      "\u001b[1;32mpandas\\_libs\\hashtable_class_helper.pxi\u001b[0m in \u001b[0;36mpandas._libs.hashtable.PyObjectHashTable.get_item\u001b[1;34m()\u001b[0m\n",
      "\u001b[1;32mpandas\\_libs\\hashtable_class_helper.pxi\u001b[0m in \u001b[0;36mpandas._libs.hashtable.PyObjectHashTable.get_item\u001b[1;34m()\u001b[0m\n",
      "\u001b[1;31mKeyError\u001b[0m: 'rinc_pension_12'",
      "\nThe above exception was the direct cause of the following exception:\n",
      "\u001b[1;31mKeyError\u001b[0m                                  Traceback (most recent call last)",
      "\u001b[1;32m<ipython-input-145-17683c4fcb6c>\u001b[0m in \u001b[0;36m<module>\u001b[1;34m\u001b[0m\n\u001b[0;32m      1\u001b[0m \u001b[1;31m# Log transform for skewed income feature\u001b[0m\u001b[1;33m\u001b[0m\u001b[1;33m\u001b[0m\u001b[1;33m\u001b[0m\u001b[0m\n\u001b[1;32m----> 2\u001b[1;33m \u001b[0mdf\u001b[0m\u001b[1;33m[\u001b[0m\u001b[1;34m'log_income'\u001b[0m\u001b[1;33m]\u001b[0m \u001b[1;33m=\u001b[0m \u001b[0mnp\u001b[0m\u001b[1;33m.\u001b[0m\u001b[0mlog1p\u001b[0m\u001b[1;33m(\u001b[0m\u001b[0mdf\u001b[0m\u001b[1;33m[\u001b[0m\u001b[1;34m'rinc_pension_12'\u001b[0m\u001b[1;33m]\u001b[0m\u001b[1;33m)\u001b[0m  \u001b[1;31m# Adding 1 to avoid log(0)\u001b[0m\u001b[1;33m\u001b[0m\u001b[1;33m\u001b[0m\u001b[0m\n\u001b[0m",
      "\u001b[1;32mc:\\Users\\David\\anaconda3\\envs\\learn-env\\lib\\site-packages\\pandas\\core\\frame.py\u001b[0m in \u001b[0;36m__getitem__\u001b[1;34m(self, key)\u001b[0m\n\u001b[0;32m   2900\u001b[0m             \u001b[1;32mif\u001b[0m \u001b[0mself\u001b[0m\u001b[1;33m.\u001b[0m\u001b[0mcolumns\u001b[0m\u001b[1;33m.\u001b[0m\u001b[0mnlevels\u001b[0m \u001b[1;33m>\u001b[0m \u001b[1;36m1\u001b[0m\u001b[1;33m:\u001b[0m\u001b[1;33m\u001b[0m\u001b[1;33m\u001b[0m\u001b[0m\n\u001b[0;32m   2901\u001b[0m                 \u001b[1;32mreturn\u001b[0m \u001b[0mself\u001b[0m\u001b[1;33m.\u001b[0m\u001b[0m_getitem_multilevel\u001b[0m\u001b[1;33m(\u001b[0m\u001b[0mkey\u001b[0m\u001b[1;33m)\u001b[0m\u001b[1;33m\u001b[0m\u001b[1;33m\u001b[0m\u001b[0m\n\u001b[1;32m-> 2902\u001b[1;33m             \u001b[0mindexer\u001b[0m \u001b[1;33m=\u001b[0m \u001b[0mself\u001b[0m\u001b[1;33m.\u001b[0m\u001b[0mcolumns\u001b[0m\u001b[1;33m.\u001b[0m\u001b[0mget_loc\u001b[0m\u001b[1;33m(\u001b[0m\u001b[0mkey\u001b[0m\u001b[1;33m)\u001b[0m\u001b[1;33m\u001b[0m\u001b[1;33m\u001b[0m\u001b[0m\n\u001b[0m\u001b[0;32m   2903\u001b[0m             \u001b[1;32mif\u001b[0m \u001b[0mis_integer\u001b[0m\u001b[1;33m(\u001b[0m\u001b[0mindexer\u001b[0m\u001b[1;33m)\u001b[0m\u001b[1;33m:\u001b[0m\u001b[1;33m\u001b[0m\u001b[1;33m\u001b[0m\u001b[0m\n\u001b[0;32m   2904\u001b[0m                 \u001b[0mindexer\u001b[0m \u001b[1;33m=\u001b[0m \u001b[1;33m[\u001b[0m\u001b[0mindexer\u001b[0m\u001b[1;33m]\u001b[0m\u001b[1;33m\u001b[0m\u001b[1;33m\u001b[0m\u001b[0m\n",
      "\u001b[1;32mc:\\Users\\David\\anaconda3\\envs\\learn-env\\lib\\site-packages\\pandas\\core\\indexes\\base.py\u001b[0m in \u001b[0;36mget_loc\u001b[1;34m(self, key, method, tolerance)\u001b[0m\n\u001b[0;32m   2895\u001b[0m                 \u001b[1;32mreturn\u001b[0m \u001b[0mself\u001b[0m\u001b[1;33m.\u001b[0m\u001b[0m_engine\u001b[0m\u001b[1;33m.\u001b[0m\u001b[0mget_loc\u001b[0m\u001b[1;33m(\u001b[0m\u001b[0mcasted_key\u001b[0m\u001b[1;33m)\u001b[0m\u001b[1;33m\u001b[0m\u001b[1;33m\u001b[0m\u001b[0m\n\u001b[0;32m   2896\u001b[0m             \u001b[1;32mexcept\u001b[0m \u001b[0mKeyError\u001b[0m \u001b[1;32mas\u001b[0m \u001b[0merr\u001b[0m\u001b[1;33m:\u001b[0m\u001b[1;33m\u001b[0m\u001b[1;33m\u001b[0m\u001b[0m\n\u001b[1;32m-> 2897\u001b[1;33m                 \u001b[1;32mraise\u001b[0m \u001b[0mKeyError\u001b[0m\u001b[1;33m(\u001b[0m\u001b[0mkey\u001b[0m\u001b[1;33m)\u001b[0m \u001b[1;32mfrom\u001b[0m \u001b[0merr\u001b[0m\u001b[1;33m\u001b[0m\u001b[1;33m\u001b[0m\u001b[0m\n\u001b[0m\u001b[0;32m   2898\u001b[0m \u001b[1;33m\u001b[0m\u001b[0m\n\u001b[0;32m   2899\u001b[0m         \u001b[1;32mif\u001b[0m \u001b[0mtolerance\u001b[0m \u001b[1;32mis\u001b[0m \u001b[1;32mnot\u001b[0m \u001b[1;32mNone\u001b[0m\u001b[1;33m:\u001b[0m\u001b[1;33m\u001b[0m\u001b[1;33m\u001b[0m\u001b[0m\n",
      "\u001b[1;31mKeyError\u001b[0m: 'rinc_pension_12'"
     ]
    }
   ],
   "source": [
    "\n",
    "# Log transform for skewed income feature\n",
    "df['log_income'] = np.log1p(df['rinc_pension_12'])  # Adding 1 to avoid log(0)\n"
   ]
  },
  {
   "cell_type": "markdown",
   "metadata": {},
   "source": [
    "##### 4. Interaction Terms: Create features that capture interactions between variables."
   ]
  },
  {
   "cell_type": "markdown",
   "metadata": {},
   "source": [
    "- Urban and Income: A high-income person in an urban area (urban_03 and rinc_pension_12) might have different risks than one in a rural area.\n",
    "\n",
    "- Education and Migration: Education level combined with migration status (edu_gru_03 and migration_03) might indicate access to resources that affect cognitive health."
   ]
  },
  {
   "cell_type": "code",
   "execution_count": null,
   "metadata": {},
   "outputs": [
    {
     "ename": "KeyError",
     "evalue": "'urban_03'",
     "output_type": "error",
     "traceback": [
      "\u001b[1;31m---------------------------------------------------------------------------\u001b[0m",
      "\u001b[1;31mKeyError\u001b[0m                                  Traceback (most recent call last)",
      "\u001b[1;32mc:\\Users\\David\\anaconda3\\envs\\learn-env\\lib\\site-packages\\pandas\\core\\indexes\\base.py\u001b[0m in \u001b[0;36mget_loc\u001b[1;34m(self, key, method, tolerance)\u001b[0m\n\u001b[0;32m   2894\u001b[0m             \u001b[1;32mtry\u001b[0m\u001b[1;33m:\u001b[0m\u001b[1;33m\u001b[0m\u001b[1;33m\u001b[0m\u001b[0m\n\u001b[1;32m-> 2895\u001b[1;33m                 \u001b[1;32mreturn\u001b[0m \u001b[0mself\u001b[0m\u001b[1;33m.\u001b[0m\u001b[0m_engine\u001b[0m\u001b[1;33m.\u001b[0m\u001b[0mget_loc\u001b[0m\u001b[1;33m(\u001b[0m\u001b[0mcasted_key\u001b[0m\u001b[1;33m)\u001b[0m\u001b[1;33m\u001b[0m\u001b[1;33m\u001b[0m\u001b[0m\n\u001b[0m\u001b[0;32m   2896\u001b[0m             \u001b[1;32mexcept\u001b[0m \u001b[0mKeyError\u001b[0m \u001b[1;32mas\u001b[0m \u001b[0merr\u001b[0m\u001b[1;33m:\u001b[0m\u001b[1;33m\u001b[0m\u001b[1;33m\u001b[0m\u001b[0m\n",
      "\u001b[1;32mpandas\\_libs\\index.pyx\u001b[0m in \u001b[0;36mpandas._libs.index.IndexEngine.get_loc\u001b[1;34m()\u001b[0m\n",
      "\u001b[1;32mpandas\\_libs\\index.pyx\u001b[0m in \u001b[0;36mpandas._libs.index.IndexEngine.get_loc\u001b[1;34m()\u001b[0m\n",
      "\u001b[1;32mpandas\\_libs\\hashtable_class_helper.pxi\u001b[0m in \u001b[0;36mpandas._libs.hashtable.PyObjectHashTable.get_item\u001b[1;34m()\u001b[0m\n",
      "\u001b[1;32mpandas\\_libs\\hashtable_class_helper.pxi\u001b[0m in \u001b[0;36mpandas._libs.hashtable.PyObjectHashTable.get_item\u001b[1;34m()\u001b[0m\n",
      "\u001b[1;31mKeyError\u001b[0m: 'urban_03'",
      "\nThe above exception was the direct cause of the following exception:\n",
      "\u001b[1;31mKeyError\u001b[0m                                  Traceback (most recent call last)",
      "\u001b[1;32m<ipython-input-146-cb805276cac6>\u001b[0m in \u001b[0;36m<module>\u001b[1;34m\u001b[0m\n\u001b[0;32m      1\u001b[0m \u001b[1;31m#Interaction between urban status and income\u001b[0m\u001b[1;33m\u001b[0m\u001b[1;33m\u001b[0m\u001b[1;33m\u001b[0m\u001b[0m\n\u001b[1;32m----> 2\u001b[1;33m \u001b[0mdf\u001b[0m\u001b[1;33m[\u001b[0m\u001b[1;34m'urban_income'\u001b[0m\u001b[1;33m]\u001b[0m \u001b[1;33m=\u001b[0m \u001b[0mdf\u001b[0m\u001b[1;33m[\u001b[0m\u001b[1;34m'urban_03'\u001b[0m\u001b[1;33m]\u001b[0m \u001b[1;33m*\u001b[0m \u001b[0mdf\u001b[0m\u001b[1;33m[\u001b[0m\u001b[1;34m'rinc_pension_12'\u001b[0m\u001b[1;33m]\u001b[0m\u001b[1;33m\u001b[0m\u001b[1;33m\u001b[0m\u001b[0m\n\u001b[0m",
      "\u001b[1;32mc:\\Users\\David\\anaconda3\\envs\\learn-env\\lib\\site-packages\\pandas\\core\\frame.py\u001b[0m in \u001b[0;36m__getitem__\u001b[1;34m(self, key)\u001b[0m\n\u001b[0;32m   2900\u001b[0m             \u001b[1;32mif\u001b[0m \u001b[0mself\u001b[0m\u001b[1;33m.\u001b[0m\u001b[0mcolumns\u001b[0m\u001b[1;33m.\u001b[0m\u001b[0mnlevels\u001b[0m \u001b[1;33m>\u001b[0m \u001b[1;36m1\u001b[0m\u001b[1;33m:\u001b[0m\u001b[1;33m\u001b[0m\u001b[1;33m\u001b[0m\u001b[0m\n\u001b[0;32m   2901\u001b[0m                 \u001b[1;32mreturn\u001b[0m \u001b[0mself\u001b[0m\u001b[1;33m.\u001b[0m\u001b[0m_getitem_multilevel\u001b[0m\u001b[1;33m(\u001b[0m\u001b[0mkey\u001b[0m\u001b[1;33m)\u001b[0m\u001b[1;33m\u001b[0m\u001b[1;33m\u001b[0m\u001b[0m\n\u001b[1;32m-> 2902\u001b[1;33m             \u001b[0mindexer\u001b[0m \u001b[1;33m=\u001b[0m \u001b[0mself\u001b[0m\u001b[1;33m.\u001b[0m\u001b[0mcolumns\u001b[0m\u001b[1;33m.\u001b[0m\u001b[0mget_loc\u001b[0m\u001b[1;33m(\u001b[0m\u001b[0mkey\u001b[0m\u001b[1;33m)\u001b[0m\u001b[1;33m\u001b[0m\u001b[1;33m\u001b[0m\u001b[0m\n\u001b[0m\u001b[0;32m   2903\u001b[0m             \u001b[1;32mif\u001b[0m \u001b[0mis_integer\u001b[0m\u001b[1;33m(\u001b[0m\u001b[0mindexer\u001b[0m\u001b[1;33m)\u001b[0m\u001b[1;33m:\u001b[0m\u001b[1;33m\u001b[0m\u001b[1;33m\u001b[0m\u001b[0m\n\u001b[0;32m   2904\u001b[0m                 \u001b[0mindexer\u001b[0m \u001b[1;33m=\u001b[0m \u001b[1;33m[\u001b[0m\u001b[0mindexer\u001b[0m\u001b[1;33m]\u001b[0m\u001b[1;33m\u001b[0m\u001b[1;33m\u001b[0m\u001b[0m\n",
      "\u001b[1;32mc:\\Users\\David\\anaconda3\\envs\\learn-env\\lib\\site-packages\\pandas\\core\\indexes\\base.py\u001b[0m in \u001b[0;36mget_loc\u001b[1;34m(self, key, method, tolerance)\u001b[0m\n\u001b[0;32m   2895\u001b[0m                 \u001b[1;32mreturn\u001b[0m \u001b[0mself\u001b[0m\u001b[1;33m.\u001b[0m\u001b[0m_engine\u001b[0m\u001b[1;33m.\u001b[0m\u001b[0mget_loc\u001b[0m\u001b[1;33m(\u001b[0m\u001b[0mcasted_key\u001b[0m\u001b[1;33m)\u001b[0m\u001b[1;33m\u001b[0m\u001b[1;33m\u001b[0m\u001b[0m\n\u001b[0;32m   2896\u001b[0m             \u001b[1;32mexcept\u001b[0m \u001b[0mKeyError\u001b[0m \u001b[1;32mas\u001b[0m \u001b[0merr\u001b[0m\u001b[1;33m:\u001b[0m\u001b[1;33m\u001b[0m\u001b[1;33m\u001b[0m\u001b[0m\n\u001b[1;32m-> 2897\u001b[1;33m                 \u001b[1;32mraise\u001b[0m \u001b[0mKeyError\u001b[0m\u001b[1;33m(\u001b[0m\u001b[0mkey\u001b[0m\u001b[1;33m)\u001b[0m \u001b[1;32mfrom\u001b[0m \u001b[0merr\u001b[0m\u001b[1;33m\u001b[0m\u001b[1;33m\u001b[0m\u001b[0m\n\u001b[0m\u001b[0;32m   2898\u001b[0m \u001b[1;33m\u001b[0m\u001b[0m\n\u001b[0;32m   2899\u001b[0m         \u001b[1;32mif\u001b[0m \u001b[0mtolerance\u001b[0m \u001b[1;32mis\u001b[0m \u001b[1;32mnot\u001b[0m \u001b[1;32mNone\u001b[0m\u001b[1;33m:\u001b[0m\u001b[1;33m\u001b[0m\u001b[1;33m\u001b[0m\u001b[0m\n",
      "\u001b[1;31mKeyError\u001b[0m: 'urban_03'"
     ]
    }
   ],
   "source": [
    "#Interaction between urban status and income\n",
    "df['urban_income'] = df['urban_03'] * df['rinc_pension_12']\n"
   ]
  },
  {
   "cell_type": "markdown",
   "metadata": {},
   "source": [
    "##### 5. Aggregate or Count Features"
   ]
  },
  {
   "cell_type": "markdown",
   "metadata": {},
   "source": [
    "- Social Engagement: Sum or average indicators of social activities to create a single “social engagement” score."
   ]
  },
  {
   "cell_type": "code",
   "execution_count": null,
   "metadata": {},
   "outputs": [
    {
     "ename": "KeyError",
     "evalue": "\"None of [Index(['rsocact_m_12', 'rrelgwk_12'], dtype='object')] are in the [columns]\"",
     "output_type": "error",
     "traceback": [
      "\u001b[1;31m---------------------------------------------------------------------------\u001b[0m",
      "\u001b[1;31mKeyError\u001b[0m                                  Traceback (most recent call last)",
      "\u001b[1;32m<ipython-input-147-0230467cdc8c>\u001b[0m in \u001b[0;36m<module>\u001b[1;34m\u001b[0m\n\u001b[0;32m      1\u001b[0m \u001b[1;31m#Aggregating social activity features\u001b[0m\u001b[1;33m\u001b[0m\u001b[1;33m\u001b[0m\u001b[1;33m\u001b[0m\u001b[0m\n\u001b[1;32m----> 2\u001b[1;33m \u001b[0mdf\u001b[0m\u001b[1;33m[\u001b[0m\u001b[1;34m'social_engagement'\u001b[0m\u001b[1;33m]\u001b[0m \u001b[1;33m=\u001b[0m \u001b[0mdf\u001b[0m\u001b[1;33m[\u001b[0m\u001b[1;33m[\u001b[0m\u001b[1;34m'rsocact_m_12'\u001b[0m\u001b[1;33m,\u001b[0m \u001b[1;34m'rrelgwk_12'\u001b[0m\u001b[1;33m]\u001b[0m\u001b[1;33m]\u001b[0m\u001b[1;33m.\u001b[0m\u001b[0msum\u001b[0m\u001b[1;33m(\u001b[0m\u001b[0maxis\u001b[0m\u001b[1;33m=\u001b[0m\u001b[1;36m1\u001b[0m\u001b[1;33m)\u001b[0m\u001b[1;33m\u001b[0m\u001b[1;33m\u001b[0m\u001b[0m\n\u001b[0m",
      "\u001b[1;32mc:\\Users\\David\\anaconda3\\envs\\learn-env\\lib\\site-packages\\pandas\\core\\frame.py\u001b[0m in \u001b[0;36m__getitem__\u001b[1;34m(self, key)\u001b[0m\n\u001b[0;32m   2906\u001b[0m             \u001b[1;32mif\u001b[0m \u001b[0mis_iterator\u001b[0m\u001b[1;33m(\u001b[0m\u001b[0mkey\u001b[0m\u001b[1;33m)\u001b[0m\u001b[1;33m:\u001b[0m\u001b[1;33m\u001b[0m\u001b[1;33m\u001b[0m\u001b[0m\n\u001b[0;32m   2907\u001b[0m                 \u001b[0mkey\u001b[0m \u001b[1;33m=\u001b[0m \u001b[0mlist\u001b[0m\u001b[1;33m(\u001b[0m\u001b[0mkey\u001b[0m\u001b[1;33m)\u001b[0m\u001b[1;33m\u001b[0m\u001b[1;33m\u001b[0m\u001b[0m\n\u001b[1;32m-> 2908\u001b[1;33m             \u001b[0mindexer\u001b[0m \u001b[1;33m=\u001b[0m \u001b[0mself\u001b[0m\u001b[1;33m.\u001b[0m\u001b[0mloc\u001b[0m\u001b[1;33m.\u001b[0m\u001b[0m_get_listlike_indexer\u001b[0m\u001b[1;33m(\u001b[0m\u001b[0mkey\u001b[0m\u001b[1;33m,\u001b[0m \u001b[0maxis\u001b[0m\u001b[1;33m=\u001b[0m\u001b[1;36m1\u001b[0m\u001b[1;33m,\u001b[0m \u001b[0mraise_missing\u001b[0m\u001b[1;33m=\u001b[0m\u001b[1;32mTrue\u001b[0m\u001b[1;33m)\u001b[0m\u001b[1;33m[\u001b[0m\u001b[1;36m1\u001b[0m\u001b[1;33m]\u001b[0m\u001b[1;33m\u001b[0m\u001b[1;33m\u001b[0m\u001b[0m\n\u001b[0m\u001b[0;32m   2909\u001b[0m \u001b[1;33m\u001b[0m\u001b[0m\n\u001b[0;32m   2910\u001b[0m         \u001b[1;31m# take() does not accept boolean indexers\u001b[0m\u001b[1;33m\u001b[0m\u001b[1;33m\u001b[0m\u001b[1;33m\u001b[0m\u001b[0m\n",
      "\u001b[1;32mc:\\Users\\David\\anaconda3\\envs\\learn-env\\lib\\site-packages\\pandas\\core\\indexing.py\u001b[0m in \u001b[0;36m_get_listlike_indexer\u001b[1;34m(self, key, axis, raise_missing)\u001b[0m\n\u001b[0;32m   1252\u001b[0m             \u001b[0mkeyarr\u001b[0m\u001b[1;33m,\u001b[0m \u001b[0mindexer\u001b[0m\u001b[1;33m,\u001b[0m \u001b[0mnew_indexer\u001b[0m \u001b[1;33m=\u001b[0m \u001b[0max\u001b[0m\u001b[1;33m.\u001b[0m\u001b[0m_reindex_non_unique\u001b[0m\u001b[1;33m(\u001b[0m\u001b[0mkeyarr\u001b[0m\u001b[1;33m)\u001b[0m\u001b[1;33m\u001b[0m\u001b[1;33m\u001b[0m\u001b[0m\n\u001b[0;32m   1253\u001b[0m \u001b[1;33m\u001b[0m\u001b[0m\n\u001b[1;32m-> 1254\u001b[1;33m         \u001b[0mself\u001b[0m\u001b[1;33m.\u001b[0m\u001b[0m_validate_read_indexer\u001b[0m\u001b[1;33m(\u001b[0m\u001b[0mkeyarr\u001b[0m\u001b[1;33m,\u001b[0m \u001b[0mindexer\u001b[0m\u001b[1;33m,\u001b[0m \u001b[0maxis\u001b[0m\u001b[1;33m,\u001b[0m \u001b[0mraise_missing\u001b[0m\u001b[1;33m=\u001b[0m\u001b[0mraise_missing\u001b[0m\u001b[1;33m)\u001b[0m\u001b[1;33m\u001b[0m\u001b[1;33m\u001b[0m\u001b[0m\n\u001b[0m\u001b[0;32m   1255\u001b[0m         \u001b[1;32mreturn\u001b[0m \u001b[0mkeyarr\u001b[0m\u001b[1;33m,\u001b[0m \u001b[0mindexer\u001b[0m\u001b[1;33m\u001b[0m\u001b[1;33m\u001b[0m\u001b[0m\n\u001b[0;32m   1256\u001b[0m \u001b[1;33m\u001b[0m\u001b[0m\n",
      "\u001b[1;32mc:\\Users\\David\\anaconda3\\envs\\learn-env\\lib\\site-packages\\pandas\\core\\indexing.py\u001b[0m in \u001b[0;36m_validate_read_indexer\u001b[1;34m(self, key, indexer, axis, raise_missing)\u001b[0m\n\u001b[0;32m   1296\u001b[0m             \u001b[1;32mif\u001b[0m \u001b[0mmissing\u001b[0m \u001b[1;33m==\u001b[0m \u001b[0mlen\u001b[0m\u001b[1;33m(\u001b[0m\u001b[0mindexer\u001b[0m\u001b[1;33m)\u001b[0m\u001b[1;33m:\u001b[0m\u001b[1;33m\u001b[0m\u001b[1;33m\u001b[0m\u001b[0m\n\u001b[0;32m   1297\u001b[0m                 \u001b[0maxis_name\u001b[0m \u001b[1;33m=\u001b[0m \u001b[0mself\u001b[0m\u001b[1;33m.\u001b[0m\u001b[0mobj\u001b[0m\u001b[1;33m.\u001b[0m\u001b[0m_get_axis_name\u001b[0m\u001b[1;33m(\u001b[0m\u001b[0maxis\u001b[0m\u001b[1;33m)\u001b[0m\u001b[1;33m\u001b[0m\u001b[1;33m\u001b[0m\u001b[0m\n\u001b[1;32m-> 1298\u001b[1;33m                 \u001b[1;32mraise\u001b[0m \u001b[0mKeyError\u001b[0m\u001b[1;33m(\u001b[0m\u001b[1;34mf\"None of [{key}] are in the [{axis_name}]\"\u001b[0m\u001b[1;33m)\u001b[0m\u001b[1;33m\u001b[0m\u001b[1;33m\u001b[0m\u001b[0m\n\u001b[0m\u001b[0;32m   1299\u001b[0m \u001b[1;33m\u001b[0m\u001b[0m\n\u001b[0;32m   1300\u001b[0m             \u001b[1;31m# We (temporarily) allow for some missing keys with .loc, except in\u001b[0m\u001b[1;33m\u001b[0m\u001b[1;33m\u001b[0m\u001b[1;33m\u001b[0m\u001b[0m\n",
      "\u001b[1;31mKeyError\u001b[0m: \"None of [Index(['rsocact_m_12', 'rrelgwk_12'], dtype='object')] are in the [columns]\""
     ]
    }
   ],
   "source": [
    "#Aggregating social activity features\n",
    "df['social_engagement'] = df[['rsocact_m_12', 'rrelgwk_12']].sum(axis=1)\n"
   ]
  },
  {
   "cell_type": "markdown",
   "metadata": {},
   "source": [
    "##### 6. Binary Encoding"
   ]
  },
  {
   "cell_type": "markdown",
   "metadata": {},
   "source": [
    "- High Education Level: Encode as 1 if edu_gru_03 is above a certain level and 0 otherwise, indicating high education as a protective factor."
   ]
  },
  {
   "cell_type": "code",
   "execution_count": null,
   "metadata": {},
   "outputs": [
    {
     "ename": "KeyError",
     "evalue": "'edu_gru_03'",
     "output_type": "error",
     "traceback": [
      "\u001b[1;31m---------------------------------------------------------------------------\u001b[0m",
      "\u001b[1;31mKeyError\u001b[0m                                  Traceback (most recent call last)",
      "\u001b[1;32mc:\\Users\\David\\anaconda3\\envs\\learn-env\\lib\\site-packages\\pandas\\core\\indexes\\base.py\u001b[0m in \u001b[0;36mget_loc\u001b[1;34m(self, key, method, tolerance)\u001b[0m\n\u001b[0;32m   2894\u001b[0m             \u001b[1;32mtry\u001b[0m\u001b[1;33m:\u001b[0m\u001b[1;33m\u001b[0m\u001b[1;33m\u001b[0m\u001b[0m\n\u001b[1;32m-> 2895\u001b[1;33m                 \u001b[1;32mreturn\u001b[0m \u001b[0mself\u001b[0m\u001b[1;33m.\u001b[0m\u001b[0m_engine\u001b[0m\u001b[1;33m.\u001b[0m\u001b[0mget_loc\u001b[0m\u001b[1;33m(\u001b[0m\u001b[0mcasted_key\u001b[0m\u001b[1;33m)\u001b[0m\u001b[1;33m\u001b[0m\u001b[1;33m\u001b[0m\u001b[0m\n\u001b[0m\u001b[0;32m   2896\u001b[0m             \u001b[1;32mexcept\u001b[0m \u001b[0mKeyError\u001b[0m \u001b[1;32mas\u001b[0m \u001b[0merr\u001b[0m\u001b[1;33m:\u001b[0m\u001b[1;33m\u001b[0m\u001b[1;33m\u001b[0m\u001b[0m\n",
      "\u001b[1;32mpandas\\_libs\\index.pyx\u001b[0m in \u001b[0;36mpandas._libs.index.IndexEngine.get_loc\u001b[1;34m()\u001b[0m\n",
      "\u001b[1;32mpandas\\_libs\\index.pyx\u001b[0m in \u001b[0;36mpandas._libs.index.IndexEngine.get_loc\u001b[1;34m()\u001b[0m\n",
      "\u001b[1;32mpandas\\_libs\\hashtable_class_helper.pxi\u001b[0m in \u001b[0;36mpandas._libs.hashtable.PyObjectHashTable.get_item\u001b[1;34m()\u001b[0m\n",
      "\u001b[1;32mpandas\\_libs\\hashtable_class_helper.pxi\u001b[0m in \u001b[0;36mpandas._libs.hashtable.PyObjectHashTable.get_item\u001b[1;34m()\u001b[0m\n",
      "\u001b[1;31mKeyError\u001b[0m: 'edu_gru_03'",
      "\nThe above exception was the direct cause of the following exception:\n",
      "\u001b[1;31mKeyError\u001b[0m                                  Traceback (most recent call last)",
      "\u001b[1;32m<ipython-input-148-e395da9b91cf>\u001b[0m in \u001b[0;36m<module>\u001b[1;34m\u001b[0m\n\u001b[0;32m      1\u001b[0m \u001b[1;31m#Binary flag for high education level\u001b[0m\u001b[1;33m\u001b[0m\u001b[1;33m\u001b[0m\u001b[1;33m\u001b[0m\u001b[0m\n\u001b[1;32m----> 2\u001b[1;33m \u001b[0mdf\u001b[0m\u001b[1;33m[\u001b[0m\u001b[1;34m'high_education'\u001b[0m\u001b[1;33m]\u001b[0m \u001b[1;33m=\u001b[0m \u001b[1;33m(\u001b[0m\u001b[0mdf\u001b[0m\u001b[1;33m[\u001b[0m\u001b[1;34m'edu_gru_03'\u001b[0m\u001b[1;33m]\u001b[0m \u001b[1;33m>\u001b[0m \u001b[1;36m12\u001b[0m\u001b[1;33m)\u001b[0m\u001b[1;33m.\u001b[0m\u001b[0mastype\u001b[0m\u001b[1;33m(\u001b[0m\u001b[0mint\u001b[0m\u001b[1;33m)\u001b[0m  \u001b[1;31m# Assuming 12 years as the threshold\u001b[0m\u001b[1;33m\u001b[0m\u001b[1;33m\u001b[0m\u001b[0m\n\u001b[0m",
      "\u001b[1;32mc:\\Users\\David\\anaconda3\\envs\\learn-env\\lib\\site-packages\\pandas\\core\\frame.py\u001b[0m in \u001b[0;36m__getitem__\u001b[1;34m(self, key)\u001b[0m\n\u001b[0;32m   2900\u001b[0m             \u001b[1;32mif\u001b[0m \u001b[0mself\u001b[0m\u001b[1;33m.\u001b[0m\u001b[0mcolumns\u001b[0m\u001b[1;33m.\u001b[0m\u001b[0mnlevels\u001b[0m \u001b[1;33m>\u001b[0m \u001b[1;36m1\u001b[0m\u001b[1;33m:\u001b[0m\u001b[1;33m\u001b[0m\u001b[1;33m\u001b[0m\u001b[0m\n\u001b[0;32m   2901\u001b[0m                 \u001b[1;32mreturn\u001b[0m \u001b[0mself\u001b[0m\u001b[1;33m.\u001b[0m\u001b[0m_getitem_multilevel\u001b[0m\u001b[1;33m(\u001b[0m\u001b[0mkey\u001b[0m\u001b[1;33m)\u001b[0m\u001b[1;33m\u001b[0m\u001b[1;33m\u001b[0m\u001b[0m\n\u001b[1;32m-> 2902\u001b[1;33m             \u001b[0mindexer\u001b[0m \u001b[1;33m=\u001b[0m \u001b[0mself\u001b[0m\u001b[1;33m.\u001b[0m\u001b[0mcolumns\u001b[0m\u001b[1;33m.\u001b[0m\u001b[0mget_loc\u001b[0m\u001b[1;33m(\u001b[0m\u001b[0mkey\u001b[0m\u001b[1;33m)\u001b[0m\u001b[1;33m\u001b[0m\u001b[1;33m\u001b[0m\u001b[0m\n\u001b[0m\u001b[0;32m   2903\u001b[0m             \u001b[1;32mif\u001b[0m \u001b[0mis_integer\u001b[0m\u001b[1;33m(\u001b[0m\u001b[0mindexer\u001b[0m\u001b[1;33m)\u001b[0m\u001b[1;33m:\u001b[0m\u001b[1;33m\u001b[0m\u001b[1;33m\u001b[0m\u001b[0m\n\u001b[0;32m   2904\u001b[0m                 \u001b[0mindexer\u001b[0m \u001b[1;33m=\u001b[0m \u001b[1;33m[\u001b[0m\u001b[0mindexer\u001b[0m\u001b[1;33m]\u001b[0m\u001b[1;33m\u001b[0m\u001b[1;33m\u001b[0m\u001b[0m\n",
      "\u001b[1;32mc:\\Users\\David\\anaconda3\\envs\\learn-env\\lib\\site-packages\\pandas\\core\\indexes\\base.py\u001b[0m in \u001b[0;36mget_loc\u001b[1;34m(self, key, method, tolerance)\u001b[0m\n\u001b[0;32m   2895\u001b[0m                 \u001b[1;32mreturn\u001b[0m \u001b[0mself\u001b[0m\u001b[1;33m.\u001b[0m\u001b[0m_engine\u001b[0m\u001b[1;33m.\u001b[0m\u001b[0mget_loc\u001b[0m\u001b[1;33m(\u001b[0m\u001b[0mcasted_key\u001b[0m\u001b[1;33m)\u001b[0m\u001b[1;33m\u001b[0m\u001b[1;33m\u001b[0m\u001b[0m\n\u001b[0;32m   2896\u001b[0m             \u001b[1;32mexcept\u001b[0m \u001b[0mKeyError\u001b[0m \u001b[1;32mas\u001b[0m \u001b[0merr\u001b[0m\u001b[1;33m:\u001b[0m\u001b[1;33m\u001b[0m\u001b[1;33m\u001b[0m\u001b[0m\n\u001b[1;32m-> 2897\u001b[1;33m                 \u001b[1;32mraise\u001b[0m \u001b[0mKeyError\u001b[0m\u001b[1;33m(\u001b[0m\u001b[0mkey\u001b[0m\u001b[1;33m)\u001b[0m \u001b[1;32mfrom\u001b[0m \u001b[0merr\u001b[0m\u001b[1;33m\u001b[0m\u001b[1;33m\u001b[0m\u001b[0m\n\u001b[0m\u001b[0;32m   2898\u001b[0m \u001b[1;33m\u001b[0m\u001b[0m\n\u001b[0;32m   2899\u001b[0m         \u001b[1;32mif\u001b[0m \u001b[0mtolerance\u001b[0m \u001b[1;32mis\u001b[0m \u001b[1;32mnot\u001b[0m \u001b[1;32mNone\u001b[0m\u001b[1;33m:\u001b[0m\u001b[1;33m\u001b[0m\u001b[1;33m\u001b[0m\u001b[0m\n",
      "\u001b[1;31mKeyError\u001b[0m: 'edu_gru_03'"
     ]
    }
   ],
   "source": [
    "#Binary flag for high education level\n",
    "df['high_education'] = (df['edu_gru_03'] > 12).astype(int)  # Assuming 12 years as the threshold\n"
   ]
  },
  {
   "cell_type": "markdown",
   "metadata": {},
   "source": [
    "#### Incorporating Feature Engineering in the Pipeline"
   ]
  }
 ],
 "metadata": {
  "kernelspec": {
   "display_name": "learn-env",
   "language": "python",
   "name": "python3"
  },
  "language_info": {
   "codemirror_mode": {
    "name": "ipython",
    "version": 3
   },
   "file_extension": ".py",
   "mimetype": "text/x-python",
   "name": "python",
   "nbconvert_exporter": "python",
   "pygments_lexer": "ipython3",
   "version": "3.8.5"
  }
 },
 "nbformat": 4,
 "nbformat_minor": 2
}
